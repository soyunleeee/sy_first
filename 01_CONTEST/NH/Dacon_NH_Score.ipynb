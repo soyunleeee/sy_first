{
 "cells": [
  {
   "cell_type": "markdown",
   "metadata": {},
   "source": [
    "# NH 주식보유기간 예측"
   ]
  },
  {
   "cell_type": "markdown",
   "metadata": {},
   "source": [
    "<img src='logo.png'><br>"
   ]
  },
  {
   "cell_type": "markdown",
   "metadata": {
    "id": "FAAEVPfLxdoo",
    "tags": []
   },
   "source": [
    "# Columns info\n",
    "<pre>\n",
    "고객 및 주거래계좌 정보(CUS_INFO.CSV)\n",
    "- CUS_AGE_STN_CD     연령구간\n",
    "- IVS_ICN_CD         투자성향\n",
    "- CUS_AET_STN_CD     고객자산구간\n",
    "- MRZ_PDT_TP_SGM_CD  주거래상품군\n",
    "- LSG_SGM_CD         Life Stage\n",
    "- TCO_CUS_GRD_CD     고객등급\n",
    "- TOT_IVS_TE_SGM_CD  총 투자기간\n",
    "- MRZ_BTP_DIT_CD     주 거래 업종구분\n",
    "\n",
    "국내주식 잔고이력(STK_BNC_HIST.CSV)\n",
    "- ACT_ID             계좌번호\n",
    "- BSE_DT             기준일자\n",
    "- IEM_CD             종목코드\n",
    "- BNC_QTY            잔고수량\n",
    "- TOT_AET_AMT        잔고금액\n",
    "- STK_PAR_PR         액면가\n",
    "\n",
    "종목정보(IEM_INFO.CSV)\n",
    "IEM_CD               종목코드\n",
    "BTP_CFC_CD           종목업종 \n",
    "MKT_PR_TAL_SCL_TP_CD 시가총액규모유형\n",
    "STK_DIT_CD           시장구분\n",
    "IEM_KRL_NM           종목한글명\n",
    "</pre>"
   ]
  },
  {
   "cell_type": "markdown",
   "metadata": {
    "id": "tFtXzn1KPcoG"
   },
   "source": [
    "# 모듈 설치 및 import"
   ]
  },
  {
   "cell_type": "code",
   "execution_count": 1,
   "metadata": {
    "colab": {
     "base_uri": "https://localhost:8080/"
    },
    "executionInfo": {
     "elapsed": 30959,
     "status": "ok",
     "timestamp": 1633992010214,
     "user": {
      "displayName": "하이다비",
      "photoUrl": "https://lh3.googleusercontent.com/a/default-user=s64",
      "userId": "07224346109532620542"
     },
     "user_tz": -540
    },
    "id": "aRzKjPwAKoVq",
    "outputId": "9110d196-7fb4-4049-d355-7a7fbe8b00da"
   },
   "outputs": [],
   "source": [
    "# #필요시 설치\n",
    "# !pip install finance-datareader\n",
    "# !pip install catboost\n",
    "# !pip install pykrx"
   ]
  },
  {
   "cell_type": "code",
   "execution_count": 2,
   "metadata": {
    "executionInfo": {
     "elapsed": 1212,
     "status": "ok",
     "timestamp": 1633992011417,
     "user": {
      "displayName": "하이다비",
      "photoUrl": "https://lh3.googleusercontent.com/a/default-user=s64",
      "userId": "07224346109532620542"
     },
     "user_tz": -540
    },
    "id": "RWiq0-PujFNV"
   },
   "outputs": [],
   "source": [
    "import pandas as pd\n",
    "pd.set_option(\"display.max_row\", 100)\n",
    "pd.set_option(\"display.max_column\", 100)\n",
    "import numpy as np\n",
    "import matplotlib.pyplot as plt\n",
    "plt.rcParams['font.family'] = 'Malgun Gothic'\n",
    "import seaborn as sns\n",
    "import warnings\n",
    "warnings.filterwarnings(action='ignore')\n",
    "\n",
    "import FinanceDataReader as fdr\n",
    "\n",
    "# decomposition.PCA\n",
    "from sklearn.decomposition import PCA\n",
    "# preprocessing.scaling\n",
    "from sklearn.preprocessing import LabelEncoder, RobustScaler\n",
    "\n",
    "from sklearn.model_selection import train_test_split, KFold\n",
    "from sklearn.metrics import mean_squared_error as mse\n",
    "from catboost import CatBoostRegressor"
   ]
  },
  {
   "cell_type": "markdown",
   "metadata": {
    "id": "7p0ICWCAr0L1"
   },
   "source": [
    "# Data Load"
   ]
  },
  {
   "cell_type": "code",
   "execution_count": 3,
   "metadata": {
    "executionInfo": {
     "elapsed": 12845,
     "status": "ok",
     "timestamp": 1633992051591,
     "user": {
      "displayName": "하이다비",
      "photoUrl": "https://lh3.googleusercontent.com/a/default-user=s64",
      "userId": "07224346109532620542"
     },
     "user_tz": -540
    },
    "id": "H576J0N5wnDt"
   },
   "outputs": [],
   "source": [
    "cus = pd.read_csv(\"open/cus_info.csv\")\n",
    "iem = pd.read_csv(\"open/iem_info_20210902.csv\")\n",
    "hist = pd.read_csv(\"open/stk_bnc_hist.csv\")\n",
    "\n",
    "train = pd.read_csv(\"open/stk_hld_train.csv\")\n",
    "test = pd.read_csv(\"open/stk_hld_test.csv\")\n",
    "sub = pd.read_csv(\"open/sample_submission.csv\")"
   ]
  },
  {
   "cell_type": "markdown",
   "metadata": {
    "id": "ka3QITJw5jai",
    "tags": []
   },
   "source": [
    "# EDA"
   ]
  },
  {
   "cell_type": "code",
   "execution_count": 4,
   "metadata": {
    "colab": {
     "base_uri": "https://localhost:8080/"
    },
    "executionInfo": {
     "elapsed": 15,
     "status": "ok",
     "timestamp": 1633945770843,
     "user": {
      "displayName": "소령",
      "photoUrl": "https://lh3.googleusercontent.com/a/default-user=s64",
      "userId": "16197694196490598668"
     },
     "user_tz": -540
    },
    "id": "iBOlYd8LzWgc",
    "outputId": "30f4e3c5-87ca-47ea-c35c-fccb7aa0dd5c"
   },
   "outputs": [
    {
     "data": {
      "text/plain": [
       "((10000, 10), (3079, 5), (2573839, 6))"
      ]
     },
     "execution_count": 4,
     "metadata": {},
     "output_type": "execute_result"
    }
   ],
   "source": [
    "cus.shape, iem.shape, hist.shape"
   ]
  },
  {
   "cell_type": "code",
   "execution_count": 5,
   "metadata": {},
   "outputs": [
    {
     "data": {
      "text/plain": [
       "((681472, 4), (70596, 6), (70596, 2))"
      ]
     },
     "execution_count": 5,
     "metadata": {},
     "output_type": "execute_result"
    }
   ],
   "source": [
    "train.shape, test.shape, sub.shape"
   ]
  },
  {
   "cell_type": "code",
   "execution_count": 6,
   "metadata": {},
   "outputs": [
    {
     "name": "stdout",
     "output_type": "stream",
     "text": [
      "<class 'pandas.core.frame.DataFrame'>\n",
      "RangeIndex: 681472 entries, 0 to 681471\n",
      "Data columns (total 4 columns):\n",
      " #   Column  Non-Null Count   Dtype \n",
      "---  ------  --------------   ----- \n",
      " 0   act_id  681472 non-null  object\n",
      " 1   iem_cd  681472 non-null  object\n",
      " 2   byn_dt  681472 non-null  int64 \n",
      " 3   hold_d  681472 non-null  int64 \n",
      "dtypes: int64(2), object(2)\n",
      "memory usage: 20.8+ MB\n"
     ]
    }
   ],
   "source": [
    "train.info()"
   ]
  },
  {
   "cell_type": "code",
   "execution_count": 7,
   "metadata": {},
   "outputs": [
    {
     "name": "stdout",
     "output_type": "stream",
     "text": [
      "<class 'pandas.core.frame.DataFrame'>\n",
      "RangeIndex: 70596 entries, 0 to 70595\n",
      "Data columns (total 2 columns):\n",
      " #   Column     Non-Null Count  Dtype \n",
      "---  ------     --------------  ----- \n",
      " 0   submit_id  70596 non-null  object\n",
      " 1   hold_d     70596 non-null  int64 \n",
      "dtypes: int64(1), object(1)\n",
      "memory usage: 1.1+ MB\n"
     ]
    }
   ],
   "source": [
    "sub.info()"
   ]
  },
  {
   "cell_type": "code",
   "execution_count": 8,
   "metadata": {},
   "outputs": [
    {
     "name": "stdout",
     "output_type": "stream",
     "text": [
      "<class 'pandas.core.frame.DataFrame'>\n",
      "RangeIndex: 70596 entries, 0 to 70595\n",
      "Data columns (total 6 columns):\n",
      " #   Column     Non-Null Count  Dtype \n",
      "---  ------     --------------  ----- \n",
      " 0   act_id     70596 non-null  object\n",
      " 1   iem_cd     70596 non-null  object\n",
      " 2   byn_dt     70596 non-null  int64 \n",
      " 3   hist_d     70596 non-null  int64 \n",
      " 4   submit_id  70596 non-null  object\n",
      " 5   hold_d     70596 non-null  int64 \n",
      "dtypes: int64(3), object(3)\n",
      "memory usage: 3.2+ MB\n"
     ]
    }
   ],
   "source": [
    "test.info()"
   ]
  },
  {
   "cell_type": "code",
   "execution_count": 9,
   "metadata": {},
   "outputs": [
    {
     "name": "stdout",
     "output_type": "stream",
     "text": [
      "<class 'pandas.core.frame.DataFrame'>\n",
      "RangeIndex: 10000 entries, 0 to 9999\n",
      "Data columns (total 10 columns):\n",
      " #   Column             Non-Null Count  Dtype \n",
      "---  ------             --------------  ----- \n",
      " 0   act_id             10000 non-null  object\n",
      " 1   sex_dit_cd         10000 non-null  int64 \n",
      " 2   cus_age_stn_cd     10000 non-null  int64 \n",
      " 3   ivs_icn_cd         10000 non-null  int64 \n",
      " 4   cus_aet_stn_cd     10000 non-null  int64 \n",
      " 5   mrz_pdt_tp_sgm_cd  10000 non-null  int64 \n",
      " 6   lsg_sgm_cd         10000 non-null  int64 \n",
      " 7   tco_cus_grd_cd     10000 non-null  int64 \n",
      " 8   tot_ivs_te_sgm_cd  10000 non-null  int64 \n",
      " 9   mrz_btp_dit_cd     10000 non-null  int64 \n",
      "dtypes: int64(9), object(1)\n",
      "memory usage: 781.4+ KB\n"
     ]
    }
   ],
   "source": [
    "cus.info()"
   ]
  },
  {
   "cell_type": "code",
   "execution_count": 10,
   "metadata": {},
   "outputs": [
    {
     "name": "stdout",
     "output_type": "stream",
     "text": [
      "<class 'pandas.core.frame.DataFrame'>\n",
      "RangeIndex: 3079 entries, 0 to 3078\n",
      "Data columns (total 5 columns):\n",
      " #   Column                Non-Null Count  Dtype \n",
      "---  ------                --------------  ----- \n",
      " 0   iem_cd                3079 non-null   object\n",
      " 1   iem_krl_nm            3079 non-null   object\n",
      " 2   btp_cfc_cd            3079 non-null   int64 \n",
      " 3   mkt_pr_tal_scl_tp_cd  3079 non-null   int64 \n",
      " 4   stk_dit_cd            3079 non-null   int64 \n",
      "dtypes: int64(3), object(2)\n",
      "memory usage: 120.4+ KB\n"
     ]
    }
   ],
   "source": [
    "iem.info()"
   ]
  },
  {
   "cell_type": "code",
   "execution_count": 11,
   "metadata": {},
   "outputs": [
    {
     "name": "stdout",
     "output_type": "stream",
     "text": [
      "<class 'pandas.core.frame.DataFrame'>\n",
      "RangeIndex: 2573839 entries, 0 to 2573838\n",
      "Data columns (total 6 columns):\n",
      " #   Column       Dtype  \n",
      "---  ------       -----  \n",
      " 0   act_id       object \n",
      " 1   bse_dt       int64  \n",
      " 2   iem_cd       object \n",
      " 3   bnc_qty      float64\n",
      " 4   tot_aet_amt  float64\n",
      " 5   stk_par_pr   float64\n",
      "dtypes: float64(3), int64(1), object(2)\n",
      "memory usage: 117.8+ MB\n"
     ]
    }
   ],
   "source": [
    "hist.info()"
   ]
  },
  {
   "cell_type": "code",
   "execution_count": 12,
   "metadata": {
    "colab": {
     "base_uri": "https://localhost:8080/",
     "height": 226
    },
    "executionInfo": {
     "elapsed": 664,
     "status": "ok",
     "timestamp": 1633992052234,
     "user": {
      "displayName": "하이다비",
      "photoUrl": "https://lh3.googleusercontent.com/a/default-user=s64",
      "userId": "07224346109532620542"
     },
     "user_tz": -540
    },
    "id": "qQPUtyRWV7NO",
    "outputId": "d532bc84-a698-4168-dd7d-7e83662b9c36"
   },
   "outputs": [
    {
     "data": {
      "text/html": [
       "<div>\n",
       "<style scoped>\n",
       "    .dataframe tbody tr th:only-of-type {\n",
       "        vertical-align: middle;\n",
       "    }\n",
       "\n",
       "    .dataframe tbody tr th {\n",
       "        vertical-align: top;\n",
       "    }\n",
       "\n",
       "    .dataframe thead th {\n",
       "        text-align: right;\n",
       "    }\n",
       "</style>\n",
       "<table border=\"1\" class=\"dataframe\">\n",
       "  <thead>\n",
       "    <tr style=\"text-align: right;\">\n",
       "      <th></th>\n",
       "      <th>act_id</th>\n",
       "      <th>iem_cd</th>\n",
       "      <th>byn_dt</th>\n",
       "      <th>hist_d</th>\n",
       "      <th>submit_id</th>\n",
       "      <th>hold_d</th>\n",
       "    </tr>\n",
       "  </thead>\n",
       "  <tbody>\n",
       "    <tr>\n",
       "      <th>0</th>\n",
       "      <td>0ad104dbed99be0cd858aa772765ddedade554601a981b...</td>\n",
       "      <td>A032640</td>\n",
       "      <td>20200522</td>\n",
       "      <td>153</td>\n",
       "      <td>IDX00001</td>\n",
       "      <td>0</td>\n",
       "    </tr>\n",
       "    <tr>\n",
       "      <th>1</th>\n",
       "      <td>0ad104dbed99be0cd858aa772765ddedade554601a981b...</td>\n",
       "      <td>A160600</td>\n",
       "      <td>20190823</td>\n",
       "      <td>335</td>\n",
       "      <td>IDX00002</td>\n",
       "      <td>0</td>\n",
       "    </tr>\n",
       "    <tr>\n",
       "      <th>2</th>\n",
       "      <td>0ad104dbed99be0cd858aa772765ddedade554601a981b...</td>\n",
       "      <td>A234340</td>\n",
       "      <td>20200611</td>\n",
       "      <td>139</td>\n",
       "      <td>IDX00003</td>\n",
       "      <td>0</td>\n",
       "    </tr>\n",
       "    <tr>\n",
       "      <th>3</th>\n",
       "      <td>0ad104dbed99be0cd858aa772765ddedade554601a981b...</td>\n",
       "      <td>A131760</td>\n",
       "      <td>20200120</td>\n",
       "      <td>236</td>\n",
       "      <td>IDX00004</td>\n",
       "      <td>0</td>\n",
       "    </tr>\n",
       "    <tr>\n",
       "      <th>4</th>\n",
       "      <td>0ad104dbed99be0cd858aa772765ddedade554601a981b...</td>\n",
       "      <td>A293490</td>\n",
       "      <td>20201217</td>\n",
       "      <td>9</td>\n",
       "      <td>IDX00005</td>\n",
       "      <td>0</td>\n",
       "    </tr>\n",
       "  </tbody>\n",
       "</table>\n",
       "</div>"
      ],
      "text/plain": [
       "                                              act_id   iem_cd    byn_dt  \\\n",
       "0  0ad104dbed99be0cd858aa772765ddedade554601a981b...  A032640  20200522   \n",
       "1  0ad104dbed99be0cd858aa772765ddedade554601a981b...  A160600  20190823   \n",
       "2  0ad104dbed99be0cd858aa772765ddedade554601a981b...  A234340  20200611   \n",
       "3  0ad104dbed99be0cd858aa772765ddedade554601a981b...  A131760  20200120   \n",
       "4  0ad104dbed99be0cd858aa772765ddedade554601a981b...  A293490  20201217   \n",
       "\n",
       "   hist_d submit_id  hold_d  \n",
       "0     153  IDX00001       0  \n",
       "1     335  IDX00002       0  \n",
       "2     139  IDX00003       0  \n",
       "3     236  IDX00004       0  \n",
       "4       9  IDX00005       0  "
      ]
     },
     "execution_count": 12,
     "metadata": {},
     "output_type": "execute_result"
    }
   ],
   "source": [
    "test.head()\n",
    "# byn_dt에 매수했고 2020.12.30 이후에도 보유중인 데이터\n",
    "# hist_d는 2020.12.30까지의 보유기간이고 hold_d는 이후 보유할 기간으로 예측해야함.\n",
    "# 7만건"
   ]
  },
  {
   "cell_type": "markdown",
   "metadata": {
    "id": "nbCgUWqJU_Kt"
   },
   "source": [
    "### FDR 함수를 통한 주식 차트확인"
   ]
  },
  {
   "cell_type": "code",
   "execution_count": 13,
   "metadata": {
    "colab": {
     "base_uri": "https://localhost:8080/",
     "height": 455
    },
    "executionInfo": {
     "elapsed": 813,
     "status": "ok",
     "timestamp": 1633992053043,
     "user": {
      "displayName": "하이다비",
      "photoUrl": "https://lh3.googleusercontent.com/a/default-user=s64",
      "userId": "07224346109532620542"
     },
     "user_tz": -540
    },
    "id": "7kf09UExVAvG",
    "outputId": "d5d960b6-ac34-4fe9-d366-4268a962328b"
   },
   "outputs": [
    {
     "data": {
      "text/html": [
       "<div>\n",
       "<style scoped>\n",
       "    .dataframe tbody tr th:only-of-type {\n",
       "        vertical-align: middle;\n",
       "    }\n",
       "\n",
       "    .dataframe tbody tr th {\n",
       "        vertical-align: top;\n",
       "    }\n",
       "\n",
       "    .dataframe thead th {\n",
       "        text-align: right;\n",
       "    }\n",
       "</style>\n",
       "<table border=\"1\" class=\"dataframe\">\n",
       "  <thead>\n",
       "    <tr style=\"text-align: right;\">\n",
       "      <th></th>\n",
       "      <th>Open</th>\n",
       "      <th>High</th>\n",
       "      <th>Low</th>\n",
       "      <th>Close</th>\n",
       "      <th>Volume</th>\n",
       "      <th>Change</th>\n",
       "    </tr>\n",
       "    <tr>\n",
       "      <th>Date</th>\n",
       "      <th></th>\n",
       "      <th></th>\n",
       "      <th></th>\n",
       "      <th></th>\n",
       "      <th></th>\n",
       "      <th></th>\n",
       "    </tr>\n",
       "  </thead>\n",
       "  <tbody>\n",
       "    <tr>\n",
       "      <th>2002-04-23</th>\n",
       "      <td>3316</td>\n",
       "      <td>3316</td>\n",
       "      <td>3316</td>\n",
       "      <td>3315</td>\n",
       "      <td>545120</td>\n",
       "      <td>NaN</td>\n",
       "    </tr>\n",
       "    <tr>\n",
       "      <th>2002-04-24</th>\n",
       "      <td>3652</td>\n",
       "      <td>3714</td>\n",
       "      <td>3382</td>\n",
       "      <td>3712</td>\n",
       "      <td>703615</td>\n",
       "      <td>0.119759</td>\n",
       "    </tr>\n",
       "    <tr>\n",
       "      <th>2002-04-25</th>\n",
       "      <td>4158</td>\n",
       "      <td>4158</td>\n",
       "      <td>3268</td>\n",
       "      <td>3817</td>\n",
       "      <td>3843510</td>\n",
       "      <td>0.028287</td>\n",
       "    </tr>\n",
       "    <tr>\n",
       "      <th>2002-04-26</th>\n",
       "      <td>3731</td>\n",
       "      <td>3820</td>\n",
       "      <td>3361</td>\n",
       "      <td>3360</td>\n",
       "      <td>880555</td>\n",
       "      <td>-0.119728</td>\n",
       "    </tr>\n",
       "    <tr>\n",
       "      <th>2002-04-29</th>\n",
       "      <td>2968</td>\n",
       "      <td>3142</td>\n",
       "      <td>2959</td>\n",
       "      <td>2959</td>\n",
       "      <td>696940</td>\n",
       "      <td>-0.119345</td>\n",
       "    </tr>\n",
       "    <tr>\n",
       "      <th>...</th>\n",
       "      <td>...</td>\n",
       "      <td>...</td>\n",
       "      <td>...</td>\n",
       "      <td>...</td>\n",
       "      <td>...</td>\n",
       "      <td>...</td>\n",
       "    </tr>\n",
       "    <tr>\n",
       "      <th>2021-11-24</th>\n",
       "      <td>3975</td>\n",
       "      <td>4035</td>\n",
       "      <td>3860</td>\n",
       "      <td>3890</td>\n",
       "      <td>424540</td>\n",
       "      <td>-0.031133</td>\n",
       "    </tr>\n",
       "    <tr>\n",
       "      <th>2021-11-25</th>\n",
       "      <td>3895</td>\n",
       "      <td>3950</td>\n",
       "      <td>3700</td>\n",
       "      <td>3710</td>\n",
       "      <td>628679</td>\n",
       "      <td>-0.046272</td>\n",
       "    </tr>\n",
       "    <tr>\n",
       "      <th>2021-11-26</th>\n",
       "      <td>3680</td>\n",
       "      <td>3745</td>\n",
       "      <td>3615</td>\n",
       "      <td>3665</td>\n",
       "      <td>302037</td>\n",
       "      <td>-0.012129</td>\n",
       "    </tr>\n",
       "    <tr>\n",
       "      <th>2021-11-29</th>\n",
       "      <td>3560</td>\n",
       "      <td>3695</td>\n",
       "      <td>3535</td>\n",
       "      <td>3665</td>\n",
       "      <td>300595</td>\n",
       "      <td>0.000000</td>\n",
       "    </tr>\n",
       "    <tr>\n",
       "      <th>2021-11-30</th>\n",
       "      <td>3670</td>\n",
       "      <td>3720</td>\n",
       "      <td>3385</td>\n",
       "      <td>3400</td>\n",
       "      <td>489016</td>\n",
       "      <td>-0.072306</td>\n",
       "    </tr>\n",
       "  </tbody>\n",
       "</table>\n",
       "<p>4849 rows × 6 columns</p>\n",
       "</div>"
      ],
      "text/plain": [
       "            Open  High   Low  Close   Volume    Change\n",
       "Date                                                  \n",
       "2002-04-23  3316  3316  3316   3315   545120       NaN\n",
       "2002-04-24  3652  3714  3382   3712   703615  0.119759\n",
       "2002-04-25  4158  4158  3268   3817  3843510  0.028287\n",
       "2002-04-26  3731  3820  3361   3360   880555 -0.119728\n",
       "2002-04-29  2968  3142  2959   2959   696940 -0.119345\n",
       "...          ...   ...   ...    ...      ...       ...\n",
       "2021-11-24  3975  4035  3860   3890   424540 -0.031133\n",
       "2021-11-25  3895  3950  3700   3710   628679 -0.046272\n",
       "2021-11-26  3680  3745  3615   3665   302037 -0.012129\n",
       "2021-11-29  3560  3695  3535   3665   300595  0.000000\n",
       "2021-11-30  3670  3720  3385   3400   489016 -0.072306\n",
       "\n",
       "[4849 rows x 6 columns]"
      ]
     },
     "execution_count": 13,
     "metadata": {},
     "output_type": "execute_result"
    }
   ],
   "source": [
    "df_krx = fdr.DataReader(\"060310\")\n",
    "df_krx"
   ]
  },
  {
   "cell_type": "markdown",
   "metadata": {},
   "source": [
    "# Feature Engineering"
   ]
  },
  {
   "cell_type": "markdown",
   "metadata": {
    "id": "d_k4zIe6xD02",
    "tags": []
   },
   "source": [
    "### LifeStage 데이터 수정"
   ]
  },
  {
   "cell_type": "code",
   "execution_count": 14,
   "metadata": {
    "colab": {
     "base_uri": "https://localhost:8080/",
     "height": 142
    },
    "executionInfo": {
     "elapsed": 11,
     "status": "ok",
     "timestamp": 1633945777426,
     "user": {
      "displayName": "소령",
      "photoUrl": "https://lh3.googleusercontent.com/a/default-user=s64",
      "userId": "16197694196490598668"
     },
     "user_tz": -540
    },
    "id": "NprFlY_8B3s-",
    "outputId": "d72f6133-4657-498c-d465-b448af11c00d"
   },
   "outputs": [
    {
     "data": {
      "text/html": [
       "<div>\n",
       "<style scoped>\n",
       "    .dataframe tbody tr th:only-of-type {\n",
       "        vertical-align: middle;\n",
       "    }\n",
       "\n",
       "    .dataframe tbody tr th {\n",
       "        vertical-align: top;\n",
       "    }\n",
       "\n",
       "    .dataframe thead th {\n",
       "        text-align: right;\n",
       "    }\n",
       "</style>\n",
       "<table border=\"1\" class=\"dataframe\">\n",
       "  <thead>\n",
       "    <tr style=\"text-align: right;\">\n",
       "      <th>lsg_sgm_cd</th>\n",
       "      <th>2</th>\n",
       "      <th>3</th>\n",
       "      <th>4</th>\n",
       "      <th>5</th>\n",
       "      <th>6</th>\n",
       "      <th>7</th>\n",
       "      <th>8</th>\n",
       "      <th>9</th>\n",
       "    </tr>\n",
       "    <tr>\n",
       "      <th>sex_dit_cd</th>\n",
       "      <th></th>\n",
       "      <th></th>\n",
       "      <th></th>\n",
       "      <th></th>\n",
       "      <th></th>\n",
       "      <th></th>\n",
       "      <th></th>\n",
       "      <th></th>\n",
       "    </tr>\n",
       "  </thead>\n",
       "  <tbody>\n",
       "    <tr>\n",
       "      <th>1</th>\n",
       "      <td>1100</td>\n",
       "      <td>1926</td>\n",
       "      <td>0</td>\n",
       "      <td>1905</td>\n",
       "      <td>3</td>\n",
       "      <td>827</td>\n",
       "      <td>0</td>\n",
       "      <td>224</td>\n",
       "    </tr>\n",
       "    <tr>\n",
       "      <th>2</th>\n",
       "      <td>760</td>\n",
       "      <td>0</td>\n",
       "      <td>1164</td>\n",
       "      <td>688</td>\n",
       "      <td>848</td>\n",
       "      <td>0</td>\n",
       "      <td>400</td>\n",
       "      <td>155</td>\n",
       "    </tr>\n",
       "  </tbody>\n",
       "</table>\n",
       "</div>"
      ],
      "text/plain": [
       "lsg_sgm_cd     2     3     4     5    6    7    8    9\n",
       "sex_dit_cd                                            \n",
       "1           1100  1926     0  1905    3  827    0  224\n",
       "2            760     0  1164   688  848    0  400  155"
      ]
     },
     "execution_count": 14,
     "metadata": {},
     "output_type": "execute_result"
    }
   ],
   "source": [
    "pd.crosstab(cus['sex_dit_cd'], cus['lsg_sgm_cd'])"
   ]
  },
  {
   "cell_type": "code",
   "execution_count": 15,
   "metadata": {
    "executionInfo": {
     "elapsed": 10,
     "status": "ok",
     "timestamp": 1633945777426,
     "user": {
      "displayName": "소령",
      "photoUrl": "https://lh3.googleusercontent.com/a/default-user=s64",
      "userId": "16197694196490598668"
     },
     "user_tz": -540
    },
    "id": "cq5dXs9SxgPl"
   },
   "outputs": [],
   "source": [
    "# life stage 데이터 수정\n",
    "cus['sex_dit_cd'][ (cus['sex_dit_cd']==1) & (cus['lsg_sgm_cd']==6) ] = 2\n",
    "cus['sex_dit_cd'][ (cus['sex_dit_cd']==2) & (cus['lsg_sgm_cd']==5) ] = 1"
   ]
  },
  {
   "cell_type": "code",
   "execution_count": 16,
   "metadata": {
    "colab": {
     "base_uri": "https://localhost:8080/",
     "height": 142
    },
    "executionInfo": {
     "elapsed": 11,
     "status": "ok",
     "timestamp": 1633945777427,
     "user": {
      "displayName": "소령",
      "photoUrl": "https://lh3.googleusercontent.com/a/default-user=s64",
      "userId": "16197694196490598668"
     },
     "user_tz": -540
    },
    "id": "PL8F7pv7xhAJ",
    "outputId": "d3c37f92-601b-4425-f7ca-96553723521f",
    "tags": []
   },
   "outputs": [
    {
     "data": {
      "text/html": [
       "<div>\n",
       "<style scoped>\n",
       "    .dataframe tbody tr th:only-of-type {\n",
       "        vertical-align: middle;\n",
       "    }\n",
       "\n",
       "    .dataframe tbody tr th {\n",
       "        vertical-align: top;\n",
       "    }\n",
       "\n",
       "    .dataframe thead th {\n",
       "        text-align: right;\n",
       "    }\n",
       "</style>\n",
       "<table border=\"1\" class=\"dataframe\">\n",
       "  <thead>\n",
       "    <tr style=\"text-align: right;\">\n",
       "      <th>lsg_sgm_cd</th>\n",
       "      <th>2</th>\n",
       "      <th>3</th>\n",
       "      <th>4</th>\n",
       "      <th>5</th>\n",
       "      <th>6</th>\n",
       "      <th>7</th>\n",
       "      <th>8</th>\n",
       "      <th>9</th>\n",
       "    </tr>\n",
       "    <tr>\n",
       "      <th>sex_dit_cd</th>\n",
       "      <th></th>\n",
       "      <th></th>\n",
       "      <th></th>\n",
       "      <th></th>\n",
       "      <th></th>\n",
       "      <th></th>\n",
       "      <th></th>\n",
       "      <th></th>\n",
       "    </tr>\n",
       "  </thead>\n",
       "  <tbody>\n",
       "    <tr>\n",
       "      <th>1</th>\n",
       "      <td>1100</td>\n",
       "      <td>1926</td>\n",
       "      <td>0</td>\n",
       "      <td>2593</td>\n",
       "      <td>0</td>\n",
       "      <td>827</td>\n",
       "      <td>0</td>\n",
       "      <td>224</td>\n",
       "    </tr>\n",
       "    <tr>\n",
       "      <th>2</th>\n",
       "      <td>760</td>\n",
       "      <td>0</td>\n",
       "      <td>1164</td>\n",
       "      <td>0</td>\n",
       "      <td>851</td>\n",
       "      <td>0</td>\n",
       "      <td>400</td>\n",
       "      <td>155</td>\n",
       "    </tr>\n",
       "  </tbody>\n",
       "</table>\n",
       "</div>"
      ],
      "text/plain": [
       "lsg_sgm_cd     2     3     4     5    6    7    8    9\n",
       "sex_dit_cd                                            \n",
       "1           1100  1926     0  2593    0  827    0  224\n",
       "2            760     0  1164     0  851    0  400  155"
      ]
     },
     "execution_count": 16,
     "metadata": {},
     "output_type": "execute_result"
    }
   ],
   "source": [
    "pd.crosstab(cus['sex_dit_cd'], cus['lsg_sgm_cd'])"
   ]
  },
  {
   "cell_type": "markdown",
   "metadata": {
    "id": "4W8bgoHjk6PN"
   },
   "source": [
    "### 결측처리(서비스등급)"
   ]
  },
  {
   "cell_type": "code",
   "execution_count": 17,
   "metadata": {
    "executionInfo": {
     "elapsed": 535,
     "status": "ok",
     "timestamp": 1633945777952,
     "user": {
      "displayName": "소령",
      "photoUrl": "https://lh3.googleusercontent.com/a/default-user=s64",
      "userId": "16197694196490598668"
     },
     "user_tz": -540
    },
    "id": "1cHhEN5KQa1V",
    "tags": []
   },
   "outputs": [],
   "source": [
    "# 서비스 등급 결측치(99)를 자산구간별으로 분배\n",
    "cus['tco_cus_grd_cd'][(cus['tco_cus_grd_cd'] == 99) & (cus['cus_aet_stn_cd'] == 1)] = 3 # 1억 이상, 3억 미만\n",
    "cus['tco_cus_grd_cd'][(cus['tco_cus_grd_cd'] == 99) & (cus['cus_aet_stn_cd'] == 2)] = 3 # 1억 이상, 3억 미만\n",
    "\n",
    "# 서비스 등급 미정의(9)를 자산구간별으로 분배\n",
    "cus['tco_cus_grd_cd'][(cus['tco_cus_grd_cd'] == 9) & (cus['cus_aet_stn_cd'] == 1)] = 9 # 1천 미만\n",
    "cus['tco_cus_grd_cd'][(cus['tco_cus_grd_cd'] == 9) & (cus['cus_aet_stn_cd'] == 2)] = 5 # 1천 이상, 3천 미만\n",
    "cus['tco_cus_grd_cd'][(cus['tco_cus_grd_cd'] == 9) & (cus['cus_aet_stn_cd'] == 3)] = 4 # 3천 이상, 1억 미만\n",
    "cus['tco_cus_grd_cd'][(cus['tco_cus_grd_cd'] == 9) & (cus['cus_aet_stn_cd'] == 4)] = 4 # 3천 이상, 1억 미만\n",
    "cus['tco_cus_grd_cd'][(cus['tco_cus_grd_cd'] == 9) & (cus['cus_aet_stn_cd'] == 5)] = 3 # 1억 이상, 3억 미만\n",
    "\n",
    "# 이외의 서비스 등급 미정의(9)는 고객등급 6으로 설정\n",
    "cus['tco_cus_grd_cd'][(cus['tco_cus_grd_cd'] == 9)] = 6"
   ]
  },
  {
   "cell_type": "markdown",
   "metadata": {},
   "source": [
    "### 파생변수(투자 성향)"
   ]
  },
  {
   "cell_type": "code",
   "execution_count": 18,
   "metadata": {
    "executionInfo": {
     "elapsed": 1855,
     "status": "ok",
     "timestamp": 1633992054890,
     "user": {
      "displayName": "하이다비",
      "photoUrl": "https://lh3.googleusercontent.com/a/default-user=s64",
      "userId": "07224346109532620542"
     },
     "user_tz": -540
    },
    "id": "YjXXVmQFUWM0"
   },
   "outputs": [],
   "source": [
    "grp_train_test = pd.concat([train[['act_id', 'iem_cd', 'hold_d']], test[['act_id', 'iem_cd', 'hist_d']]]).groupby(by=['act_id', 'iem_cd']).sum()\n",
    "grp_train_test['total_hold'] = grp_train_test['hold_d'] + grp_train_test['hist_d']\n",
    "\n",
    "# hist의 계좌/종목별 [거래횟수] 와 train과 test에 있는 계좌/종목별 [보유기간] 합친 dataframe 구성\n",
    "# 계좌ID 별 종목코드의 거래횟수 및 보유기간\n",
    "grp = pd.concat([hist.groupby(by=['act_id', 'iem_cd']).count(), grp_train_test[['total_hold']],], axis=1)[['bse_dt', 'total_hold']]\n",
    "\n",
    "# grp['agr']컬럼 생성 : 보유기간/ 거래횟수\n",
    "grp['agr'] = grp['total_hold'] / grp['bse_dt'] \n",
    "\n",
    "# act_id별 agr 평균 : 해당 계좌의 공격적인 성향을 의미\n",
    "grp_mean = grp.groupby('act_id').mean()['agr']\n",
    "df_agr = pd.DataFrame(grp_mean)\n",
    "df_agr = df_agr.reset_index() \n",
    "\n",
    "# train과 test에 계좌ID별 투자성향 컬럼 merge \n",
    "df1 = pd.DataFrame(train['act_id'])\n",
    "mer = pd.merge(left = df1 , right = df_agr, how = \"inner\", on = \"act_id\")\n",
    "train['ivs_be'] = mer['agr']\n",
    "\n",
    "df2 = pd.DataFrame(test['act_id'])\n",
    "mer = pd.merge(left = df2 , right = df_agr, how = \"inner\", on = \"act_id\")\n",
    "test['ivs_be'] = mer['agr']"
   ]
  },
  {
   "cell_type": "code",
   "execution_count": 19,
   "metadata": {
    "executionInfo": {
     "elapsed": 13,
     "status": "ok",
     "timestamp": 1633992054891,
     "user": {
      "displayName": "하이다비",
      "photoUrl": "https://lh3.googleusercontent.com/a/default-user=s64",
      "userId": "07224346109532620542"
     },
     "user_tz": -540
    },
    "id": "LXd0BUb7Q_AH"
   },
   "outputs": [],
   "source": [
    "train['long'] = 0\n",
    "train.loc[train['ivs_be']>5, 'long'] = 1"
   ]
  },
  {
   "cell_type": "code",
   "execution_count": 20,
   "metadata": {
    "executionInfo": {
     "elapsed": 12,
     "status": "ok",
     "timestamp": 1633992054892,
     "user": {
      "displayName": "하이다비",
      "photoUrl": "https://lh3.googleusercontent.com/a/default-user=s64",
      "userId": "07224346109532620542"
     },
     "user_tz": -540
    },
    "id": "JWT7CdVQTDwY"
   },
   "outputs": [],
   "source": [
    "test['long'] = 0\n",
    "test.loc[test['ivs_be']>5, 'long'] = 1"
   ]
  },
  {
   "cell_type": "code",
   "execution_count": 21,
   "metadata": {
    "colab": {
     "base_uri": "https://localhost:8080/",
     "height": 302
    },
    "executionInfo": {
     "elapsed": 551,
     "status": "ok",
     "timestamp": 1633992055432,
     "user": {
      "displayName": "하이다비",
      "photoUrl": "https://lh3.googleusercontent.com/a/default-user=s64",
      "userId": "07224346109532620542"
     },
     "user_tz": -540
    },
    "id": "OyvNJ0ekhEOD",
    "outputId": "75d68f90-db53-4744-cb92-060bda666e94"
   },
   "outputs": [
    {
     "data": {
      "text/plain": [
       "<AxesSubplot:>"
      ]
     },
     "execution_count": 21,
     "metadata": {},
     "output_type": "execute_result"
    },
    {
     "data": {
      "image/png": "[encoded data removed]",
      "text/plain": [
       "<Figure size 432x288 with 1 Axes>"
      ]
     },
     "metadata": {
      "needs_background": "light"
     },
     "output_type": "display_data"
    }
   ],
   "source": [
    "cus['ivs_icn_cd'].hist()"
   ]
  },
  {
   "cell_type": "markdown",
   "metadata": {},
   "source": [
    "### 비상장 하드코딩 "
   ]
  },
  {
   "cell_type": "code",
   "execution_count": 22,
   "metadata": {
    "executionInfo": {
     "elapsed": 15,
     "status": "ok",
     "timestamp": 1633992055433,
     "user": {
      "displayName": "하이다비",
      "photoUrl": "https://lh3.googleusercontent.com/a/default-user=s64",
      "userId": "07224346109532620542"
     },
     "user_tz": -540
    },
    "id": "8TwBni14A91l"
   },
   "outputs": [],
   "source": [
    "besan =['286340', '281630', '27863K', '246780', '250990', '277290', '266930', '113300', '34534K', \n",
    "'214240', '270730', '304720', '064400', '339610', '319700', '318140', '294080', '258340', \n",
    "'228980', '156000', '312800', '228990', '34385K', '283970', '298410', '239280', '210160', \n",
    "'32904L', '272810', '309110', '357100', '276980', '280470', '289190', '292070', '298130', \n",
    "'300500', '302110', '306920', '093810', '163290', '179090', '194530', '199890', '226590', \n",
    "'240600', '244310', '255780', '271530', '271830', '298210', '311120', '255890', '34695K', \n",
    "'078510', '285340', '319810', '325840', '31508K', '31134K', '254650', '24251Q', '067030', \n",
    "'285820', '278470', '239620', '276040', '332760', '259070', '333900', '277490', '191390', \n",
    "'235370', '134660', '158320', '262100', '30703K', '29923L', '145730', '123780', '364460', \n",
    "'201400', '141280', '293990', '064470', '337280', '322590', '106870', '241660', '313100', \n",
    "'318590', '239970', '370310', '153760', '169830', '270530', '122230', '259290', '203900',\n",
    " '309740', '279120', '238820', '256970', '277310', '29922L', '30018L', '33129K', '333450',\n",
    " '366510', '350990', '306130', '226250', '258840', '004050', '32316K', '316840', '35732K', \n",
    "'145940', '276960', '249680', '240180', '236490', '299760', '314080', '316320', '336730',\n",
    " '340750', '170190', '177850', '234820', '244290', '258890', '259210', '266530', '142220',\n",
    " '35286N', '285880', '213930', '234760', '344250', '344540', '060080', '350340', '284710', \n",
    "'169140', '358580', '186630', '272850']\n",
    "\n",
    "abesan = []\n",
    "for i in besan:\n",
    "    abesan.append('A' + i)"
   ]
  },
  {
   "cell_type": "code",
   "execution_count": 23,
   "metadata": {
    "colab": {
     "base_uri": "https://localhost:8080/"
    },
    "executionInfo": {
     "elapsed": 15,
     "status": "ok",
     "timestamp": 1633992055434,
     "user": {
      "displayName": "하이다비",
      "photoUrl": "https://lh3.googleusercontent.com/a/default-user=s64",
      "userId": "07224346109532620542"
     },
     "user_tz": -540
    },
    "id": "eqDPXTEepy3I",
    "outputId": "efe6a371-f756-4708-fcda-4c0ab3763c00"
   },
   "outputs": [
    {
     "data": {
      "text/plain": [
       "0.667"
      ]
     },
     "execution_count": 23,
     "metadata": {},
     "output_type": "execute_result"
    }
   ],
   "source": [
    "cus[cus['sex_dit_cd']==1]['act_id'].count() / cus['sex_dit_cd'].count()  #남자 59 여자 41"
   ]
  },
  {
   "cell_type": "code",
   "execution_count": 24,
   "metadata": {
    "executionInfo": {
     "elapsed": 9,
     "status": "ok",
     "timestamp": 1633992055434,
     "user": {
      "displayName": "하이다비",
      "photoUrl": "https://lh3.googleusercontent.com/a/default-user=s64",
      "userId": "07224346109532620542"
     },
     "user_tz": -540
    },
    "id": "0bNWtwMKO_Op"
   },
   "outputs": [],
   "source": [
    "idx = test[test['iem_cd'].str[1:].isin(besan)]['submit_id']"
   ]
  },
  {
   "cell_type": "markdown",
   "metadata": {},
   "source": [
    "### train에 hist_d 컬럼 만들기"
   ]
  },
  {
   "cell_type": "code",
   "execution_count": 25,
   "metadata": {
    "executionInfo": {
     "elapsed": 9,
     "status": "ok",
     "timestamp": 1633992055435,
     "user": {
      "displayName": "하이다비",
      "photoUrl": "https://lh3.googleusercontent.com/a/default-user=s64",
      "userId": "07224346109532620542"
     },
     "user_tz": -540
    },
    "id": "pBiUKTvgxMhl"
   },
   "outputs": [],
   "source": [
    "train[\"hist_d\"] = train[\"hold_d\"]*0.6\n",
    "train.hist_d = np.trunc(train[\"hist_d\"])"
   ]
  },
  {
   "cell_type": "markdown",
   "metadata": {},
   "source": [
    "### 파생변수(잔고/수량)"
   ]
  },
  {
   "cell_type": "code",
   "execution_count": 26,
   "metadata": {},
   "outputs": [],
   "source": [
    "hist[\"stk_p\"] = hist[\"tot_aet_amt\"] / hist[\"bnc_qty\"]\n",
    "hist = hist.fillna(0)"
   ]
  },
  {
   "cell_type": "markdown",
   "metadata": {},
   "source": [
    "# Data Merge"
   ]
  },
  {
   "cell_type": "markdown",
   "metadata": {},
   "source": [
    "## merge"
   ]
  },
  {
   "cell_type": "markdown",
   "metadata": {},
   "source": [
    "- train_data = train + cus + iem"
   ]
  },
  {
   "cell_type": "code",
   "execution_count": 27,
   "metadata": {
    "executionInfo": {
     "elapsed": 357,
     "status": "ok",
     "timestamp": 1633992055783,
     "user": {
      "displayName": "하이다비",
      "photoUrl": "https://lh3.googleusercontent.com/a/default-user=s64",
      "userId": "07224346109532620542"
     },
     "user_tz": -540
    },
    "id": "43kph8fSxatA"
   },
   "outputs": [],
   "source": [
    "train_data = pd.merge(train, cus, how = \"left\", on = [\"act_id\"])\n",
    "train_data = pd.merge(train_data, iem, how = \"left\", on = [\"iem_cd\"])\n",
    "\n",
    "test_data = pd.merge(test, cus, how = \"left\", on = [\"act_id\"])\n",
    "test_data = pd.merge(test_data, iem, how = \"left\", on = [\"iem_cd\"])"
   ]
  },
  {
   "cell_type": "markdown",
   "metadata": {},
   "source": [
    "- train_data + hist(매수일 = 기준일 처리)\n",
    "- test_data + hist(매수일 = 기준일 처리)"
   ]
  },
  {
   "cell_type": "code",
   "execution_count": 28,
   "metadata": {},
   "outputs": [],
   "source": [
    "# train_data\n",
    "train_data = pd.merge(train_data, hist, how = \"left\", on = [\"act_id\", \"iem_cd\"])\n",
    "train_data = train_data[(train_data[\"byn_dt\"] == train_data[\"bse_dt\"])]\n",
    "train_data.reset_index(drop = True, inplace = True)\n",
    "\n",
    "# test_data \n",
    "test_data = pd.merge(test_data, hist, how = \"left\", on = [\"act_id\", \"iem_cd\"])\n",
    "test_data = test_data[(test_data[\"byn_dt\"] == test_data[\"bse_dt\"])]\n",
    "test_data.reset_index(drop = True, inplace = True)"
   ]
  },
  {
   "cell_type": "markdown",
   "metadata": {},
   "source": [
    "### Drop\n",
    "- 투자성향('ivs_icn_cd')\n",
    "- 주거래상품군('mrz_pdt_tp_sgm_cd')"
   ]
  },
  {
   "cell_type": "code",
   "execution_count": 29,
   "metadata": {
    "executionInfo": {
     "elapsed": 7,
     "status": "ok",
     "timestamp": 1633992055786,
     "user": {
      "displayName": "하이다비",
      "photoUrl": "https://lh3.googleusercontent.com/a/default-user=s64",
      "userId": "07224346109532620542"
     },
     "user_tz": -540
    },
    "id": "4pa00SLc3ia3"
   },
   "outputs": [],
   "source": [
    "train_data.drop(['mrz_pdt_tp_sgm_cd','ivs_icn_cd'], axis=1, inplace=True)\n",
    "test_data.drop(['mrz_pdt_tp_sgm_cd','ivs_icn_cd'], axis=1, inplace=True)"
   ]
  },
  {
   "cell_type": "markdown",
   "metadata": {},
   "source": [
    "- # Drop: 계좌ID, 종목코드, 매수일, 기준일 "
   ]
  },
  {
   "cell_type": "code",
   "execution_count": 30,
   "metadata": {},
   "outputs": [],
   "source": [
    "train_data = train_data.drop([\"act_id\", \"iem_krl_nm\", \"byn_dt\", \"bse_dt\", 'stk_par_pr'], axis = 1)\n",
    "test_data = test_data.drop([\"act_id\", \"iem_krl_nm\", \"byn_dt\", \"bse_dt\", 'stk_par_pr', \"submit_id\"], axis = 1)"
   ]
  },
  {
   "cell_type": "markdown",
   "metadata": {},
   "source": [
    "### 인코딩: 한글이름"
   ]
  },
  {
   "cell_type": "code",
   "execution_count": 31,
   "metadata": {},
   "outputs": [],
   "source": [
    "L_encoder = LabelEncoder()\n",
    "L_encoder.fit(iem[\"iem_cd\"])\n",
    "train_data[\"iem_cd\"] = L_encoder.transform(train_data[\"iem_cd\"])\n",
    "test_data[\"iem_cd\"] = L_encoder.transform(test_data[\"iem_cd\"])"
   ]
  },
  {
   "cell_type": "markdown",
   "metadata": {
    "id": "cW-6DRPdlA97",
    "tags": []
   },
   "source": [
    "### 상관분석"
   ]
  },
  {
   "cell_type": "code",
   "execution_count": 32,
   "metadata": {
    "colab": {
     "base_uri": "https://localhost:8080/",
     "height": 992
    },
    "executionInfo": {
     "elapsed": 3600,
     "status": "ok",
     "timestamp": 1633945800220,
     "user": {
      "displayName": "소령",
      "photoUrl": "https://lh3.googleusercontent.com/a/default-user=s64",
      "userId": "16197694196490598668"
     },
     "user_tz": -540
    },
    "id": "ZQ5_Yarkk_UD",
    "outputId": "c84b8bfb-9d0e-491b-d6d5-1615c8da2e05"
   },
   "outputs": [
    {
     "data": {
      "text/plain": [
       "<AxesSubplot:>"
      ]
     },
     "execution_count": 32,
     "metadata": {},
     "output_type": "execute_result"
    },
    {
     "data": {
      "image/png": "[encoded data removed]",
      "text/plain": [
       "<Figure size 1080x1080 with 2 Axes>"
      ]
     },
     "metadata": {
      "needs_background": "light"
     },
     "output_type": "display_data"
    }
   ],
   "source": [
    "fig, ax = plt.subplots(figsize=(15, 15))\n",
    "sns.heatmap(train_data.corr(), fmt='.2f', annot=True, cmap='Blues')"
   ]
  },
  {
   "cell_type": "markdown",
   "metadata": {},
   "source": [
    "# Feature Engineering 2"
   ]
  },
  {
   "cell_type": "markdown",
   "metadata": {
    "id": "sgOo2giJcwb2",
    "tags": []
   },
   "source": [
    "### PCA(LifeStage & 연령대)"
   ]
  },
  {
   "cell_type": "code",
   "execution_count": 33,
   "metadata": {
    "colab": {
     "base_uri": "https://localhost:8080/",
     "height": 203
    },
    "executionInfo": {
     "elapsed": 25,
     "status": "ok",
     "timestamp": 1633945800925,
     "user": {
      "displayName": "소령",
      "photoUrl": "https://lh3.googleusercontent.com/a/default-user=s64",
      "userId": "16197694196490598668"
     },
     "user_tz": -540
    },
    "id": "FI_dKAsLcx36",
    "outputId": "9be9cfec-e373-4d28-985a-9354304a4fb6"
   },
   "outputs": [
    {
     "data": {
      "text/html": [
       "<div>\n",
       "<style scoped>\n",
       "    .dataframe tbody tr th:only-of-type {\n",
       "        vertical-align: middle;\n",
       "    }\n",
       "\n",
       "    .dataframe tbody tr th {\n",
       "        vertical-align: top;\n",
       "    }\n",
       "\n",
       "    .dataframe thead th {\n",
       "        text-align: right;\n",
       "    }\n",
       "</style>\n",
       "<table border=\"1\" class=\"dataframe\">\n",
       "  <thead>\n",
       "    <tr style=\"text-align: right;\">\n",
       "      <th></th>\n",
       "      <th>cus_age_stn_cd</th>\n",
       "      <th>lsg_sgm_cd</th>\n",
       "    </tr>\n",
       "  </thead>\n",
       "  <tbody>\n",
       "    <tr>\n",
       "      <th>0</th>\n",
       "      <td>9</td>\n",
       "      <td>9</td>\n",
       "    </tr>\n",
       "    <tr>\n",
       "      <th>1</th>\n",
       "      <td>9</td>\n",
       "      <td>9</td>\n",
       "    </tr>\n",
       "    <tr>\n",
       "      <th>2</th>\n",
       "      <td>9</td>\n",
       "      <td>9</td>\n",
       "    </tr>\n",
       "    <tr>\n",
       "      <th>3</th>\n",
       "      <td>9</td>\n",
       "      <td>9</td>\n",
       "    </tr>\n",
       "    <tr>\n",
       "      <th>4</th>\n",
       "      <td>9</td>\n",
       "      <td>9</td>\n",
       "    </tr>\n",
       "  </tbody>\n",
       "</table>\n",
       "</div>"
      ],
      "text/plain": [
       "   cus_age_stn_cd  lsg_sgm_cd\n",
       "0               9           9\n",
       "1               9           9\n",
       "2               9           9\n",
       "3               9           9\n",
       "4               9           9"
      ]
     },
     "execution_count": 33,
     "metadata": {},
     "output_type": "execute_result"
    }
   ],
   "source": [
    "train_data[['cus_age_stn_cd','lsg_sgm_cd']].head()"
   ]
  },
  {
   "cell_type": "code",
   "execution_count": 34,
   "metadata": {
    "colab": {
     "base_uri": "https://localhost:8080/"
    },
    "executionInfo": {
     "elapsed": 25,
     "status": "ok",
     "timestamp": 1633945800926,
     "user": {
      "displayName": "소령",
      "photoUrl": "https://lh3.googleusercontent.com/a/default-user=s64",
      "userId": "16197694196490598668"
     },
     "user_tz": -540
    },
    "id": "Z1TwxrIFdcX9",
    "outputId": "cb039e41-7930-46d8-94a7-87e24fd0f08a"
   },
   "outputs": [
    {
     "name": "stdout",
     "output_type": "stream",
     "text": [
      "[0.93193502]\n"
     ]
    }
   ],
   "source": [
    "pca = PCA(n_components=1)\n",
    "pca.fit(train_data[['cus_age_stn_cd','lsg_sgm_cd']])\n",
    "train_data['PCA_age_lsg'] = pca.transform(train_data[['cus_age_stn_cd','lsg_sgm_cd']])\n",
    "pca.fit(test_data[['cus_age_stn_cd','lsg_sgm_cd']])\n",
    "test_data['PCA_age_lsg'] = pca.transform(test_data[['cus_age_stn_cd','lsg_sgm_cd']])\n",
    "\n",
    "print(pca.explained_variance_ratio_)"
   ]
  },
  {
   "cell_type": "code",
   "execution_count": 35,
   "metadata": {
    "colab": {
     "base_uri": "https://localhost:8080/"
    },
    "executionInfo": {
     "elapsed": 19,
     "status": "ok",
     "timestamp": 1633945800926,
     "user": {
      "displayName": "소령",
      "photoUrl": "https://lh3.googleusercontent.com/a/default-user=s64",
      "userId": "16197694196490598668"
     },
     "user_tz": -540
    },
    "id": "r7-ZmwmayFds",
    "outputId": "994a3efc-7d34-42b8-b698-495353ad6741"
   },
   "outputs": [
    {
     "data": {
      "text/plain": [
       "0         5.563337\n",
       "1         5.563337\n",
       "2         5.563337\n",
       "3         5.563337\n",
       "4         5.563337\n",
       "            ...   \n",
       "681467   -2.178993\n",
       "681468   -2.178993\n",
       "681469   -2.178993\n",
       "681470   -2.178993\n",
       "681471   -2.178993\n",
       "Name: PCA_age_lsg, Length: 681472, dtype: float64"
      ]
     },
     "execution_count": 35,
     "metadata": {},
     "output_type": "execute_result"
    }
   ],
   "source": [
    "train_data['PCA_age_lsg']"
   ]
  },
  {
   "cell_type": "code",
   "execution_count": 36,
   "metadata": {
    "executionInfo": {
     "elapsed": 15,
     "status": "ok",
     "timestamp": 1633945800926,
     "user": {
      "displayName": "소령",
      "photoUrl": "https://lh3.googleusercontent.com/a/default-user=s64",
      "userId": "16197694196490598668"
     },
     "user_tz": -540
    },
    "id": "RcLY-hUzddbN"
   },
   "outputs": [],
   "source": [
    "train_data.drop(['cus_age_stn_cd','lsg_sgm_cd'], axis=1, inplace=True)\n",
    "test_data.drop(['cus_age_stn_cd','lsg_sgm_cd'], axis=1, inplace=True)"
   ]
  },
  {
   "cell_type": "markdown",
   "metadata": {
    "id": "d6KHYzGYvg5l"
   },
   "source": [
    "### PCA(자산구간 & 서비스등급)"
   ]
  },
  {
   "cell_type": "code",
   "execution_count": 37,
   "metadata": {
    "colab": {
     "base_uri": "https://localhost:8080/",
     "height": 203
    },
    "executionInfo": {
     "elapsed": 16,
     "status": "ok",
     "timestamp": 1633945800927,
     "user": {
      "displayName": "소령",
      "photoUrl": "https://lh3.googleusercontent.com/a/default-user=s64",
      "userId": "16197694196490598668"
     },
     "user_tz": -540
    },
    "id": "yHbrKYnZvqOo",
    "outputId": "6d0f3d5c-b505-461e-8d22-93f2d8b8b3e9"
   },
   "outputs": [
    {
     "data": {
      "text/html": [
       "<div>\n",
       "<style scoped>\n",
       "    .dataframe tbody tr th:only-of-type {\n",
       "        vertical-align: middle;\n",
       "    }\n",
       "\n",
       "    .dataframe tbody tr th {\n",
       "        vertical-align: top;\n",
       "    }\n",
       "\n",
       "    .dataframe thead th {\n",
       "        text-align: right;\n",
       "    }\n",
       "</style>\n",
       "<table border=\"1\" class=\"dataframe\">\n",
       "  <thead>\n",
       "    <tr style=\"text-align: right;\">\n",
       "      <th></th>\n",
       "      <th>cus_aet_stn_cd</th>\n",
       "      <th>tco_cus_grd_cd</th>\n",
       "    </tr>\n",
       "  </thead>\n",
       "  <tbody>\n",
       "    <tr>\n",
       "      <th>0</th>\n",
       "      <td>2</td>\n",
       "      <td>5</td>\n",
       "    </tr>\n",
       "    <tr>\n",
       "      <th>1</th>\n",
       "      <td>2</td>\n",
       "      <td>5</td>\n",
       "    </tr>\n",
       "    <tr>\n",
       "      <th>2</th>\n",
       "      <td>2</td>\n",
       "      <td>5</td>\n",
       "    </tr>\n",
       "    <tr>\n",
       "      <th>3</th>\n",
       "      <td>2</td>\n",
       "      <td>5</td>\n",
       "    </tr>\n",
       "    <tr>\n",
       "      <th>4</th>\n",
       "      <td>2</td>\n",
       "      <td>5</td>\n",
       "    </tr>\n",
       "  </tbody>\n",
       "</table>\n",
       "</div>"
      ],
      "text/plain": [
       "   cus_aet_stn_cd  tco_cus_grd_cd\n",
       "0               2               5\n",
       "1               2               5\n",
       "2               2               5\n",
       "3               2               5\n",
       "4               2               5"
      ]
     },
     "execution_count": 37,
     "metadata": {},
     "output_type": "execute_result"
    }
   ],
   "source": [
    "train_data[['cus_aet_stn_cd','tco_cus_grd_cd']].head()"
   ]
  },
  {
   "cell_type": "code",
   "execution_count": 38,
   "metadata": {
    "colab": {
     "base_uri": "https://localhost:8080/"
    },
    "executionInfo": {
     "elapsed": 640,
     "status": "ok",
     "timestamp": 1633945801552,
     "user": {
      "displayName": "소령",
      "photoUrl": "https://lh3.googleusercontent.com/a/default-user=s64",
      "userId": "16197694196490598668"
     },
     "user_tz": -540
    },
    "id": "yxWeDqcWvduZ",
    "outputId": "ca5e1b56-b618-40db-a625-622af1c37d14"
   },
   "outputs": [
    {
     "name": "stdout",
     "output_type": "stream",
     "text": [
      "[0.94850782]\n"
     ]
    }
   ],
   "source": [
    "pca = PCA(n_components=1)\n",
    "pca.fit(train_data[['cus_aet_stn_cd','tco_cus_grd_cd']])\n",
    "train_data['PCA_cus'] = pca.transform(train_data[['cus_aet_stn_cd','tco_cus_grd_cd']])\n",
    "pca.fit(test_data[['cus_aet_stn_cd','tco_cus_grd_cd']])\n",
    "test_data['PCA_cus'] = pca.transform(test_data[['cus_aet_stn_cd','tco_cus_grd_cd']])\n",
    "\n",
    "print(pca.explained_variance_ratio_)"
   ]
  },
  {
   "cell_type": "code",
   "execution_count": 39,
   "metadata": {
    "colab": {
     "base_uri": "https://localhost:8080/"
    },
    "executionInfo": {
     "elapsed": 11,
     "status": "ok",
     "timestamp": 1633945801553,
     "user": {
      "displayName": "소령",
      "photoUrl": "https://lh3.googleusercontent.com/a/default-user=s64",
      "userId": "16197694196490598668"
     },
     "user_tz": -540
    },
    "id": "HculbRzKv-e6",
    "outputId": "8bf9331b-ae0c-439b-e87a-d64ca0a74b99"
   },
   "outputs": [
    {
     "data": {
      "text/plain": [
       "0        -1.085031\n",
       "1        -1.085031\n",
       "2        -1.085031\n",
       "3        -1.085031\n",
       "4        -1.085031\n",
       "            ...   \n",
       "681467   -0.488011\n",
       "681468   -0.488011\n",
       "681469   -0.488011\n",
       "681470   -0.488011\n",
       "681471   -0.488011\n",
       "Name: PCA_cus, Length: 681472, dtype: float64"
      ]
     },
     "execution_count": 39,
     "metadata": {},
     "output_type": "execute_result"
    }
   ],
   "source": [
    "train_data['PCA_cus']"
   ]
  },
  {
   "cell_type": "code",
   "execution_count": 40,
   "metadata": {
    "executionInfo": {
     "elapsed": 7,
     "status": "ok",
     "timestamp": 1633945801553,
     "user": {
      "displayName": "소령",
      "photoUrl": "https://lh3.googleusercontent.com/a/default-user=s64",
      "userId": "16197694196490598668"
     },
     "user_tz": -540
    },
    "id": "C5l9HPzhv_9d"
   },
   "outputs": [],
   "source": [
    "train_data.drop(['cus_aet_stn_cd','tco_cus_grd_cd'], axis=1, inplace=True)\n",
    "test_data.drop(['cus_aet_stn_cd','tco_cus_grd_cd'], axis=1, inplace=True)"
   ]
  },
  {
   "cell_type": "markdown",
   "metadata": {
    "id": "UOCFP4rwrCs8"
   },
   "source": [
    "### 스케일링(RobustScaler)"
   ]
  },
  {
   "cell_type": "code",
   "execution_count": 41,
   "metadata": {
    "colab": {
     "base_uri": "https://localhost:8080/"
    },
    "executionInfo": {
     "elapsed": 7,
     "status": "ok",
     "timestamp": 1633945801553,
     "user": {
      "displayName": "소령",
      "photoUrl": "https://lh3.googleusercontent.com/a/default-user=s64",
      "userId": "16197694196490598668"
     },
     "user_tz": -540
    },
    "id": "WnMhK4Q63K-p",
    "outputId": "d234b879-cb7a-4760-db02-bb7dcdc396f3"
   },
   "outputs": [
    {
     "data": {
      "text/plain": [
       "Index(['iem_cd', 'ivs_be', 'long', 'hist_d', 'sex_dit_cd', 'tot_ivs_te_sgm_cd',\n",
       "       'mrz_btp_dit_cd', 'btp_cfc_cd', 'mkt_pr_tal_scl_tp_cd', 'stk_dit_cd',\n",
       "       'bnc_qty', 'tot_aet_amt', 'stk_p', 'PCA_age_lsg', 'PCA_cus'],\n",
       "      dtype='object')"
      ]
     },
     "execution_count": 41,
     "metadata": {},
     "output_type": "execute_result"
    }
   ],
   "source": [
    "scaler_cols = train_data.drop('hold_d', axis=1).columns\n",
    "scaler_cols"
   ]
  },
  {
   "cell_type": "code",
   "execution_count": 42,
   "metadata": {
    "executionInfo": {
     "elapsed": 531,
     "status": "ok",
     "timestamp": 1633945802081,
     "user": {
      "displayName": "소령",
      "photoUrl": "https://lh3.googleusercontent.com/a/default-user=s64",
      "userId": "16197694196490598668"
     },
     "user_tz": -540
    },
    "id": "FzIFTAEMxco3"
   },
   "outputs": [],
   "source": [
    "scaler = RobustScaler()\n",
    "\n",
    "for col in scaler_cols:\n",
    "    scaler.fit(np.array(train_data[col]).reshape(-1,1))\n",
    "    train_data[col] = scaler.transform(np.array(train_data[col]).reshape(-1,1))\n",
    "    test_data[col] = scaler.transform(np.array(test_data[col]).reshape(-1,1))\n",
    "\n",
    "scaler_train = train_data\n",
    "scaler_test = test_data"
   ]
  },
  {
   "cell_type": "code",
   "execution_count": 43,
   "metadata": {},
   "outputs": [
    {
     "data": {
      "text/html": [
       "<div>\n",
       "<style scoped>\n",
       "    .dataframe tbody tr th:only-of-type {\n",
       "        vertical-align: middle;\n",
       "    }\n",
       "\n",
       "    .dataframe tbody tr th {\n",
       "        vertical-align: top;\n",
       "    }\n",
       "\n",
       "    .dataframe thead th {\n",
       "        text-align: right;\n",
       "    }\n",
       "</style>\n",
       "<table border=\"1\" class=\"dataframe\">\n",
       "  <thead>\n",
       "    <tr style=\"text-align: right;\">\n",
       "      <th></th>\n",
       "      <th>iem_cd</th>\n",
       "      <th>hist_d</th>\n",
       "      <th>hold_d</th>\n",
       "      <th>ivs_be</th>\n",
       "      <th>long</th>\n",
       "      <th>sex_dit_cd</th>\n",
       "      <th>tot_ivs_te_sgm_cd</th>\n",
       "      <th>mrz_btp_dit_cd</th>\n",
       "      <th>btp_cfc_cd</th>\n",
       "      <th>mkt_pr_tal_scl_tp_cd</th>\n",
       "      <th>stk_dit_cd</th>\n",
       "      <th>bnc_qty</th>\n",
       "      <th>tot_aet_amt</th>\n",
       "      <th>stk_p</th>\n",
       "      <th>PCA_age_lsg</th>\n",
       "      <th>PCA_cus</th>\n",
       "    </tr>\n",
       "  </thead>\n",
       "  <tbody>\n",
       "    <tr>\n",
       "      <th>0</th>\n",
       "      <td>-0.271215</td>\n",
       "      <td>18.875</td>\n",
       "      <td>0</td>\n",
       "      <td>1.640531</td>\n",
       "      <td>1.0</td>\n",
       "      <td>0.0</td>\n",
       "      <td>2.0</td>\n",
       "      <td>-0.666667</td>\n",
       "      <td>-1.0</td>\n",
       "      <td>-0.5</td>\n",
       "      <td>-1.010309</td>\n",
       "      <td>1.024896</td>\n",
       "      <td>1.182715</td>\n",
       "      <td>0.033710</td>\n",
       "      <td>1.283847</td>\n",
       "      <td>-0.329276</td>\n",
       "    </tr>\n",
       "    <tr>\n",
       "      <th>1</th>\n",
       "      <td>0.693012</td>\n",
       "      <td>41.625</td>\n",
       "      <td>0</td>\n",
       "      <td>1.640531</td>\n",
       "      <td>1.0</td>\n",
       "      <td>0.0</td>\n",
       "      <td>2.0</td>\n",
       "      <td>-0.666667</td>\n",
       "      <td>0.0</td>\n",
       "      <td>0.5</td>\n",
       "      <td>0.000000</td>\n",
       "      <td>0.601660</td>\n",
       "      <td>0.633411</td>\n",
       "      <td>0.021984</td>\n",
       "      <td>1.283847</td>\n",
       "      <td>-0.329276</td>\n",
       "    </tr>\n",
       "    <tr>\n",
       "      <th>2</th>\n",
       "      <td>0.960067</td>\n",
       "      <td>17.125</td>\n",
       "      <td>0</td>\n",
       "      <td>1.640531</td>\n",
       "      <td>1.0</td>\n",
       "      <td>0.0</td>\n",
       "      <td>2.0</td>\n",
       "      <td>-0.666667</td>\n",
       "      <td>0.5</td>\n",
       "      <td>0.0</td>\n",
       "      <td>0.000000</td>\n",
       "      <td>0.352697</td>\n",
       "      <td>1.316821</td>\n",
       "      <td>0.559871</td>\n",
       "      <td>1.283847</td>\n",
       "      <td>-0.329276</td>\n",
       "    </tr>\n",
       "    <tr>\n",
       "      <th>3</th>\n",
       "      <td>0.594010</td>\n",
       "      <td>29.250</td>\n",
       "      <td>0</td>\n",
       "      <td>1.640531</td>\n",
       "      <td>1.0</td>\n",
       "      <td>0.0</td>\n",
       "      <td>2.0</td>\n",
       "      <td>-0.666667</td>\n",
       "      <td>0.5</td>\n",
       "      <td>0.5</td>\n",
       "      <td>0.000000</td>\n",
       "      <td>12.112033</td>\n",
       "      <td>2.254532</td>\n",
       "      <td>-0.285505</td>\n",
       "      <td>1.283847</td>\n",
       "      <td>-0.329276</td>\n",
       "    </tr>\n",
       "    <tr>\n",
       "      <th>4</th>\n",
       "      <td>1.262063</td>\n",
       "      <td>0.875</td>\n",
       "      <td>0</td>\n",
       "      <td>1.640531</td>\n",
       "      <td>1.0</td>\n",
       "      <td>0.0</td>\n",
       "      <td>2.0</td>\n",
       "      <td>-0.666667</td>\n",
       "      <td>0.5</td>\n",
       "      <td>-0.5</td>\n",
       "      <td>-1.000000</td>\n",
       "      <td>-0.178423</td>\n",
       "      <td>-0.163186</td>\n",
       "      <td>1.009820</td>\n",
       "      <td>1.283847</td>\n",
       "      <td>-0.329276</td>\n",
       "    </tr>\n",
       "  </tbody>\n",
       "</table>\n",
       "</div>"
      ],
      "text/plain": [
       "     iem_cd  hist_d  hold_d    ivs_be  long  sex_dit_cd  tot_ivs_te_sgm_cd  \\\n",
       "0 -0.271215  18.875       0  1.640531   1.0         0.0                2.0   \n",
       "1  0.693012  41.625       0  1.640531   1.0         0.0                2.0   \n",
       "2  0.960067  17.125       0  1.640531   1.0         0.0                2.0   \n",
       "3  0.594010  29.250       0  1.640531   1.0         0.0                2.0   \n",
       "4  1.262063   0.875       0  1.640531   1.0         0.0                2.0   \n",
       "\n",
       "   mrz_btp_dit_cd  btp_cfc_cd  mkt_pr_tal_scl_tp_cd  stk_dit_cd    bnc_qty  \\\n",
       "0       -0.666667        -1.0                  -0.5   -1.010309   1.024896   \n",
       "1       -0.666667         0.0                   0.5    0.000000   0.601660   \n",
       "2       -0.666667         0.5                   0.0    0.000000   0.352697   \n",
       "3       -0.666667         0.5                   0.5    0.000000  12.112033   \n",
       "4       -0.666667         0.5                  -0.5   -1.000000  -0.178423   \n",
       "\n",
       "   tot_aet_amt     stk_p  PCA_age_lsg   PCA_cus  \n",
       "0     1.182715  0.033710     1.283847 -0.329276  \n",
       "1     0.633411  0.021984     1.283847 -0.329276  \n",
       "2     1.316821  0.559871     1.283847 -0.329276  \n",
       "3     2.254532 -0.285505     1.283847 -0.329276  \n",
       "4    -0.163186  1.009820     1.283847 -0.329276  "
      ]
     },
     "execution_count": 43,
     "metadata": {},
     "output_type": "execute_result"
    }
   ],
   "source": [
    "scaler_test.head()"
   ]
  },
  {
   "cell_type": "code",
   "execution_count": 44,
   "metadata": {},
   "outputs": [
    {
     "data": {
      "text/html": [
       "<div>\n",
       "<style scoped>\n",
       "    .dataframe tbody tr th:only-of-type {\n",
       "        vertical-align: middle;\n",
       "    }\n",
       "\n",
       "    .dataframe tbody tr th {\n",
       "        vertical-align: top;\n",
       "    }\n",
       "\n",
       "    .dataframe thead th {\n",
       "        text-align: right;\n",
       "    }\n",
       "</style>\n",
       "<table border=\"1\" class=\"dataframe\">\n",
       "  <thead>\n",
       "    <tr style=\"text-align: right;\">\n",
       "      <th></th>\n",
       "      <th>iem_cd</th>\n",
       "      <th>hold_d</th>\n",
       "      <th>ivs_be</th>\n",
       "      <th>long</th>\n",
       "      <th>hist_d</th>\n",
       "      <th>sex_dit_cd</th>\n",
       "      <th>tot_ivs_te_sgm_cd</th>\n",
       "      <th>mrz_btp_dit_cd</th>\n",
       "      <th>btp_cfc_cd</th>\n",
       "      <th>mkt_pr_tal_scl_tp_cd</th>\n",
       "      <th>stk_dit_cd</th>\n",
       "      <th>bnc_qty</th>\n",
       "      <th>tot_aet_amt</th>\n",
       "      <th>stk_p</th>\n",
       "      <th>PCA_age_lsg</th>\n",
       "      <th>PCA_cus</th>\n",
       "    </tr>\n",
       "  </thead>\n",
       "  <tbody>\n",
       "    <tr>\n",
       "      <th>0</th>\n",
       "      <td>-0.645591</td>\n",
       "      <td>11</td>\n",
       "      <td>1.640531</td>\n",
       "      <td>1.0</td>\n",
       "      <td>0.500</td>\n",
       "      <td>0.0</td>\n",
       "      <td>2.0</td>\n",
       "      <td>-0.666667</td>\n",
       "      <td>-1.500000</td>\n",
       "      <td>-0.5</td>\n",
       "      <td>-1.010309</td>\n",
       "      <td>0.917012</td>\n",
       "      <td>4.213264</td>\n",
       "      <td>0.908691</td>\n",
       "      <td>1.189954</td>\n",
       "      <td>-0.271191</td>\n",
       "    </tr>\n",
       "    <tr>\n",
       "      <th>1</th>\n",
       "      <td>-0.664725</td>\n",
       "      <td>80</td>\n",
       "      <td>1.640531</td>\n",
       "      <td>1.0</td>\n",
       "      <td>5.750</td>\n",
       "      <td>0.0</td>\n",
       "      <td>2.0</td>\n",
       "      <td>-0.666667</td>\n",
       "      <td>-0.166667</td>\n",
       "      <td>-0.5</td>\n",
       "      <td>-1.010309</td>\n",
       "      <td>-0.211618</td>\n",
       "      <td>1.586814</td>\n",
       "      <td>72.783233</td>\n",
       "      <td>1.189954</td>\n",
       "      <td>-0.271191</td>\n",
       "    </tr>\n",
       "    <tr>\n",
       "      <th>2</th>\n",
       "      <td>-0.699667</td>\n",
       "      <td>5</td>\n",
       "      <td>1.640531</td>\n",
       "      <td>1.0</td>\n",
       "      <td>0.125</td>\n",
       "      <td>0.0</td>\n",
       "      <td>2.0</td>\n",
       "      <td>-0.666667</td>\n",
       "      <td>0.333333</td>\n",
       "      <td>0.0</td>\n",
       "      <td>0.000000</td>\n",
       "      <td>3.041494</td>\n",
       "      <td>5.310557</td>\n",
       "      <td>0.193463</td>\n",
       "      <td>1.189954</td>\n",
       "      <td>-0.271191</td>\n",
       "    </tr>\n",
       "    <tr>\n",
       "      <th>3</th>\n",
       "      <td>-0.769551</td>\n",
       "      <td>22</td>\n",
       "      <td>1.640531</td>\n",
       "      <td>1.0</td>\n",
       "      <td>1.375</td>\n",
       "      <td>0.0</td>\n",
       "      <td>2.0</td>\n",
       "      <td>-0.666667</td>\n",
       "      <td>-0.333333</td>\n",
       "      <td>0.0</td>\n",
       "      <td>-1.010309</td>\n",
       "      <td>0.029046</td>\n",
       "      <td>-0.164153</td>\n",
       "      <td>-0.126044</td>\n",
       "      <td>1.189954</td>\n",
       "      <td>-0.271191</td>\n",
       "    </tr>\n",
       "    <tr>\n",
       "      <th>4</th>\n",
       "      <td>-0.826123</td>\n",
       "      <td>324</td>\n",
       "      <td>1.640531</td>\n",
       "      <td>1.0</td>\n",
       "      <td>24.000</td>\n",
       "      <td>0.0</td>\n",
       "      <td>2.0</td>\n",
       "      <td>-0.666667</td>\n",
       "      <td>0.000000</td>\n",
       "      <td>0.5</td>\n",
       "      <td>0.000000</td>\n",
       "      <td>0.539419</td>\n",
       "      <td>2.799188</td>\n",
       "      <td>0.949729</td>\n",
       "      <td>1.189954</td>\n",
       "      <td>-0.271191</td>\n",
       "    </tr>\n",
       "  </tbody>\n",
       "</table>\n",
       "</div>"
      ],
      "text/plain": [
       "     iem_cd  hold_d    ivs_be  long  hist_d  sex_dit_cd  tot_ivs_te_sgm_cd  \\\n",
       "0 -0.645591      11  1.640531   1.0   0.500         0.0                2.0   \n",
       "1 -0.664725      80  1.640531   1.0   5.750         0.0                2.0   \n",
       "2 -0.699667       5  1.640531   1.0   0.125         0.0                2.0   \n",
       "3 -0.769551      22  1.640531   1.0   1.375         0.0                2.0   \n",
       "4 -0.826123     324  1.640531   1.0  24.000         0.0                2.0   \n",
       "\n",
       "   mrz_btp_dit_cd  btp_cfc_cd  mkt_pr_tal_scl_tp_cd  stk_dit_cd   bnc_qty  \\\n",
       "0       -0.666667   -1.500000                  -0.5   -1.010309  0.917012   \n",
       "1       -0.666667   -0.166667                  -0.5   -1.010309 -0.211618   \n",
       "2       -0.666667    0.333333                   0.0    0.000000  3.041494   \n",
       "3       -0.666667   -0.333333                   0.0   -1.010309  0.029046   \n",
       "4       -0.666667    0.000000                   0.5    0.000000  0.539419   \n",
       "\n",
       "   tot_aet_amt      stk_p  PCA_age_lsg   PCA_cus  \n",
       "0     4.213264   0.908691     1.189954 -0.271191  \n",
       "1     1.586814  72.783233     1.189954 -0.271191  \n",
       "2     5.310557   0.193463     1.189954 -0.271191  \n",
       "3    -0.164153  -0.126044     1.189954 -0.271191  \n",
       "4     2.799188   0.949729     1.189954 -0.271191  "
      ]
     },
     "execution_count": 44,
     "metadata": {},
     "output_type": "execute_result"
    }
   ],
   "source": [
    "scaler_train.head()"
   ]
  },
  {
   "cell_type": "markdown",
   "metadata": {},
   "source": [
    "### log 스케일(hold_d)"
   ]
  },
  {
   "cell_type": "code",
   "execution_count": 45,
   "metadata": {},
   "outputs": [],
   "source": [
    "scaler_train['hold_d'] = np.log1p(scaler_train['hold_d'])"
   ]
  },
  {
   "cell_type": "code",
   "execution_count": 46,
   "metadata": {
    "colab": {
     "base_uri": "https://localhost:8080/",
     "height": 437
    },
    "executionInfo": {
     "elapsed": 11,
     "status": "ok",
     "timestamp": 1633945802082,
     "user": {
      "displayName": "소령",
      "photoUrl": "https://lh3.googleusercontent.com/a/default-user=s64",
      "userId": "16197694196490598668"
     },
     "user_tz": -540
    },
    "id": "BZ016rz_3njD",
    "outputId": "19e8a602-fdae-48bb-c821-fed3d11f1f13"
   },
   "outputs": [
    {
     "data": {
      "text/html": [
       "<div>\n",
       "<style scoped>\n",
       "    .dataframe tbody tr th:only-of-type {\n",
       "        vertical-align: middle;\n",
       "    }\n",
       "\n",
       "    .dataframe tbody tr th {\n",
       "        vertical-align: top;\n",
       "    }\n",
       "\n",
       "    .dataframe thead th {\n",
       "        text-align: right;\n",
       "    }\n",
       "</style>\n",
       "<table border=\"1\" class=\"dataframe\">\n",
       "  <thead>\n",
       "    <tr style=\"text-align: right;\">\n",
       "      <th></th>\n",
       "      <th>iem_cd</th>\n",
       "      <th>hold_d</th>\n",
       "      <th>ivs_be</th>\n",
       "      <th>long</th>\n",
       "      <th>hist_d</th>\n",
       "      <th>sex_dit_cd</th>\n",
       "      <th>tot_ivs_te_sgm_cd</th>\n",
       "      <th>mrz_btp_dit_cd</th>\n",
       "      <th>btp_cfc_cd</th>\n",
       "      <th>mkt_pr_tal_scl_tp_cd</th>\n",
       "      <th>stk_dit_cd</th>\n",
       "      <th>bnc_qty</th>\n",
       "      <th>tot_aet_amt</th>\n",
       "      <th>stk_p</th>\n",
       "      <th>PCA_age_lsg</th>\n",
       "      <th>PCA_cus</th>\n",
       "    </tr>\n",
       "  </thead>\n",
       "  <tbody>\n",
       "    <tr>\n",
       "      <th>0</th>\n",
       "      <td>-0.645591</td>\n",
       "      <td>2.484907</td>\n",
       "      <td>1.640531</td>\n",
       "      <td>1.0</td>\n",
       "      <td>0.500</td>\n",
       "      <td>0.0</td>\n",
       "      <td>2.0</td>\n",
       "      <td>-0.666667</td>\n",
       "      <td>-1.500000</td>\n",
       "      <td>-0.5</td>\n",
       "      <td>-1.010309</td>\n",
       "      <td>0.917012</td>\n",
       "      <td>4.213264</td>\n",
       "      <td>0.908691</td>\n",
       "      <td>1.189954</td>\n",
       "      <td>-0.271191</td>\n",
       "    </tr>\n",
       "    <tr>\n",
       "      <th>1</th>\n",
       "      <td>-0.664725</td>\n",
       "      <td>4.394449</td>\n",
       "      <td>1.640531</td>\n",
       "      <td>1.0</td>\n",
       "      <td>5.750</td>\n",
       "      <td>0.0</td>\n",
       "      <td>2.0</td>\n",
       "      <td>-0.666667</td>\n",
       "      <td>-0.166667</td>\n",
       "      <td>-0.5</td>\n",
       "      <td>-1.010309</td>\n",
       "      <td>-0.211618</td>\n",
       "      <td>1.586814</td>\n",
       "      <td>72.783233</td>\n",
       "      <td>1.189954</td>\n",
       "      <td>-0.271191</td>\n",
       "    </tr>\n",
       "    <tr>\n",
       "      <th>2</th>\n",
       "      <td>-0.699667</td>\n",
       "      <td>1.791759</td>\n",
       "      <td>1.640531</td>\n",
       "      <td>1.0</td>\n",
       "      <td>0.125</td>\n",
       "      <td>0.0</td>\n",
       "      <td>2.0</td>\n",
       "      <td>-0.666667</td>\n",
       "      <td>0.333333</td>\n",
       "      <td>0.0</td>\n",
       "      <td>0.000000</td>\n",
       "      <td>3.041494</td>\n",
       "      <td>5.310557</td>\n",
       "      <td>0.193463</td>\n",
       "      <td>1.189954</td>\n",
       "      <td>-0.271191</td>\n",
       "    </tr>\n",
       "    <tr>\n",
       "      <th>3</th>\n",
       "      <td>-0.769551</td>\n",
       "      <td>3.135494</td>\n",
       "      <td>1.640531</td>\n",
       "      <td>1.0</td>\n",
       "      <td>1.375</td>\n",
       "      <td>0.0</td>\n",
       "      <td>2.0</td>\n",
       "      <td>-0.666667</td>\n",
       "      <td>-0.333333</td>\n",
       "      <td>0.0</td>\n",
       "      <td>-1.010309</td>\n",
       "      <td>0.029046</td>\n",
       "      <td>-0.164153</td>\n",
       "      <td>-0.126044</td>\n",
       "      <td>1.189954</td>\n",
       "      <td>-0.271191</td>\n",
       "    </tr>\n",
       "    <tr>\n",
       "      <th>4</th>\n",
       "      <td>-0.826123</td>\n",
       "      <td>5.783825</td>\n",
       "      <td>1.640531</td>\n",
       "      <td>1.0</td>\n",
       "      <td>24.000</td>\n",
       "      <td>0.0</td>\n",
       "      <td>2.0</td>\n",
       "      <td>-0.666667</td>\n",
       "      <td>0.000000</td>\n",
       "      <td>0.5</td>\n",
       "      <td>0.000000</td>\n",
       "      <td>0.539419</td>\n",
       "      <td>2.799188</td>\n",
       "      <td>0.949729</td>\n",
       "      <td>1.189954</td>\n",
       "      <td>-0.271191</td>\n",
       "    </tr>\n",
       "  </tbody>\n",
       "</table>\n",
       "</div>"
      ],
      "text/plain": [
       "     iem_cd    hold_d    ivs_be  long  hist_d  sex_dit_cd  tot_ivs_te_sgm_cd  \\\n",
       "0 -0.645591  2.484907  1.640531   1.0   0.500         0.0                2.0   \n",
       "1 -0.664725  4.394449  1.640531   1.0   5.750         0.0                2.0   \n",
       "2 -0.699667  1.791759  1.640531   1.0   0.125         0.0                2.0   \n",
       "3 -0.769551  3.135494  1.640531   1.0   1.375         0.0                2.0   \n",
       "4 -0.826123  5.783825  1.640531   1.0  24.000         0.0                2.0   \n",
       "\n",
       "   mrz_btp_dit_cd  btp_cfc_cd  mkt_pr_tal_scl_tp_cd  stk_dit_cd   bnc_qty  \\\n",
       "0       -0.666667   -1.500000                  -0.5   -1.010309  0.917012   \n",
       "1       -0.666667   -0.166667                  -0.5   -1.010309 -0.211618   \n",
       "2       -0.666667    0.333333                   0.0    0.000000  3.041494   \n",
       "3       -0.666667   -0.333333                   0.0   -1.010309  0.029046   \n",
       "4       -0.666667    0.000000                   0.5    0.000000  0.539419   \n",
       "\n",
       "   tot_aet_amt      stk_p  PCA_age_lsg   PCA_cus  \n",
       "0     4.213264   0.908691     1.189954 -0.271191  \n",
       "1     1.586814  72.783233     1.189954 -0.271191  \n",
       "2     5.310557   0.193463     1.189954 -0.271191  \n",
       "3    -0.164153  -0.126044     1.189954 -0.271191  \n",
       "4     2.799188   0.949729     1.189954 -0.271191  "
      ]
     },
     "execution_count": 46,
     "metadata": {},
     "output_type": "execute_result"
    }
   ],
   "source": [
    "scaler_train.head()"
   ]
  },
  {
   "cell_type": "code",
   "execution_count": 47,
   "metadata": {
    "colab": {
     "base_uri": "https://localhost:8080/"
    },
    "executionInfo": {
     "elapsed": 10,
     "status": "ok",
     "timestamp": 1633945802082,
     "user": {
      "displayName": "소령",
      "photoUrl": "https://lh3.googleusercontent.com/a/default-user=s64",
      "userId": "16197694196490598668"
     },
     "user_tz": -540
    },
    "id": "GSJArbI96qbA",
    "outputId": "d9e10049-0c3b-4a1d-be39-522d77935464"
   },
   "outputs": [
    {
     "data": {
      "text/plain": [
       "((681472, 16), (70596, 16), (70596, 2))"
      ]
     },
     "execution_count": 47,
     "metadata": {},
     "output_type": "execute_result"
    }
   ],
   "source": [
    "scaler_train.shape, scaler_test.shape, sub.shape"
   ]
  },
  {
   "cell_type": "code",
   "execution_count": 48,
   "metadata": {
    "colab": {
     "base_uri": "https://localhost:8080/"
    },
    "executionInfo": {
     "elapsed": 13,
     "status": "ok",
     "timestamp": 1633992067167,
     "user": {
      "displayName": "하이다비",
      "photoUrl": "https://lh3.googleusercontent.com/a/default-user=s64",
      "userId": "07224346109532620542"
     },
     "user_tz": -540
    },
    "id": "OMMt5Y9sHaCV",
    "outputId": "d6b702d5-493a-47ea-ef98-4f094f62615a"
   },
   "outputs": [
    {
     "name": "stdout",
     "output_type": "stream",
     "text": [
      "<class 'pandas.core.frame.DataFrame'>\n",
      "RangeIndex: 681472 entries, 0 to 681471\n",
      "Data columns (total 16 columns):\n",
      " #   Column                Non-Null Count   Dtype  \n",
      "---  ------                --------------   -----  \n",
      " 0   iem_cd                681472 non-null  float64\n",
      " 1   hold_d                681472 non-null  float64\n",
      " 2   ivs_be                681472 non-null  float64\n",
      " 3   long                  681472 non-null  float64\n",
      " 4   hist_d                681472 non-null  float64\n",
      " 5   sex_dit_cd            681472 non-null  float64\n",
      " 6   tot_ivs_te_sgm_cd     681472 non-null  float64\n",
      " 7   mrz_btp_dit_cd        681472 non-null  float64\n",
      " 8   btp_cfc_cd            681472 non-null  float64\n",
      " 9   mkt_pr_tal_scl_tp_cd  681472 non-null  float64\n",
      " 10  stk_dit_cd            681472 non-null  float64\n",
      " 11  bnc_qty               681472 non-null  float64\n",
      " 12  tot_aet_amt           681472 non-null  float64\n",
      " 13  stk_p                 681472 non-null  float64\n",
      " 14  PCA_age_lsg           681472 non-null  float64\n",
      " 15  PCA_cus               681472 non-null  float64\n",
      "dtypes: float64(16)\n",
      "memory usage: 83.2 MB\n"
     ]
    }
   ],
   "source": [
    "scaler_train.info()"
   ]
  },
  {
   "cell_type": "markdown",
   "metadata": {
    "id": "lRibKUp80X2v"
   },
   "source": [
    "### hold_d drop"
   ]
  },
  {
   "cell_type": "code",
   "execution_count": 49,
   "metadata": {
    "executionInfo": {
     "elapsed": 8,
     "status": "ok",
     "timestamp": 1633992055786,
     "user": {
      "displayName": "하이다비",
      "photoUrl": "https://lh3.googleusercontent.com/a/default-user=s64",
      "userId": "07224346109532620542"
     },
     "user_tz": -540
    },
    "id": "sgYqTQDQxeZi"
   },
   "outputs": [],
   "source": [
    "train_label = scaler_train[\"hold_d\"]\n",
    "scaler_train.drop([\"hold_d\"], axis = 1, inplace = True)"
   ]
  },
  {
   "cell_type": "markdown",
   "metadata": {},
   "source": [
    "# Modeling(CatBoostRegressor)"
   ]
  },
  {
   "cell_type": "code",
   "execution_count": 50,
   "metadata": {
    "colab": {
     "base_uri": "https://localhost:8080/"
    },
    "executionInfo": {
     "elapsed": 616785,
     "status": "ok",
     "timestamp": 1633992683947,
     "user": {
      "displayName": "하이다비",
      "photoUrl": "https://lh3.googleusercontent.com/a/default-user=s64",
      "userId": "07224346109532620542"
     },
     "user_tz": -540
    },
    "id": "nLE3E_dNx3ZV",
    "outputId": "350f58f7-ac67-4897-c619-3b14e482379e"
   },
   "outputs": [
    {
     "name": "stdout",
     "output_type": "stream",
     "text": [
      "0:\tlearn: 1.2274197\ttest: 1.3033558\tbest: 1.3033558 (0)\ttotal: 307ms\tremaining: 5m 6s\n",
      "500:\tlearn: 0.0687869\ttest: 0.0681332\tbest: 0.0681332 (500)\ttotal: 46.7s\tremaining: 46.5s\n",
      "999:\tlearn: 0.0686937\ttest: 0.0680176\tbest: 0.0680176 (999)\ttotal: 1m 32s\tremaining: 0us\n",
      "\n",
      "bestTest = 0.06801756662\n",
      "bestIteration = 999\n",
      "\n",
      "0:\tlearn: 1.2235250\ttest: 1.3364811\tbest: 1.3364811 (0)\ttotal: 163ms\tremaining: 2m 43s\n",
      "500:\tlearn: 0.0688251\ttest: 0.0678097\tbest: 0.0678097 (500)\ttotal: 46.7s\tremaining: 46.5s\n",
      "999:\tlearn: 0.0687246\ttest: 0.0677263\tbest: 0.0677263 (999)\ttotal: 1m 33s\tremaining: 0us\n",
      "\n",
      "bestTest = 0.06772634316\n",
      "bestIteration = 999\n",
      "\n",
      "0:\tlearn: 1.2215911\ttest: 1.3526781\tbest: 1.3526781 (0)\ttotal: 120ms\tremaining: 1m 59s\n",
      "500:\tlearn: 0.0689415\ttest: 0.0669693\tbest: 0.0669693 (500)\ttotal: 56.3s\tremaining: 56.1s\n",
      "999:\tlearn: 0.0688140\ttest: 0.0668471\tbest: 0.0668471 (999)\ttotal: 1m 46s\tremaining: 0us\n",
      "\n",
      "bestTest = 0.06684709432\n",
      "bestIteration = 999\n",
      "\n",
      "0:\tlearn: 1.2285081\ttest: 1.2942645\tbest: 1.2942645 (0)\ttotal: 121ms\tremaining: 2m\n",
      "500:\tlearn: 0.0689142\ttest: 0.0675510\tbest: 0.0675510 (500)\ttotal: 48.1s\tremaining: 47.9s\n",
      "999:\tlearn: 0.0687708\ttest: 0.0674237\tbest: 0.0674237 (999)\ttotal: 1m 35s\tremaining: 0us\n",
      "\n",
      "bestTest = 0.06742366575\n",
      "bestIteration = 999\n",
      "\n",
      "0:\tlearn: 1.2275317\ttest: 1.3019403\tbest: 1.3019403 (0)\ttotal: 109ms\tremaining: 1m 48s\n",
      "500:\tlearn: 0.0689260\ttest: 0.0673141\tbest: 0.0673141 (500)\ttotal: 47.4s\tremaining: 47.2s\n",
      "999:\tlearn: 0.0687887\ttest: 0.0671714\tbest: 0.0671714 (999)\ttotal: 1m 34s\tremaining: 0us\n",
      "\n",
      "bestTest = 0.0671713521\n",
      "bestIteration = 999\n",
      "\n",
      "0:\tlearn: 1.2333255\ttest: 1.2509116\tbest: 1.2509116 (0)\ttotal: 145ms\tremaining: 2m 24s\n",
      "500:\tlearn: 0.0687068\ttest: 0.0689946\tbest: 0.0689946 (500)\ttotal: 46.5s\tremaining: 46.3s\n",
      "999:\tlearn: 0.0686164\ttest: 0.0689149\tbest: 0.0689149 (999)\ttotal: 1m 33s\tremaining: 0us\n",
      "\n",
      "bestTest = 0.06891488601\n",
      "bestIteration = 999\n",
      "\n",
      "0:\tlearn: 1.2414795\ttest: 1.1762312\tbest: 1.1762312 (0)\ttotal: 121ms\tremaining: 2m\n",
      "500:\tlearn: 0.0687300\ttest: 0.0697745\tbest: 0.0697745 (500)\ttotal: 46.5s\tremaining: 46.3s\n",
      "999:\tlearn: 0.0685614\ttest: 0.0696281\tbest: 0.0696281 (999)\ttotal: 1m 34s\tremaining: 0us\n",
      "\n",
      "bestTest = 0.06962812317\n",
      "bestIteration = 999\n",
      "\n",
      "0:\tlearn: 1.2445508\ttest: 1.1455312\tbest: 1.1455312 (0)\ttotal: 115ms\tremaining: 1m 55s\n",
      "500:\tlearn: 0.0686360\ttest: 0.0697450\tbest: 0.0697450 (500)\ttotal: 47.3s\tremaining: 47.2s\n",
      "999:\tlearn: 0.0685157\ttest: 0.0696474\tbest: 0.0696474 (999)\ttotal: 1m 33s\tremaining: 0us\n",
      "\n",
      "bestTest = 0.06964740793\n",
      "bestIteration = 999\n",
      "\n",
      "0:\tlearn: 1.2505239\ttest: 1.0848332\tbest: 1.0848332 (0)\ttotal: 117ms\tremaining: 1m 56s\n",
      "500:\tlearn: 0.0684565\ttest: 0.0709210\tbest: 0.0709210 (500)\ttotal: 46.9s\tremaining: 46.7s\n",
      "999:\tlearn: 0.0683709\ttest: 0.0708563\tbest: 0.0708563 (991)\ttotal: 1m 33s\tremaining: 0us\n",
      "\n",
      "bestTest = 0.07085630338\n",
      "bestIteration = 991\n",
      "\n",
      "Shrink model to first 992 iterations.\n",
      "0:\tlearn: 1.2517801\ttest: 1.0715612\tbest: 1.0715612 (0)\ttotal: 127ms\tremaining: 2m 6s\n",
      "500:\tlearn: 0.0685780\ttest: 0.0704131\tbest: 0.0704131 (498)\ttotal: 46.7s\tremaining: 46.5s\n",
      "999:\tlearn: 0.0684641\ttest: 0.0703117\tbest: 0.0703114 (986)\ttotal: 1m 33s\tremaining: 0us\n",
      "\n",
      "bestTest = 0.07031143402\n",
      "bestIteration = 986\n",
      "\n",
      "Shrink model to first 987 iterations.\n"
     ]
    }
   ],
   "source": [
    "models = []\n",
    "\n",
    "folds = KFold(n_splits=10)\n",
    "for train_idx, val_idx in folds.split(scaler_train):\n",
    "    \n",
    "    train_x = train_data.iloc[train_idx, :]\n",
    "    train_y = train_label[train_idx]\n",
    "    val_x = train_data.iloc[val_idx, :]\n",
    "    val_y = train_label[val_idx]\n",
    "    \n",
    "    model =CatBoostRegressor(learning_rate=0.03,\n",
    "                        depth=2,\n",
    "                        use_best_model=True,\n",
    "                        random_seed=14,\n",
    "                        loss_function='RMSE')\n",
    "    \n",
    "  \n",
    "    model.fit(train_x, train_y,\n",
    "              eval_set=[(val_x, val_y)],\n",
    "              verbose=500)\n",
    "    \n",
    "    models.append(model)"
   ]
  },
  {
   "cell_type": "markdown",
   "metadata": {
    "id": "Omv3p4hQoPAK"
   },
   "source": [
    "# 결과추론"
   ]
  },
  {
   "cell_type": "code",
   "execution_count": 51,
   "metadata": {
    "executionInfo": {
     "elapsed": 962,
     "status": "ok",
     "timestamp": 1633992684904,
     "user": {
      "displayName": "하이다비",
      "photoUrl": "https://lh3.googleusercontent.com/a/default-user=s64",
      "userId": "07224346109532620542"
     },
     "user_tz": -540
    },
    "id": "tp7tSbKrx3cG"
   },
   "outputs": [],
   "source": [
    "result = []\n",
    "for i in models:\n",
    "    result.append(i.predict(scaler_test.drop('hold_d', axis = 1)))\n",
    "pred = np.mean(result, axis = 0)"
   ]
  },
  {
   "cell_type": "code",
   "execution_count": 52,
   "metadata": {
    "colab": {
     "base_uri": "https://localhost:8080/"
    },
    "executionInfo": {
     "elapsed": 45,
     "status": "ok",
     "timestamp": 1633946065781,
     "user": {
      "displayName": "소령",
      "photoUrl": "https://lh3.googleusercontent.com/a/default-user=s64",
      "userId": "16197694196490598668"
     },
     "user_tz": -540
    },
    "id": "RCXt7v883GZ5",
    "outputId": "076a1548-0093-41b2-b583-65f548a47519",
    "tags": []
   },
   "outputs": [
    {
     "data": {
      "text/plain": [
       "array([5.56409707, 6.3253989 , 5.45420257, ..., 6.66499588, 3.00043092,\n",
       "       2.13449591])"
      ]
     },
     "execution_count": 52,
     "metadata": {},
     "output_type": "execute_result"
    }
   ],
   "source": [
    "pred"
   ]
  },
  {
   "cell_type": "code",
   "execution_count": 53,
   "metadata": {
    "colab": {
     "base_uri": "https://localhost:8080/"
    },
    "executionInfo": {
     "elapsed": 36,
     "status": "ok",
     "timestamp": 1633946065781,
     "user": {
      "displayName": "소령",
      "photoUrl": "https://lh3.googleusercontent.com/a/default-user=s64",
      "userId": "16197694196490598668"
     },
     "user_tz": -540
    },
    "id": "_MohQGse_6h7",
    "outputId": "00c5294c-731f-4950-ed58-83003648c371"
   },
   "outputs": [
    {
     "data": {
      "text/plain": [
       "array([259.88953158, 557.580585  , 232.73840667, ..., 783.46023253,\n",
       "        19.09419412,   7.45278451])"
      ]
     },
     "execution_count": 53,
     "metadata": {},
     "output_type": "execute_result"
    }
   ],
   "source": [
    "pred = np.expm1(pred)\n",
    "pred"
   ]
  },
  {
   "cell_type": "code",
   "execution_count": 54,
   "metadata": {
    "colab": {
     "base_uri": "https://localhost:8080/"
    },
    "executionInfo": {
     "elapsed": 33,
     "status": "ok",
     "timestamp": 1633946065782,
     "user": {
      "displayName": "소령",
      "photoUrl": "https://lh3.googleusercontent.com/a/default-user=s64",
      "userId": "16197694196490598668"
     },
     "user_tz": -540
    },
    "id": "XJ0GjLPXDTKF",
    "outputId": "b995c632-e602-4ad6-a989-347d2ee1c7c4",
    "tags": []
   },
   "outputs": [
    {
     "data": {
      "text/plain": [
       "70596"
      ]
     },
     "execution_count": 54,
     "metadata": {},
     "output_type": "execute_result"
    }
   ],
   "source": [
    "len(pred)"
   ]
  },
  {
   "cell_type": "code",
   "execution_count": 55,
   "metadata": {
    "executionInfo": {
     "elapsed": 11,
     "status": "ok",
     "timestamp": 1633992685359,
     "user": {
      "displayName": "하이다비",
      "photoUrl": "https://lh3.googleusercontent.com/a/default-user=s64",
      "userId": "07224346109532620542"
     },
     "user_tz": -540
    },
    "id": "hpp-52Kjx3e1"
   },
   "outputs": [],
   "source": [
    "sub[\"hold_d\"] = np.round(pred)"
   ]
  },
  {
   "cell_type": "code",
   "execution_count": 56,
   "metadata": {},
   "outputs": [
    {
     "data": {
      "text/html": [
       "<div>\n",
       "<style scoped>\n",
       "    .dataframe tbody tr th:only-of-type {\n",
       "        vertical-align: middle;\n",
       "    }\n",
       "\n",
       "    .dataframe tbody tr th {\n",
       "        vertical-align: top;\n",
       "    }\n",
       "\n",
       "    .dataframe thead th {\n",
       "        text-align: right;\n",
       "    }\n",
       "</style>\n",
       "<table border=\"1\" class=\"dataframe\">\n",
       "  <thead>\n",
       "    <tr style=\"text-align: right;\">\n",
       "      <th></th>\n",
       "      <th>submit_id</th>\n",
       "      <th>hold_d</th>\n",
       "    </tr>\n",
       "  </thead>\n",
       "  <tbody>\n",
       "    <tr>\n",
       "      <th>0</th>\n",
       "      <td>IDX00001</td>\n",
       "      <td>260.0</td>\n",
       "    </tr>\n",
       "    <tr>\n",
       "      <th>1</th>\n",
       "      <td>IDX00002</td>\n",
       "      <td>558.0</td>\n",
       "    </tr>\n",
       "    <tr>\n",
       "      <th>2</th>\n",
       "      <td>IDX00003</td>\n",
       "      <td>233.0</td>\n",
       "    </tr>\n",
       "    <tr>\n",
       "      <th>3</th>\n",
       "      <td>IDX00004</td>\n",
       "      <td>394.0</td>\n",
       "    </tr>\n",
       "    <tr>\n",
       "      <th>4</th>\n",
       "      <td>IDX00005</td>\n",
       "      <td>16.0</td>\n",
       "    </tr>\n",
       "  </tbody>\n",
       "</table>\n",
       "</div>"
      ],
      "text/plain": [
       "  submit_id  hold_d\n",
       "0  IDX00001   260.0\n",
       "1  IDX00002   558.0\n",
       "2  IDX00003   233.0\n",
       "3  IDX00004   394.0\n",
       "4  IDX00005    16.0"
      ]
     },
     "execution_count": 56,
     "metadata": {},
     "output_type": "execute_result"
    }
   ],
   "source": [
    "sub.head()"
   ]
  },
  {
   "cell_type": "markdown",
   "metadata": {},
   "source": [
    "### hold_d의 outlier 제거"
   ]
  },
  {
   "cell_type": "code",
   "execution_count": 57,
   "metadata": {},
   "outputs": [
    {
     "data": {
      "text/html": [
       "<div>\n",
       "<style scoped>\n",
       "    .dataframe tbody tr th:only-of-type {\n",
       "        vertical-align: middle;\n",
       "    }\n",
       "\n",
       "    .dataframe tbody tr th {\n",
       "        vertical-align: top;\n",
       "    }\n",
       "\n",
       "    .dataframe thead th {\n",
       "        text-align: right;\n",
       "    }\n",
       "</style>\n",
       "<table border=\"1\" class=\"dataframe\">\n",
       "  <thead>\n",
       "    <tr style=\"text-align: right;\">\n",
       "      <th></th>\n",
       "      <th>act_id</th>\n",
       "      <th>iem_cd</th>\n",
       "      <th>byn_dt</th>\n",
       "      <th>hist_d</th>\n",
       "      <th>submit_id</th>\n",
       "      <th>hold_d</th>\n",
       "      <th>ivs_be</th>\n",
       "      <th>long</th>\n",
       "    </tr>\n",
       "  </thead>\n",
       "  <tbody>\n",
       "    <tr>\n",
       "      <th>0</th>\n",
       "      <td>0ad104dbed99be0cd858aa772765ddedade554601a981b...</td>\n",
       "      <td>A032640</td>\n",
       "      <td>20200522</td>\n",
       "      <td>153</td>\n",
       "      <td>IDX00001</td>\n",
       "      <td>0</td>\n",
       "      <td>15.569043</td>\n",
       "      <td>1</td>\n",
       "    </tr>\n",
       "    <tr>\n",
       "      <th>1</th>\n",
       "      <td>0ad104dbed99be0cd858aa772765ddedade554601a981b...</td>\n",
       "      <td>A160600</td>\n",
       "      <td>20190823</td>\n",
       "      <td>335</td>\n",
       "      <td>IDX00002</td>\n",
       "      <td>0</td>\n",
       "      <td>15.569043</td>\n",
       "      <td>1</td>\n",
       "    </tr>\n",
       "    <tr>\n",
       "      <th>2</th>\n",
       "      <td>0ad104dbed99be0cd858aa772765ddedade554601a981b...</td>\n",
       "      <td>A234340</td>\n",
       "      <td>20200611</td>\n",
       "      <td>139</td>\n",
       "      <td>IDX00003</td>\n",
       "      <td>0</td>\n",
       "      <td>15.569043</td>\n",
       "      <td>1</td>\n",
       "    </tr>\n",
       "    <tr>\n",
       "      <th>3</th>\n",
       "      <td>0ad104dbed99be0cd858aa772765ddedade554601a981b...</td>\n",
       "      <td>A131760</td>\n",
       "      <td>20200120</td>\n",
       "      <td>236</td>\n",
       "      <td>IDX00004</td>\n",
       "      <td>0</td>\n",
       "      <td>15.569043</td>\n",
       "      <td>1</td>\n",
       "    </tr>\n",
       "    <tr>\n",
       "      <th>4</th>\n",
       "      <td>0ad104dbed99be0cd858aa772765ddedade554601a981b...</td>\n",
       "      <td>A293490</td>\n",
       "      <td>20201217</td>\n",
       "      <td>9</td>\n",
       "      <td>IDX00005</td>\n",
       "      <td>0</td>\n",
       "      <td>15.569043</td>\n",
       "      <td>1</td>\n",
       "    </tr>\n",
       "  </tbody>\n",
       "</table>\n",
       "</div>"
      ],
      "text/plain": [
       "                                              act_id   iem_cd    byn_dt  \\\n",
       "0  0ad104dbed99be0cd858aa772765ddedade554601a981b...  A032640  20200522   \n",
       "1  0ad104dbed99be0cd858aa772765ddedade554601a981b...  A160600  20190823   \n",
       "2  0ad104dbed99be0cd858aa772765ddedade554601a981b...  A234340  20200611   \n",
       "3  0ad104dbed99be0cd858aa772765ddedade554601a981b...  A131760  20200120   \n",
       "4  0ad104dbed99be0cd858aa772765ddedade554601a981b...  A293490  20201217   \n",
       "\n",
       "   hist_d submit_id  hold_d     ivs_be  long  \n",
       "0     153  IDX00001       0  15.569043     1  \n",
       "1     335  IDX00002       0  15.569043     1  \n",
       "2     139  IDX00003       0  15.569043     1  \n",
       "3     236  IDX00004       0  15.569043     1  \n",
       "4       9  IDX00005       0  15.569043     1  "
      ]
     },
     "execution_count": 57,
     "metadata": {},
     "output_type": "execute_result"
    }
   ],
   "source": [
    "test.head()"
   ]
  },
  {
   "cell_type": "code",
   "execution_count": 58,
   "metadata": {
    "colab": {
     "base_uri": "https://localhost:8080/",
     "height": 423
    },
    "executionInfo": {
     "elapsed": 11,
     "status": "ok",
     "timestamp": 1633992685360,
     "user": {
      "displayName": "하이다비",
      "photoUrl": "https://lh3.googleusercontent.com/a/default-user=s64",
      "userId": "07224346109532620542"
     },
     "user_tz": -540
    },
    "id": "MRJfspD5j7tZ",
    "outputId": "bf7e6d5a-5813-4460-8db0-2138de60b18c"
   },
   "outputs": [
    {
     "data": {
      "text/html": [
       "<div>\n",
       "<style scoped>\n",
       "    .dataframe tbody tr th:only-of-type {\n",
       "        vertical-align: middle;\n",
       "    }\n",
       "\n",
       "    .dataframe tbody tr th {\n",
       "        vertical-align: top;\n",
       "    }\n",
       "\n",
       "    .dataframe thead th {\n",
       "        text-align: right;\n",
       "    }\n",
       "</style>\n",
       "<table border=\"1\" class=\"dataframe\">\n",
       "  <thead>\n",
       "    <tr style=\"text-align: right;\">\n",
       "      <th></th>\n",
       "      <th>submit_id</th>\n",
       "      <th>hold_d</th>\n",
       "      <th>outlier</th>\n",
       "    </tr>\n",
       "  </thead>\n",
       "  <tbody>\n",
       "    <tr>\n",
       "      <th>0</th>\n",
       "      <td>IDX00001</td>\n",
       "      <td>260.0</td>\n",
       "      <td>107.0</td>\n",
       "    </tr>\n",
       "    <tr>\n",
       "      <th>1</th>\n",
       "      <td>IDX00002</td>\n",
       "      <td>558.0</td>\n",
       "      <td>223.0</td>\n",
       "    </tr>\n",
       "    <tr>\n",
       "      <th>2</th>\n",
       "      <td>IDX00003</td>\n",
       "      <td>233.0</td>\n",
       "      <td>94.0</td>\n",
       "    </tr>\n",
       "    <tr>\n",
       "      <th>3</th>\n",
       "      <td>IDX00004</td>\n",
       "      <td>394.0</td>\n",
       "      <td>158.0</td>\n",
       "    </tr>\n",
       "    <tr>\n",
       "      <th>4</th>\n",
       "      <td>IDX00005</td>\n",
       "      <td>16.0</td>\n",
       "      <td>7.0</td>\n",
       "    </tr>\n",
       "  </tbody>\n",
       "</table>\n",
       "</div>"
      ],
      "text/plain": [
       "  submit_id  hold_d  outlier\n",
       "0  IDX00001   260.0    107.0\n",
       "1  IDX00002   558.0    223.0\n",
       "2  IDX00003   233.0     94.0\n",
       "3  IDX00004   394.0    158.0\n",
       "4  IDX00005    16.0      7.0"
      ]
     },
     "execution_count": 58,
     "metadata": {},
     "output_type": "execute_result"
    }
   ],
   "source": [
    "sub[\"outlier\"]=sub[\"hold_d\"]-test[\"hist_d\"]\n",
    "sub.head()"
   ]
  },
  {
   "cell_type": "code",
   "execution_count": 59,
   "metadata": {
    "executionInfo": {
     "elapsed": 8,
     "status": "ok",
     "timestamp": 1633992685360,
     "user": {
      "displayName": "하이다비",
      "photoUrl": "https://lh3.googleusercontent.com/a/default-user=s64",
      "userId": "07224346109532620542"
     },
     "user_tz": -540
    },
    "id": "Pvo3_gtlzm-9"
   },
   "outputs": [],
   "source": [
    "sub.loc[sub['outlier']<0, 'outlier'] = 1  # under 0 -> 1"
   ]
  },
  {
   "cell_type": "code",
   "execution_count": 60,
   "metadata": {},
   "outputs": [
    {
     "data": {
      "text/plain": [
       "2693"
      ]
     },
     "execution_count": 60,
     "metadata": {},
     "output_type": "execute_result"
    }
   ],
   "source": [
    "sub[sub[\"outlier\"] == 1].value_counts().sum()"
   ]
  },
  {
   "cell_type": "code",
   "execution_count": 61,
   "metadata": {
    "executionInfo": {
     "elapsed": 9,
     "status": "ok",
     "timestamp": 1633992685361,
     "user": {
      "displayName": "하이다비",
      "photoUrl": "https://lh3.googleusercontent.com/a/default-user=s64",
      "userId": "07224346109532620542"
     },
     "user_tz": -540
    },
    "id": "wQPj-sxNzQo0"
   },
   "outputs": [],
   "source": [
    "sub.loc[sub['outlier']>146, 'outlier'] = 146 # above 146 -> 146"
   ]
  },
  {
   "cell_type": "code",
   "execution_count": 62,
   "metadata": {},
   "outputs": [
    {
     "data": {
      "text/plain": [
       "7574"
      ]
     },
     "execution_count": 62,
     "metadata": {},
     "output_type": "execute_result"
    }
   ],
   "source": [
    "sub[sub[\"outlier\"] == 146].value_counts().sum()"
   ]
  },
  {
   "cell_type": "markdown",
   "metadata": {},
   "source": [
    "### 비상장 -> hold = 146"
   ]
  },
  {
   "cell_type": "code",
   "execution_count": 63,
   "metadata": {
    "executionInfo": {
     "elapsed": 771,
     "status": "ok",
     "timestamp": 1633992686123,
     "user": {
      "displayName": "하이다비",
      "photoUrl": "https://lh3.googleusercontent.com/a/default-user=s64",
      "userId": "07224346109532620542"
     },
     "user_tz": -540
    },
    "id": "6w0MyXf85K9T"
   },
   "outputs": [],
   "source": [
    "for i in idx: # idx : 비상장 인덱스\n",
    "    sub.loc[sub['submit_id']==i, 'outlier'] = 146"
   ]
  },
  {
   "cell_type": "code",
   "execution_count": 64,
   "metadata": {},
   "outputs": [
    {
     "data": {
      "text/plain": [
       "7650"
      ]
     },
     "execution_count": 64,
     "metadata": {},
     "output_type": "execute_result"
    }
   ],
   "source": [
    "sub[sub[\"outlier\"] == 146].value_counts().sum()"
   ]
  },
  {
   "cell_type": "markdown",
   "metadata": {},
   "source": [
    "### hold_d = hist_d + outlier(20년 12월 이후 보유일)"
   ]
  },
  {
   "cell_type": "code",
   "execution_count": 65,
   "metadata": {
    "executionInfo": {
     "elapsed": 12,
     "status": "ok",
     "timestamp": 1633992686124,
     "user": {
      "displayName": "하이다비",
      "photoUrl": "https://lh3.googleusercontent.com/a/default-user=s64",
      "userId": "07224346109532620542"
     },
     "user_tz": -540
    },
    "id": "qZt4yeRBzd4W"
   },
   "outputs": [],
   "source": [
    "sub['hold_d'] = sub['outlier'] + test['hist_d']  "
   ]
  },
  {
   "cell_type": "code",
   "execution_count": 66,
   "metadata": {
    "executionInfo": {
     "elapsed": 11,
     "status": "ok",
     "timestamp": 1633992686124,
     "user": {
      "displayName": "하이다비",
      "photoUrl": "https://lh3.googleusercontent.com/a/default-user=s64",
      "userId": "07224346109532620542"
     },
     "user_tz": -540
    },
    "id": "6KrAy4PH1_bC"
   },
   "outputs": [],
   "source": [
    "sub.drop(\"outlier\",axis=1,inplace=True)"
   ]
  },
  {
   "cell_type": "code",
   "execution_count": 67,
   "metadata": {
    "colab": {
     "base_uri": "https://localhost:8080/",
     "height": 226
    },
    "executionInfo": {
     "elapsed": 11,
     "status": "ok",
     "timestamp": 1633992686125,
     "user": {
      "displayName": "하이다비",
      "photoUrl": "https://lh3.googleusercontent.com/a/default-user=s64",
      "userId": "07224346109532620542"
     },
     "user_tz": -540
    },
    "id": "me2935zI3U_3",
    "outputId": "88e4d603-0088-42bf-d0ec-d1d63c89d213"
   },
   "outputs": [
    {
     "data": {
      "text/html": [
       "<div>\n",
       "<style scoped>\n",
       "    .dataframe tbody tr th:only-of-type {\n",
       "        vertical-align: middle;\n",
       "    }\n",
       "\n",
       "    .dataframe tbody tr th {\n",
       "        vertical-align: top;\n",
       "    }\n",
       "\n",
       "    .dataframe thead th {\n",
       "        text-align: right;\n",
       "    }\n",
       "</style>\n",
       "<table border=\"1\" class=\"dataframe\">\n",
       "  <thead>\n",
       "    <tr style=\"text-align: right;\">\n",
       "      <th></th>\n",
       "      <th>submit_id</th>\n",
       "      <th>hold_d</th>\n",
       "    </tr>\n",
       "  </thead>\n",
       "  <tbody>\n",
       "    <tr>\n",
       "      <th>0</th>\n",
       "      <td>IDX00001</td>\n",
       "      <td>260.0</td>\n",
       "    </tr>\n",
       "    <tr>\n",
       "      <th>1</th>\n",
       "      <td>IDX00002</td>\n",
       "      <td>481.0</td>\n",
       "    </tr>\n",
       "    <tr>\n",
       "      <th>2</th>\n",
       "      <td>IDX00003</td>\n",
       "      <td>233.0</td>\n",
       "    </tr>\n",
       "    <tr>\n",
       "      <th>3</th>\n",
       "      <td>IDX00004</td>\n",
       "      <td>382.0</td>\n",
       "    </tr>\n",
       "    <tr>\n",
       "      <th>4</th>\n",
       "      <td>IDX00005</td>\n",
       "      <td>16.0</td>\n",
       "    </tr>\n",
       "  </tbody>\n",
       "</table>\n",
       "</div>"
      ],
      "text/plain": [
       "  submit_id  hold_d\n",
       "0  IDX00001   260.0\n",
       "1  IDX00002   481.0\n",
       "2  IDX00003   233.0\n",
       "3  IDX00004   382.0\n",
       "4  IDX00005    16.0"
      ]
     },
     "execution_count": 67,
     "metadata": {},
     "output_type": "execute_result"
    }
   ],
   "source": [
    "sub.head()"
   ]
  },
  {
   "cell_type": "markdown",
   "metadata": {},
   "source": [
    "### 최종 출력"
   ]
  },
  {
   "cell_type": "code",
   "execution_count": 68,
   "metadata": {
    "executionInfo": {
     "elapsed": 10,
     "status": "ok",
     "timestamp": 1633992686126,
     "user": {
      "displayName": "하이다비",
      "photoUrl": "https://lh3.googleusercontent.com/a/default-user=s64",
      "userId": "07224346109532620542"
     },
     "user_tz": -540
    },
    "id": "3Y6JFkzRx3h0"
   },
   "outputs": [],
   "source": [
    "sub.to_csv(\"NH_hold.csv\", index = False)"
   ]
  },
  {
   "cell_type": "code",
   "execution_count": null,
   "metadata": {},
   "outputs": [],
   "source": []
  },
  {
   "cell_type": "code",
   "execution_count": null,
   "metadata": {},
   "outputs": [],
   "source": []
  },
  {
   "cell_type": "code",
   "execution_count": null,
   "metadata": {},
   "outputs": [],
   "source": []
  },
  {
   "cell_type": "code",
   "execution_count": null,
   "metadata": {},
   "outputs": [],
   "source": []
  }
 ],
 "metadata": {
  "colab": {
   "collapsed_sections": [],
   "name": "NH주식보유기간_완성.ipynb",
   "provenance": []
  },
  "kernelspec": {
   "display_name": "Python 3 (ipykernel)",
   "language": "python",
   "name": "python3"
  },
  "language_info": {
   "codemirror_mode": {
    "name": "ipython",
    "version": 3
   },
   "file_extension": ".py",
   "mimetype": "text/x-python",
   "name": "python",
   "nbconvert_exporter": "python",
   "pygments_lexer": "ipython3",
   "version": "3.8.8"
  }
 },
 "nbformat": 4,
 "nbformat_minor": 4
}
