{
 "cells": [
  {
   "cell_type": "markdown",
   "metadata": {
    "id": "syQjBXh7MPkI"
   },
   "source": [
    "# kospi\n",
    "- Realized Volatility Forecasting with GARCH \n"
   ]
  },
  {
   "cell_type": "code",
   "execution_count": 1,
   "metadata": {
    "colab": {
     "base_uri": "https://localhost:8080/"
    },
    "id": "ReEbAzsvg4KP",
    "outputId": "fc3c9a61-e941-475f-c0d5-f40ea0e2ef28"
   },
   "outputs": [],
   "source": [
    "# !pip install arch"
   ]
  },
  {
   "cell_type": "code",
   "execution_count": 2,
   "metadata": {
    "colab": {
     "base_uri": "https://localhost:8080/"
    },
    "id": "_uB9ddHVg9Z6",
    "outputId": "51058965-1754-4dc8-d851-66e7c2d4a799"
   },
   "outputs": [],
   "source": [
    "# !pip3 install yfinance"
   ]
  },
  {
   "cell_type": "code",
   "execution_count": 3,
   "metadata": {
    "id": "Hsc57IvZgEjD"
   },
   "outputs": [],
   "source": [
    "import os\n",
    "import numpy as np\n",
    "import pandas as pd\n",
    "import matplotlib.pyplot as plt\n",
    "import seaborn as sns\n",
    "from datetime import date\n",
    "from scipy import stats\n",
    "\n",
    "%matplotlib inline"
   ]
  },
  {
   "cell_type": "code",
   "execution_count": 4,
   "metadata": {
    "id": "u1uCuCUAgul5"
   },
   "outputs": [],
   "source": [
    "import warnings\n",
    "warnings.filterwarnings('ignore')"
   ]
  },
  {
   "cell_type": "code",
   "execution_count": 5,
   "metadata": {
    "id": "blyakcKngx_C"
   },
   "outputs": [],
   "source": [
    "import yfinance as yf\n",
    "\n",
    "from datetime import datetime, timedelta\n",
    "from sklearn.metrics import mean_squared_error as mse\n",
    "from sklearn.preprocessing import MinMaxScaler\n",
    "from statsmodels.graphics.tsaplots import plot_acf, plot_pacf"
   ]
  },
  {
   "cell_type": "code",
   "execution_count": 6,
   "metadata": {
    "id": "TsxklZRBhGLg"
   },
   "outputs": [],
   "source": [
    "# Ref: https://towardsdatascience.com/8-commonly-used-pandas-display-options-you-should-know-a832365efa95\n",
    "# ADJUST COLUMN WIDTH IN PANDAS TO SHOW ALL TEXT\n",
    "# (FOR MODEL PERFORMANCE DISPLAY LATER)\n",
    "\n",
    "pd.set_option('display.max_colwidth', None)"
   ]
  },
  {
   "cell_type": "code",
   "execution_count": 7,
   "metadata": {
    "id": "DKoPb8IhMPkR"
   },
   "outputs": [],
   "source": [
    "# PRE-SET PATH TO images FOLDER TO SAVE PLOTS LATER\n",
    "directory_to_img = os.path.join('images')"
   ]
  },
  {
   "cell_type": "code",
   "execution_count": 8,
   "metadata": {},
   "outputs": [],
   "source": [
    "df = pd.read_csv(\"kospi.csv\")"
   ]
  },
  {
   "cell_type": "code",
   "execution_count": 9,
   "metadata": {},
   "outputs": [],
   "source": [
    "tckr = 'kospi'"
   ]
  },
  {
   "cell_type": "code",
   "execution_count": 10,
   "metadata": {},
   "outputs": [
    {
     "data": {
      "text/plain": [
       "(4657, 7)"
      ]
     },
     "execution_count": 10,
     "metadata": {},
     "output_type": "execute_result"
    }
   ],
   "source": [
    "df.shape"
   ]
  },
  {
   "cell_type": "code",
   "execution_count": 11,
   "metadata": {},
   "outputs": [
    {
     "data": {
      "text/html": [
       "<div>\n",
       "<style scoped>\n",
       "    .dataframe tbody tr th:only-of-type {\n",
       "        vertical-align: middle;\n",
       "    }\n",
       "\n",
       "    .dataframe tbody tr th {\n",
       "        vertical-align: top;\n",
       "    }\n",
       "\n",
       "    .dataframe thead th {\n",
       "        text-align: right;\n",
       "    }\n",
       "</style>\n",
       "<table border=\"1\" class=\"dataframe\">\n",
       "  <thead>\n",
       "    <tr style=\"text-align: right;\">\n",
       "      <th></th>\n",
       "      <th>Date</th>\n",
       "      <th>High</th>\n",
       "      <th>Low</th>\n",
       "      <th>Open</th>\n",
       "      <th>Close</th>\n",
       "      <th>Volume</th>\n",
       "      <th>Adj Close</th>\n",
       "    </tr>\n",
       "  </thead>\n",
       "  <tbody>\n",
       "    <tr>\n",
       "      <th>0</th>\n",
       "      <td>2003-01-02</td>\n",
       "      <td>637.099976</td>\n",
       "      <td>623.750000</td>\n",
       "      <td>633.030029</td>\n",
       "      <td>635.169983</td>\n",
       "      <td>742900.0</td>\n",
       "      <td>635.169983</td>\n",
       "    </tr>\n",
       "    <tr>\n",
       "      <th>1</th>\n",
       "      <td>2003-01-03</td>\n",
       "      <td>662.400024</td>\n",
       "      <td>649.619995</td>\n",
       "      <td>651.590027</td>\n",
       "      <td>661.099976</td>\n",
       "      <td>1005800.0</td>\n",
       "      <td>661.099976</td>\n",
       "    </tr>\n",
       "    <tr>\n",
       "      <th>2</th>\n",
       "      <td>2003-01-06</td>\n",
       "      <td>667.710022</td>\n",
       "      <td>657.609985</td>\n",
       "      <td>665.099976</td>\n",
       "      <td>666.710022</td>\n",
       "      <td>721800.0</td>\n",
       "      <td>666.710022</td>\n",
       "    </tr>\n",
       "    <tr>\n",
       "      <th>3</th>\n",
       "      <td>2003-01-07</td>\n",
       "      <td>679.299988</td>\n",
       "      <td>652.140015</td>\n",
       "      <td>679.000000</td>\n",
       "      <td>652.200012</td>\n",
       "      <td>690100.0</td>\n",
       "      <td>652.200012</td>\n",
       "    </tr>\n",
       "    <tr>\n",
       "      <th>4</th>\n",
       "      <td>2003-01-08</td>\n",
       "      <td>660.390015</td>\n",
       "      <td>650.929993</td>\n",
       "      <td>655.969971</td>\n",
       "      <td>651.719971</td>\n",
       "      <td>604900.0</td>\n",
       "      <td>651.719971</td>\n",
       "    </tr>\n",
       "  </tbody>\n",
       "</table>\n",
       "</div>"
      ],
      "text/plain": [
       "         Date        High         Low        Open       Close     Volume  \\\n",
       "0  2003-01-02  637.099976  623.750000  633.030029  635.169983   742900.0   \n",
       "1  2003-01-03  662.400024  649.619995  651.590027  661.099976  1005800.0   \n",
       "2  2003-01-06  667.710022  657.609985  665.099976  666.710022   721800.0   \n",
       "3  2003-01-07  679.299988  652.140015  679.000000  652.200012   690100.0   \n",
       "4  2003-01-08  660.390015  650.929993  655.969971  651.719971   604900.0   \n",
       "\n",
       "    Adj Close  \n",
       "0  635.169983  \n",
       "1  661.099976  \n",
       "2  666.710022  \n",
       "3  652.200012  \n",
       "4  651.719971  "
      ]
     },
     "execution_count": 11,
     "metadata": {},
     "output_type": "execute_result"
    }
   ],
   "source": [
    "df.head()"
   ]
  },
  {
   "cell_type": "code",
   "execution_count": 12,
   "metadata": {},
   "outputs": [],
   "source": [
    "df['Change']    = 100*df['Close'].pct_change()\n",
    "df['STDEV']     = df['Close'].rolling(window=20).std(ddof=0)\n",
    "df['STDEV_log'] = np.log(df['Close'].rolling(window=20).std(ddof=0))\n",
    "df['HV']        = df['Change'].rolling(window=20, center=False).std() * (252 ** 0.5)\n",
    "df['log_returns'] = np.log(df.Close/df.Close.shift(1))"
   ]
  },
  {
   "cell_type": "code",
   "execution_count": 13,
   "metadata": {},
   "outputs": [],
   "source": [
    "# df['Change']    = df['Close'].pct_change()\n",
    "# df['STDEV']     = df['Close'].rolling(window=20).std(ddof=0)\n",
    "# df['STDEV_log'] = np.log(df['Close'].rolling(window=20).std(ddof=0))\n",
    "# df['HV']        = df['Change'].rolling(window=20, center=False).std() * (252 ** 0.5)\n"
   ]
  },
  {
   "cell_type": "code",
   "execution_count": 14,
   "metadata": {},
   "outputs": [
    {
     "data": {
      "text/html": [
       "<div>\n",
       "<style scoped>\n",
       "    .dataframe tbody tr th:only-of-type {\n",
       "        vertical-align: middle;\n",
       "    }\n",
       "\n",
       "    .dataframe tbody tr th {\n",
       "        vertical-align: top;\n",
       "    }\n",
       "\n",
       "    .dataframe thead th {\n",
       "        text-align: right;\n",
       "    }\n",
       "</style>\n",
       "<table border=\"1\" class=\"dataframe\">\n",
       "  <thead>\n",
       "    <tr style=\"text-align: right;\">\n",
       "      <th></th>\n",
       "      <th>Date</th>\n",
       "      <th>High</th>\n",
       "      <th>Low</th>\n",
       "      <th>Open</th>\n",
       "      <th>Close</th>\n",
       "      <th>Volume</th>\n",
       "      <th>Adj Close</th>\n",
       "      <th>Change</th>\n",
       "      <th>STDEV</th>\n",
       "      <th>STDEV_log</th>\n",
       "      <th>HV</th>\n",
       "      <th>log_returns</th>\n",
       "    </tr>\n",
       "  </thead>\n",
       "  <tbody>\n",
       "    <tr>\n",
       "      <th>0</th>\n",
       "      <td>2003-01-02</td>\n",
       "      <td>637.099976</td>\n",
       "      <td>623.750000</td>\n",
       "      <td>633.030029</td>\n",
       "      <td>635.169983</td>\n",
       "      <td>742900.0</td>\n",
       "      <td>635.169983</td>\n",
       "      <td>NaN</td>\n",
       "      <td>NaN</td>\n",
       "      <td>NaN</td>\n",
       "      <td>NaN</td>\n",
       "      <td>NaN</td>\n",
       "    </tr>\n",
       "    <tr>\n",
       "      <th>1</th>\n",
       "      <td>2003-01-03</td>\n",
       "      <td>662.400024</td>\n",
       "      <td>649.619995</td>\n",
       "      <td>651.590027</td>\n",
       "      <td>661.099976</td>\n",
       "      <td>1005800.0</td>\n",
       "      <td>661.099976</td>\n",
       "      <td>4.082371</td>\n",
       "      <td>NaN</td>\n",
       "      <td>NaN</td>\n",
       "      <td>NaN</td>\n",
       "      <td>0.040012</td>\n",
       "    </tr>\n",
       "    <tr>\n",
       "      <th>2</th>\n",
       "      <td>2003-01-06</td>\n",
       "      <td>667.710022</td>\n",
       "      <td>657.609985</td>\n",
       "      <td>665.099976</td>\n",
       "      <td>666.710022</td>\n",
       "      <td>721800.0</td>\n",
       "      <td>666.710022</td>\n",
       "      <td>0.848593</td>\n",
       "      <td>NaN</td>\n",
       "      <td>NaN</td>\n",
       "      <td>NaN</td>\n",
       "      <td>0.008450</td>\n",
       "    </tr>\n",
       "    <tr>\n",
       "      <th>3</th>\n",
       "      <td>2003-01-07</td>\n",
       "      <td>679.299988</td>\n",
       "      <td>652.140015</td>\n",
       "      <td>679.000000</td>\n",
       "      <td>652.200012</td>\n",
       "      <td>690100.0</td>\n",
       "      <td>652.200012</td>\n",
       "      <td>-2.176360</td>\n",
       "      <td>NaN</td>\n",
       "      <td>NaN</td>\n",
       "      <td>NaN</td>\n",
       "      <td>-0.022004</td>\n",
       "    </tr>\n",
       "    <tr>\n",
       "      <th>4</th>\n",
       "      <td>2003-01-08</td>\n",
       "      <td>660.390015</td>\n",
       "      <td>650.929993</td>\n",
       "      <td>655.969971</td>\n",
       "      <td>651.719971</td>\n",
       "      <td>604900.0</td>\n",
       "      <td>651.719971</td>\n",
       "      <td>-0.073603</td>\n",
       "      <td>NaN</td>\n",
       "      <td>NaN</td>\n",
       "      <td>NaN</td>\n",
       "      <td>-0.000736</td>\n",
       "    </tr>\n",
       "  </tbody>\n",
       "</table>\n",
       "</div>"
      ],
      "text/plain": [
       "         Date        High         Low        Open       Close     Volume  \\\n",
       "0  2003-01-02  637.099976  623.750000  633.030029  635.169983   742900.0   \n",
       "1  2003-01-03  662.400024  649.619995  651.590027  661.099976  1005800.0   \n",
       "2  2003-01-06  667.710022  657.609985  665.099976  666.710022   721800.0   \n",
       "3  2003-01-07  679.299988  652.140015  679.000000  652.200012   690100.0   \n",
       "4  2003-01-08  660.390015  650.929993  655.969971  651.719971   604900.0   \n",
       "\n",
       "    Adj Close    Change  STDEV  STDEV_log  HV  log_returns  \n",
       "0  635.169983       NaN    NaN        NaN NaN          NaN  \n",
       "1  661.099976  4.082371    NaN        NaN NaN     0.040012  \n",
       "2  666.710022  0.848593    NaN        NaN NaN     0.008450  \n",
       "3  652.200012 -2.176360    NaN        NaN NaN    -0.022004  \n",
       "4  651.719971 -0.073603    NaN        NaN NaN    -0.000736  "
      ]
     },
     "execution_count": 14,
     "metadata": {},
     "output_type": "execute_result"
    }
   ],
   "source": [
    "df.head()"
   ]
  },
  {
   "cell_type": "code",
   "execution_count": 15,
   "metadata": {
    "id": "KuLHsDs_qLej"
   },
   "outputs": [],
   "source": [
    "INTERVAL_WINDOW = 20\n",
    "n_future = 5\n",
    "\n",
    "# GET BACKWARD LOOKING REALIZED VOLATILITY\n",
    "df['STDEV_current'] = df['STDEV']\n",
    "# df['stdev_current'] = df['stdev']                                   \n",
    "\n",
    "# GET FORWARD LOOKING REALIZED VOLATILITY \n",
    "df['STDEV_future'] = df['STDEV'].shift(-n_future)\n",
    "# df['stdev_future'] = df['stdev'].shift(-n_future)"
   ]
  },
  {
   "cell_type": "code",
   "execution_count": 16,
   "metadata": {
    "colab": {
     "base_uri": "https://localhost:8080/",
     "height": 318
    },
    "id": "PvyioUSPr1hE",
    "outputId": "89e85e32-6b3c-4a57-d2f6-36d00de78108"
   },
   "outputs": [
    {
     "data": {
      "text/html": [
       "<div>\n",
       "<style scoped>\n",
       "    .dataframe tbody tr th:only-of-type {\n",
       "        vertical-align: middle;\n",
       "    }\n",
       "\n",
       "    .dataframe tbody tr th {\n",
       "        vertical-align: top;\n",
       "    }\n",
       "\n",
       "    .dataframe thead th {\n",
       "        text-align: right;\n",
       "    }\n",
       "</style>\n",
       "<table border=\"1\" class=\"dataframe\">\n",
       "  <thead>\n",
       "    <tr style=\"text-align: right;\">\n",
       "      <th></th>\n",
       "      <th>High</th>\n",
       "      <th>Low</th>\n",
       "      <th>Open</th>\n",
       "      <th>Close</th>\n",
       "      <th>Volume</th>\n",
       "      <th>Adj Close</th>\n",
       "      <th>Change</th>\n",
       "      <th>STDEV</th>\n",
       "      <th>STDEV_log</th>\n",
       "      <th>HV</th>\n",
       "      <th>log_returns</th>\n",
       "      <th>STDEV_current</th>\n",
       "      <th>STDEV_future</th>\n",
       "    </tr>\n",
       "  </thead>\n",
       "  <tbody>\n",
       "    <tr>\n",
       "      <th>count</th>\n",
       "      <td>4657.000000</td>\n",
       "      <td>4657.000000</td>\n",
       "      <td>4657.000000</td>\n",
       "      <td>4657.000000</td>\n",
       "      <td>4.657000e+03</td>\n",
       "      <td>4657.000000</td>\n",
       "      <td>4656.000000</td>\n",
       "      <td>4638.000000</td>\n",
       "      <td>4638.000000</td>\n",
       "      <td>4637.000000</td>\n",
       "      <td>4656.000000</td>\n",
       "      <td>4638.000000</td>\n",
       "      <td>4638.000000</td>\n",
       "    </tr>\n",
       "    <tr>\n",
       "      <th>mean</th>\n",
       "      <td>1805.001501</td>\n",
       "      <td>1782.988552</td>\n",
       "      <td>1795.407493</td>\n",
       "      <td>1794.560373</td>\n",
       "      <td>4.562680e+05</td>\n",
       "      <td>1794.560373</td>\n",
       "      <td>0.041300</td>\n",
       "      <td>32.287789</td>\n",
       "      <td>3.320846</td>\n",
       "      <td>17.622491</td>\n",
       "      <td>0.000331</td>\n",
       "      <td>32.287789</td>\n",
       "      <td>32.287789</td>\n",
       "    </tr>\n",
       "    <tr>\n",
       "      <th>std</th>\n",
       "      <td>568.341191</td>\n",
       "      <td>564.751954</td>\n",
       "      <td>566.786450</td>\n",
       "      <td>566.354505</td>\n",
       "      <td>2.498565e+05</td>\n",
       "      <td>566.354505</td>\n",
       "      <td>1.277017</td>\n",
       "      <td>21.400541</td>\n",
       "      <td>0.530666</td>\n",
       "      <td>10.032516</td>\n",
       "      <td>0.012799</td>\n",
       "      <td>21.400541</td>\n",
       "      <td>21.400541</td>\n",
       "    </tr>\n",
       "    <tr>\n",
       "      <th>min</th>\n",
       "      <td>531.780029</td>\n",
       "      <td>512.299988</td>\n",
       "      <td>529.070007</td>\n",
       "      <td>515.239990</td>\n",
       "      <td>1.363000e+05</td>\n",
       "      <td>515.239990</td>\n",
       "      <td>-10.570535</td>\n",
       "      <td>5.559850</td>\n",
       "      <td>1.715571</td>\n",
       "      <td>4.579286</td>\n",
       "      <td>-0.111720</td>\n",
       "      <td>5.559850</td>\n",
       "      <td>5.559850</td>\n",
       "    </tr>\n",
       "    <tr>\n",
       "      <th>25%</th>\n",
       "      <td>1423.069946</td>\n",
       "      <td>1405.050049</td>\n",
       "      <td>1414.550049</td>\n",
       "      <td>1414.880005</td>\n",
       "      <td>3.110000e+05</td>\n",
       "      <td>1414.880005</td>\n",
       "      <td>-0.515598</td>\n",
       "      <td>19.314554</td>\n",
       "      <td>2.960859</td>\n",
       "      <td>11.265834</td>\n",
       "      <td>-0.005169</td>\n",
       "      <td>19.314554</td>\n",
       "      <td>19.314554</td>\n",
       "    </tr>\n",
       "    <tr>\n",
       "      <th>50%</th>\n",
       "      <td>1938.040039</td>\n",
       "      <td>1916.810059</td>\n",
       "      <td>1930.089966</td>\n",
       "      <td>1927.819946</td>\n",
       "      <td>3.913000e+05</td>\n",
       "      <td>1927.819946</td>\n",
       "      <td>0.072411</td>\n",
       "      <td>26.165200</td>\n",
       "      <td>3.264430</td>\n",
       "      <td>14.947348</td>\n",
       "      <td>0.000724</td>\n",
       "      <td>26.165200</td>\n",
       "      <td>26.165200</td>\n",
       "    </tr>\n",
       "    <tr>\n",
       "      <th>75%</th>\n",
       "      <td>2081.159912</td>\n",
       "      <td>2061.129883</td>\n",
       "      <td>2071.409912</td>\n",
       "      <td>2070.540039</td>\n",
       "      <td>5.100000e+05</td>\n",
       "      <td>2070.540039</td>\n",
       "      <td>0.679595</td>\n",
       "      <td>38.091505</td>\n",
       "      <td>3.639991</td>\n",
       "      <td>20.828688</td>\n",
       "      <td>0.006773</td>\n",
       "      <td>38.091505</td>\n",
       "      <td>38.091505</td>\n",
       "    </tr>\n",
       "    <tr>\n",
       "      <th>max</th>\n",
       "      <td>3316.080078</td>\n",
       "      <td>3295.439941</td>\n",
       "      <td>3305.459961</td>\n",
       "      <td>3305.209961</td>\n",
       "      <td>3.455500e+06</td>\n",
       "      <td>3305.209961</td>\n",
       "      <td>11.945675</td>\n",
       "      <td>209.305279</td>\n",
       "      <td>5.343794</td>\n",
       "      <td>91.140888</td>\n",
       "      <td>0.112844</td>\n",
       "      <td>209.305279</td>\n",
       "      <td>209.305279</td>\n",
       "    </tr>\n",
       "  </tbody>\n",
       "</table>\n",
       "</div>"
      ],
      "text/plain": [
       "              High          Low         Open        Close        Volume  \\\n",
       "count  4657.000000  4657.000000  4657.000000  4657.000000  4.657000e+03   \n",
       "mean   1805.001501  1782.988552  1795.407493  1794.560373  4.562680e+05   \n",
       "std     568.341191   564.751954   566.786450   566.354505  2.498565e+05   \n",
       "min     531.780029   512.299988   529.070007   515.239990  1.363000e+05   \n",
       "25%    1423.069946  1405.050049  1414.550049  1414.880005  3.110000e+05   \n",
       "50%    1938.040039  1916.810059  1930.089966  1927.819946  3.913000e+05   \n",
       "75%    2081.159912  2061.129883  2071.409912  2070.540039  5.100000e+05   \n",
       "max    3316.080078  3295.439941  3305.459961  3305.209961  3.455500e+06   \n",
       "\n",
       "         Adj Close       Change        STDEV    STDEV_log           HV  \\\n",
       "count  4657.000000  4656.000000  4638.000000  4638.000000  4637.000000   \n",
       "mean   1794.560373     0.041300    32.287789     3.320846    17.622491   \n",
       "std     566.354505     1.277017    21.400541     0.530666    10.032516   \n",
       "min     515.239990   -10.570535     5.559850     1.715571     4.579286   \n",
       "25%    1414.880005    -0.515598    19.314554     2.960859    11.265834   \n",
       "50%    1927.819946     0.072411    26.165200     3.264430    14.947348   \n",
       "75%    2070.540039     0.679595    38.091505     3.639991    20.828688   \n",
       "max    3305.209961    11.945675   209.305279     5.343794    91.140888   \n",
       "\n",
       "       log_returns  STDEV_current  STDEV_future  \n",
       "count  4656.000000    4638.000000   4638.000000  \n",
       "mean      0.000331      32.287789     32.287789  \n",
       "std       0.012799      21.400541     21.400541  \n",
       "min      -0.111720       5.559850      5.559850  \n",
       "25%      -0.005169      19.314554     19.314554  \n",
       "50%       0.000724      26.165200     26.165200  \n",
       "75%       0.006773      38.091505     38.091505  \n",
       "max       0.112844     209.305279    209.305279  "
      ]
     },
     "execution_count": 16,
     "metadata": {},
     "output_type": "execute_result"
    }
   ],
   "source": [
    "df.describe()"
   ]
  },
  {
   "cell_type": "code",
   "execution_count": 17,
   "metadata": {},
   "outputs": [
    {
     "data": {
      "text/html": [
       "<div>\n",
       "<style scoped>\n",
       "    .dataframe tbody tr th:only-of-type {\n",
       "        vertical-align: middle;\n",
       "    }\n",
       "\n",
       "    .dataframe tbody tr th {\n",
       "        vertical-align: top;\n",
       "    }\n",
       "\n",
       "    .dataframe thead th {\n",
       "        text-align: right;\n",
       "    }\n",
       "</style>\n",
       "<table border=\"1\" class=\"dataframe\">\n",
       "  <thead>\n",
       "    <tr style=\"text-align: right;\">\n",
       "      <th></th>\n",
       "      <th>Date</th>\n",
       "      <th>High</th>\n",
       "      <th>Low</th>\n",
       "      <th>Open</th>\n",
       "      <th>Close</th>\n",
       "      <th>Volume</th>\n",
       "      <th>Adj Close</th>\n",
       "      <th>Change</th>\n",
       "      <th>STDEV</th>\n",
       "      <th>STDEV_log</th>\n",
       "      <th>HV</th>\n",
       "      <th>log_returns</th>\n",
       "      <th>STDEV_current</th>\n",
       "      <th>STDEV_future</th>\n",
       "    </tr>\n",
       "  </thead>\n",
       "  <tbody>\n",
       "    <tr>\n",
       "      <th>0</th>\n",
       "      <td>2003-01-02</td>\n",
       "      <td>637.099976</td>\n",
       "      <td>623.750000</td>\n",
       "      <td>633.030029</td>\n",
       "      <td>635.169983</td>\n",
       "      <td>742900.0</td>\n",
       "      <td>635.169983</td>\n",
       "      <td>NaN</td>\n",
       "      <td>NaN</td>\n",
       "      <td>NaN</td>\n",
       "      <td>NaN</td>\n",
       "      <td>NaN</td>\n",
       "      <td>NaN</td>\n",
       "      <td>NaN</td>\n",
       "    </tr>\n",
       "    <tr>\n",
       "      <th>1</th>\n",
       "      <td>2003-01-03</td>\n",
       "      <td>662.400024</td>\n",
       "      <td>649.619995</td>\n",
       "      <td>651.590027</td>\n",
       "      <td>661.099976</td>\n",
       "      <td>1005800.0</td>\n",
       "      <td>661.099976</td>\n",
       "      <td>4.082371</td>\n",
       "      <td>NaN</td>\n",
       "      <td>NaN</td>\n",
       "      <td>NaN</td>\n",
       "      <td>0.040012</td>\n",
       "      <td>NaN</td>\n",
       "      <td>NaN</td>\n",
       "    </tr>\n",
       "    <tr>\n",
       "      <th>2</th>\n",
       "      <td>2003-01-06</td>\n",
       "      <td>667.710022</td>\n",
       "      <td>657.609985</td>\n",
       "      <td>665.099976</td>\n",
       "      <td>666.710022</td>\n",
       "      <td>721800.0</td>\n",
       "      <td>666.710022</td>\n",
       "      <td>0.848593</td>\n",
       "      <td>NaN</td>\n",
       "      <td>NaN</td>\n",
       "      <td>NaN</td>\n",
       "      <td>0.008450</td>\n",
       "      <td>NaN</td>\n",
       "      <td>NaN</td>\n",
       "    </tr>\n",
       "    <tr>\n",
       "      <th>3</th>\n",
       "      <td>2003-01-07</td>\n",
       "      <td>679.299988</td>\n",
       "      <td>652.140015</td>\n",
       "      <td>679.000000</td>\n",
       "      <td>652.200012</td>\n",
       "      <td>690100.0</td>\n",
       "      <td>652.200012</td>\n",
       "      <td>-2.176360</td>\n",
       "      <td>NaN</td>\n",
       "      <td>NaN</td>\n",
       "      <td>NaN</td>\n",
       "      <td>-0.022004</td>\n",
       "      <td>NaN</td>\n",
       "      <td>NaN</td>\n",
       "    </tr>\n",
       "    <tr>\n",
       "      <th>4</th>\n",
       "      <td>2003-01-08</td>\n",
       "      <td>660.390015</td>\n",
       "      <td>650.929993</td>\n",
       "      <td>655.969971</td>\n",
       "      <td>651.719971</td>\n",
       "      <td>604900.0</td>\n",
       "      <td>651.719971</td>\n",
       "      <td>-0.073603</td>\n",
       "      <td>NaN</td>\n",
       "      <td>NaN</td>\n",
       "      <td>NaN</td>\n",
       "      <td>-0.000736</td>\n",
       "      <td>NaN</td>\n",
       "      <td>NaN</td>\n",
       "    </tr>\n",
       "  </tbody>\n",
       "</table>\n",
       "</div>"
      ],
      "text/plain": [
       "         Date        High         Low        Open       Close     Volume  \\\n",
       "0  2003-01-02  637.099976  623.750000  633.030029  635.169983   742900.0   \n",
       "1  2003-01-03  662.400024  649.619995  651.590027  661.099976  1005800.0   \n",
       "2  2003-01-06  667.710022  657.609985  665.099976  666.710022   721800.0   \n",
       "3  2003-01-07  679.299988  652.140015  679.000000  652.200012   690100.0   \n",
       "4  2003-01-08  660.390015  650.929993  655.969971  651.719971   604900.0   \n",
       "\n",
       "    Adj Close    Change  STDEV  STDEV_log  HV  log_returns  STDEV_current  \\\n",
       "0  635.169983       NaN    NaN        NaN NaN          NaN            NaN   \n",
       "1  661.099976  4.082371    NaN        NaN NaN     0.040012            NaN   \n",
       "2  666.710022  0.848593    NaN        NaN NaN     0.008450            NaN   \n",
       "3  652.200012 -2.176360    NaN        NaN NaN    -0.022004            NaN   \n",
       "4  651.719971 -0.073603    NaN        NaN NaN    -0.000736            NaN   \n",
       "\n",
       "   STDEV_future  \n",
       "0           NaN  \n",
       "1           NaN  \n",
       "2           NaN  \n",
       "3           NaN  \n",
       "4           NaN  "
      ]
     },
     "execution_count": 17,
     "metadata": {},
     "output_type": "execute_result"
    }
   ],
   "source": [
    "df.head()"
   ]
  },
  {
   "cell_type": "markdown",
   "metadata": {
    "id": "c5enB1bM0APV"
   },
   "source": [
    "## **Train-Validation-Test Splits**"
   ]
  },
  {
   "cell_type": "code",
   "execution_count": 18,
   "metadata": {},
   "outputs": [
    {
     "data": {
      "text/html": [
       "<div>\n",
       "<style scoped>\n",
       "    .dataframe tbody tr th:only-of-type {\n",
       "        vertical-align: middle;\n",
       "    }\n",
       "\n",
       "    .dataframe tbody tr th {\n",
       "        vertical-align: top;\n",
       "    }\n",
       "\n",
       "    .dataframe thead th {\n",
       "        text-align: right;\n",
       "    }\n",
       "</style>\n",
       "<table border=\"1\" class=\"dataframe\">\n",
       "  <thead>\n",
       "    <tr style=\"text-align: right;\">\n",
       "      <th></th>\n",
       "      <th>High</th>\n",
       "      <th>Low</th>\n",
       "      <th>Open</th>\n",
       "      <th>Close</th>\n",
       "      <th>Volume</th>\n",
       "      <th>Adj Close</th>\n",
       "      <th>Change</th>\n",
       "      <th>STDEV</th>\n",
       "      <th>STDEV_log</th>\n",
       "      <th>HV</th>\n",
       "      <th>log_returns</th>\n",
       "      <th>STDEV_current</th>\n",
       "      <th>STDEV_future</th>\n",
       "    </tr>\n",
       "    <tr>\n",
       "      <th>Date</th>\n",
       "      <th></th>\n",
       "      <th></th>\n",
       "      <th></th>\n",
       "      <th></th>\n",
       "      <th></th>\n",
       "      <th></th>\n",
       "      <th></th>\n",
       "      <th></th>\n",
       "      <th></th>\n",
       "      <th></th>\n",
       "      <th></th>\n",
       "      <th></th>\n",
       "      <th></th>\n",
       "    </tr>\n",
       "  </thead>\n",
       "  <tbody>\n",
       "    <tr>\n",
       "      <th>2003-01-02</th>\n",
       "      <td>637.099976</td>\n",
       "      <td>623.750000</td>\n",
       "      <td>633.030029</td>\n",
       "      <td>635.169983</td>\n",
       "      <td>742900.0</td>\n",
       "      <td>635.169983</td>\n",
       "      <td>NaN</td>\n",
       "      <td>NaN</td>\n",
       "      <td>NaN</td>\n",
       "      <td>NaN</td>\n",
       "      <td>NaN</td>\n",
       "      <td>NaN</td>\n",
       "      <td>NaN</td>\n",
       "    </tr>\n",
       "    <tr>\n",
       "      <th>2003-01-03</th>\n",
       "      <td>662.400024</td>\n",
       "      <td>649.619995</td>\n",
       "      <td>651.590027</td>\n",
       "      <td>661.099976</td>\n",
       "      <td>1005800.0</td>\n",
       "      <td>661.099976</td>\n",
       "      <td>4.082371</td>\n",
       "      <td>NaN</td>\n",
       "      <td>NaN</td>\n",
       "      <td>NaN</td>\n",
       "      <td>0.040012</td>\n",
       "      <td>NaN</td>\n",
       "      <td>NaN</td>\n",
       "    </tr>\n",
       "    <tr>\n",
       "      <th>2003-01-06</th>\n",
       "      <td>667.710022</td>\n",
       "      <td>657.609985</td>\n",
       "      <td>665.099976</td>\n",
       "      <td>666.710022</td>\n",
       "      <td>721800.0</td>\n",
       "      <td>666.710022</td>\n",
       "      <td>0.848593</td>\n",
       "      <td>NaN</td>\n",
       "      <td>NaN</td>\n",
       "      <td>NaN</td>\n",
       "      <td>0.008450</td>\n",
       "      <td>NaN</td>\n",
       "      <td>NaN</td>\n",
       "    </tr>\n",
       "    <tr>\n",
       "      <th>2003-01-07</th>\n",
       "      <td>679.299988</td>\n",
       "      <td>652.140015</td>\n",
       "      <td>679.000000</td>\n",
       "      <td>652.200012</td>\n",
       "      <td>690100.0</td>\n",
       "      <td>652.200012</td>\n",
       "      <td>-2.176360</td>\n",
       "      <td>NaN</td>\n",
       "      <td>NaN</td>\n",
       "      <td>NaN</td>\n",
       "      <td>-0.022004</td>\n",
       "      <td>NaN</td>\n",
       "      <td>NaN</td>\n",
       "    </tr>\n",
       "    <tr>\n",
       "      <th>2003-01-08</th>\n",
       "      <td>660.390015</td>\n",
       "      <td>650.929993</td>\n",
       "      <td>655.969971</td>\n",
       "      <td>651.719971</td>\n",
       "      <td>604900.0</td>\n",
       "      <td>651.719971</td>\n",
       "      <td>-0.073603</td>\n",
       "      <td>NaN</td>\n",
       "      <td>NaN</td>\n",
       "      <td>NaN</td>\n",
       "      <td>-0.000736</td>\n",
       "      <td>NaN</td>\n",
       "      <td>NaN</td>\n",
       "    </tr>\n",
       "  </tbody>\n",
       "</table>\n",
       "</div>"
      ],
      "text/plain": [
       "                  High         Low        Open       Close     Volume  \\\n",
       "Date                                                                    \n",
       "2003-01-02  637.099976  623.750000  633.030029  635.169983   742900.0   \n",
       "2003-01-03  662.400024  649.619995  651.590027  661.099976  1005800.0   \n",
       "2003-01-06  667.710022  657.609985  665.099976  666.710022   721800.0   \n",
       "2003-01-07  679.299988  652.140015  679.000000  652.200012   690100.0   \n",
       "2003-01-08  660.390015  650.929993  655.969971  651.719971   604900.0   \n",
       "\n",
       "             Adj Close    Change  STDEV  STDEV_log  HV  log_returns  \\\n",
       "Date                                                                  \n",
       "2003-01-02  635.169983       NaN    NaN        NaN NaN          NaN   \n",
       "2003-01-03  661.099976  4.082371    NaN        NaN NaN     0.040012   \n",
       "2003-01-06  666.710022  0.848593    NaN        NaN NaN     0.008450   \n",
       "2003-01-07  652.200012 -2.176360    NaN        NaN NaN    -0.022004   \n",
       "2003-01-08  651.719971 -0.073603    NaN        NaN NaN    -0.000736   \n",
       "\n",
       "            STDEV_current  STDEV_future  \n",
       "Date                                     \n",
       "2003-01-02            NaN           NaN  \n",
       "2003-01-03            NaN           NaN  \n",
       "2003-01-06            NaN           NaN  \n",
       "2003-01-07            NaN           NaN  \n",
       "2003-01-08            NaN           NaN  "
      ]
     },
     "execution_count": 18,
     "metadata": {},
     "output_type": "execute_result"
    }
   ],
   "source": [
    "df = df.set_index('Date')\n",
    "df.head()"
   ]
  },
  {
   "cell_type": "code",
   "execution_count": 19,
   "metadata": {},
   "outputs": [],
   "source": [
    "df= df.loc['2003-09-29':'2021-09-28'] "
   ]
  },
  {
   "cell_type": "code",
   "execution_count": 20,
   "metadata": {},
   "outputs": [],
   "source": [
    "train_df = df.loc['2003-09-29':'2020-09-28']    # 2003-9-29 ~ 2020-9-28\n",
    "val_df = df.loc['2020-09-29':'2021-09-28']  # 2020-9-29 ~ 2021-9-28\n"
   ]
  },
  {
   "cell_type": "code",
   "execution_count": 21,
   "metadata": {},
   "outputs": [
    {
     "data": {
      "text/html": [
       "<div>\n",
       "<style scoped>\n",
       "    .dataframe tbody tr th:only-of-type {\n",
       "        vertical-align: middle;\n",
       "    }\n",
       "\n",
       "    .dataframe tbody tr th {\n",
       "        vertical-align: top;\n",
       "    }\n",
       "\n",
       "    .dataframe thead th {\n",
       "        text-align: right;\n",
       "    }\n",
       "</style>\n",
       "<table border=\"1\" class=\"dataframe\">\n",
       "  <thead>\n",
       "    <tr style=\"text-align: right;\">\n",
       "      <th></th>\n",
       "      <th>High</th>\n",
       "      <th>Low</th>\n",
       "      <th>Open</th>\n",
       "      <th>Close</th>\n",
       "      <th>Volume</th>\n",
       "      <th>Adj Close</th>\n",
       "      <th>Change</th>\n",
       "      <th>STDEV</th>\n",
       "      <th>STDEV_log</th>\n",
       "      <th>HV</th>\n",
       "      <th>log_returns</th>\n",
       "      <th>STDEV_current</th>\n",
       "      <th>STDEV_future</th>\n",
       "    </tr>\n",
       "    <tr>\n",
       "      <th>Date</th>\n",
       "      <th></th>\n",
       "      <th></th>\n",
       "      <th></th>\n",
       "      <th></th>\n",
       "      <th></th>\n",
       "      <th></th>\n",
       "      <th></th>\n",
       "      <th></th>\n",
       "      <th></th>\n",
       "      <th></th>\n",
       "      <th></th>\n",
       "      <th></th>\n",
       "      <th></th>\n",
       "    </tr>\n",
       "  </thead>\n",
       "  <tbody>\n",
       "    <tr>\n",
       "      <th>2021-09-17</th>\n",
       "      <td>3142.129883</td>\n",
       "      <td>3112.510010</td>\n",
       "      <td>3127.750000</td>\n",
       "      <td>3140.510010</td>\n",
       "      <td>587500.0</td>\n",
       "      <td>3140.510010</td>\n",
       "      <td>0.332895</td>\n",
       "      <td>32.004813</td>\n",
       "      <td>3.465886</td>\n",
       "      <td>12.974706</td>\n",
       "      <td>0.003323</td>\n",
       "      <td>32.004813</td>\n",
       "      <td>37.627612</td>\n",
       "    </tr>\n",
       "    <tr>\n",
       "      <th>2021-09-23</th>\n",
       "      <td>3131.629883</td>\n",
       "      <td>3107.979980</td>\n",
       "      <td>3123.639893</td>\n",
       "      <td>3127.580078</td>\n",
       "      <td>623000.0</td>\n",
       "      <td>3127.580078</td>\n",
       "      <td>-0.411714</td>\n",
       "      <td>29.257311</td>\n",
       "      <td>3.376130</td>\n",
       "      <td>12.715485</td>\n",
       "      <td>-0.004126</td>\n",
       "      <td>29.257311</td>\n",
       "      <td>41.436633</td>\n",
       "    </tr>\n",
       "    <tr>\n",
       "      <th>2021-09-24</th>\n",
       "      <td>3146.860107</td>\n",
       "      <td>3119.399902</td>\n",
       "      <td>3140.729980</td>\n",
       "      <td>3125.239990</td>\n",
       "      <td>752800.0</td>\n",
       "      <td>3125.239990</td>\n",
       "      <td>-0.074821</td>\n",
       "      <td>29.761260</td>\n",
       "      <td>3.393208</td>\n",
       "      <td>11.428295</td>\n",
       "      <td>-0.000748</td>\n",
       "      <td>29.761260</td>\n",
       "      <td>47.671655</td>\n",
       "    </tr>\n",
       "    <tr>\n",
       "      <th>2021-09-27</th>\n",
       "      <td>3146.350098</td>\n",
       "      <td>3119.260010</td>\n",
       "      <td>3121.699951</td>\n",
       "      <td>3133.639893</td>\n",
       "      <td>882600.0</td>\n",
       "      <td>3133.639893</td>\n",
       "      <td>0.268776</td>\n",
       "      <td>30.062048</td>\n",
       "      <td>3.403264</td>\n",
       "      <td>11.427495</td>\n",
       "      <td>0.002684</td>\n",
       "      <td>30.062048</td>\n",
       "      <td>58.059605</td>\n",
       "    </tr>\n",
       "    <tr>\n",
       "      <th>2021-09-28</th>\n",
       "      <td>3134.459961</td>\n",
       "      <td>3095.719971</td>\n",
       "      <td>3133.399902</td>\n",
       "      <td>3097.919922</td>\n",
       "      <td>894100.0</td>\n",
       "      <td>3097.919922</td>\n",
       "      <td>-1.139888</td>\n",
       "      <td>32.013210</td>\n",
       "      <td>3.466149</td>\n",
       "      <td>11.952561</td>\n",
       "      <td>-0.011464</td>\n",
       "      <td>32.013210</td>\n",
       "      <td>73.251357</td>\n",
       "    </tr>\n",
       "  </tbody>\n",
       "</table>\n",
       "</div>"
      ],
      "text/plain": [
       "                   High          Low         Open        Close    Volume  \\\n",
       "Date                                                                       \n",
       "2021-09-17  3142.129883  3112.510010  3127.750000  3140.510010  587500.0   \n",
       "2021-09-23  3131.629883  3107.979980  3123.639893  3127.580078  623000.0   \n",
       "2021-09-24  3146.860107  3119.399902  3140.729980  3125.239990  752800.0   \n",
       "2021-09-27  3146.350098  3119.260010  3121.699951  3133.639893  882600.0   \n",
       "2021-09-28  3134.459961  3095.719971  3133.399902  3097.919922  894100.0   \n",
       "\n",
       "              Adj Close    Change      STDEV  STDEV_log         HV  \\\n",
       "Date                                                                 \n",
       "2021-09-17  3140.510010  0.332895  32.004813   3.465886  12.974706   \n",
       "2021-09-23  3127.580078 -0.411714  29.257311   3.376130  12.715485   \n",
       "2021-09-24  3125.239990 -0.074821  29.761260   3.393208  11.428295   \n",
       "2021-09-27  3133.639893  0.268776  30.062048   3.403264  11.427495   \n",
       "2021-09-28  3097.919922 -1.139888  32.013210   3.466149  11.952561   \n",
       "\n",
       "            log_returns  STDEV_current  STDEV_future  \n",
       "Date                                                  \n",
       "2021-09-17     0.003323      32.004813     37.627612  \n",
       "2021-09-23    -0.004126      29.257311     41.436633  \n",
       "2021-09-24    -0.000748      29.761260     47.671655  \n",
       "2021-09-27     0.002684      30.062048     58.059605  \n",
       "2021-09-28    -0.011464      32.013210     73.251357  "
      ]
     },
     "execution_count": 21,
     "metadata": {},
     "output_type": "execute_result"
    }
   ],
   "source": [
    "val_df.tail()"
   ]
  },
  {
   "cell_type": "code",
   "execution_count": 22,
   "metadata": {},
   "outputs": [],
   "source": [
    "# GET CORRESPONDING DATETIME INDICES FOR EACH SET\n",
    "train_idx = train_df.index\n",
    "val_idx = val_df.index"
   ]
  },
  {
   "cell_type": "code",
   "execution_count": 23,
   "metadata": {},
   "outputs": [
    {
     "data": {
      "text/plain": [
       "Index(['2020-09-29', '2020-10-05', '2020-10-06', '2020-10-07', '2020-10-08',\n",
       "       '2020-10-12', '2020-10-13', '2020-10-14', '2020-10-15', '2020-10-16',\n",
       "       ...\n",
       "       '2021-09-10', '2021-09-13', '2021-09-14', '2021-09-15', '2021-09-16',\n",
       "       '2021-09-17', '2021-09-23', '2021-09-24', '2021-09-27', '2021-09-28'],\n",
       "      dtype='object', name='Date', length=245)"
      ]
     },
     "execution_count": 23,
     "metadata": {},
     "output_type": "execute_result"
    }
   ],
   "source": [
    "val_idx"
   ]
  },
  {
   "cell_type": "code",
   "execution_count": 24,
   "metadata": {
    "colab": {
     "base_uri": "https://localhost:8080/"
    },
    "id": "Ad0gRRC3zyNQ",
    "outputId": "444c81b9-f122-4d54-ea0a-966fd72d523b"
   },
   "outputs": [
    {
     "name": "stdout",
     "output_type": "stream",
     "text": [
      "TRAINING \tFrom: 2003-09-29 \tto: 2020-09-28 \t4199 days\n",
      "val \tFrom: 2020-09-29 \tto: 2021-09-28 \t245 days\n"
     ]
    }
   ],
   "source": [
    "print(f'TRAINING \\tFrom: {train_idx[0]} \\tto: {train_idx[-1]} \\t{len(train_idx)} days')\n",
    "print(f'val \\tFrom: {val_idx[0]} \\tto: {val_idx[-1]} \\t{len(val_idx)} days')"
   ]
  },
  {
   "cell_type": "code",
   "execution_count": 25,
   "metadata": {
    "id": "HGAZfREfzyLR",
    "tags": []
   },
   "outputs": [],
   "source": [
    "# SPLIT FORWARD VOLATILITY INTO 3 PARTS \n",
    "# (this would be the target)\n",
    "y_train = df.STDEV_future[train_idx]\n",
    "y_val = df.STDEV_future[val_idx]"
   ]
  },
  {
   "cell_type": "code",
   "execution_count": 26,
   "metadata": {
    "id": "IAsiNrwizyGv"
   },
   "outputs": [],
   "source": [
    "# SPLIT CURRENT DAILY REALIZED VOLATILITY INTO 3 PARTS \n",
    "# (this would be the input for baseline, random walk, and NN models)\n",
    "x_train = df.STDEV_current[train_idx]\n",
    "x_val = df.STDEV_current[val_idx]"
   ]
  },
  {
   "cell_type": "code",
   "execution_count": 27,
   "metadata": {
    "id": "1YMKqv1H11Gu"
   },
   "outputs": [],
   "source": [
    "# SPLIT RETURNS INTO 3 PARTS\n",
    "# (this would be the input for GARCH models)\n",
    "r_train = df.Change[train_idx]\n",
    "r_val = df.Change[val_idx]"
   ]
  },
  {
   "cell_type": "code",
   "execution_count": 28,
   "metadata": {
    "id": "GbuK9xtq2Cr0",
    "tags": []
   },
   "outputs": [],
   "source": [
    "# SPLIT LOG RETURNS INTO 3 PARTS\n",
    "# (mostly for visualization)\n",
    "lr_train = df.log_returns[train_idx]\n",
    "lr_val = df.log_returns[val_idx]"
   ]
  },
  {
   "cell_type": "code",
   "execution_count": 29,
   "metadata": {
    "colab": {
     "base_uri": "https://localhost:8080/"
    },
    "id": "F4rB0Xrn_KFj",
    "outputId": "17392379-bc10-4f98-c804-3fdc84e153fe"
   },
   "outputs": [
    {
     "data": {
      "text/plain": [
       "count    4199.000000\n",
       "mean       31.663741\n",
       "std        20.580288\n",
       "min         5.559850\n",
       "25%        19.312678\n",
       "50%        25.920366\n",
       "75%        37.090177\n",
       "max       209.305279\n",
       "Name: STDEV_future, dtype: float64"
      ]
     },
     "execution_count": 29,
     "metadata": {},
     "output_type": "execute_result"
    }
   ],
   "source": [
    "y_train.describe()"
   ]
  },
  {
   "cell_type": "code",
   "execution_count": 30,
   "metadata": {
    "colab": {
     "base_uri": "https://localhost:8080/"
    },
    "id": "kr4cLz1c_MxA",
    "outputId": "2c985a5c-85fc-4677-f257-66273825c781"
   },
   "outputs": [
    {
     "data": {
      "text/plain": [
       "count    4199.000000\n",
       "mean       31.638003\n",
       "std        20.573510\n",
       "min         5.559850\n",
       "25%        19.312678\n",
       "50%        25.917172\n",
       "75%        37.002922\n",
       "max       209.305279\n",
       "Name: STDEV_current, dtype: float64"
      ]
     },
     "execution_count": 30,
     "metadata": {},
     "output_type": "execute_result"
    }
   ],
   "source": [
    "x_train.describe()"
   ]
  },
  {
   "cell_type": "markdown",
   "metadata": {
    "id": "s8S7h4nS2MpQ"
   },
   "source": [
    "## **Data Preprocessing**\n",
    "\n",
    "### 1. Feature Normalization\n",
    "\n",
    " `MinMaxScaler`"
   ]
  },
  {
   "cell_type": "code",
   "execution_count": 31,
   "metadata": {
    "id": "1SIDQBN96WRc"
   },
   "outputs": [],
   "source": [
    "def transform_volatility_to_scaler(scaler, tf_series):\n",
    "    '''\n",
    "    Transform a series to a fitted scaler\n",
    "    '''\n",
    "    idx = tf_series.index\n",
    "    output = pd.Series(scaler.transform(tf_series.values.reshape(-1,1))[:,0],\n",
    "                       index=idx)\n",
    "    return output"
   ]
  },
  {
   "cell_type": "code",
   "execution_count": 32,
   "metadata": {
    "id": "-J_2CSXT2HJj"
   },
   "outputs": [],
   "source": [
    "# INITIATE SCALER\n",
    "scaler_vol = MinMaxScaler()\n",
    "\n",
    "# FIT SCALER TO CURRENT VOLATILITY IN TRAINING SET\n",
    "scaler_vol = scaler_vol.fit(x_train.values.reshape(-1,1))"
   ]
  },
  {
   "cell_type": "code",
   "execution_count": 33,
   "metadata": {
    "id": "WAWOM0YB5_r1"
   },
   "outputs": [],
   "source": [
    "# TRANSFORM TRAINING CURRENT & FUTURE VOLATILITIES \n",
    "x_train_scaled = transform_volatility_to_scaler(scaler_vol, x_train)\n",
    "y_train_scaled = transform_volatility_to_scaler(scaler_vol, y_train)\n",
    "\n",
    "# TRANSFORMING VALIDATION CURRENT & FUTURE VOLATILITIES\n",
    "x_val_scaled = transform_volatility_to_scaler(scaler_vol, x_val)\n",
    "y_val_scaled = transform_volatility_to_scaler(scaler_vol, y_val)"
   ]
  },
  {
   "cell_type": "code",
   "execution_count": 34,
   "metadata": {},
   "outputs": [
    {
     "data": {
      "text/plain": [
       "Date\n",
       "2003-09-29    0.091117\n",
       "2003-09-30    0.101550\n",
       "2003-10-01    0.106555\n",
       "2003-10-02    0.106332\n",
       "2003-10-06    0.103187\n",
       "                ...   \n",
       "2020-09-22    0.131163\n",
       "2020-09-23    0.139595\n",
       "2020-09-24    0.173262\n",
       "2020-09-25    0.198754\n",
       "2020-09-28    0.204185\n",
       "Length: 4199, dtype: float64"
      ]
     },
     "execution_count": 34,
     "metadata": {},
     "output_type": "execute_result"
    }
   ],
   "source": [
    "x_train_scaled"
   ]
  },
  {
   "cell_type": "code",
   "execution_count": 35,
   "metadata": {
    "colab": {
     "base_uri": "https://localhost:8080/",
     "height": 437
    },
    "id": "bW7ZDRoG-NfP",
    "outputId": "c21d795b-6482-46c7-9b71-b55ba6e35693"
   },
   "outputs": [
    {
     "data": {
      "image/png": "[encoded data removed]",
      "text/plain": [
       "<Figure size 720x432 with 1 Axes>"
      ]
     },
     "metadata": {},
     "output_type": "display_data"
    }
   ],
   "source": [
    "# PLOTTING VOLATILITIES AFTER SCALING\n",
    "with sns.axes_style(\"whitegrid\"):\n",
    "    fig, ax = plt.subplots(figsize=(10,6))\n",
    "    sns.distplot(x_train_scaled, norm_hist=True, fit=stats.norm, \n",
    "                 color='gray', \n",
    "                 bins=50, ax=ax, label='Current STDEV')\n",
    "    sns.distplot(y_train_scaled, norm_hist=True, fit=stats.norm,\n",
    "                 color='tab:blue', \n",
    "                 bins=50, ax=ax, label='Target STDEV')\n",
    "    plt.title('Training Volatilities Distribution after Scaling')\n",
    "    plt.legend()\n",
    "    plt.savefig(os.path.join(directory_to_img, \"vol_dist.png\"), \n",
    "                dpi=300, bbox_inches='tight')\n",
    "    plt.show();"
   ]
  },
  {
   "cell_type": "markdown",
   "metadata": {},
   "source": [
    "# Modeling\n"
   ]
  },
  {
   "cell_type": "code",
   "execution_count": 36,
   "metadata": {
    "id": "N5qjbV2f7Ywb"
   },
   "outputs": [],
   "source": [
    "# DEFINE ROOT MEAN SQUARED PERCENTAGE ERROR FUNCTION\n",
    "def RMSPE(y_true, y_pred):\n",
    "    \"\"\"\n",
    "    Compute Root Mean Squared Percentage Error between 2 arrays\n",
    "    \"\"\"\n",
    "    output = np.sqrt(np.mean(np.square((y_true - y_pred) / y_true)))\n",
    "    return output"
   ]
  },
  {
   "cell_type": "code",
   "execution_count": 37,
   "metadata": {
    "id": "MMRX3jDa7bor"
   },
   "outputs": [],
   "source": [
    "# DEFINE ROOT MEAN SQUARED ERROR FUNCTION\n",
    "def RMSE(y_true, y_pred):\n",
    "    \"\"\"\n",
    "    Compute Root Mean Squared Error between 2 arrays\n",
    "    \"\"\"\n",
    "    output = np.sqrt(mse(y_true, y_pred))\n",
    "    return output"
   ]
  },
  {
   "cell_type": "code",
   "execution_count": 38,
   "metadata": {
    "id": "IEMOYQS17bcL"
   },
   "outputs": [],
   "source": [
    "# INITIATE A DATAFRAME FOR MODEL PERFORMANCE TRACKING & COMPARISON \n",
    "perf_df = pd.DataFrame(columns=['Model', 'Validation STDEV RMSPE', 'Validation STDEV RMSE'])"
   ]
  },
  {
   "cell_type": "code",
   "execution_count": 39,
   "metadata": {
    "id": "qmSFghKh7iF5"
   },
   "outputs": [],
   "source": [
    "# A FUNCTION THAT LOGS MODEL NAME, RMSE AND RMPSE INTO perf_df\n",
    "# FOR EASY COMPARISON LATER\n",
    "def log_perf(y_true, y_pred, model_name):\n",
    "    perf_df.loc[len(perf_df.index)] = [model_name, \n",
    "                                       RMSPE(y_true, y_pred), \n",
    "                                       RMSE(y_true, y_pred),\n",
    "                                       ]\n",
    "    return perf_df"
   ]
  },
  {
   "cell_type": "code",
   "execution_count": 40,
   "metadata": {
    "id": "3ty13_XU3vOg"
   },
   "outputs": [],
   "source": [
    "# PLOTTING MODEL PREDICTIONS VS. TARGET VALUES\n",
    "# shift 이용해서 그래프 겹치게 만들 것\n",
    "# x축 눈금 간격 조정하는 URL\n",
    "# https://zephyrus1111.tistory.com/127\n",
    "def viz_model(y_true, y_pred, model_name):\n",
    "    sns.set_context(\"paper\", font_scale=1.7)\n",
    "    plt.rcParams[\"axes.grid\"] = False\n",
    "\n",
    "    with sns.axes_style(\"whitegrid\"):\n",
    "        plt.figure(figsize=(18,7))\n",
    "        plt.plot(x_val_scaled, color='gray',  ls=':',\n",
    "                label=f\"Scaled Current Daily STDEV\")\n",
    "        \n",
    "        plt.plot(y_true.shift(4), color='blue', lw=2, \n",
    "                label=f\"Target STDEV\")\n",
    "        plt.plot(y_pred, color='orange', lw=2.5,\n",
    "                label=f'Forecasted STDEV')\n",
    "        \n",
    "        # plt.plot(lr_val, color='gray', alpha=0.4,\n",
    "        #         label='Daily Log Returns')\n",
    "\n",
    "        plt.title(f'{model_name} \\non Validation Data')\n",
    "        plt.legend(loc='best', frameon=True)"
   ]
  },
  {
   "cell_type": "markdown",
   "metadata": {
    "id": "yHfBHkAA3Nw5"
   },
   "source": [
    "## 2. Baseline Models\n",
    "\n",
    "### 2.1. Mean Baseline\n",
    "\n",
    "the average current realized volatility of the whole training set as predictions everything."
   ]
  },
  {
   "cell_type": "code",
   "execution_count": 41,
   "metadata": {
    "colab": {
     "base_uri": "https://localhost:8080/"
    },
    "id": "8A9qy54y28RU",
    "outputId": "1ea80615-8a16-46aa-a75f-7360057315ea"
   },
   "outputs": [
    {
     "data": {
      "text/plain": [
       "0.22015609004188474"
      ]
     },
     "execution_count": 41,
     "metadata": {},
     "output_type": "execute_result"
    }
   ],
   "source": [
    "# CALCULATE THE MEAN OF SCALED TRAINING DATA\n",
    "mean_val_vol = x_val_scaled.mean()\n",
    "mean_val_vol"
   ]
  },
  {
   "cell_type": "code",
   "execution_count": 42,
   "metadata": {
    "id": "kWQC2B4z3tPx"
   },
   "outputs": [],
   "source": [
    "# CREATE SERIES OF PREDICTIONS FOR BASELINE MODEL ON VALIDATION SET\n",
    "baseline_preds = np.ones(len(val_idx)) * mean_val_vol\n",
    "baseline_preds = pd.Series(baseline_preds, index=lr_val.index)"
   ]
  },
  {
   "cell_type": "code",
   "execution_count": 43,
   "metadata": {
    "colab": {
     "base_uri": "https://localhost:8080/",
     "height": 491
    },
    "id": "VcRJIPU-31Z3",
    "outputId": "cd3c399c-5b0b-4a85-f00c-412d44e1f3ef"
   },
   "outputs": [
    {
     "data": {
      "image/png": "[encoded data removed]",
      "text/plain": [
       "<Figure size 1296x504 with 1 Axes>"
      ]
     },
     "metadata": {},
     "output_type": "display_data"
    }
   ],
   "source": [
    "viz_model(y_val_scaled, baseline_preds, \n",
    "          f\"Baseline Model Prediction\")\n",
    "plt.savefig(os.path.join(directory_to_img, 'baseline.jpg'), dpi=300, bbox_inches='tight')\n",
    "plt.show();"
   ]
  },
  {
   "cell_type": "code",
   "execution_count": 44,
   "metadata": {
    "colab": {
     "base_uri": "https://localhost:8080/",
     "height": 81
    },
    "id": "jgwt6snG35RG",
    "outputId": "19fb1d81-344a-4f9b-8565-b112fbec7078"
   },
   "outputs": [
    {
     "data": {
      "text/html": [
       "<div>\n",
       "<style scoped>\n",
       "    .dataframe tbody tr th:only-of-type {\n",
       "        vertical-align: middle;\n",
       "    }\n",
       "\n",
       "    .dataframe tbody tr th {\n",
       "        vertical-align: top;\n",
       "    }\n",
       "\n",
       "    .dataframe thead th {\n",
       "        text-align: right;\n",
       "    }\n",
       "</style>\n",
       "<table border=\"1\" class=\"dataframe\">\n",
       "  <thead>\n",
       "    <tr style=\"text-align: right;\">\n",
       "      <th></th>\n",
       "      <th>Model</th>\n",
       "      <th>Validation STDEV RMSPE</th>\n",
       "      <th>Validation STDEV RMSE</th>\n",
       "    </tr>\n",
       "  </thead>\n",
       "  <tbody>\n",
       "    <tr>\n",
       "      <th>0</th>\n",
       "      <td>Mean Baseline</td>\n",
       "      <td>0.731533</td>\n",
       "      <td>0.138895</td>\n",
       "    </tr>\n",
       "  </tbody>\n",
       "</table>\n",
       "</div>"
      ],
      "text/plain": [
       "           Model  Validation STDEV RMSPE  Validation STDEV RMSE\n",
       "0  Mean Baseline                0.731533               0.138895"
      ]
     },
     "execution_count": 44,
     "metadata": {},
     "output_type": "execute_result"
    }
   ],
   "source": [
    "log_perf(y_val_scaled, baseline_preds, 'Mean Baseline')"
   ]
  },
  {
   "cell_type": "markdown",
   "metadata": {
    "id": "ioq4D_GE7-OD"
   },
   "source": [
    "### 2.2. Random Walk Naive Forecasting"
   ]
  },
  {
   "cell_type": "code",
   "execution_count": 45,
   "metadata": {
    "id": "2bKLkdCR72Lk"
   },
   "outputs": [],
   "source": [
    "# USING THE PREVIOUS n_future DAY'S VOLATILITY\n",
    "random_walk_preds = x_val_scaled"
   ]
  },
  {
   "cell_type": "code",
   "execution_count": 46,
   "metadata": {
    "colab": {
     "base_uri": "https://localhost:8080/",
     "height": 491
    },
    "id": "StO_YqcK8nFs",
    "outputId": "8c3267c5-14e2-43cf-8e1f-bff536f450b7"
   },
   "outputs": [
    {
     "data": {
      "image/png": "[encoded data removed]",
      "text/plain": [
       "<Figure size 1296x504 with 1 Axes>"
      ]
     },
     "metadata": {},
     "output_type": "display_data"
    }
   ],
   "source": [
    "# PLOTTING PREDICTIONS VS. TARGET VALUES ON VALIDATION SET\n",
    "viz_model(y_val_scaled, random_walk_preds, 'Random Walk Naive Forecasting')\n",
    "plt.savefig(os.path.join(directory_to_img, 'naive.jpg'), \n",
    "            dpi=300, bbox_inches='tight')\n",
    "plt.show();"
   ]
  },
  {
   "cell_type": "code",
   "execution_count": 47,
   "metadata": {
    "colab": {
     "base_uri": "https://localhost:8080/",
     "height": 112
    },
    "id": "z8SayIgg8qLG",
    "outputId": "b7a58516-1f35-490c-e7c7-fe7ee112b029"
   },
   "outputs": [
    {
     "data": {
      "text/html": [
       "<div>\n",
       "<style scoped>\n",
       "    .dataframe tbody tr th:only-of-type {\n",
       "        vertical-align: middle;\n",
       "    }\n",
       "\n",
       "    .dataframe tbody tr th {\n",
       "        vertical-align: top;\n",
       "    }\n",
       "\n",
       "    .dataframe thead th {\n",
       "        text-align: right;\n",
       "    }\n",
       "</style>\n",
       "<table border=\"1\" class=\"dataframe\">\n",
       "  <thead>\n",
       "    <tr style=\"text-align: right;\">\n",
       "      <th></th>\n",
       "      <th>Model</th>\n",
       "      <th>Validation STDEV RMSPE</th>\n",
       "      <th>Validation STDEV RMSE</th>\n",
       "    </tr>\n",
       "  </thead>\n",
       "  <tbody>\n",
       "    <tr>\n",
       "      <th>0</th>\n",
       "      <td>Mean Baseline</td>\n",
       "      <td>0.731533</td>\n",
       "      <td>0.138895</td>\n",
       "    </tr>\n",
       "    <tr>\n",
       "      <th>1</th>\n",
       "      <td>Random Walk Naive Forecasting</td>\n",
       "      <td>0.326999</td>\n",
       "      <td>0.091715</td>\n",
       "    </tr>\n",
       "  </tbody>\n",
       "</table>\n",
       "</div>"
      ],
      "text/plain": [
       "                           Model  Validation STDEV RMSPE  \\\n",
       "0                  Mean Baseline                0.731533   \n",
       "1  Random Walk Naive Forecasting                0.326999   \n",
       "\n",
       "   Validation STDEV RMSE  \n",
       "0               0.138895  \n",
       "1               0.091715  "
      ]
     },
     "execution_count": 47,
     "metadata": {},
     "output_type": "execute_result"
    }
   ],
   "source": [
    "# APPEND METRICS OUTPUTS TO perf_df DATAFRAME\n",
    "log_perf(y_val_scaled, random_walk_preds, \n",
    "         'Random Walk Naive Forecasting')"
   ]
  },
  {
   "cell_type": "markdown",
   "metadata": {
    "id": "L8XGD_JpGHlg"
   },
   "source": [
    "### 3.1. Basic GARCH\n",
    "(Reference: https://arch.readthedocs.io/en/latest/univariate/univariate_volatility_modeling.html#Specifying-Common-Models)"
   ]
  },
  {
   "cell_type": "code",
   "execution_count": 48,
   "metadata": {
    "id": "Fo_FIXqc_zeK"
   },
   "outputs": [],
   "source": [
    "from arch import arch_model"
   ]
  },
  {
   "cell_type": "code",
   "execution_count": 49,
   "metadata": {},
   "outputs": [],
   "source": [
    "seed = 1234"
   ]
  },
  {
   "cell_type": "markdown",
   "metadata": {
    "id": "19iZhEKHAOh7"
   },
   "source": [
    "### GARCH(1,1)"
   ]
  },
  {
   "cell_type": "code",
   "execution_count": 50,
   "metadata": {
    "colab": {
     "base_uri": "https://localhost:8080/"
    },
    "id": "diyYUWFwALLN",
    "outputId": "28fb27d1-9908-4fed-c4a1-a5d13c04fee7"
   },
   "outputs": [
    {
     "name": "stdout",
     "output_type": "stream",
     "text": [
      "\n",
      "                     Constant Mean - GARCH Model Results                      \n",
      "==============================================================================\n",
      "Dep. Variable:                 Change   R-squared:                       0.000\n",
      "Mean Model:             Constant Mean   Adj. R-squared:                  0.000\n",
      "Vol Model:                      GARCH   Log-Likelihood:               -6134.01\n",
      "Distribution:                  Normal   AIC:                           12276.0\n",
      "Method:            Maximum Likelihood   BIC:                           12301.4\n",
      "                                        No. Observations:                 4199\n",
      "Date:                Wed, Nov 17 2021   Df Residuals:                     4198\n",
      "Time:                        11:16:47   Df Model:                            1\n",
      "                                 Mean Model                                 \n",
      "============================================================================\n",
      "                 coef    std err          t      P>|t|      95.0% Conf. Int.\n",
      "----------------------------------------------------------------------------\n",
      "mu             0.0521  1.435e-02      3.634  2.795e-04 [2.401e-02,8.026e-02]\n",
      "                              Volatility Model                              \n",
      "============================================================================\n",
      "                 coef    std err          t      P>|t|      95.0% Conf. Int.\n",
      "----------------------------------------------------------------------------\n",
      "omega          0.0174  4.820e-03      3.611  3.050e-04 [7.958e-03,2.685e-02]\n",
      "alpha[1]       0.0841  1.130e-02      7.438  1.021e-13   [6.193e-02,  0.106]\n",
      "beta[1]        0.9042  1.285e-02     70.383      0.000     [  0.879,  0.929]\n",
      "============================================================================\n",
      "\n",
      "Covariance estimator: robust\n"
     ]
    }
   ],
   "source": [
    "gm_1 = arch_model(r_train, vol='GARCH', p=1, q=1)\n",
    "result_1 = gm_1.fit(disp='off')\n",
    "print()\n",
    "print(result_1.summary())"
   ]
  },
  {
   "cell_type": "code",
   "execution_count": 51,
   "metadata": {
    "id": "QiU0_5tcNhEj"
   },
   "outputs": [],
   "source": [
    "def scale_tf_cond_vol(model_result):\n",
    "    '''\n",
    "    Scale & Transform Conditional Volatility \n",
    "    Estimated by GARCH Models\n",
    "    '''\n",
    "    # OBTAIN ESTIMATED CONDITIONAL VOLATILITY FROM MODEL RESULT\n",
    "    cond_vol = model_result.conditional_volatility\n",
    "\n",
    "    # INITIATE SCALER\n",
    "    scaler = MinMaxScaler()\n",
    "\n",
    "    # FIT SCALER TO MODEL'S ESTIMATED CONDITIONAL VOLATILITY\n",
    "    scaler = scaler.fit(cond_vol.values.reshape(-1,1))\n",
    "\n",
    "    scaled_cond_vol = transform_volatility_to_scaler(scaler, cond_vol)\n",
    "    return scaler, scaled_cond_vol"
   ]
  },
  {
   "cell_type": "code",
   "execution_count": 52,
   "metadata": {
    "id": "YOpRzvIROQIO"
   },
   "outputs": [],
   "source": [
    "# GET VOLATILITY SCALER & SCALED CONDITIONAL VOLATILITY FROM MODEL RESULT\n",
    "scaler_garch, scaled_cond_vol = scale_tf_cond_vol(result_1)"
   ]
  },
  {
   "cell_type": "code",
   "execution_count": 53,
   "metadata": {
    "id": "OVd2KL8pTRzY"
   },
   "outputs": [],
   "source": [
    "# VISUALIZE MODEL'S ESTIMATED CONDITIONAL VOLATILITY \n",
    "# WITH SCALED vol_current CALCULATED ABOVE\n",
    "def viz_cond_vol(cond_vol_series, model_name):\n",
    "    with sns.axes_style(\"darkgrid\"):\n",
    "        fig, ax = plt.subplots(figsize=(18,7))\n",
    "\n",
    "        ax.plot(x_train_scaled, color='blue', lw=2,\n",
    "                label=f'Scaled {INTERVAL_WINDOW}-Day Interval Daily STDEV')\n",
    "        ax.plot(cond_vol_series, color='orange', lw=2,\n",
    "                label=f'Scaled {model_name} Estimated STDEV')\n",
    "        ax.set_title('Training Set')\n",
    "        plt.legend()\n",
    "        plt.show();"
   ]
  },
  {
   "cell_type": "code",
   "execution_count": null,
   "metadata": {
    "colab": {
     "base_uri": "https://localhost:8080/",
     "height": 474
    },
    "id": "iO4IvvE5T2xl",
    "outputId": "ce54eb8d-2d24-4c75-f7e2-ccf379f9c74f"
   },
   "outputs": [],
   "source": [
    "viz_cond_vol(scaled_cond_vol, 'GARCH(1,1)')"
   ]
  },
  {
   "attachments": {
    "btc_vol_viz%20-%20expanding_page-0001.jpg": {
     "image/jpeg": "[encoded data removed]"
    }
   },
   "cell_type": "markdown",
   "metadata": {
    "id": "FCovjgXOBXD_"
   },
   "source": [
    "#### 3.1.1. Analytical-based Forecasting\n",
    "\n",
    "\n",
    "![btc_vol_viz%20-%20expanding_page-0001.jpg](attachment:btc_vol_viz%20-%20expanding_page-0001.jpg)"
   ]
  },
  {
   "cell_type": "code",
   "execution_count": null,
   "metadata": {
    "id": "YdMjziEsBKys"
   },
   "outputs": [],
   "source": [
    "# ONE STEP EXPANDING WINDOW FORECAST\n",
    "# INITIALIZING rolling_forecast\n",
    "rolling_forecasts = []\n",
    "idx = df.index\n",
    "\n",
    "# ITERATE OVER EACH TIME STEP IN THE VALIDATION SET\n",
    "for i in range(len(val_idx)):\n",
    "    # GET THE DATA AT ALL PREVIOUS TIME STEPS\n",
    "    idx = val_idx[i]\n",
    "    train = df['Change'][:idx]\n",
    "    \n",
    "    # TRAIN MODEL USING ALL PREVIOUS TIME STEPS' DATA\n",
    "    model = arch_model(train, vol='GARCH', p=1, q=1,\n",
    "                       dist='normal')\n",
    "    model_fit = model.fit(disp='off')\n",
    "\n",
    "    # MAKE PREDICTION n_future DAYS OUT\n",
    "    vaR = model_fit.forecast(horizon=n_future, \n",
    "                             reindex=False).variance.values\n",
    "    # GET THE SQRT OF AVERAGE n_future DAYS VARIANCE\n",
    "    pred = np.sqrt(np.mean(vaR))\n",
    "\n",
    "    # APPEND TO rolling_forecasts LIST\n",
    "    rolling_forecasts.append(pred)\n",
    "\n",
    "gm_1_preds = pd.Series(rolling_forecasts, index=val_idx)"
   ]
  },
  {
   "cell_type": "code",
   "execution_count": null,
   "metadata": {
    "id": "m9eeXBe3DbZf"
   },
   "outputs": [],
   "source": [
    "# TRANSFORM PREDICTIONS USING FITTED SCALER\n",
    "gm_1_preds_scaled = transform_volatility_to_scaler(scaler_garch, gm_1_preds)"
   ]
  },
  {
   "cell_type": "code",
   "execution_count": null,
   "metadata": {},
   "outputs": [],
   "source": [
    "gm_1_preds"
   ]
  },
  {
   "cell_type": "code",
   "execution_count": null,
   "metadata": {},
   "outputs": [],
   "source": [
    "gm_1_preds_scaled"
   ]
  },
  {
   "cell_type": "code",
   "execution_count": null,
   "metadata": {},
   "outputs": [],
   "source": [
    "y_val_scaled"
   ]
  },
  {
   "cell_type": "code",
   "execution_count": null,
   "metadata": {
    "colab": {
     "base_uri": "https://localhost:8080/",
     "height": 491
    },
    "id": "lCE1F9SyDi4N",
    "outputId": "201ff20e-db8e-41bb-aebd-563fc75b79c3"
   },
   "outputs": [],
   "source": [
    "# PLOTTING PREDICTIONS VS. TARGET VALUES ON VALIDATION SET\n",
    "viz_model(y_val_scaled, gm_1_preds_scaled, \n",
    "          'Analytical Forecasting GARCH(1,1) Constant Mean Normal Distribution')"
   ]
  },
  {
   "cell_type": "code",
   "execution_count": null,
   "metadata": {
    "colab": {
     "base_uri": "https://localhost:8080/",
     "height": 143
    },
    "id": "J9Uf4-m3DlyF",
    "outputId": "b5855590-4e6a-41a2-f1cd-b3a86baa81b4"
   },
   "outputs": [],
   "source": [
    "# APPEND METRICS OUTPUTS TO perf_df DATAFRAME\n",
    "log_perf(y_val_scaled, gm_1_preds_scaled, \n",
    "         'GARCH(1,1), Constant Mean, Normal Dist')"
   ]
  },
  {
   "cell_type": "markdown",
   "metadata": {
    "id": "dxG9grncD4nB"
   },
   "source": [
    "Next, I would inspect the estimated residuals from this first GARCH model."
   ]
  },
  {
   "cell_type": "code",
   "execution_count": null,
   "metadata": {
    "colab": {
     "base_uri": "https://localhost:8080/",
     "height": 404
    },
    "id": "oqlUujMjD1oL",
    "outputId": "735dff3a-62d2-47ab-a19f-4fb7264e1495"
   },
   "outputs": [],
   "source": [
    "# INSPECTING THE RESIDUALS\n",
    "gm_resid = result_1.resid\n",
    "gm_std = result_1.conditional_volatility\n",
    "\n",
    "# STANDARDIZING RESIDUALS\n",
    "gm_std_resid = gm_resid / gm_std\n",
    "\n",
    "# VISUALIZING STANDARDIZED RESIDUALS VS. A NORMAL DISTRIBUTION\n",
    "with sns.axes_style(\"darkgrid\"):\n",
    "    plt.figure(figsize=(10,6))\n",
    "    sns.distplot(gm_std_resid, norm_hist=True, fit=stats.norm, bins=50)\n",
    "    plt.legend(('Normal Distribution', 'Standardized Residuals'))\n",
    "    plt.show();"
   ]
  },
  {
   "cell_type": "markdown",
   "metadata": {
    "id": "PT1q_sPmGa79"
   },
   "source": [
    "### 3.2. GARCH Model with Asymmetric Shocks Responses\n",
    "#### GJR-GARCH : O=1추가\n",
    "- https://www.e-kjfs.org/upload/pdf/kjfs-2009-38-2-137.pdf\n",
    "- 조건부 분산이 과거 오차항의 방향성에 따른 비대칭적 효과도 잘 파악해낼 수 있도록 변동성 방정식을 모형화 함으로써, 비대칭 변동성반응을 포착해낼 수 있는 GJR-GARCH를 제시하였다."
   ]
  },
  {
   "cell_type": "markdown",
   "metadata": {},
   "source": [
    "## GJR-GARCH"
   ]
  },
  {
   "cell_type": "code",
   "execution_count": null,
   "metadata": {
    "colab": {
     "base_uri": "https://localhost:8080/"
    },
    "id": "xKJjLWh5EFDC",
    "outputId": "ea2b6897-35f2-4544-e251-af7df3442615"
   },
   "outputs": [],
   "source": [
    "# SET SEED FOR REPRODUCIBILITY\n",
    "np.random.seed(seed)\n",
    "\n",
    "gjr_gm = arch_model(r_train, p=1, q=1, o=1, \n",
    "                    vol='GARCH', dist='skewt')\n",
    "result_2 = gjr_gm.fit(disp='off')\n",
    "print(result_2.summary())"
   ]
  },
  {
   "cell_type": "markdown",
   "metadata": {
    "id": "SBp_3MAVGyYp"
   },
   "source": [
    "Log-likelihood has increased quite a bit. Let's see how the conditional volatility looks."
   ]
  },
  {
   "cell_type": "code",
   "execution_count": null,
   "metadata": {
    "id": "EP4S1i4lPO1g"
   },
   "outputs": [],
   "source": [
    "# GET VOLATILITY SCALER & SCALED CONDITIONAL VOLATILITY FROM MODEL RESULT\n",
    "scaler_gjr, scaled_gjr_cond_vol = scale_tf_cond_vol(result_2)"
   ]
  },
  {
   "cell_type": "code",
   "execution_count": null,
   "metadata": {
    "colab": {
     "base_uri": "https://localhost:8080/",
     "height": 474
    },
    "id": "7CbzjbaVG0To",
    "outputId": "5cba8d62-8873-45f9-a554-b4dd36a76e34"
   },
   "outputs": [],
   "source": [
    "viz_cond_vol(scaled_gjr_cond_vol, 'GJR-GARCH(1,1)')"
   ]
  },
  {
   "cell_type": "code",
   "execution_count": null,
   "metadata": {
    "id": "xR0_fb2hG2K4"
   },
   "outputs": [],
   "source": [
    "# ROLLING WINDOW FORECAST\n",
    "# INITIALIZING rolling_forecasts VALUES LIST\n",
    "rolling_forecasts = []\n",
    "\n",
    "# ITERATE OVER EACH TIME STEP IN THE VALIDATION SET\n",
    "for i in range(len(val_idx)):\n",
    "    # GET THE DATA AT ALL PREVIOUS TIME STEPS\n",
    "    idx = val_idx[i]\n",
    "    train = df['Change'][:idx].dropna()\n",
    "\n",
    "    # TRAIN MODEL USING ALL PREVIOUS TIME STEPS' DATA\n",
    "    model = arch_model(train, p=1, q=1, o=1, \n",
    "                       vol='GARCH', dist='skewt')\n",
    "    model_fit = model.fit(disp='off')\n",
    "\n",
    "    # MAKE PREDICTION n_future DAYS OUT\n",
    "    vaR = model_fit.forecast(horizon=n_future, \n",
    "                             reindex=False).variance.values\n",
    "    pred = np.sqrt(np.mean(vaR))\n",
    "\n",
    "    # APPEND TO rolling_forecasts LIST\n",
    "    rolling_forecasts.append(pred)\n",
    "\n",
    "gjr_1_preds = pd.DataFrame(rolling_forecasts, index=val_idx)"
   ]
  },
  {
   "cell_type": "code",
   "execution_count": null,
   "metadata": {
    "id": "bOXVVgEtG_fv"
   },
   "outputs": [],
   "source": [
    "# TRANSFORM PREDICTIONS USING FITTED SCALER\n",
    "gjr_1_preds_scaled = transform_volatility_to_scaler(scaler_gjr, gjr_1_preds)"
   ]
  },
  {
   "cell_type": "code",
   "execution_count": null,
   "metadata": {
    "colab": {
     "base_uri": "https://localhost:8080/",
     "height": 491
    },
    "id": "WE2CIbUWHR8F",
    "outputId": "55ebe3cc-fe43-40ce-97ed-a2701df89ce7"
   },
   "outputs": [],
   "source": [
    "# PLOTTING PREDICTIONS VS. TARGET VALUES ON VALIDATION SET\n",
    "viz_model(y_val_scaled, gjr_1_preds_scaled, \n",
    "          \"Analytical Forecasting GJR-GARCH(1,1,1) with Constant Mean Skewed Student's T Distribution\")"
   ]
  },
  {
   "cell_type": "code",
   "execution_count": null,
   "metadata": {
    "colab": {
     "base_uri": "https://localhost:8080/",
     "height": 175
    },
    "id": "Q6-V0aTNHZQc",
    "outputId": "f8e0b6de-c170-4060-cf08-3356f07417b7"
   },
   "outputs": [],
   "source": [
    "# APPEND METRICS OUTPUTS TO perf_df DATAFRAME\n",
    "log_perf(y_val_scaled, gjr_1_preds_scaled, \n",
    "         \"Analytical GJR-GARCH(1,1,1), Constant Mean, Skewt Dist\")"
   ]
  },
  {
   "cell_type": "markdown",
   "metadata": {
    "id": "wyO0R3IFH5jG"
   },
   "source": [
    "### 3.3. TARCH\n",
    "#### 3.3.1. Bootstrap-based Forecasting for TARCH(1,1)\n",
    "#### 3.3.2. Simulation-based Forecasting for TARCH(1,1)\n",
    "There's another member in the GARCH family called **TARCH**, which is short for **Threshold Autoregressive Conditional Heteroskedasticity** (and also known as **ZARCH**). TARCH models the volatility using absolute values (instead of squares). This model is specified using `power=1.0` since the default power, `2.0`, corresponds to variance processes that evolve in squares. In addition, asymmetric impact is also incorporated into the GARCH framework by using a dummy variable\n",
    "\n",
    "The volatility process in a TARCH(1,1) model is given by:\n",
    "\n",
    "\\begin{align*}\n",
    "\\sigma_{t} = \\omega + \\alpha|\\epsilon_{t-1}| + \\gamma|\\epsilon_{t-1}|I_{[\\epsilon_{t-1}<0]} + \\beta\\sigma_{t-1}\n",
    "\\end{align*}"
   ]
  },
  {
   "cell_type": "code",
   "execution_count": null,
   "metadata": {
    "colab": {
     "base_uri": "https://localhost:8080/"
    },
    "id": "nGY9tBQaHd0z",
    "outputId": "280fd78d-2070-4118-dd20-34f41c944694"
   },
   "outputs": [],
   "source": [
    "# SET SEED FOR REPRODUCIBILITY\n",
    "np.random.seed(seed)\n",
    "\n",
    "t_gm = arch_model(r_train, p=1, o=1, q=1, power=1.0,\n",
    "                  dist='skewt')\n",
    "result_3 = t_gm.fit(disp='off')\n",
    "print(result_3.summary())"
   ]
  },
  {
   "cell_type": "code",
   "execution_count": null,
   "metadata": {
    "id": "ApXJwsTwQka8"
   },
   "outputs": [],
   "source": [
    "# GET VOLATILITY SCALER & SCALED CONDITIONAL VOLATILITY FROM MODEL RESULT\n",
    "scaler_tarch, scaled_tarch_cond_vol = scale_tf_cond_vol(result_3)"
   ]
  },
  {
   "cell_type": "code",
   "execution_count": null,
   "metadata": {
    "colab": {
     "base_uri": "https://localhost:8080/",
     "height": 474
    },
    "id": "kV35baxdIvqz",
    "outputId": "aa8e7407-5665-4875-9b85-738ed8149522"
   },
   "outputs": [],
   "source": [
    "viz_cond_vol(scaled_tarch_cond_vol, 'TARCH(1,1)')"
   ]
  },
  {
   "cell_type": "markdown",
   "metadata": {
    "id": "_I4TeGgfI9wx"
   },
   "source": [
    "#### 3.3.1. Bootstrap-based Forecasting for TARCH(1,1)\n",
    "\n",
    "(Reference: https://arch.readthedocs.io/en/latest/univariate/univariate_volatility_forecasting.html#TARCH)\n",
    "\n",
    "TARCH models do not have closed-form (analytical) forecasts for horizons larger than 1, and so simulation or bootstrapping is required.\n",
    "\n",
    "Bootstrap-based forecasts are nearly identical to simulation-based forecasts except that the values used to simulate the process are computed from historical data rather than using the assumed distribution of the residuals. Forecasts produced using this method also return an `ARCHModelForecastSimulation` containing information about the simulated paths."
   ]
  },
  {
   "cell_type": "code",
   "execution_count": null,
   "metadata": {
    "id": "wZ-WDwtoIxgz"
   },
   "outputs": [],
   "source": [
    "# ROLLING WINDOW FORECAST\n",
    "# INITIALIZING rolling_forecasts VALUES LIST\n",
    "rolling_forecasts = []\n",
    "\n",
    "# ITERATE OVER EACH TIME STEP IN THE VALIDATION SET\n",
    "for i in range(len(val_idx)):\n",
    "    # GET THE DATA AT ALL PREVIOUS TIME STEPS\n",
    "    idx = val_idx[i]\n",
    "    train = df['Change'][:idx].dropna()\n",
    "\n",
    "    # TRAIN MODEL USING ALL PREVIOUS TIME STEPS' DATA\n",
    "    model = arch_model(train, p=1, o=1, q=1, power=1.0,\n",
    "                       dist='skewt')\n",
    "    model_fit = model.fit(disp='off')\n",
    "\n",
    "    # MAKE PREDICTION n_future DAYS OUT\n",
    "    # USING BOOTSTRAP METHOD\n",
    "    vaR = model_fit.forecast(horizon=n_future, \n",
    "                             reindex=False,\n",
    "                             method='bootstrap').variance.values\n",
    "    pred = np.sqrt(np.mean(vaR))\n",
    "\n",
    "    # APPEND TO rolling_forecasts LIST\n",
    "    rolling_forecasts.append(pred)\n",
    "\n",
    "t_bs_preds = pd.DataFrame(rolling_forecasts, index=val_idx)"
   ]
  },
  {
   "cell_type": "markdown",
   "metadata": {
    "id": "SEhevVl6J18i"
   },
   "source": [
    "TARCH one-step forecasting seems to produce some convergence issues. I still want to look at the results though."
   ]
  },
  {
   "cell_type": "code",
   "execution_count": null,
   "metadata": {
    "id": "87ZixG4IJO0a"
   },
   "outputs": [],
   "source": [
    "# TRANSFORM PREDICTIONS USING FITTED SCALER\n",
    "t_bs_preds_scaled = transform_volatility_to_scaler(scaler_tarch, t_bs_preds)"
   ]
  },
  {
   "cell_type": "code",
   "execution_count": null,
   "metadata": {
    "colab": {
     "base_uri": "https://localhost:8080/",
     "height": 491
    },
    "id": "lWKriliwKAmd",
    "outputId": "e24ea306-d512-4035-aadd-559a7c9ac810"
   },
   "outputs": [],
   "source": [
    "# PLOTTING PREDICTIONS VS. TARGET VALUES ON VALIDATION SET\n",
    "viz_model(y_val_scaled, t_bs_preds_scaled, \n",
    "          \"Bootstrap TARCH(1,1) Constant Mean Skewed Student's T Distribution\")"
   ]
  },
  {
   "cell_type": "markdown",
   "metadata": {
    "id": "2nbayL7iLfMh"
   },
   "source": [
    "The forecasted volatility does seem to catch up with the target better than all other models did. This is promising..."
   ]
  },
  {
   "cell_type": "code",
   "execution_count": null,
   "metadata": {
    "colab": {
     "base_uri": "https://localhost:8080/",
     "height": 206
    },
    "id": "haf24qkpKNZs",
    "outputId": "ad638c96-29e1-459a-e7d7-f573e55ba7a6"
   },
   "outputs": [],
   "source": [
    "# APPEND METRICS OUTPUTS TO perf_df DATAFRAME\n",
    "log_perf(y_val_scaled, t_bs_preds_scaled, \n",
    "         \"Bootstrap TARCH(1,1), Constant Mean, Skewt Dist\")"
   ]
  },
  {
   "cell_type": "markdown",
   "metadata": {
    "id": "TRfaSzxQKtNB"
   },
   "source": [
    "Bootstrap TARCH(1,1) has managed to achieve a lower Validation RMSPE than Naive Forecasting!!! Even RMSE is only a bit higher, but so far this has been the best model among all GARCH family members that I've found. \n",
    "\n",
    "(I'm not liking the ConvergenceWarning messages that TARCH produces during training though...)"
   ]
  },
  {
   "cell_type": "markdown",
   "metadata": {
    "id": "97VYrj2PLppw"
   },
   "source": [
    "#### 3.3.2. Simulation-based Forecasting for TARCH(1,1)"
   ]
  },
  {
   "cell_type": "code",
   "execution_count": null,
   "metadata": {
    "id": "ltADraefKqOf"
   },
   "outputs": [],
   "source": [
    "# ROLLING WINDOW FORECAST\n",
    "# INITIALIZING rolling_forecasts VALUES LIST\n",
    "rolling_forecasts = []\n",
    "\n",
    "# ITERATE OVER EACH TIME STEP IN THE VALIDATION SET\n",
    "for i in range(len(val_idx)):\n",
    "    # GET THE DATA AT ALL PREVIOUS TIME STEPS\n",
    "    idx = val_idx[i]\n",
    "    train = df['Change'][:idx].dropna()\n",
    "\n",
    "    # TRAIN MODEL USING ALL PREVIOUS TIME STEPS' DATA\n",
    "    model = arch_model(train, p=1, o=1, q=1, power=1.0,\n",
    "                       dist='skewt')\n",
    "    model_fit = model.fit(disp='off')\n",
    "\n",
    "    # MAKE PREDICTION n_future DAYS OUT\n",
    "    # USING SIMULATION METHOD\n",
    "    vaR = model_fit.forecast(horizon=n_future, \n",
    "                             reindex=False,\n",
    "                             method='simulation').variance.values\n",
    "    pred = np.sqrt(np.mean(vaR))\n",
    "\n",
    "    # APPEND TO rolling_forecasts LIST\n",
    "    rolling_forecasts.append(pred)\n",
    "\n",
    "t_sm_preds = pd.DataFrame(rolling_forecasts, index=val_idx)"
   ]
  },
  {
   "cell_type": "code",
   "execution_count": null,
   "metadata": {
    "id": "zcqYeBh6OyOA"
   },
   "outputs": [],
   "source": [
    "# TRANSFORM PREDICTIONS USING FITTED SCALER\n",
    "t_sm_preds_scaled = transform_volatility_to_scaler(scaler_tarch, t_sm_preds)"
   ]
  },
  {
   "cell_type": "code",
   "execution_count": null,
   "metadata": {
    "colab": {
     "base_uri": "https://localhost:8080/",
     "height": 491
    },
    "id": "cgflSZf2PKia",
    "outputId": "45ba312a-e76a-4c27-e84a-9b51e96293dd"
   },
   "outputs": [],
   "source": [
    "# PLOTTING PREDICTIONS VS. TARGET VALUES ON VALIDATION SET\n",
    "viz_model(y_val_scaled, t_sm_preds_scaled, \n",
    "          \"Simulation TARCH(1,1) Constant Mean Skewed Student's T Distribution\")"
   ]
  },
  {
   "cell_type": "code",
   "execution_count": null,
   "metadata": {
    "colab": {
     "base_uri": "https://localhost:8080/",
     "height": 238
    },
    "id": "PPIqEnjPPPB6",
    "outputId": "b1f24401-6804-499a-baa6-2630fcf3abd0"
   },
   "outputs": [],
   "source": [
    "# APPEND METRICS OUTPUTS TO perf_df DATAFRAME\n",
    "log_perf(y_val_scaled, t_sm_preds_scaled, \n",
    "         \"Simulation TARCH(1,1), Constant Mean, Skewt Dist\")"
   ]
  },
  {
   "cell_type": "markdown",
   "metadata": {
    "id": "vq1vXZh_PWlA"
   },
   "source": [
    "Among the 2 forecasting methods, bootstrap seems to perform better on TARCH(1,1). It's probably because bootstrap uses historical data in to compute rather than using the assumed distribution of the residuals."
   ]
  },
  {
   "cell_type": "markdown",
   "metadata": {
    "id": "zpspxKjgPwIr"
   },
   "source": [
    "#### 3.3.3. Hyperparameter Tuning for TARCH\n",
    "\n",
    "Next, I'll create a range of values for p, q and o from 0 to 3 (inclusive), and then record each's model's performance on unseen data using RMSE. Since `p` cannot take a value of `0`, I'll eliminate that from the list of permutations. "
   ]
  },
  {
   "cell_type": "code",
   "execution_count": null,
   "metadata": {
    "id": "Sw3roU7LPU25"
   },
   "outputs": [],
   "source": [
    "import itertools"
   ]
  },
  {
   "cell_type": "code",
   "execution_count": null,
   "metadata": {
    "id": "z7nfbzUVP-OF"
   },
   "outputs": [],
   "source": [
    "pqo_s = [p for p in itertools.product(range(3), repeat=3)]\n",
    "# ELIMINATE PERMUTATIONS WITH p = 0\n",
    "pqo_s = list(filter(lambda x: x[0] != 0, pqo_s))\n",
    "# RMSE ON VALIDATION SET\n",
    "rmse_s = []\n",
    "# LOG LIKELIHOOD\n",
    "LLH_s = []\n",
    "# BIC\n",
    "bic_s = []\n",
    "\n",
    "for p, q, o in pqo_s:\n",
    "    # SET SEED FOR REPRODUCIBILITY\n",
    "    np.random.seed(seed)\n",
    "\n",
    "    # FITTING TARCH(p,q,o) MODEL\n",
    "    t_gm_pqo = arch_model(r_train, p=p, q=q, o=o, power=1.0,\n",
    "                          dist='skewt')\n",
    "    t_gm_pqo_fit = t_gm_pqo.fit(disp='off')\n",
    "\n",
    "    # SCALING CONDITIONAL VOLATILITY OUTPUTS\n",
    "    sclr = MinMaxScaler()\n",
    "    cond_vol_arr = t_gm_pqo_fit.conditional_volatility.values.reshape(-1,1)\n",
    "\n",
    "    # FITTING SCALER TO MODEL'S CONDITIONAL VOLATILITY\n",
    "    sclr = sclr.fit(cond_vol_arr)\n",
    "\n",
    "    # INITIALIZING rolling_forecasts VALUES LIST\n",
    "    rolling_forecasts = []\n",
    "\n",
    "    # ITERATE OVER EACH TIME STEP IN THE VALIDATION SET\n",
    "    for i in range(len(r_val)):\n",
    "        # GET THE DATA AT ALL PREVIOUS TIME STEPS\n",
    "        idx = val_idx[i]\n",
    "        train = df['Change'][:idx].dropna()\n",
    "\n",
    "        # TRAIN MODEL USING ALL PREVIOUS TIME STEPS' DATA\n",
    "        model = arch_model(train, p=p, q=q, o=o, power=1.0,\n",
    "                          dist='skewt')\n",
    "        model_fit = model.fit(disp='off')\n",
    "\n",
    "        # MAKE PREDICTION\n",
    "        vaR = model_fit.forecast(horizon=n_future, \n",
    "                                 reindex=False,\n",
    "                                 method='bootstrap').variance.values\n",
    "        pred = np.sqrt(np.mean(vaR))\n",
    "\n",
    "        # APPEND TO rolling_forecasts LIST\n",
    "        rolling_forecasts.append(pred)\n",
    "\n",
    "    # CONVERT PREDICTIONS\n",
    "    y_preds = pd.Series(rolling_forecasts, index=val_idx)\n",
    "\n",
    "    # TRANSFORM PREDICTIONS USING FITTED SCALER FOR SPECIFIC p/q/o SET\n",
    "    y_preds_scaled = transform_volatility_to_scaler(sclr, y_preds)\n",
    "    \n",
    "    # APPENDING PERFORMANCE METRICS TO LISTS\n",
    "    LLH_s.append(t_gm_pqo_fit.loglikelihood)\n",
    "    bic_s.append(t_gm_pqo_fit.bic)\n",
    "    rmse_s.append(RMSE(y_val_scaled, y_preds_scaled))"
   ]
  },
  {
   "cell_type": "code",
   "execution_count": null,
   "metadata": {
    "colab": {
     "base_uri": "https://localhost:8080/"
    },
    "id": "hCycs4QwQwSw",
    "outputId": "672a6d46-6ef3-4e16-d17b-4be393acc3d9"
   },
   "outputs": [],
   "source": [
    "# GET THE VALUES OF p/q/o THAT YIELDS LOWEST VALIDATION RMSE\n",
    "print(f'Lowest RMSE is {np.min(rmse_s)} using TARCH{pqo_s[np.argmin(rmse_s)]}')"
   ]
  },
  {
   "cell_type": "code",
   "execution_count": null,
   "metadata": {
    "id": "tdGNWQmHXGgZ"
   },
   "outputs": [],
   "source": [
    "best_pqo = pqo_s[np.argmin(rmse_s)]"
   ]
  },
  {
   "cell_type": "code",
   "execution_count": null,
   "metadata": {
    "colab": {
     "base_uri": "https://localhost:8080/",
     "height": 860
    },
    "id": "y7cpPIXsfPqd",
    "outputId": "840a1432-e378-4261-d60c-671af80da444"
   },
   "outputs": [],
   "source": [
    "with sns.axes_style(\"darkgrid\"):\n",
    "    fig, (ax1, ax2, ax3) = plt.subplots(nrows=3, ncols=1, figsize=(10,12))\n",
    "    xlabels = [str(v) for v in pqo_s]\n",
    "\n",
    "    ax1.plot(xlabels, LLH_s)\n",
    "    ax1.set_xticklabels(xlabels, rotation=90)\n",
    "    ax1.vlines(x=str(best_pqo), \n",
    "               ls='--', color='orange',\n",
    "               ymin=np.min(LLH_s), ymax=np.max(LLH_s))\n",
    "    ax1.set_ylabel('Log-Likelihood')\n",
    "\n",
    "    ax2.plot(xlabels, bic_s)\n",
    "    ax2.set_xticklabels(xlabels, rotation=90)\n",
    "    ax2.vlines(x=str(best_pqo), \n",
    "               ls='--', color='orange',\n",
    "               ymin=np.min(bic_s), ymax=np.max(bic_s))\n",
    "    ax2.set_ylabel('BIC')\n",
    "\n",
    "    ax3.plot(xlabels, rmse_s)\n",
    "    ax3.set_xticklabels(xlabels, rotation=90)\n",
    "    ax3.vlines(x=str(best_pqo), \n",
    "               ls='--', color='orange',\n",
    "               ymin=np.min(rmse_s), ymax=np.max(rmse_s))\n",
    "    ax3.set_ylabel('Validation RMSE')\n",
    "\n",
    "    ax1.set_title('Performance Metrics of TARCH Models Using Various p/q/o Values')\n",
    "    plt.tight_layout()\n",
    "    plt.show();    "
   ]
  },
  {
   "cell_type": "markdown",
   "metadata": {
    "id": "hv0rJnRVgDhA"
   },
   "source": [
    "\n",
    "### 3.4. Final GARCH Model - TARCH(1,1,0)\n",
    "\n",
    "I will train another sets of TARCH model using the p/q/o values found from tuning above."
   ]
  },
  {
   "cell_type": "code",
   "execution_count": null,
   "metadata": {
    "colab": {
     "base_uri": "https://localhost:8080/"
    },
    "id": "m0BlITtXf8qh",
    "outputId": "85c8da3b-6560-43a7-a02c-750a7d8e3b30"
   },
   "outputs": [],
   "source": [
    "# SET SEED FOR REPRODUCIBILITY\n",
    "np.random.seed(seed)\n",
    "\n",
    "t_120 = arch_model(r_train, p=best_pqo[0], q=best_pqo[1], o=best_pqo[2], power=1.0,\n",
    "                  dist='skewt')\n",
    "result_4 = t_120.fit(disp='off')\n",
    "print(result_4.summary())"
   ]
  },
  {
   "cell_type": "code",
   "execution_count": null,
   "metadata": {
    "id": "O97Wn2LQgh1c"
   },
   "outputs": [],
   "source": [
    "# GET VOLATILITY SCALER & SCALED CONDITIONAL VOLATILITY FROM MODEL RESULT\n",
    "scaler_tarch_120, scaled_tarch_120_cond_vol = scale_tf_cond_vol(result_4)"
   ]
  },
  {
   "cell_type": "code",
   "execution_count": null,
   "metadata": {
    "colab": {
     "base_uri": "https://localhost:8080/",
     "height": 474
    },
    "id": "Bpm4SKjGh9Ln",
    "outputId": "67fcaae8-e7f9-4fe0-8c5a-e91736896405"
   },
   "outputs": [],
   "source": [
    "viz_cond_vol(scaled_tarch_120_cond_vol, f'TARCH{best_pqo[:2]}')"
   ]
  },
  {
   "cell_type": "code",
   "execution_count": null,
   "metadata": {
    "id": "TxTWsyGLhWMP"
   },
   "outputs": [],
   "source": [
    "# ROLLING WINDOW FORECAST\n",
    "# INITIALIZING rolling_forecasts VALUES LIST\n",
    "rolling_forecasts = []\n",
    "\n",
    "# ITERATE OVER EACH TIME STEP IN THE VALIDATION SET\n",
    "for i in range(len(val_idx)):\n",
    "    # GET THE DATA AT ALL PREVIOUS TIME STEPS\n",
    "    idx = val_idx[i]\n",
    "    train = df['Change'][:idx].dropna()\n",
    "\n",
    "    # TRAIN MODEL USING ALL PREVIOUS TIME STEPS' DATA\n",
    "    model = arch_model(train, p=best_pqo[0], q=best_pqo[1], o=best_pqo[2], power=1.0,\n",
    "                       dist='skewt')\n",
    "    model_fit = model.fit(disp='off')\n",
    "\n",
    "    # MAKE PREDICTION n_future DAYS OUT\n",
    "    # USING BOOTSTRAP METHOD\n",
    "    vaR = model_fit.forecast(horizon=n_future, \n",
    "                             reindex=False,\n",
    "                             method='bootstrap').variance.values\n",
    "    pred = np.sqrt(np.mean(vaR))\n",
    "\n",
    "    # APPEND TO rolling_forecasts LIST\n",
    "    rolling_forecasts.append(pred)\n",
    "\n",
    "t_bs_120_preds = pd.DataFrame(rolling_forecasts, index=val_idx)"
   ]
  },
  {
   "cell_type": "code",
   "execution_count": null,
   "metadata": {},
   "outputs": [],
   "source": [
    "# TRANSFORM PREDICTIONS USING FITTED SCALER\n",
    "t_120_preds_scaled = transform_volatility_to_scaler(scaler_tarch_120, t_bs_120_preds)"
   ]
  },
  {
   "cell_type": "code",
   "execution_count": null,
   "metadata": {},
   "outputs": [],
   "source": [
    "# PLOTTING PREDICTIONS VS. TARGET VALUES ON VALIDATION SET\n",
    "viz_model(y_val_scaled, t_120_preds_scaled, \n",
    "          f\"Bootstrap TARCH{best_pqo} Constant Mean Skewed Student's T Distribution\")\n",
    "plt.savefig(os.path.join(directory_to_img, 'best_tarch_preds.png'), \n",
    "            dpi=300, bbox_inches='tight')\n",
    "plt.show();"
   ]
  },
  {
   "cell_type": "code",
   "execution_count": null,
   "metadata": {},
   "outputs": [],
   "source": [
    "# APPEND METRICS OUTPUTS TO perf_df DATAFRAME\n",
    "log_perf(y_val_scaled, t_120_preds_scaled, \n",
    "         f\"Bootstrap TARCH{best_pqo}, Constant Mean, Skewt Dist\")"
   ]
  },
  {
   "cell_type": "code",
   "execution_count": null,
   "metadata": {},
   "outputs": [],
   "source": []
  },
  {
   "cell_type": "code",
   "execution_count": null,
   "metadata": {},
   "outputs": [],
   "source": []
  },
  {
   "cell_type": "code",
   "execution_count": null,
   "metadata": {},
   "outputs": [],
   "source": []
  }
 ],
 "metadata": {
  "colab": {
   "collapsed_sections": [],
   "name": "report_notebook (3).ipynb",
   "provenance": []
  },
  "kernelspec": {
   "display_name": "Python 3 (ipykernel)",
   "language": "python",
   "name": "python3"
  },
  "language_info": {
   "codemirror_mode": {
    "name": "ipython",
    "version": 3
   },
   "file_extension": ".py",
   "mimetype": "text/x-python",
   "name": "python",
   "nbconvert_exporter": "python",
   "pygments_lexer": "ipython3",
   "version": "3.8.8"
  }
 },
 "nbformat": 4,
 "nbformat_minor": 4
}
