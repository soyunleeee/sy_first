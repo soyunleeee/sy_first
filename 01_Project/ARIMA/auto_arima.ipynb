{
 "cells": [
  {
   "cell_type": "code",
   "execution_count": 43,
   "metadata": {},
   "outputs": [],
   "source": [
    "import pandas as pd\n",
    "\n",
    "from pmdarima.arima import auto_arima"
   ]
  },
  {
   "cell_type": "code",
   "execution_count": 44,
   "metadata": {},
   "outputs": [],
   "source": [
    "df= pd.read_csv('./cac.csv')"
   ]
  },
  {
   "cell_type": "code",
   "execution_count": 45,
   "metadata": {},
   "outputs": [],
   "source": [
    "df['STDEV']= df['Close'].rolling(window=20).std(ddof=0)"
   ]
  },
  {
   "cell_type": "code",
   "execution_count": 46,
   "metadata": {},
   "outputs": [],
   "source": [
    "stdev_df= df[['Date', 'STDEV']]"
   ]
  },
  {
   "cell_type": "code",
   "execution_count": 47,
   "metadata": {},
   "outputs": [],
   "source": [
    "stdev_df = stdev_df.set_index('Date')"
   ]
  },
  {
   "cell_type": "code",
   "execution_count": 48,
   "metadata": {},
   "outputs": [],
   "source": [
    "stdev_df= stdev_df.dropna()"
   ]
  },
  {
   "cell_type": "code",
   "execution_count": 49,
   "metadata": {},
   "outputs": [
    {
     "name": "stdout",
     "output_type": "stream",
     "text": [
      " ARIMA(0,1,0)(0,0,0)[0] intercept   : AIC=33294.567, Time=0.06 sec\n",
      " ARIMA(0,1,1)(0,0,0)[0] intercept   : AIC=30913.554, Time=0.37 sec\n",
      " ARIMA(0,1,2)(0,0,0)[0] intercept   : AIC=30087.024, Time=0.53 sec\n",
      " ARIMA(0,1,3)(0,0,0)[0] intercept   : AIC=29772.884, Time=0.75 sec\n",
      " ARIMA(0,1,4)(0,0,0)[0] intercept   : AIC=29621.272, Time=0.96 sec\n",
      " ARIMA(1,1,0)(0,0,0)[0] intercept   : AIC=29529.832, Time=0.18 sec\n",
      " ARIMA(1,1,1)(0,0,0)[0] intercept   : AIC=29531.793, Time=0.30 sec\n",
      " ARIMA(1,1,2)(0,0,0)[0] intercept   : AIC=29527.276, Time=0.55 sec\n",
      " ARIMA(1,1,3)(0,0,0)[0] intercept   : AIC=29524.630, Time=0.96 sec\n",
      " ARIMA(1,1,4)(0,0,0)[0] intercept   : AIC=29521.233, Time=1.27 sec\n",
      " ARIMA(2,1,0)(0,0,0)[0] intercept   : AIC=29531.789, Time=0.30 sec\n",
      " ARIMA(2,1,1)(0,0,0)[0] intercept   : AIC=29531.765, Time=2.36 sec\n",
      " ARIMA(2,1,2)(0,0,0)[0] intercept   : AIC=inf, Time=3.32 sec\n",
      " ARIMA(2,1,3)(0,0,0)[0] intercept   : AIC=inf, Time=4.55 sec\n",
      " ARIMA(3,1,0)(0,0,0)[0] intercept   : AIC=29526.361, Time=0.38 sec\n",
      " ARIMA(3,1,1)(0,0,0)[0] intercept   : AIC=inf, Time=2.81 sec\n",
      " ARIMA(3,1,2)(0,0,0)[0] intercept   : AIC=inf, Time=4.61 sec\n",
      " ARIMA(4,1,0)(0,0,0)[0] intercept   : AIC=29521.836, Time=0.37 sec\n",
      " ARIMA(4,1,1)(0,0,0)[0] intercept   : AIC=inf, Time=4.56 sec\n",
      "\n",
      "Best model:  ARIMA(1,1,4)(0,0,0)[0] intercept\n",
      "Total fit time: 29.219 seconds\n"
     ]
    },
    {
     "data": {
      "text/plain": [
       "ARIMA(order=(1, 1, 4), scoring_args={}, suppress_warnings=True)"
      ]
     },
     "execution_count": 49,
     "metadata": {},
     "output_type": "execute_result"
    }
   ],
   "source": [
    "model_arima= auto_arima(stdev_df,trace=True, error_action='ignore', start_p=1,start_q=1,max_p=4,max_q=4,suppress_warnings=True,stepwise=False,seasonal=False)\n",
    "model_arima.fit(stdev_df)"
   ]
  }
 ],
 "metadata": {
  "interpreter": {
   "hash": "c3102799280f1ed23787b1be8e33b065cea14d14e60df4daed798ef8bab0b32c"
  },
  "kernelspec": {
   "display_name": "Python 3.8.8 64-bit ('venv': venv)",
   "language": "python",
   "name": "python3"
  },
  "language_info": {
   "codemirror_mode": {
    "name": "ipython",
    "version": 3
   },
   "file_extension": ".py",
   "mimetype": "text/x-python",
   "name": "python",
   "nbconvert_exporter": "python",
   "pygments_lexer": "ipython3",
   "version": "3.8.8"
  },
  "orig_nbformat": 4
 },
 "nbformat": 4,
 "nbformat_minor": 2
}
