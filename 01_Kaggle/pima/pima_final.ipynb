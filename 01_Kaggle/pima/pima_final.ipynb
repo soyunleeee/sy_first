{
 "cells": [
  {
   "cell_type": "markdown",
   "id": "702b2390-7da2-44ea-afb4-2de56a820df0",
   "metadata": {},
   "source": [
    "<img src='https://storage.googleapis.com/kaggle-datasets-images/228/482/a520351269b547c89afe790820a1087e/dataset-cover.jpeg'>\n",
    "* ref : kaggle  : https://www.kaggle.com/uciml/pima-indians-diabetes-database\n",
    "    \n",
    "    "
   ]
  },
  {
   "cell_type": "markdown",
   "id": "153a7f74-bb43-4f08-b9d5-4f79aa39982d",
   "metadata": {},
   "source": [
    "## Pima Indians Diabetes Database\n",
    "* Predict the onset of diabetes based on diagnostic measures\n",
    "* UCI Machine Learning - updated 5 years ago (Version 1)"
   ]
  },
  {
   "cell_type": "code",
   "execution_count": 1,
   "id": "f5c49949-987b-4d54-a29a-b725ce77be39",
   "metadata": {},
   "outputs": [],
   "source": [
    "import numpy as np\n",
    "import pandas as pd\n",
    "from sklearn.model_selection import train_test_split\n",
    "from sklearn.tree import DecisionTreeClassifier\n",
    "from sklearn.ensemble import RandomForestClassifier\n",
    "import matplotlib.pyplot as plt\n",
    "import seaborn as sns\n",
    "\n",
    "from sklearn.metrics import accuracy_score, f1_score, precision_score , recall_score, confusion_matrix, classification_report\n",
    "from sklearn.metrics import precision_recall_curve, plot_precision_recall_curve\n",
    "from sklearn.metrics import roc_curve, plot_roc_curve, roc_auc_score\n",
    "from sklearn.preprocessing import Binarizer\n",
    "import lightgbm as lgbm\n",
    "from sklearn.model_selection import GridSearchCV\n",
    "from scipy import interp\n",
    "import warnings\n",
    "warnings.filterwarnings(action='ignore')\n",
    "\n",
    "sns.set()"
   ]
  },
  {
   "cell_type": "markdown",
   "id": "b090d144-d478-4bd3-9f3b-0dbd6f9fc712",
   "metadata": {
    "tags": []
   },
   "source": [
    "# 데이터 로드"
   ]
  },
  {
   "cell_type": "code",
   "execution_count": 2,
   "id": "f5be2225-3d4b-4343-8b1b-fe5f30221737",
   "metadata": {},
   "outputs": [],
   "source": [
    "df = pd.read_csv(\"./diabetes.csv\")"
   ]
  },
  {
   "cell_type": "code",
   "execution_count": 3,
   "id": "c171121b-6533-4b2e-b20a-2ae63e1c6df5",
   "metadata": {},
   "outputs": [
    {
     "name": "stdout",
     "output_type": "stream",
     "text": [
      "<class 'pandas.core.frame.DataFrame'>\n",
      "RangeIndex: 768 entries, 0 to 767\n",
      "Data columns (total 9 columns):\n",
      " #   Column                    Non-Null Count  Dtype  \n",
      "---  ------                    --------------  -----  \n",
      " 0   Pregnancies               768 non-null    int64  \n",
      " 1   Glucose                   768 non-null    int64  \n",
      " 2   BloodPressure             768 non-null    int64  \n",
      " 3   SkinThickness             768 non-null    int64  \n",
      " 4   Insulin                   768 non-null    int64  \n",
      " 5   BMI                       768 non-null    float64\n",
      " 6   DiabetesPedigreeFunction  768 non-null    float64\n",
      " 7   Age                       768 non-null    int64  \n",
      " 8   Outcome                   768 non-null    int64  \n",
      "dtypes: float64(2), int64(7)\n",
      "memory usage: 54.1 KB\n"
     ]
    }
   ],
   "source": [
    "df.info()"
   ]
  },
  {
   "cell_type": "code",
   "execution_count": 4,
   "id": "09cbb4eb-d423-4bcb-91fd-f7b1ba0b2dd0",
   "metadata": {},
   "outputs": [
    {
     "data": {
      "text/plain": [
       "(768, 9)"
      ]
     },
     "execution_count": 4,
     "metadata": {},
     "output_type": "execute_result"
    }
   ],
   "source": [
    "df.shape"
   ]
  },
  {
   "cell_type": "code",
   "execution_count": 5,
   "id": "9443546c-cd26-492f-9f3d-47aa5c8e49e5",
   "metadata": {
    "tags": []
   },
   "outputs": [
    {
     "data": {
      "text/html": [
       "<div>\n",
       "<style scoped>\n",
       "    .dataframe tbody tr th:only-of-type {\n",
       "        vertical-align: middle;\n",
       "    }\n",
       "\n",
       "    .dataframe tbody tr th {\n",
       "        vertical-align: top;\n",
       "    }\n",
       "\n",
       "    .dataframe thead th {\n",
       "        text-align: right;\n",
       "    }\n",
       "</style>\n",
       "<table border=\"1\" class=\"dataframe\">\n",
       "  <thead>\n",
       "    <tr style=\"text-align: right;\">\n",
       "      <th></th>\n",
       "      <th>Pregnancies</th>\n",
       "      <th>Glucose</th>\n",
       "      <th>BloodPressure</th>\n",
       "      <th>SkinThickness</th>\n",
       "      <th>Insulin</th>\n",
       "      <th>BMI</th>\n",
       "      <th>DiabetesPedigreeFunction</th>\n",
       "      <th>Age</th>\n",
       "      <th>Outcome</th>\n",
       "    </tr>\n",
       "  </thead>\n",
       "  <tbody>\n",
       "    <tr>\n",
       "      <th>0</th>\n",
       "      <td>6</td>\n",
       "      <td>148</td>\n",
       "      <td>72</td>\n",
       "      <td>35</td>\n",
       "      <td>0</td>\n",
       "      <td>33.6</td>\n",
       "      <td>0.627</td>\n",
       "      <td>50</td>\n",
       "      <td>1</td>\n",
       "    </tr>\n",
       "    <tr>\n",
       "      <th>1</th>\n",
       "      <td>1</td>\n",
       "      <td>85</td>\n",
       "      <td>66</td>\n",
       "      <td>29</td>\n",
       "      <td>0</td>\n",
       "      <td>26.6</td>\n",
       "      <td>0.351</td>\n",
       "      <td>31</td>\n",
       "      <td>0</td>\n",
       "    </tr>\n",
       "    <tr>\n",
       "      <th>2</th>\n",
       "      <td>8</td>\n",
       "      <td>183</td>\n",
       "      <td>64</td>\n",
       "      <td>0</td>\n",
       "      <td>0</td>\n",
       "      <td>23.3</td>\n",
       "      <td>0.672</td>\n",
       "      <td>32</td>\n",
       "      <td>1</td>\n",
       "    </tr>\n",
       "    <tr>\n",
       "      <th>3</th>\n",
       "      <td>1</td>\n",
       "      <td>89</td>\n",
       "      <td>66</td>\n",
       "      <td>23</td>\n",
       "      <td>94</td>\n",
       "      <td>28.1</td>\n",
       "      <td>0.167</td>\n",
       "      <td>21</td>\n",
       "      <td>0</td>\n",
       "    </tr>\n",
       "    <tr>\n",
       "      <th>4</th>\n",
       "      <td>0</td>\n",
       "      <td>137</td>\n",
       "      <td>40</td>\n",
       "      <td>35</td>\n",
       "      <td>168</td>\n",
       "      <td>43.1</td>\n",
       "      <td>2.288</td>\n",
       "      <td>33</td>\n",
       "      <td>1</td>\n",
       "    </tr>\n",
       "  </tbody>\n",
       "</table>\n",
       "</div>"
      ],
      "text/plain": [
       "   Pregnancies  Glucose  BloodPressure  SkinThickness  Insulin   BMI  \\\n",
       "0            6      148             72             35        0  33.6   \n",
       "1            1       85             66             29        0  26.6   \n",
       "2            8      183             64              0        0  23.3   \n",
       "3            1       89             66             23       94  28.1   \n",
       "4            0      137             40             35      168  43.1   \n",
       "\n",
       "   DiabetesPedigreeFunction  Age  Outcome  \n",
       "0                     0.627   50        1  \n",
       "1                     0.351   31        0  \n",
       "2                     0.672   32        1  \n",
       "3                     0.167   21        0  \n",
       "4                     2.288   33        1  "
      ]
     },
     "execution_count": 5,
     "metadata": {},
     "output_type": "execute_result"
    }
   ],
   "source": [
    "df.head()"
   ]
  },
  {
   "cell_type": "code",
   "execution_count": 6,
   "id": "2f6051ad-235a-48ce-975f-3e8a844be429",
   "metadata": {},
   "outputs": [
    {
     "data": {
      "image/png": "[encoded data removed]",
      "text/plain": [
       "<Figure size 432x288 with 9 Axes>"
      ]
     },
     "metadata": {},
     "output_type": "display_data"
    }
   ],
   "source": [
    "sns.set()\n",
    "df.hist()\n",
    "plt.show()"
   ]
  },
  {
   "cell_type": "markdown",
   "id": "e0f874a4-11e4-44c4-bb83-705d1a108daf",
   "metadata": {
    "tags": []
   },
   "source": [
    "# 우선 점수부터 보자\n",
    "---------------------------------------\n",
    "* 1. str X  \n",
    "* 2. nan"
   ]
  },
  {
   "cell_type": "code",
   "execution_count": 7,
   "id": "922db8fb-7a98-4e62-ba49-4b3d34cc19de",
   "metadata": {},
   "outputs": [
    {
     "name": "stdout",
     "output_type": "stream",
     "text": [
      "0.7597402597402597\n",
      "0.6262626262626263\n"
     ]
    }
   ],
   "source": [
    "y = df['Outcome']\n",
    "X = df.drop('Outcome', axis=1)\n",
    "#----------------------------------------------------------------------------------------------\n",
    "X_train, X_test, y_train, y_test = train_test_split(X, y,test_size=0.2,random_state=1414,shuffle=False)\n",
    "#----------------------------------------------------------------------------------------------\n",
    "model = RandomForestClassifier(n_estimators=500,random_state=1414)  #0.7597402597402597\n",
    "#----------------------------------------------------------------------------------------------\n",
    "model.fit(X_train, y_train)\n",
    "pred = model.predict(X_test)\n",
    "print(accuracy_score(y_test, pred))\n",
    "print(f1_score(y_test, pred))"
   ]
  },
  {
   "cell_type": "markdown",
   "id": "9c29eb79-7ecd-4474-812d-0adf5675a316",
   "metadata": {
    "tags": []
   },
   "source": [
    "# 공통함수 "
   ]
  },
  {
   "cell_type": "code",
   "execution_count": 8,
   "id": "6c2c5b89-b85a-4696-98ec-42e286bd61c8",
   "metadata": {},
   "outputs": [],
   "source": [
    "def my_eval_chart(y_val, proba): \n",
    "    # --------------- 양성 평가를 위한 차트 : precision_recall_curv() -------------------    \n",
    "    # plot_precision_recall_curve(model, 문제지2, 정답지2)\n",
    "    precisions, recalls, ths = precision_recall_curve(y_val, proba[:, 1])\n",
    "    plt.title(\"precision recall curv %0.4f\"% f1)\n",
    "    # plt.title(f\"precision recall curv %0.4f\" % f1)\n",
    "    plt.xlabel(\"threadhold\")\n",
    "    plt.ylabel(\"value\")\n",
    "    plt.plot(ths, precisions[:ths.shape[0]], \"b\", label=\"precision\")\n",
    "    plt.plot(ths, recalls[:ths.shape[0]], \"r\", linestyle='--', label=\"recall\")\n",
    "    plt.grid()\n",
    "    plt.legend()\n",
    "    plt.show()\n",
    "\n",
    "    # --------------- 양성 평가를 위한 차트 : roc_auc_score(), roc_curve() -------------------\n",
    "    auc_score = roc_auc_score(y_val, proba[:, 1])\n",
    "\n",
    "    fprs, tprs, ths = roc_curve(y_val, proba[:, 1])\n",
    "    plt.title(\"roc curv %0.4f\" % auc_score)\n",
    "    # plt.title(f\"precision recall curv %0.4f\" % f1)\n",
    "    plt.xlabel(\"FPR(1-specificity)\")\n",
    "    plt.ylabel(\"TPR\")\n",
    "    plt.grid()\n",
    "    plt.plot(fprs, tprs, \"b\")\n",
    "    plt.plot([0, 1], [0, 1], '--', color='black')\n",
    "    plt.show()\n",
    "\n",
    "            \n",
    "def my_eval(y_val, pred, proba, chart=False):  #avg='binary'\n",
    "    accuracy = accuracy_score(y_val, pred)\n",
    "    precision = precision_score(y_val, pred)\n",
    "    recall = recall_score(y_val, pred)\n",
    "    f1 = f1_score(y_val, pred)\n",
    "    matrix = confusion_matrix(y_val, pred)\n",
    "    print(f'정확도{accuracy:.4f} 정밀도:{precision:.4f} 재현률:{recall:.4f} f1:{f1:.4f}')\n",
    "    print(\"오차행렬\\n\", matrix)\n",
    "    # cls_report = classification_report(y_val, pred)    \n",
    "    if chart==True:\n",
    "        my_eval_chart(y_val, proba)\n",
    "\n",
    "def fit_score(X_train, X_test, y_train, y_test, model=None, test_size=0.2):\n",
    "    model.fit(X_train, y_train)\n",
    "    pred = model.predict(X_test)                                        #[0  1]              th:0.5\n",
    "    proba = model.predict_proba(X_test)                                 #[[.7 >.3] [.4  <.6]]  --> [0  1]\n",
    "    my_eval(y_test, pred, proba) \n"
   ]
  },
  {
   "cell_type": "markdown",
   "id": "375d25a1-e88c-4915-8ac0-ca3f2e674b59",
   "metadata": {
    "tags": []
   },
   "source": [
    "# EDA & Engineering\n",
    "* 이상치 데이터 : 0 \n",
    "* 왜도(skew) : 정규분포화, 표준화"
   ]
  },
  {
   "cell_type": "code",
   "execution_count": 9,
   "id": "5efd00d5-1701-45be-9195-f7c5092f8a34",
   "metadata": {},
   "outputs": [
    {
     "data": {
      "text/plain": [
       "Index(['Pregnancies', 'Glucose', 'BloodPressure', 'SkinThickness', 'Insulin',\n",
       "       'BMI', 'DiabetesPedigreeFunction', 'Age', 'Outcome'],\n",
       "      dtype='object')"
      ]
     },
     "execution_count": 9,
     "metadata": {},
     "output_type": "execute_result"
    }
   ],
   "source": [
    "df.columns"
   ]
  },
  {
   "cell_type": "code",
   "execution_count": 10,
   "id": "2c3c14c9-7fd5-4248-bcda-d66b4656606d",
   "metadata": {},
   "outputs": [],
   "source": [
    "zero_cols = ['Glucose', 'BloodPressure', 'SkinThickness', 'Insulin','BMI']"
   ]
  },
  {
   "cell_type": "code",
   "execution_count": 11,
   "id": "0982c16f-62e9-4036-8f76-4e6bef008dba",
   "metadata": {},
   "outputs": [
    {
     "name": "stdout",
     "output_type": "stream",
     "text": [
      "5 763\n"
     ]
    }
   ],
   "source": [
    "#df[Glucose==0][Glucose]\n",
    "print(df[df['Glucose']==0]['Glucose'].count(), df[df['Glucose']!=0]['Glucose'].count())"
   ]
  },
  {
   "cell_type": "code",
   "execution_count": 12,
   "id": "cf418985-d255-4f4b-911a-0058daee7dbe",
   "metadata": {},
   "outputs": [
    {
     "name": "stdout",
     "output_type": "stream",
     "text": [
      "Glucose 0.6510416666666667 99.34895833333334\n",
      "BloodPressure 4.557291666666666 95.44270833333334\n",
      "SkinThickness 29.557291666666668 70.44270833333334\n",
      "Insulin 48.69791666666667 51.302083333333336\n",
      "BMI 1.4322916666666665 98.56770833333334\n"
     ]
    }
   ],
   "source": [
    "for COL in zero_cols:\n",
    "    print(COL, df[df[COL]==0][COL].count()/df.shape[0]*100, df[df[COL]!=0][COL].count()/df.shape[0]*100) "
   ]
  },
  {
   "cell_type": "markdown",
   "id": "1af61f4b-df59-4d04-8214-26928f64d68f",
   "metadata": {},
   "source": [
    "####  zero_cols : (0/1   &  나이구간별) 평균 --> 0 채우기"
   ]
  },
  {
   "cell_type": "code",
   "execution_count": 13,
   "id": "4c6bad01-8b05-4d1b-9ce8-41724a1e3ac7",
   "metadata": {},
   "outputs": [
    {
     "data": {
      "text/plain": [
       "69.10546875"
      ]
     },
     "execution_count": 13,
     "metadata": {},
     "output_type": "execute_result"
    }
   ],
   "source": [
    "df['BloodPressure'].mean()"
   ]
  },
  {
   "cell_type": "code",
   "execution_count": 14,
   "id": "a67bc34e-a04b-4058-8d1d-1507698302e7",
   "metadata": {},
   "outputs": [
    {
     "data": {
      "text/plain": [
       "count    768.000000\n",
       "mean      33.240885\n",
       "std       11.760232\n",
       "min       21.000000\n",
       "25%       24.000000\n",
       "50%       29.000000\n",
       "75%       41.000000\n",
       "max       81.000000\n",
       "Name: Age, dtype: float64"
      ]
     },
     "execution_count": 14,
     "metadata": {},
     "output_type": "execute_result"
    }
   ],
   "source": [
    "df['Age'].describe() "
   ]
  },
  {
   "cell_type": "code",
   "execution_count": 15,
   "id": "eccdf9d0-d28c-4036-ac67-be84fa2ce660",
   "metadata": {},
   "outputs": [
    {
     "data": {
      "text/plain": [
       "[4, 3, 1, 2]\n",
       "Categories (6, int64): [0 < 1 < 2 < 3 < 4 < 5]"
      ]
     },
     "execution_count": 15,
     "metadata": {},
     "output_type": "execute_result"
    }
   ],
   "source": [
    "df['Age'].describe() \n",
    "#min : 21 ~ max : 81   --> 20 30 40 50 60 70 80 \n",
    "# df['Age_band'] = df['Age']//20\n",
    "\n",
    "df['Age_band'] = pd.cut(df['Age'], bins=[0,20,24,29,41,82,150],labels=[0,1,2,3,4,5] )\n",
    "df[['Age','Age_band']].head() \n",
    "df['Age_band'].unique()"
   ]
  },
  {
   "cell_type": "code",
   "execution_count": 16,
   "id": "bca8f944-2558-44c0-8823-cb4806964690",
   "metadata": {},
   "outputs": [
    {
     "data": {
      "text/plain": [
       "Outcome  Age_band\n",
       "0        0                 NaN\n",
       "         1           66.839779\n",
       "         2           70.203390\n",
       "         3           73.574257\n",
       "         4           77.518519\n",
       "         5                 NaN\n",
       "1        0                 NaN\n",
       "         1           71.586207\n",
       "         2           71.250000\n",
       "         3           74.149425\n",
       "         4           79.931818\n",
       "         5                 NaN\n",
       "Name: BloodPressure, dtype: float64"
      ]
     },
     "execution_count": 16,
     "metadata": {},
     "output_type": "execute_result"
    }
   ],
   "source": [
    "# select Age_band, avg(BloodPressure) from emp group by Age_band;\n",
    "# df[조건].groupby()[컬럼]  Glucose\n",
    "df[df['BloodPressure']>0].groupby(['Outcome','Age_band'])['BloodPressure'].mean()"
   ]
  },
  {
   "cell_type": "code",
   "execution_count": 17,
   "id": "1a80ba66-c637-4572-8f53-900ceb46427c",
   "metadata": {},
   "outputs": [
    {
     "name": "stdout",
     "output_type": "stream",
     "text": [
      "Glucose Outcome  Age_band\n",
      "0        0                  NaN\n",
      "         1           107.594595\n",
      "         2           107.451613\n",
      "         3           113.133333\n",
      "         4           119.060241\n",
      "         5                  NaN\n",
      "1        0                  NaN\n",
      "         1           141.064516\n",
      "         2           140.396226\n",
      "         3           143.430108\n",
      "         4           142.741573\n",
      "         5                  NaN\n",
      "Name: Glucose, dtype: float64\n",
      "------------------------------\n",
      "BloodPressure Outcome  Age_band\n",
      "0        0                 NaN\n",
      "         1           66.839779\n",
      "         2           70.203390\n",
      "         3           73.574257\n",
      "         4           77.518519\n",
      "         5                 NaN\n",
      "1        0                 NaN\n",
      "         1           71.586207\n",
      "         2           71.250000\n",
      "         3           74.149425\n",
      "         4           79.931818\n",
      "         5                 NaN\n",
      "Name: BloodPressure, dtype: float64\n",
      "------------------------------\n",
      "SkinThickness Outcome  Age_band\n",
      "0        0                 NaN\n",
      "         1           24.801242\n",
      "         2           28.200000\n",
      "         3           30.275362\n",
      "         4           29.560976\n",
      "         5                 NaN\n",
      "1        0                 NaN\n",
      "         1           33.818182\n",
      "         2           35.425000\n",
      "         3           31.933333\n",
      "         4           32.120690\n",
      "         5                 NaN\n",
      "Name: SkinThickness, dtype: float64\n",
      "------------------------------\n",
      "Insulin Outcome  Age_band\n",
      "0        0                  NaN\n",
      "         1           128.289256\n",
      "         2           115.873239\n",
      "         3           152.166667\n",
      "         4           139.250000\n",
      "         5                  NaN\n",
      "1        0                  NaN\n",
      "         1           188.312500\n",
      "         2           208.031250\n",
      "         3           178.756098\n",
      "         4           241.243902\n",
      "         5                  NaN\n",
      "Name: Insulin, dtype: float64\n",
      "------------------------------\n",
      "BMI Outcome  Age_band\n",
      "0        0                 NaN\n",
      "         1           29.908791\n",
      "         2           31.727049\n",
      "         3           31.121905\n",
      "         4           31.343902\n",
      "         5                 NaN\n",
      "1        0                 NaN\n",
      "         1           36.422581\n",
      "         2           37.498113\n",
      "         3           35.125532\n",
      "         4           34.089773\n",
      "         5                 NaN\n",
      "Name: BMI, dtype: float64\n",
      "------------------------------\n"
     ]
    }
   ],
   "source": [
    "for COL in zero_cols:\n",
    "    print(COL,  df[df[COL]>0].groupby(['Outcome','Age_band'])[COL].mean())\n",
    "    print(\"---\"*10)"
   ]
  },
  {
   "cell_type": "markdown",
   "id": "1fda6550-d04a-41d5-bf3b-7aaa0d57bcbe",
   "metadata": {},
   "source": [
    "### 이상값(0) 채우기\n",
    "* Insulin        : Outcome  Age_band\n",
    "* BloodPressure  : Outcome  Age_band\n",
    "* Glucose        : Outcome  Age_band\n",
    "---\n",
    "* BMI           : Outcome\n",
    "* SkinThickness : Outcome\n",
    "\n"
   ]
  },
  {
   "cell_type": "code",
   "execution_count": 18,
   "id": "c88872bd-021d-4530-ac97-caed62d0b978",
   "metadata": {},
   "outputs": [],
   "source": [
    "df[zero_cols] = df[zero_cols].replace(0, np.nan)\n",
    "# df.fillna(  df[zero_cols].transpose( _____ )   )\n",
    "# df.isna().sum()"
   ]
  },
  {
   "cell_type": "code",
   "execution_count": 19,
   "id": "c636de52-0a70-497d-bad9-8938b834fe82",
   "metadata": {},
   "outputs": [],
   "source": [
    "df[\"Insulin\"]       = df[\"Insulin\"].fillna(df.groupby(by=[\"Outcome\",\"Age_band\"])[\"Insulin\"].transform('mean'))\n",
    "df[\"BloodPressure\"] = df[\"BloodPressure\"].fillna(df.groupby(by=[\"Outcome\",\"Age_band\"])[\"BloodPressure\"].transform('mean'))\n",
    "df[\"Glucose\"]       = df[\"Glucose\"].fillna(df.groupby(by=[\"Outcome\",\"Age_band\"])[\"Glucose\"].transform('mean'))\n",
    "\n",
    "df[\"BMI\"]           = df[\"BMI\"].fillna(df.groupby(by=\"Outcome\")[\"BMI\"].transform('mean'))\n",
    "df[\"SkinThickness\"] = df[\"SkinThickness\"].fillna(df.groupby(by=\"Outcome\")[\"SkinThickness\"].transform('mean'))"
   ]
  },
  {
   "cell_type": "code",
   "execution_count": 20,
   "id": "6514f76c-ae85-4c07-9652-f5a6fb5504e1",
   "metadata": {},
   "outputs": [
    {
     "data": {
      "text/plain": [
       "Pregnancies                 0\n",
       "Glucose                     0\n",
       "BloodPressure               0\n",
       "SkinThickness               0\n",
       "Insulin                     0\n",
       "BMI                         0\n",
       "DiabetesPedigreeFunction    0\n",
       "Age                         0\n",
       "Outcome                     0\n",
       "Age_band                    0\n",
       "dtype: int64"
      ]
     },
     "execution_count": 20,
     "metadata": {},
     "output_type": "execute_result"
    }
   ],
   "source": [
    "df.isna().sum()"
   ]
  },
  {
   "cell_type": "code",
   "execution_count": 21,
   "id": "f8175784-883a-415a-a9d0-680c0f70c5a9",
   "metadata": {
    "tags": []
   },
   "outputs": [
    {
     "data": {
      "image/png": "[encoded data removed]",
      "text/plain": [
       "<Figure size 432x288 with 9 Axes>"
      ]
     },
     "metadata": {},
     "output_type": "display_data"
    }
   ],
   "source": [
    "df.hist()\n",
    "plt.show()"
   ]
  },
  {
   "cell_type": "markdown",
   "id": "41aa4c94-8d4f-405f-8347-9f7dedcde22c",
   "metadata": {
    "tags": []
   },
   "source": [
    "# 상관분석"
   ]
  },
  {
   "cell_type": "code",
   "execution_count": 22,
   "id": "1d895412-fc00-4237-8f36-a2d92e9d6ff8",
   "metadata": {},
   "outputs": [
    {
     "data": {
      "image/png": "[encoded data removed]",
      "text/plain": [
       "<Figure size 432x288 with 2 Axes>"
      ]
     },
     "metadata": {},
     "output_type": "display_data"
    }
   ],
   "source": [
    "sns.heatmap(df.corr(), fmt=\".2f\", annot=True, cmap=\"Blues\")\n",
    "plt.show()"
   ]
  },
  {
   "cell_type": "markdown",
   "id": "9fa00a20-7b7c-481b-8d69-175528fe5e64",
   "metadata": {},
   "source": [
    "# Outlier는 train을 대상으로만 한다 \n",
    "* train_test_split으로 df를 분리"
   ]
  },
  {
   "cell_type": "code",
   "execution_count": 23,
   "id": "4d7d8ded-efbf-4c39-a3ec-3221f097b373",
   "metadata": {},
   "outputs": [],
   "source": [
    "#-------------------가공처리를 끝낸 DataFrame을 사용해 스케일링-----------------------------------\n",
    "y = df['Outcome']\n",
    "X = df.drop('Outcome', axis=1)\n",
    "X_train, X_test, y_train, y_test = train_test_split(X, y,test_size=0.2,random_state=1414,shuffle=False)\n",
    "#----------------------------------------------------------------------------------------------"
   ]
  },
  {
   "cell_type": "code",
   "execution_count": 24,
   "id": "b17ca51e-575f-4116-afb5-ed2661abf2f3",
   "metadata": {},
   "outputs": [
    {
     "data": {
      "text/plain": [
       "((768, 9), (768,), (614, 9), (154, 9))"
      ]
     },
     "execution_count": 24,
     "metadata": {},
     "output_type": "execute_result"
    }
   ],
   "source": [
    "X.shape, y.shape, X_train.shape, X_test.shape"
   ]
  },
  {
   "cell_type": "markdown",
   "id": "7e7f1623-a3ac-47c6-b644-4cff1b04fc92",
   "metadata": {
    "tags": []
   },
   "source": [
    "# 1차 점수 확인 : 이상치 제거"
   ]
  },
  {
   "cell_type": "markdown",
   "id": "cd652de3-1a18-41ca-a981-2dbd7502b052",
   "metadata": {},
   "source": [
    "<img src=\"https://img1.daumcdn.net/thumb/R1280x0/?scode=mtistory2&fname=https%3A%2F%2Fblog.kakaocdn.net%2Fdn%2FcAqc6V%2FbtqyQLiddUd%2FiXQVu1nYTo2rx3Q8xZBqy0%2Fimg.png\" width=400 height=400>"
   ]
  },
  {
   "cell_type": "code",
   "execution_count": 25,
   "id": "d8ffa79c-b10c-409c-a977-71962fbc2741",
   "metadata": {},
   "outputs": [
    {
     "data": {
      "text/html": [
       "<div>\n",
       "<style scoped>\n",
       "    .dataframe tbody tr th:only-of-type {\n",
       "        vertical-align: middle;\n",
       "    }\n",
       "\n",
       "    .dataframe tbody tr th {\n",
       "        vertical-align: top;\n",
       "    }\n",
       "\n",
       "    .dataframe thead th {\n",
       "        text-align: right;\n",
       "    }\n",
       "</style>\n",
       "<table border=\"1\" class=\"dataframe\">\n",
       "  <thead>\n",
       "    <tr style=\"text-align: right;\">\n",
       "      <th></th>\n",
       "      <th>Glucose</th>\n",
       "      <th>Insulin</th>\n",
       "      <th>Age</th>\n",
       "    </tr>\n",
       "  </thead>\n",
       "  <tbody>\n",
       "    <tr>\n",
       "      <th>count</th>\n",
       "      <td>614.000000</td>\n",
       "      <td>614.000000</td>\n",
       "      <td>614.000000</td>\n",
       "    </tr>\n",
       "    <tr>\n",
       "      <th>mean</th>\n",
       "      <td>121.440788</td>\n",
       "      <td>156.641748</td>\n",
       "      <td>33.197068</td>\n",
       "    </tr>\n",
       "    <tr>\n",
       "      <th>std</th>\n",
       "      <td>30.866709</td>\n",
       "      <td>91.279970</td>\n",
       "      <td>11.772805</td>\n",
       "    </tr>\n",
       "    <tr>\n",
       "      <th>min</th>\n",
       "      <td>44.000000</td>\n",
       "      <td>14.000000</td>\n",
       "      <td>21.000000</td>\n",
       "    </tr>\n",
       "    <tr>\n",
       "      <th>25%</th>\n",
       "      <td>99.000000</td>\n",
       "      <td>115.873239</td>\n",
       "      <td>24.000000</td>\n",
       "    </tr>\n",
       "    <tr>\n",
       "      <th>50%</th>\n",
       "      <td>116.500000</td>\n",
       "      <td>139.250000</td>\n",
       "      <td>29.000000</td>\n",
       "    </tr>\n",
       "    <tr>\n",
       "      <th>75%</th>\n",
       "      <td>141.000000</td>\n",
       "      <td>178.756098</td>\n",
       "      <td>40.000000</td>\n",
       "    </tr>\n",
       "    <tr>\n",
       "      <th>max</th>\n",
       "      <td>198.000000</td>\n",
       "      <td>846.000000</td>\n",
       "      <td>81.000000</td>\n",
       "    </tr>\n",
       "  </tbody>\n",
       "</table>\n",
       "</div>"
      ],
      "text/plain": [
       "          Glucose     Insulin         Age\n",
       "count  614.000000  614.000000  614.000000\n",
       "mean   121.440788  156.641748   33.197068\n",
       "std     30.866709   91.279970   11.772805\n",
       "min     44.000000   14.000000   21.000000\n",
       "25%     99.000000  115.873239   24.000000\n",
       "50%    116.500000  139.250000   29.000000\n",
       "75%    141.000000  178.756098   40.000000\n",
       "max    198.000000  846.000000   81.000000"
      ]
     },
     "execution_count": 25,
     "metadata": {},
     "output_type": "execute_result"
    }
   ],
   "source": [
    "X_train[['Glucose','Insulin', 'Age']].describe()"
   ]
  },
  {
   "cell_type": "code",
   "execution_count": 26,
   "id": "a4648658-9935-4237-bef5-c3dd204dcee4",
   "metadata": {},
   "outputs": [
    {
     "data": {
      "image/png": "[encoded data removed]",
      "text/plain": [
       "<Figure size 432x288 with 4 Axes>"
      ]
     },
     "metadata": {},
     "output_type": "display_data"
    }
   ],
   "source": [
    "X_train[['Glucose','Insulin', 'Age']].hist()\n",
    "plt.show()"
   ]
  },
  {
   "cell_type": "code",
   "execution_count": 27,
   "id": "793bd222-6ad7-422d-99db-d51953727420",
   "metadata": {},
   "outputs": [
    {
     "name": "stdout",
     "output_type": "stream",
     "text": [
      "count    131.000000\n",
      "mean       4.687023\n",
      "std        3.147854\n",
      "min        1.000000\n",
      "25%        2.000000\n",
      "50%        4.000000\n",
      "75%        6.500000\n",
      "max       15.000000\n",
      "Name: Glucose, dtype: float64\n"
     ]
    },
    {
     "data": {
      "image/png": "[encoded data removed]",
      "text/plain": [
       "<Figure size 720x288 with 1 Axes>"
      ]
     },
     "metadata": {},
     "output_type": "display_data"
    }
   ],
   "source": [
    "print(X_train['Glucose'].value_counts().describe())\n",
    "f,ax=plt.subplots(figsize=(10,4))\n",
    "sns.boxplot(x=X_train['Glucose'])\n",
    "sns.swarmplot(x=X_train['Glucose'])\n",
    "plt.show()"
   ]
  },
  {
   "cell_type": "code",
   "execution_count": 28,
   "id": "09764f34-8a3f-4acc-a87f-19aee5db7ea5",
   "metadata": {},
   "outputs": [
    {
     "name": "stdout",
     "output_type": "stream",
     "text": [
      "count    174.000000\n",
      "mean       3.528736\n",
      "std        8.096012\n",
      "min        1.000000\n",
      "25%        1.000000\n",
      "50%        1.000000\n",
      "75%        3.000000\n",
      "max       53.000000\n",
      "Name: Insulin, dtype: float64\n"
     ]
    },
    {
     "data": {
      "image/png": "[encoded data removed]",
      "text/plain": [
       "<Figure size 720x288 with 1 Axes>"
      ]
     },
     "metadata": {},
     "output_type": "display_data"
    }
   ],
   "source": [
    "print(X_train['Insulin'].value_counts().describe())\n",
    "f,ax=plt.subplots(figsize=(10,4))\n",
    "sns.boxplot(x=X_train['Insulin'])\n",
    "sns.swarmplot(x=X_train['Insulin'])\n",
    "plt.show()"
   ]
  },
  {
   "cell_type": "code",
   "execution_count": 29,
   "id": "403cf529-7871-4957-890e-1c50679dc178",
   "metadata": {},
   "outputs": [
    {
     "name": "stdout",
     "output_type": "stream",
     "text": [
      "count    50.000000\n",
      "mean     12.280000\n",
      "std      12.834965\n",
      "min       1.000000\n",
      "25%       3.000000\n",
      "50%       7.500000\n",
      "75%      16.500000\n",
      "max      53.000000\n",
      "Name: Age, dtype: float64\n"
     ]
    },
    {
     "data": {
      "image/png": "[encoded data removed]",
      "text/plain": [
       "<Figure size 720x288 with 1 Axes>"
      ]
     },
     "metadata": {},
     "output_type": "display_data"
    }
   ],
   "source": [
    "print(X_train['Age'].value_counts().describe())\n",
    "f,ax=plt.subplots(figsize=(10,4))\n",
    "sns.boxplot(x=X_train['Age'])\n",
    "sns.swarmplot(x=X_train['Age'])\n",
    "plt.show()"
   ]
  },
  {
   "cell_type": "markdown",
   "id": "e104e6d8-2143-4ea4-9512-1eddb02e6720",
   "metadata": {
    "tags": []
   },
   "source": [
    "## outlier 수식으로 찾기\n",
    "* Glucose< 20 \n",
    "* Insulin > 620\n",
    "* Age > 80 "
   ]
  },
  {
   "cell_type": "code",
   "execution_count": 30,
   "id": "fe8f2c69-a87b-4b4e-9813-10a59e4d927a",
   "metadata": {},
   "outputs": [
    {
     "name": "stdout",
     "output_type": "stream",
     "text": [
      "[] [ 13 228 247] [459]\n"
     ]
    }
   ],
   "source": [
    "Glucose_idx = X_train[ X_train['Glucose'] < 20 ].index.values   \n",
    "Insulin_idx = X_train[ X_train['Insulin'] > 620 ].index.values   \n",
    "Age_idx     = X_train[ X_train['Age'] > 80 ].index.values  \n",
    "\n",
    "print(Glucose_idx, Insulin_idx, Age_idx)"
   ]
  },
  {
   "cell_type": "code",
   "execution_count": 31,
   "id": "2522284d-a6fc-4cbe-9390-eb23d8d41758",
   "metadata": {},
   "outputs": [
    {
     "data": {
      "text/plain": [
       "((614, 9), (154, 9))"
      ]
     },
     "execution_count": 31,
     "metadata": {},
     "output_type": "execute_result"
    }
   ],
   "source": [
    "X_train.shape, X_test.shape"
   ]
  },
  {
   "cell_type": "code",
   "execution_count": 32,
   "id": "66c56c48-10d1-438e-8a2c-7881b9cbc901",
   "metadata": {},
   "outputs": [],
   "source": [
    "for idx in Glucose_idx:\n",
    "    X_train.drop(index=idx, inplace=True)\n",
    "    y_train.drop(index=idx, inplace=True)\n",
    "\n",
    "for idx in Insulin_idx:\n",
    "    X_train.drop(index=idx, inplace=True)\n",
    "    y_train.drop(index=idx, inplace=True)\n",
    "    \n",
    "X_train.drop(index=Age_idx, inplace=True)\n",
    "y_train.drop(index=Age_idx, inplace=True)"
   ]
  },
  {
   "cell_type": "code",
   "execution_count": 33,
   "id": "5ef3130e-04fe-4348-ba54-e431206ac4e1",
   "metadata": {},
   "outputs": [
    {
     "data": {
      "text/plain": [
       "((610, 9), (154, 9))"
      ]
     },
     "execution_count": 33,
     "metadata": {},
     "output_type": "execute_result"
    }
   ],
   "source": [
    "X_train.shape, X_test.shape"
   ]
  },
  {
   "cell_type": "code",
   "execution_count": 34,
   "metadata": {},
   "outputs": [],
   "source": [
    "aa= pd.concat([X_train, X_test])\n",
    "aa.reset_index(drop=True,inplace=True)\n",
    "bb= pd.concat([y_train, y_test])\n",
    "bb.reset_index(drop=True,inplace=True)\n",
    "aa.head()\n",
    "X_train, X_test, y_train, y_test = train_test_split(aa, bb,test_size=0.2,random_state=1414,shuffle=False)"
   ]
  },
  {
   "cell_type": "code",
   "execution_count": 35,
   "id": "d7c01cbe-e6f4-4b22-8fc1-c1807dc4eae9",
   "metadata": {},
   "outputs": [
    {
     "data": {
      "image/png": "[encoded data removed]",
      "text/plain": [
       "<Figure size 432x288 with 4 Axes>"
      ]
     },
     "metadata": {},
     "output_type": "display_data"
    }
   ],
   "source": [
    "X_train[['Glucose','Insulin', 'Age']].hist()\n",
    "plt.show()"
   ]
  },
  {
   "cell_type": "code",
   "execution_count": 36,
   "id": "32b234f7-34cd-4c1a-b2ac-1179f838a34a",
   "metadata": {},
   "outputs": [
    {
     "name": "stdout",
     "output_type": "stream",
     "text": [
      "정확도0.8497 정밀도:0.8039 재현률:0.7593 f1:0.7810\n",
      "오차행렬\n",
      " [[89 10]\n",
      " [13 41]]\n"
     ]
    }
   ],
   "source": [
    "fit_score(X_train, X_test, y_train, y_test, model)  "
   ]
  },
  {
   "cell_type": "markdown",
   "id": "8755ff6f-4500-4df9-a3dc-57fdec980798",
   "metadata": {},
   "source": [
    "## 방법2)  outlier IQR 범위로 찾기"
   ]
  },
  {
   "cell_type": "code",
   "execution_count": 37,
   "id": "5c8855cd-5cc5-4b30-b280-40d812573c49",
   "metadata": {},
   "outputs": [],
   "source": [
    "def my_detect_outliers(df, features, r=1.5): \n",
    "    dict = {}\n",
    "    for col in features: \n",
    "        Q1 = np.percentile(df[col], 25) #2.5\n",
    "        Q3 = np.percentile(df[col], 75) #7.5\n",
    "        IQR = Q3 - Q1                   #5\n",
    "        minimum = Q1 - (r * IQR)   #-5\n",
    "        maximum = Q3 + (r * IQR)   #15\n",
    "        idxs = df[  (df[col]<minimum) | (df[col]>maximum)  ].index \n",
    "        dict[col] = idxs\n",
    "    return dict"
   ]
  },
  {
   "cell_type": "code",
   "execution_count": 38,
   "id": "bc55b3ac-130f-42f8-9aeb-3357021cc0f7",
   "metadata": {},
   "outputs": [],
   "source": [
    "# #-------------------가공처리를 끝낸 DataFrame을 사용해 스케일링-----------------------------------\n",
    "# y = df['Outcome']\n",
    "# X = df.drop('Outcome', axis=1)\n",
    "# X_train, X_test, y_train, y_test = train_test_split(X, y,test_size=0.2,random_state=1414,shuffle=False)\n",
    "# #----------------------------------------------------------------------------------------------"
   ]
  },
  {
   "cell_type": "code",
   "execution_count": 39,
   "id": "da9bec47-aa89-4188-b34d-bf964ba6b87d",
   "metadata": {},
   "outputs": [],
   "source": [
    "# res_dict = my_detect_outliers(X_train, ['Glucose','Insulin', 'Age'])\n",
    "# print(res_dict)"
   ]
  },
  {
   "cell_type": "code",
   "execution_count": 40,
   "id": "943fb29b-1462-4a63-8594-b3f47b2357f0",
   "metadata": {},
   "outputs": [],
   "source": [
    "# for idx in res_dict['Glucose']:\n",
    "#     X_train.drop(index=idx, inplace=True)\n",
    "#     y_train.drop(index=idx, inplace=True)\n",
    "\n",
    "# for idx in res_dict['Insulin']:\n",
    "#     X_train.drop(index=idx, inplace=True)\n",
    "#     y_train.drop(index=idx, inplace=True)\n",
    "\n",
    "\n",
    "# for idx in res_dict['Age']:\n",
    "#     X_train.drop(index=idx, inplace=True)\n",
    "#     y_train.drop(index=idx, inplace=True)    "
   ]
  },
  {
   "cell_type": "code",
   "execution_count": 41,
   "id": "6a9f6513-015a-417c-a3bf-b8b48445a923",
   "metadata": {},
   "outputs": [],
   "source": [
    "# X_train[['Glucose','Insulin', 'Age']].hist()\n",
    "# plt.show()"
   ]
  },
  {
   "cell_type": "code",
   "execution_count": 42,
   "id": "e5ba7fc0-1b1c-43a0-882c-c5dc852a960d",
   "metadata": {},
   "outputs": [],
   "source": [
    "# fit_score(X_train, X_test, y_train, y_test, model)  "
   ]
  },
  {
   "cell_type": "markdown",
   "id": "8f0a6ea1-c0bc-4c80-9c0a-aced39735575",
   "metadata": {
    "tags": []
   },
   "source": [
    "# 2차 점수 확인 : 스케일링"
   ]
  },
  {
   "cell_type": "markdown",
   "id": "9202e072-6ee1-4854-8cfc-04d2ed6a7b19",
   "metadata": {
    "tags": []
   },
   "source": [
    "### 스케일링 : 정규화, 단위맞추기"
   ]
  },
  {
   "cell_type": "code",
   "execution_count": 43,
   "id": "fdeb1366-12c1-4afa-a3ca-95fb04ca5e25",
   "metadata": {},
   "outputs": [],
   "source": [
    "from sklearn.preprocessing import MinMaxScaler, RobustScaler, StandardScaler"
   ]
  },
  {
   "cell_type": "code",
   "execution_count": 44,
   "id": "43bbbae4-eb38-4c39-9916-e6371a87b660",
   "metadata": {},
   "outputs": [],
   "source": [
    "scaler_X_train = X_train\n",
    "scaler_X_test = X_test\n",
    "scalers = StandardScaler() #, RobustScaler(), MinMaxScaler()]\n",
    "scalers.fit(X_train[X_test.columns])\n",
    "scaler_X_train[X_test.columns] = scalers.transform(X_train[X_test.columns])\n",
    "scaler_X_test[X_test.columns] = scalers.transform(X_test[X_test.columns])"
   ]
  },
  {
   "cell_type": "code",
   "execution_count": 45,
   "metadata": {},
   "outputs": [
    {
     "data": {
      "text/html": [
       "<div>\n",
       "<style scoped>\n",
       "    .dataframe tbody tr th:only-of-type {\n",
       "        vertical-align: middle;\n",
       "    }\n",
       "\n",
       "    .dataframe tbody tr th {\n",
       "        vertical-align: top;\n",
       "    }\n",
       "\n",
       "    .dataframe thead th {\n",
       "        text-align: right;\n",
       "    }\n",
       "</style>\n",
       "<table border=\"1\" class=\"dataframe\">\n",
       "  <thead>\n",
       "    <tr style=\"text-align: right;\">\n",
       "      <th></th>\n",
       "      <th>Pregnancies</th>\n",
       "      <th>Glucose</th>\n",
       "      <th>BloodPressure</th>\n",
       "      <th>SkinThickness</th>\n",
       "      <th>Insulin</th>\n",
       "      <th>BMI</th>\n",
       "      <th>DiabetesPedigreeFunction</th>\n",
       "      <th>Age</th>\n",
       "      <th>Age_band</th>\n",
       "    </tr>\n",
       "  </thead>\n",
       "  <tbody>\n",
       "    <tr>\n",
       "      <th>611</th>\n",
       "      <td>-0.243138</td>\n",
       "      <td>-0.494911</td>\n",
       "      <td>-0.001677</td>\n",
       "      <td>-0.207006</td>\n",
       "      <td>-0.469187</td>\n",
       "      <td>-0.943433</td>\n",
       "      <td>-0.825321</td>\n",
       "      <td>-0.528079</td>\n",
       "      <td>-0.371308</td>\n",
       "    </tr>\n",
       "    <tr>\n",
       "      <th>612</th>\n",
       "      <td>0.651787</td>\n",
       "      <td>-0.135375</td>\n",
       "      <td>2.004328</td>\n",
       "      <td>-0.207006</td>\n",
       "      <td>-0.020597</td>\n",
       "      <td>-0.524498</td>\n",
       "      <td>-0.977292</td>\n",
       "      <td>-0.269402</td>\n",
       "      <td>0.532554</td>\n",
       "    </tr>\n",
       "    <tr>\n",
       "      <th>613</th>\n",
       "      <td>-0.541447</td>\n",
       "      <td>-1.736944</td>\n",
       "      <td>-0.837513</td>\n",
       "      <td>-1.761089</td>\n",
       "      <td>-1.715990</td>\n",
       "      <td>-1.766857</td>\n",
       "      <td>-0.673350</td>\n",
       "      <td>-0.872981</td>\n",
       "      <td>-1.275170</td>\n",
       "    </tr>\n",
       "    <tr>\n",
       "      <th>614</th>\n",
       "      <td>1.546712</td>\n",
       "      <td>-0.298801</td>\n",
       "      <td>0.834159</td>\n",
       "      <td>-0.560220</td>\n",
       "      <td>1.080405</td>\n",
       "      <td>-0.596729</td>\n",
       "      <td>2.442062</td>\n",
       "      <td>1.455109</td>\n",
       "      <td>1.436416</td>\n",
       "    </tr>\n",
       "    <tr>\n",
       "      <th>615</th>\n",
       "      <td>-1.138064</td>\n",
       "      <td>-0.070005</td>\n",
       "      <td>-0.036263</td>\n",
       "      <td>0.422309</td>\n",
       "      <td>0.426168</td>\n",
       "      <td>0.010005</td>\n",
       "      <td>-1.025923</td>\n",
       "      <td>-0.786755</td>\n",
       "      <td>-1.275170</td>\n",
       "    </tr>\n",
       "  </tbody>\n",
       "</table>\n",
       "</div>"
      ],
      "text/plain": [
       "     Pregnancies   Glucose  BloodPressure  SkinThickness   Insulin       BMI  \\\n",
       "611    -0.243138 -0.494911      -0.001677      -0.207006 -0.469187 -0.943433   \n",
       "612     0.651787 -0.135375       2.004328      -0.207006 -0.020597 -0.524498   \n",
       "613    -0.541447 -1.736944      -0.837513      -1.761089 -1.715990 -1.766857   \n",
       "614     1.546712 -0.298801       0.834159      -0.560220  1.080405 -0.596729   \n",
       "615    -1.138064 -0.070005      -0.036263       0.422309  0.426168  0.010005   \n",
       "\n",
       "     DiabetesPedigreeFunction       Age  Age_band  \n",
       "611                 -0.825321 -0.528079 -0.371308  \n",
       "612                 -0.977292 -0.269402  0.532554  \n",
       "613                 -0.673350 -0.872981 -1.275170  \n",
       "614                  2.442062  1.455109  1.436416  \n",
       "615                 -1.025923 -0.786755 -1.275170  "
      ]
     },
     "execution_count": 45,
     "metadata": {},
     "output_type": "execute_result"
    }
   ],
   "source": [
    "scaler_X_test.head()"
   ]
  },
  {
   "cell_type": "code",
   "execution_count": 46,
   "metadata": {},
   "outputs": [
    {
     "data": {
      "text/html": [
       "<div>\n",
       "<style scoped>\n",
       "    .dataframe tbody tr th:only-of-type {\n",
       "        vertical-align: middle;\n",
       "    }\n",
       "\n",
       "    .dataframe tbody tr th {\n",
       "        vertical-align: top;\n",
       "    }\n",
       "\n",
       "    .dataframe thead th {\n",
       "        text-align: right;\n",
       "    }\n",
       "</style>\n",
       "<table border=\"1\" class=\"dataframe\">\n",
       "  <thead>\n",
       "    <tr style=\"text-align: right;\">\n",
       "      <th></th>\n",
       "      <th>Pregnancies</th>\n",
       "      <th>Glucose</th>\n",
       "      <th>BloodPressure</th>\n",
       "      <th>SkinThickness</th>\n",
       "      <th>Insulin</th>\n",
       "      <th>BMI</th>\n",
       "      <th>DiabetesPedigreeFunction</th>\n",
       "      <th>Age</th>\n",
       "      <th>Age_band</th>\n",
       "    </tr>\n",
       "  </thead>\n",
       "  <tbody>\n",
       "    <tr>\n",
       "      <th>0</th>\n",
       "      <td>0.651787</td>\n",
       "      <td>0.877862</td>\n",
       "      <td>-0.001677</td>\n",
       "      <td>0.640649</td>\n",
       "      <td>1.080405</td>\n",
       "      <td>0.183357</td>\n",
       "      <td>0.451238</td>\n",
       "      <td>1.455109</td>\n",
       "      <td>1.436416</td>\n",
       "    </tr>\n",
       "    <tr>\n",
       "      <th>1</th>\n",
       "      <td>-0.839755</td>\n",
       "      <td>-1.181298</td>\n",
       "      <td>-0.503178</td>\n",
       "      <td>-0.014371</td>\n",
       "      <td>-0.020597</td>\n",
       "      <td>-0.827865</td>\n",
       "      <td>-0.387644</td>\n",
       "      <td>-0.183176</td>\n",
       "      <td>0.532554</td>\n",
       "    </tr>\n",
       "    <tr>\n",
       "      <th>2</th>\n",
       "      <td>1.248404</td>\n",
       "      <td>2.021840</td>\n",
       "      <td>-0.670345</td>\n",
       "      <td>0.422309</td>\n",
       "      <td>0.308050</td>\n",
       "      <td>-1.304584</td>\n",
       "      <td>0.588012</td>\n",
       "      <td>-0.096951</td>\n",
       "      <td>0.532554</td>\n",
       "    </tr>\n",
       "    <tr>\n",
       "      <th>3</th>\n",
       "      <td>-0.839755</td>\n",
       "      <td>-1.050557</td>\n",
       "      <td>-0.503178</td>\n",
       "      <td>-0.669390</td>\n",
       "      <td>-0.739543</td>\n",
       "      <td>-0.611175</td>\n",
       "      <td>-0.946898</td>\n",
       "      <td>-1.045432</td>\n",
       "      <td>-1.275170</td>\n",
       "    </tr>\n",
       "    <tr>\n",
       "      <th>4</th>\n",
       "      <td>-1.138064</td>\n",
       "      <td>0.518326</td>\n",
       "      <td>-2.676351</td>\n",
       "      <td>0.640649</td>\n",
       "      <td>0.175104</td>\n",
       "      <td>1.555730</td>\n",
       "      <td>5.499724</td>\n",
       "      <td>-0.010725</td>\n",
       "      <td>0.532554</td>\n",
       "    </tr>\n",
       "  </tbody>\n",
       "</table>\n",
       "</div>"
      ],
      "text/plain": [
       "   Pregnancies   Glucose  BloodPressure  SkinThickness   Insulin       BMI  \\\n",
       "0     0.651787  0.877862      -0.001677       0.640649  1.080405  0.183357   \n",
       "1    -0.839755 -1.181298      -0.503178      -0.014371 -0.020597 -0.827865   \n",
       "2     1.248404  2.021840      -0.670345       0.422309  0.308050 -1.304584   \n",
       "3    -0.839755 -1.050557      -0.503178      -0.669390 -0.739543 -0.611175   \n",
       "4    -1.138064  0.518326      -2.676351       0.640649  0.175104  1.555730   \n",
       "\n",
       "   DiabetesPedigreeFunction       Age  Age_band  \n",
       "0                  0.451238  1.455109  1.436416  \n",
       "1                 -0.387644 -0.183176  0.532554  \n",
       "2                  0.588012 -0.096951  0.532554  \n",
       "3                 -0.946898 -1.045432 -1.275170  \n",
       "4                  5.499724 -0.010725  0.532554  "
      ]
     },
     "execution_count": 46,
     "metadata": {},
     "output_type": "execute_result"
    }
   ],
   "source": [
    "scaler_X_train.head()"
   ]
  },
  {
   "cell_type": "markdown",
   "id": "be29da8d-195c-4427-bdf3-c8a9b48dfa31",
   "metadata": {
    "tags": []
   },
   "source": [
    "# 3차 점수 확인 : 모델변경"
   ]
  },
  {
   "cell_type": "markdown",
   "id": "0be38aa2-7e74-4743-9c01-f1b1f34cae2e",
   "metadata": {
    "tags": []
   },
   "source": [
    "### 모델 변경 : Boost 계열"
   ]
  },
  {
   "cell_type": "code",
   "execution_count": 47,
   "id": "1950fd4a-0961-4722-aaf1-d7e2e32908cc",
   "metadata": {},
   "outputs": [],
   "source": [
    "import xgboost as xgb\n",
    "# import lightgbm"
   ]
  },
  {
   "cell_type": "code",
   "execution_count": 48,
   "id": "5b7e6676-ddf7-4308-988c-301a64e85ca1",
   "metadata": {},
   "outputs": [
    {
     "name": "stdout",
     "output_type": "stream",
     "text": [
      "[21:24:27] WARNING: C:/Users/Administrator/workspace/xgboost-win64_release_1.4.0/src/learner.cc:1095: Starting in XGBoost 1.3.0, the default evaluation metric used with the objective 'binary:logistic' was changed from 'error' to 'logloss'. Explicitly set eval_metric if you'd like to restore the old behavior.\n",
      "정확도0.8824 정밀도:0.8600 재현률:0.7963 f1:0.8269\n",
      "오차행렬\n",
      " [[92  7]\n",
      " [11 43]]\n"
     ]
    }
   ],
   "source": [
    "xgmodel = xgb.XGBClassifier(n_estimators=300, objective=\"binary:logistic\")   #logloss \n",
    "fit_score(scaler_X_train, scaler_X_test, y_train, y_test, xgmodel)   #0.8441558441558441   "
   ]
  },
  {
   "cell_type": "markdown",
   "id": "e7814b64-120e-4ef7-b206-6c04203001f8",
   "metadata": {
    "tags": []
   },
   "source": [
    "# 4차 점수확인 : 검증\n",
    "* 교차 검증(cross_val_score) : 데이터 N배 증강시켜 순차적 학습, (점수)\n",
    "* 폴드(KFold, StratifiedKFold)  : 데이터 N배 증강시켜 순차적 학습, (점수,과정)\n",
    "* 그리드서치(GridSearch)***   : 데이터 N배 증강시켜 순차적 학습,  (점수, 과정, 모델튜닝)"
   ]
  },
  {
   "cell_type": "markdown",
   "id": "f2f6adfe-62f0-4675-a5f8-671363fe7d88",
   "metadata": {
    "tags": []
   },
   "source": [
    "## <font color='red'>전체 데이터를 주자 </font>"
   ]
  },
  {
   "cell_type": "code",
   "execution_count": 49,
   "id": "9116819f-f28a-4c8e-ba17-a7e7fb4f3a7d",
   "metadata": {},
   "outputs": [
    {
     "name": "stdout",
     "output_type": "stream",
     "text": [
      "<class 'pandas.core.frame.DataFrame'> <class 'pandas.core.series.Series'>\n",
      "(764, 9) (764,)\n"
     ]
    }
   ],
   "source": [
    "print(type(scaler_X_train), type(y_train))  # <class 'numpy.ndarray'> <class 'pandas.core.series.Series'>\n",
    "\n",
    "scaler_X = np.concatenate([scaler_X_train, scaler_X_test])\n",
    "y = pd.concat([y_train, y_test], axis=0, ignore_index=True)\n",
    "print(scaler_X.shape, y.shape)"
   ]
  },
  {
   "cell_type": "markdown",
   "id": "f4454f27-5947-4c9d-a087-81f8c65ae60a",
   "metadata": {
    "tags": []
   },
   "source": [
    "### 폴드 KFold(), StratifiedKFold()"
   ]
  },
  {
   "cell_type": "code",
   "execution_count": 50,
   "id": "c68748b6-d444-4aa8-b59c-0ee32f67c410",
   "metadata": {},
   "outputs": [
    {
     "name": "stdout",
     "output_type": "stream",
     "text": [
      "평균 정확도 :  0.8638458892328862\n",
      "평균 F1 : 0.8023654015887025\n",
      "평균 AUC : 0.9289153237476089\n"
     ]
    }
   ],
   "source": [
    "from sklearn.model_selection import KFold, StratifiedKFold\n",
    "\n",
    "accuracy_total_score = []\n",
    "f1_total_score = []\n",
    "auc_total_score = []\n",
    "\n",
    "# kfold = KFold(n_splits=5, random_state=1414, shuffle=True)\n",
    "# for train_index, test_index in kfold.split(문제지):\n",
    "\n",
    "skfold = StratifiedKFold(n_splits=5, random_state=1414, shuffle=True)\n",
    "for train_index, test_index in skfold.split(scaler_X, y):\n",
    "    문제지8, 문제지2 = scaler_X[train_index], scaler_X[test_index]\n",
    "    정답지8, 정답지2 = y[train_index], y[test_index]\n",
    "   #train_test_split(문제지,정답지, test_sizse=0.2, random_state=1414, shuffle=False) ----\n",
    "    model.fit(문제지8, 정답지8)\n",
    "    pred = model.predict(문제지2)\n",
    "    proba = model.predict_proba(문제지2)\n",
    "    \n",
    "    accuracy = accuracy_score(정답지2, pred)\n",
    "    f1 = f1_score(정답지2, pred)\n",
    "    auc = roc_auc_score(정답지2, proba[:, 1])\n",
    "    \n",
    "    accuracy_total_score.append(accuracy)\n",
    "    f1_total_score.append(f1)\n",
    "    auc_total_score.append(auc)\n",
    "    ####return np.array(total_score)\n",
    "\n",
    "# print(\"평균\", sum(accuracy_total_score) / len(accuracy_total_score))\n",
    "print(\"평균 정확도 : \", np.array(accuracy_total_score).mean())  #평균 0.8658772599949071\n",
    "print(\"평균 F1 :\", np.array(f1_total_score).mean())  \n",
    "print(\"평균 AUC :\", np.array(auc_total_score).mean())  \n",
    " "
   ]
  },
  {
   "cell_type": "markdown",
   "id": "6df5eefe-e288-4905-8d06-457e0e0891d5",
   "metadata": {},
   "source": [
    "### cross_val_score()"
   ]
  },
  {
   "cell_type": "code",
   "execution_count": 51,
   "id": "8717ef99-0b9b-41e9-ab4f-849aee12fbde",
   "metadata": {},
   "outputs": [
    {
     "name": "stdout",
     "output_type": "stream",
     "text": [
      "[0.8        0.81904762 0.80769231 0.83809524 0.77669903]\n",
      "cross_val_score 평균: 0.8083068387922758\n"
     ]
    }
   ],
   "source": [
    "from sklearn.model_selection import cross_val_score\n",
    "#scores : ndarray  ::: 위와상동 == np.array(total_score)\n",
    "total_score = cross_val_score(model, scaler_X, y, scoring='f1', cv=5)  #n_splits=cv=5\n",
    "print(total_score)  #평균 0.8658772599949071\n",
    "print(\"cross_val_score 평균:\", total_score.mean())  #평균 0.867"
   ]
  },
  {
   "cell_type": "markdown",
   "id": "583923af-590b-4a0d-9320-30ca901f36d9",
   "metadata": {
    "tags": []
   },
   "source": [
    "# 5차 점수확인 : 임계치 조정을 통한  f1_score() 올리기"
   ]
  },
  {
   "cell_type": "markdown",
   "id": "1e4568f4-c974-4cf3-b571-f4c3d6be9145",
   "metadata": {
    "tags": []
   },
   "source": [
    "### confusion_matrix \n",
    "* ref : https://www.medcalc.org/manual/roc-curves.php\n",
    "| | |\n",
    "|:-|:-|\n",
    "|TN|FP|\n",
    "|FN|TP|\n",
    "\n",
    "| | | |\n",
    "|-|:-|:-|\n",
    "|정확도|$accuracy=\\frac{TN+TP}{TP+FP+FP+FN}$|전체 샘플 중 맞게 예측한 비율|\n",
    "|정밀도|$precision=\\frac{TP}{TP+FP}$|True로 예측한것 중 실제 True인 비율|\n",
    "|재현률|$recall=\\frac{TP}{FN+FP}$|실제 True 중 예측이 True인 비율|\n",
    "|F1|$f1=2*\\frac{precision * recall}{precision + recall}$|정밀도 재현율 조화 평균|"
   ]
  },
  {
   "cell_type": "markdown",
   "id": "13b0a692-72bd-4de6-83e4-fb88138e5cc2",
   "metadata": {},
   "source": [
    "* 재현율(recall) 점수 올리기\n",
    "<pre>\n",
    "th:2  --> th:1     [임계치를 낮추면]\n",
    "[0 1 1]-->[1 1 1]  즉 양성 데이터가 늘었다 --> 24수치를 줄인다\n",
    "*\n",
    "[[86 13] <br>\n",
    " [24 31]]\n",
    "</pre>"
   ]
  },
  {
   "cell_type": "code",
   "execution_count": 52,
   "id": "6bcea851-f283-4755-9553-4fb339a20136",
   "metadata": {},
   "outputs": [
    {
     "name": "stdout",
     "output_type": "stream",
     "text": [
      "f1_score: 0.9259259259259259\n",
      "accuracy_score: 0.9477124183006536\n",
      "f1_score: 0.9259259259259259\n",
      "accuracy_score: 0.9477124183006536\n",
      "f1_score: 0.9433962264150944\n",
      "accuracy_score: 0.9607843137254902\n"
     ]
    }
   ],
   "source": [
    "proba = model.predict_proba(scaler_X_test)   #이미 학습에서 사용된 데이터 100점...공모전의 테스트데이터를 넣어라..\n",
    "th_list = [0.4,  0.5, 0.6]\n",
    "for th in th_list:\n",
    "    binz = Binarizer(threshold=th)                              # [[.7 .3] [.4  .6]]   th:0.2\n",
    "    pred_binz = binz.fit_transform(proba[:, 1].reshape(-1,1))   # [  th<.3] [  th<.6]]  --> [1 1]\n",
    "    f1 = f1_score(y_test, pred_binz)\n",
    "    auc = accuracy_score(y_test, pred_binz)\n",
    "    #my_eval(y_test, pred_binz, proba, th)        \n",
    "\n",
    "    print(\"f1_score:\",f1)\n",
    "    print(\"accuracy_score:\", auc)   "
   ]
  },
  {
   "cell_type": "code",
   "execution_count": 53,
   "id": "b76e17dd-ebfb-4c7c-8d96-020a3f4a6af2",
   "metadata": {},
   "outputs": [],
   "source": [
    "# 임계치 : 0.35 기준 \n",
    "# f1:0.6780\n",
    "# accuracy : 0.7532 "
   ]
  },
  {
   "cell_type": "markdown",
   "id": "0035f487-5883-4c24-9963-a8452e382469",
   "metadata": {},
   "source": [
    "# 6차 점수확인: GridSearchCV / 미완성 지워도됨... 각자에게 맡깁니다..."
   ]
  },
  {
   "cell_type": "code",
   "execution_count": 54,
   "metadata": {},
   "outputs": [],
   "source": [
    "# scaler_X_train, scaler_X_test, y_train, y_test"
   ]
  },
  {
   "cell_type": "code",
   "execution_count": 55,
   "metadata": {},
   "outputs": [
    {
     "name": "stdout",
     "output_type": "stream",
     "text": [
      "(764, 9) (764,)\n"
     ]
    }
   ],
   "source": [
    "X = pd.concat([scaler_X_train,scaler_X_test ])\n",
    "y = pd.concat([y_train, y_test])\n",
    "print(X.shape, y.shape)"
   ]
  },
  {
   "cell_type": "code",
   "execution_count": 60,
   "metadata": {},
   "outputs": [
    {
     "data": {
      "text/plain": [
       "0.8350248580455343"
      ]
     },
     "execution_count": 60,
     "metadata": {},
     "output_type": "execute_result"
    }
   ],
   "source": [
    "random_state=42\n",
    "\n",
    "fit_params = {\"eval_metric\" : 'f1', \n",
    "             \"eval_set\" : [(X,y)],\n",
    "             'eval_names': ['valid'],\n",
    "             'verbose': 50}\n",
    "\n",
    "param_test = {'learning_rate' : [0.01, 0.02, 0.05, 0.1],\n",
    "              'n_estimators' : [100, 300, 1000]}\n",
    "\n",
    "#number of combinations\n",
    "n_jobs = 10\n",
    "\n",
    "#intialize lgbm and lunch the search\n",
    "lgbm_clf = lgbm.LGBMClassifier(random_state=random_state, silent=True, metric='None', n_jobs=5)\n",
    "grid_search = GridSearchCV(\n",
    "    estimator=lgbm_clf, param_grid=param_test, \n",
    "    n_jobs=n_jobs,\n",
    "    scoring='f1',\n",
    "    cv=5,\n",
    "    refit=True,\n",
    "    )\n",
    "\n",
    "grid_search.fit(X, y, **fit_params)\n",
    "opt_parameters =  grid_search.best_params_\n",
    "lgbm_clf = lgbm.LGBMClassifier(**opt_parameters)\n",
    "grid_search.best_score_"
   ]
  },
  {
   "cell_type": "code",
   "execution_count": 61,
   "metadata": {},
   "outputs": [
    {
     "name": "stdout",
     "output_type": "stream",
     "text": [
      "Training until validation scores don't improve for 100 rounds\n",
      "[100]\tvalid's auc: 0.985923\n",
      "[200]\tvalid's auc: 0.999141\n",
      "[300]\tvalid's auc: 1\n",
      "[400]\tvalid's auc: 1\n",
      "[500]\tvalid's auc: 1\n",
      "[600]\tvalid's auc: 1\n",
      "[700]\tvalid's auc: 1\n",
      "[800]\tvalid's auc: 1\n",
      "[900]\tvalid's auc: 1\n",
      "[1000]\tvalid's auc: 1\n",
      "Did not meet early stopping. Best iteration is:\n",
      "[277]\tvalid's auc: 1\n"
     ]
    }
   ],
   "source": [
    "random_state=42\n",
    "\n",
    "fit_params = {\"early_stopping_rounds\" : 100, \n",
    "             \"eval_metric\" : 'auc', \n",
    "             \"eval_set\" : [(X,y)],\n",
    "             'eval_names': ['valid'],\n",
    "             'verbose': 100}\n",
    "\n",
    "param_test = {'learning_rate' : [0.01, 0.02, 0.05, 0.1],\n",
    "              'n_estimators' : [100, 300, 1000]}\n",
    "\n",
    "#number of combinations\n",
    "n_jobs = 10\n",
    "\n",
    "#intialize lgbm and lunch the search\n",
    "lgbm_clf = lgbm.LGBMClassifier(random_state=random_state, silent=True, metric='None', n_jobs=5)\n",
    "grid_search = GridSearchCV(\n",
    "    estimator=lgbm_clf, param_grid=param_test, \n",
    "    n_jobs=n_jobs,\n",
    "    scoring='accuracy',\n",
    "    cv=5,\n",
    "    refit=True,\n",
    "    )\n",
    "\n",
    "grid_search.fit(X, y, **fit_params)\n",
    "opt_parameters =  grid_search.best_params_\n",
    "lgbm_clf = lgbm.LGBMClassifier(**opt_parameters)"
   ]
  },
  {
   "cell_type": "code",
   "execution_count": null,
   "metadata": {},
   "outputs": [],
   "source": []
  },
  {
   "cell_type": "markdown",
   "metadata": {},
   "source": [
    "# 7차 OPTUNA : 하이퍼 파라미터 최적화 API / 공부용"
   ]
  },
  {
   "cell_type": "code",
   "execution_count": null,
   "metadata": {},
   "outputs": [],
   "source": [
    "# # 1 objective function\n",
    "# # 2 hyperparameter values using trial object. \n",
    "# import optuna\n",
    "# def my_objective(trial):\n",
    "#     myparam = {\n",
    "#     \"min_samples_split\" : trial.suggest_int('min_samples_split', 1,3),\n",
    "#     \"max_depth\" : trial.suggest_uniform('max_depth', 1, 20),\n",
    "#     }\n",
    "#     model = RandomForestClassifier(**myparam)\n",
    "#     model.fit(X_train, y_train)\n",
    "#     pred = model.predict(X_test)\n",
    "#     proba = model.predict_proba(X_test)\n",
    "#     score = log_loss(y_test, proba)\n",
    "#     return score\n",
    "\n",
    "# # 3  Create a study object and invoke the optimize method over 100 trials\n",
    "# study = optuna.create_study()\n",
    "# study.optimize(my_objective, n_trials=30)\n",
    "# best_param = study.best_params\n",
    "# print(study.best_params)\n",
    "\n",
    "# # 4 best_param 적용\n",
    "# model = RandomForestClassifier(**best_param)\n",
    "# model.fit(X_train, y_train)\n",
    "# pred = model.predict(X_test)\n",
    "# proba = model.predict_proba(X_test)\n",
    "# score = log_loss(y_test, proba)\n",
    "# print(score)\n"
   ]
  }
 ],
 "metadata": {
  "interpreter": {
   "hash": "17164ff5f922defefa3fdd6afe0c064ec3948eda8922a4bbab17a59b9b0232dc"
  },
  "kernelspec": {
   "display_name": "Python 3.8.8 64-bit ('venv': venv)",
   "name": "python3"
  },
  "language_info": {
   "codemirror_mode": {
    "name": "ipython",
    "version": 3
   },
   "file_extension": ".py",
   "mimetype": "text/x-python",
   "name": "python",
   "nbconvert_exporter": "python",
   "pygments_lexer": "ipython3",
   "version": "3.8.8"
  }
 },
 "nbformat": 4,
 "nbformat_minor": 5
}
