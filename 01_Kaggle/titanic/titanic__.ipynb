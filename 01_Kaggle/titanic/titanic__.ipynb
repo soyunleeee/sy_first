{
 "cells": [
  {
   "cell_type": "markdown",
   "id": "detected-selling",
   "metadata": {},
   "source": [
    "<img src='https://storage.googleapis.com/kaggle-competitions/kaggle/3136/logos/header.png'>\n",
    "* ref : kaggle  : https://www.kaggle.com/c/titanic/overview\n",
    "    \n",
    "    "
   ]
  },
  {
   "cell_type": "code",
   "execution_count": 1,
   "id": "educational-church",
   "metadata": {},
   "outputs": [],
   "source": [
    "import pandas as pd\n",
    "import numpy as np\n",
    "import matplotlib.pyplot as plt\n",
    "import seaborn as sns\n",
    "from sklearn.metrics import accuracy_score, f1_score, precision_score , recall_score, confusion_matrix, classification_report\n",
    "from sklearn.metrics import precision_recall_curve, plot_precision_recall_curve\n",
    "from sklearn.metrics import roc_curve, plot_roc_curve, roc_auc_score\n",
    "from sklearn.model_selection import KFold, StratifiedKFold\n",
    "from sklearn.preprocessing import MinMaxScaler, RobustScaler, StandardScaler\n",
    "\n",
    "import warnings\n",
    "warnings.filterwarnings(action='ignore')"
   ]
  },
  {
   "cell_type": "markdown",
   "id": "hungarian-drill",
   "metadata": {},
   "source": [
    "\n",
    "# Data Collection"
   ]
  },
  {
   "cell_type": "code",
   "execution_count": 2,
   "id": "silver-astronomy",
   "metadata": {},
   "outputs": [],
   "source": [
    "train = pd.read_csv(\"./train.csv\")\n",
    "test = pd.read_csv(\"./test.csv\")\n",
    "sub = pd.read_csv(\"./submission.csv\")"
   ]
  },
  {
   "cell_type": "markdown",
   "id": "critical-warrior",
   "metadata": {},
   "source": [
    "# EDA(Explorer Data Analysis)"
   ]
  },
  {
   "cell_type": "code",
   "execution_count": 3,
   "id": "complicated-appreciation",
   "metadata": {},
   "outputs": [
    {
     "data": {
      "text/plain": [
       "((891, 12), (418, 11))"
      ]
     },
     "execution_count": 3,
     "metadata": {},
     "output_type": "execute_result"
    }
   ],
   "source": [
    "train.shape, test.shape"
   ]
  },
  {
   "cell_type": "code",
   "execution_count": 4,
   "id": "resident-interpretation",
   "metadata": {},
   "outputs": [
    {
     "name": "stdout",
     "output_type": "stream",
     "text": [
      "<class 'pandas.core.frame.DataFrame'>\n",
      "RangeIndex: 891 entries, 0 to 890\n",
      "Data columns (total 12 columns):\n",
      " #   Column       Non-Null Count  Dtype  \n",
      "---  ------       --------------  -----  \n",
      " 0   PassengerId  891 non-null    int64  \n",
      " 1   Survived     891 non-null    int64  \n",
      " 2   Pclass       891 non-null    int64  \n",
      " 3   Name         891 non-null    object \n",
      " 4   Sex          891 non-null    object \n",
      " 5   Age          714 non-null    float64\n",
      " 6   SibSp        891 non-null    int64  \n",
      " 7   Parch        891 non-null    int64  \n",
      " 8   Ticket       891 non-null    object \n",
      " 9   Fare         891 non-null    float64\n",
      " 10  Cabin        204 non-null    object \n",
      " 11  Embarked     889 non-null    object \n",
      "dtypes: float64(2), int64(5), object(5)\n",
      "memory usage: 83.7+ KB\n"
     ]
    }
   ],
   "source": [
    "train.info()"
   ]
  },
  {
   "cell_type": "code",
   "execution_count": 5,
   "id": "danish-textbook",
   "metadata": {},
   "outputs": [
    {
     "name": "stdout",
     "output_type": "stream",
     "text": [
      "<class 'pandas.core.frame.DataFrame'>\n",
      "RangeIndex: 418 entries, 0 to 417\n",
      "Data columns (total 11 columns):\n",
      " #   Column       Non-Null Count  Dtype  \n",
      "---  ------       --------------  -----  \n",
      " 0   PassengerId  418 non-null    int64  \n",
      " 1   Pclass       418 non-null    int64  \n",
      " 2   Name         418 non-null    object \n",
      " 3   Sex          418 non-null    object \n",
      " 4   Age          332 non-null    float64\n",
      " 5   SibSp        418 non-null    int64  \n",
      " 6   Parch        418 non-null    int64  \n",
      " 7   Ticket       418 non-null    object \n",
      " 8   Fare         417 non-null    float64\n",
      " 9   Cabin        91 non-null     object \n",
      " 10  Embarked     418 non-null    object \n",
      "dtypes: float64(2), int64(4), object(5)\n",
      "memory usage: 36.0+ KB\n"
     ]
    }
   ],
   "source": [
    "test.info()"
   ]
  },
  {
   "cell_type": "code",
   "execution_count": 6,
   "id": "contemporary-square",
   "metadata": {},
   "outputs": [
    {
     "data": {
      "text/html": [
       "<div>\n",
       "<style scoped>\n",
       "    .dataframe tbody tr th:only-of-type {\n",
       "        vertical-align: middle;\n",
       "    }\n",
       "\n",
       "    .dataframe tbody tr th {\n",
       "        vertical-align: top;\n",
       "    }\n",
       "\n",
       "    .dataframe thead th {\n",
       "        text-align: right;\n",
       "    }\n",
       "</style>\n",
       "<table border=\"1\" class=\"dataframe\">\n",
       "  <thead>\n",
       "    <tr style=\"text-align: right;\">\n",
       "      <th></th>\n",
       "      <th>PassengerId</th>\n",
       "      <th>Survived</th>\n",
       "      <th>Pclass</th>\n",
       "      <th>Name</th>\n",
       "      <th>Sex</th>\n",
       "      <th>Age</th>\n",
       "      <th>SibSp</th>\n",
       "      <th>Parch</th>\n",
       "      <th>Ticket</th>\n",
       "      <th>Fare</th>\n",
       "      <th>Cabin</th>\n",
       "      <th>Embarked</th>\n",
       "    </tr>\n",
       "  </thead>\n",
       "  <tbody>\n",
       "    <tr>\n",
       "      <th>0</th>\n",
       "      <td>1</td>\n",
       "      <td>0</td>\n",
       "      <td>3</td>\n",
       "      <td>Braund, Mr. Owen Harris</td>\n",
       "      <td>male</td>\n",
       "      <td>22.0</td>\n",
       "      <td>1</td>\n",
       "      <td>0</td>\n",
       "      <td>A/5 21171</td>\n",
       "      <td>7.2500</td>\n",
       "      <td>NaN</td>\n",
       "      <td>S</td>\n",
       "    </tr>\n",
       "    <tr>\n",
       "      <th>1</th>\n",
       "      <td>2</td>\n",
       "      <td>1</td>\n",
       "      <td>1</td>\n",
       "      <td>Cumings, Mrs. John Bradley (Florence Briggs Th...</td>\n",
       "      <td>female</td>\n",
       "      <td>38.0</td>\n",
       "      <td>1</td>\n",
       "      <td>0</td>\n",
       "      <td>PC 17599</td>\n",
       "      <td>71.2833</td>\n",
       "      <td>C85</td>\n",
       "      <td>C</td>\n",
       "    </tr>\n",
       "    <tr>\n",
       "      <th>2</th>\n",
       "      <td>3</td>\n",
       "      <td>1</td>\n",
       "      <td>3</td>\n",
       "      <td>Heikkinen, Miss. Laina</td>\n",
       "      <td>female</td>\n",
       "      <td>26.0</td>\n",
       "      <td>0</td>\n",
       "      <td>0</td>\n",
       "      <td>STON/O2. 3101282</td>\n",
       "      <td>7.9250</td>\n",
       "      <td>NaN</td>\n",
       "      <td>S</td>\n",
       "    </tr>\n",
       "    <tr>\n",
       "      <th>3</th>\n",
       "      <td>4</td>\n",
       "      <td>1</td>\n",
       "      <td>1</td>\n",
       "      <td>Futrelle, Mrs. Jacques Heath (Lily May Peel)</td>\n",
       "      <td>female</td>\n",
       "      <td>35.0</td>\n",
       "      <td>1</td>\n",
       "      <td>0</td>\n",
       "      <td>113803</td>\n",
       "      <td>53.1000</td>\n",
       "      <td>C123</td>\n",
       "      <td>S</td>\n",
       "    </tr>\n",
       "    <tr>\n",
       "      <th>4</th>\n",
       "      <td>5</td>\n",
       "      <td>0</td>\n",
       "      <td>3</td>\n",
       "      <td>Allen, Mr. William Henry</td>\n",
       "      <td>male</td>\n",
       "      <td>35.0</td>\n",
       "      <td>0</td>\n",
       "      <td>0</td>\n",
       "      <td>373450</td>\n",
       "      <td>8.0500</td>\n",
       "      <td>NaN</td>\n",
       "      <td>S</td>\n",
       "    </tr>\n",
       "  </tbody>\n",
       "</table>\n",
       "</div>"
      ],
      "text/plain": [
       "   PassengerId  Survived  Pclass  \\\n",
       "0            1         0       3   \n",
       "1            2         1       1   \n",
       "2            3         1       3   \n",
       "3            4         1       1   \n",
       "4            5         0       3   \n",
       "\n",
       "                                                Name     Sex   Age  SibSp  \\\n",
       "0                            Braund, Mr. Owen Harris    male  22.0      1   \n",
       "1  Cumings, Mrs. John Bradley (Florence Briggs Th...  female  38.0      1   \n",
       "2                             Heikkinen, Miss. Laina  female  26.0      0   \n",
       "3       Futrelle, Mrs. Jacques Heath (Lily May Peel)  female  35.0      1   \n",
       "4                           Allen, Mr. William Henry    male  35.0      0   \n",
       "\n",
       "   Parch            Ticket     Fare Cabin Embarked  \n",
       "0      0         A/5 21171   7.2500   NaN        S  \n",
       "1      0          PC 17599  71.2833   C85        C  \n",
       "2      0  STON/O2. 3101282   7.9250   NaN        S  \n",
       "3      0            113803  53.1000  C123        S  \n",
       "4      0            373450   8.0500   NaN        S  "
      ]
     },
     "execution_count": 6,
     "metadata": {},
     "output_type": "execute_result"
    }
   ],
   "source": [
    "train.head()  #test.head()"
   ]
  },
  {
   "cell_type": "markdown",
   "id": "antique-resident",
   "metadata": {},
   "source": [
    "### target label 확인(분포, 값)"
   ]
  },
  {
   "cell_type": "code",
   "execution_count": 7,
   "id": "instant-alignment",
   "metadata": {},
   "outputs": [
    {
     "data": {
      "text/plain": [
       "0    549\n",
       "1    342\n",
       "Name: Survived, dtype: int64"
      ]
     },
     "execution_count": 7,
     "metadata": {},
     "output_type": "execute_result"
    }
   ],
   "source": [
    "train['Survived'].value_counts()"
   ]
  },
  {
   "cell_type": "code",
   "execution_count": 8,
   "id": "understanding-secretary",
   "metadata": {},
   "outputs": [
    {
     "name": "stdout",
     "output_type": "stream",
     "text": [
      "61.61616161616161\n",
      "38.38383838383838\n"
     ]
    }
   ],
   "source": [
    "print(train[train['Survived']==0]['Survived'].count() / train.shape[0] * 100)\n",
    "print(train[train['Survived']==1]['Survived'].count() / train.shape[0] * 100)"
   ]
  },
  {
   "cell_type": "markdown",
   "id": "periodic-truck",
   "metadata": {},
   "source": [
    "# 결측 확인(Missing Value)"
   ]
  },
  {
   "cell_type": "code",
   "execution_count": 9,
   "id": "municipal-document",
   "metadata": {},
   "outputs": [
    {
     "data": {
      "text/plain": [
       "PassengerId      0\n",
       "Survived         0\n",
       "Pclass           0\n",
       "Name             0\n",
       "Sex              0\n",
       "Age            177\n",
       "SibSp            0\n",
       "Parch            0\n",
       "Ticket           0\n",
       "Fare             0\n",
       "Cabin          687\n",
       "Embarked         2\n",
       "dtype: int64"
      ]
     },
     "execution_count": 9,
     "metadata": {},
     "output_type": "execute_result"
    }
   ],
   "source": [
    "train.isna().sum()"
   ]
  },
  {
   "cell_type": "code",
   "execution_count": 10,
   "id": "reasonable-township",
   "metadata": {},
   "outputs": [
    {
     "data": {
      "text/plain": [
       "PassengerId      0\n",
       "Pclass           0\n",
       "Name             0\n",
       "Sex              0\n",
       "Age             86\n",
       "SibSp            0\n",
       "Parch            0\n",
       "Ticket           0\n",
       "Fare             1\n",
       "Cabin          327\n",
       "Embarked         0\n",
       "dtype: int64"
      ]
     },
     "execution_count": 10,
     "metadata": {},
     "output_type": "execute_result"
    }
   ],
   "source": [
    "test.isna().sum()"
   ]
  },
  {
   "cell_type": "code",
   "execution_count": 11,
   "id": "assured-consortium",
   "metadata": {},
   "outputs": [
    {
     "data": {
      "text/plain": [
       "(1309, 12)"
      ]
     },
     "execution_count": 11,
     "metadata": {},
     "output_type": "execute_result"
    }
   ],
   "source": [
    "train_test = train.append(test)\n",
    "train_test.shape"
   ]
  },
  {
   "cell_type": "code",
   "execution_count": 12,
   "id": "7a23b9ba-1931-4c95-a981-61af2d1d336f",
   "metadata": {},
   "outputs": [
    {
     "data": {
      "text/plain": [
       "array([[<AxesSubplot:title={'center':'PassengerId'}>,\n",
       "        <AxesSubplot:title={'center':'Survived'}>,\n",
       "        <AxesSubplot:title={'center':'Pclass'}>],\n",
       "       [<AxesSubplot:title={'center':'Age'}>,\n",
       "        <AxesSubplot:title={'center':'SibSp'}>,\n",
       "        <AxesSubplot:title={'center':'Parch'}>],\n",
       "       [<AxesSubplot:title={'center':'Fare'}>, <AxesSubplot:>,\n",
       "        <AxesSubplot:>]], dtype=object)"
      ]
     },
     "execution_count": 12,
     "metadata": {},
     "output_type": "execute_result"
    },
    {
     "data": {
      "image/png": "[encoded data removed]",
      "text/plain": [
       "<Figure size 432x288 with 9 Axes>"
      ]
     },
     "metadata": {
      "needs_background": "light"
     },
     "output_type": "display_data"
    }
   ],
   "source": [
    "train_test.hist()"
   ]
  },
  {
   "cell_type": "code",
   "execution_count": 13,
   "id": "f46f6d88-d6cc-4ea2-b660-b3caf3b2087d",
   "metadata": {},
   "outputs": [
    {
     "data": {
      "text/html": [
       "<div>\n",
       "<style scoped>\n",
       "    .dataframe tbody tr th:only-of-type {\n",
       "        vertical-align: middle;\n",
       "    }\n",
       "\n",
       "    .dataframe tbody tr th {\n",
       "        vertical-align: top;\n",
       "    }\n",
       "\n",
       "    .dataframe thead th {\n",
       "        text-align: right;\n",
       "    }\n",
       "</style>\n",
       "<table border=\"1\" class=\"dataframe\">\n",
       "  <thead>\n",
       "    <tr style=\"text-align: right;\">\n",
       "      <th></th>\n",
       "      <th>PassengerId</th>\n",
       "      <th>Survived</th>\n",
       "      <th>Pclass</th>\n",
       "      <th>Age</th>\n",
       "      <th>SibSp</th>\n",
       "      <th>Parch</th>\n",
       "      <th>Fare</th>\n",
       "    </tr>\n",
       "  </thead>\n",
       "  <tbody>\n",
       "    <tr>\n",
       "      <th>count</th>\n",
       "      <td>1309.000000</td>\n",
       "      <td>891.000000</td>\n",
       "      <td>1309.000000</td>\n",
       "      <td>1046.000000</td>\n",
       "      <td>1309.000000</td>\n",
       "      <td>1309.000000</td>\n",
       "      <td>1308.000000</td>\n",
       "    </tr>\n",
       "    <tr>\n",
       "      <th>mean</th>\n",
       "      <td>655.000000</td>\n",
       "      <td>0.383838</td>\n",
       "      <td>2.294882</td>\n",
       "      <td>29.881138</td>\n",
       "      <td>0.498854</td>\n",
       "      <td>0.385027</td>\n",
       "      <td>33.295479</td>\n",
       "    </tr>\n",
       "    <tr>\n",
       "      <th>std</th>\n",
       "      <td>378.020061</td>\n",
       "      <td>0.486592</td>\n",
       "      <td>0.837836</td>\n",
       "      <td>14.413493</td>\n",
       "      <td>1.041658</td>\n",
       "      <td>0.865560</td>\n",
       "      <td>51.758668</td>\n",
       "    </tr>\n",
       "    <tr>\n",
       "      <th>min</th>\n",
       "      <td>1.000000</td>\n",
       "      <td>0.000000</td>\n",
       "      <td>1.000000</td>\n",
       "      <td>0.170000</td>\n",
       "      <td>0.000000</td>\n",
       "      <td>0.000000</td>\n",
       "      <td>0.000000</td>\n",
       "    </tr>\n",
       "    <tr>\n",
       "      <th>25%</th>\n",
       "      <td>328.000000</td>\n",
       "      <td>0.000000</td>\n",
       "      <td>2.000000</td>\n",
       "      <td>21.000000</td>\n",
       "      <td>0.000000</td>\n",
       "      <td>0.000000</td>\n",
       "      <td>7.895800</td>\n",
       "    </tr>\n",
       "    <tr>\n",
       "      <th>50%</th>\n",
       "      <td>655.000000</td>\n",
       "      <td>0.000000</td>\n",
       "      <td>3.000000</td>\n",
       "      <td>28.000000</td>\n",
       "      <td>0.000000</td>\n",
       "      <td>0.000000</td>\n",
       "      <td>14.454200</td>\n",
       "    </tr>\n",
       "    <tr>\n",
       "      <th>75%</th>\n",
       "      <td>982.000000</td>\n",
       "      <td>1.000000</td>\n",
       "      <td>3.000000</td>\n",
       "      <td>39.000000</td>\n",
       "      <td>1.000000</td>\n",
       "      <td>0.000000</td>\n",
       "      <td>31.275000</td>\n",
       "    </tr>\n",
       "    <tr>\n",
       "      <th>max</th>\n",
       "      <td>1309.000000</td>\n",
       "      <td>1.000000</td>\n",
       "      <td>3.000000</td>\n",
       "      <td>80.000000</td>\n",
       "      <td>8.000000</td>\n",
       "      <td>9.000000</td>\n",
       "      <td>512.329200</td>\n",
       "    </tr>\n",
       "  </tbody>\n",
       "</table>\n",
       "</div>"
      ],
      "text/plain": [
       "       PassengerId    Survived       Pclass          Age        SibSp  \\\n",
       "count  1309.000000  891.000000  1309.000000  1046.000000  1309.000000   \n",
       "mean    655.000000    0.383838     2.294882    29.881138     0.498854   \n",
       "std     378.020061    0.486592     0.837836    14.413493     1.041658   \n",
       "min       1.000000    0.000000     1.000000     0.170000     0.000000   \n",
       "25%     328.000000    0.000000     2.000000    21.000000     0.000000   \n",
       "50%     655.000000    0.000000     3.000000    28.000000     0.000000   \n",
       "75%     982.000000    1.000000     3.000000    39.000000     1.000000   \n",
       "max    1309.000000    1.000000     3.000000    80.000000     8.000000   \n",
       "\n",
       "             Parch         Fare  \n",
       "count  1309.000000  1308.000000  \n",
       "mean      0.385027    33.295479  \n",
       "std       0.865560    51.758668  \n",
       "min       0.000000     0.000000  \n",
       "25%       0.000000     7.895800  \n",
       "50%       0.000000    14.454200  \n",
       "75%       0.000000    31.275000  \n",
       "max       9.000000   512.329200  "
      ]
     },
     "execution_count": 13,
     "metadata": {},
     "output_type": "execute_result"
    }
   ],
   "source": [
    "train_test.describe()"
   ]
  },
  {
   "cell_type": "markdown",
   "id": "informative-blogger",
   "metadata": {},
   "source": [
    "## 공통함수"
   ]
  },
  {
   "cell_type": "code",
   "execution_count": 14,
   "id": "metallic-prior",
   "metadata": {},
   "outputs": [
    {
     "data": {
      "text/html": [
       "<div>\n",
       "<style scoped>\n",
       "    .dataframe tbody tr th:only-of-type {\n",
       "        vertical-align: middle;\n",
       "    }\n",
       "\n",
       "    .dataframe tbody tr th {\n",
       "        vertical-align: top;\n",
       "    }\n",
       "\n",
       "    .dataframe thead th {\n",
       "        text-align: right;\n",
       "    }\n",
       "</style>\n",
       "<table border=\"1\" class=\"dataframe\">\n",
       "  <thead>\n",
       "    <tr style=\"text-align: right;\">\n",
       "      <th></th>\n",
       "      <th>PassengerId</th>\n",
       "      <th>Survived</th>\n",
       "      <th>Pclass</th>\n",
       "      <th>Name</th>\n",
       "      <th>Sex</th>\n",
       "      <th>Age</th>\n",
       "      <th>SibSp</th>\n",
       "      <th>Parch</th>\n",
       "      <th>Ticket</th>\n",
       "      <th>Fare</th>\n",
       "      <th>Cabin</th>\n",
       "      <th>Embarked</th>\n",
       "    </tr>\n",
       "  </thead>\n",
       "  <tbody>\n",
       "    <tr>\n",
       "      <th>CNT</th>\n",
       "      <td>0.0</td>\n",
       "      <td>418.000000</td>\n",
       "      <td>0.0</td>\n",
       "      <td>0.0</td>\n",
       "      <td>0.0</td>\n",
       "      <td>263.000000</td>\n",
       "      <td>0.0</td>\n",
       "      <td>0.0</td>\n",
       "      <td>0.0</td>\n",
       "      <td>1.000000</td>\n",
       "      <td>1014.000000</td>\n",
       "      <td>2.000000</td>\n",
       "    </tr>\n",
       "    <tr>\n",
       "      <th>RATE</th>\n",
       "      <td>0.0</td>\n",
       "      <td>31.932773</td>\n",
       "      <td>0.0</td>\n",
       "      <td>0.0</td>\n",
       "      <td>0.0</td>\n",
       "      <td>20.091673</td>\n",
       "      <td>0.0</td>\n",
       "      <td>0.0</td>\n",
       "      <td>0.0</td>\n",
       "      <td>0.076394</td>\n",
       "      <td>77.463713</td>\n",
       "      <td>0.152788</td>\n",
       "    </tr>\n",
       "  </tbody>\n",
       "</table>\n",
       "</div>"
      ],
      "text/plain": [
       "      PassengerId    Survived  Pclass  Name  Sex         Age  SibSp  Parch  \\\n",
       "CNT           0.0  418.000000     0.0   0.0  0.0  263.000000    0.0    0.0   \n",
       "RATE          0.0   31.932773     0.0   0.0  0.0   20.091673    0.0    0.0   \n",
       "\n",
       "      Ticket      Fare        Cabin  Embarked  \n",
       "CNT      0.0  1.000000  1014.000000  2.000000  \n",
       "RATE     0.0  0.076394    77.463713  0.152788  "
      ]
     },
     "execution_count": 14,
     "metadata": {},
     "output_type": "execute_result"
    }
   ],
   "source": [
    "def nan_check():\n",
    "    nan_dict = {\"CNT\" : train_test.isna().sum(),\n",
    "                \"RATE\" :train_test.isna().sum() / train_test.shape[0] * 100 }\n",
    "    nan_df = pd.DataFrame(nan_dict)\n",
    "    return nan_df.head(20).T\n",
    "nan_check()"
   ]
  },
  {
   "cell_type": "markdown",
   "id": "acute-cruise",
   "metadata": {},
   "source": [
    "# Feature Engineering (가공)"
   ]
  },
  {
   "cell_type": "markdown",
   "id": "previous-pound",
   "metadata": {},
   "source": [
    "###  1.. 인코딩(encoding) : Object --> numeric 타입 변환\n",
    "<pre>\n",
    "3   Name         891 non-null    object  ---> Mr.Miss.\n",
    "4   Sex          891 non-null    object  ---> 1/0\n",
    "8   Ticket       891 non-null    object  ---> drop\n",
    "10  Cabin        204 non-null    object  ---> A~E??? \n",
    "11  Embarked     889 non-null    object  ---> 0/1/2\n",
    "</pre>"
   ]
  },
  {
   "cell_type": "markdown",
   "id": "hourly-upset",
   "metadata": {},
   "source": [
    "* 10  Cabin        204 non-null    object  ---> A~E??? "
   ]
  },
  {
   "cell_type": "code",
   "execution_count": 15,
   "id": "cutting-discretion",
   "metadata": {},
   "outputs": [
    {
     "data": {
      "text/plain": [
       "'el'"
      ]
     },
     "execution_count": 15,
     "metadata": {},
     "output_type": "execute_result"
    }
   ],
   "source": [
    "\"hello\"[1:3]"
   ]
  },
  {
   "cell_type": "code",
   "execution_count": 16,
   "id": "exceptional-victim",
   "metadata": {},
   "outputs": [
    {
     "data": {
      "text/html": [
       "<div>\n",
       "<style scoped>\n",
       "    .dataframe tbody tr th:only-of-type {\n",
       "        vertical-align: middle;\n",
       "    }\n",
       "\n",
       "    .dataframe tbody tr th {\n",
       "        vertical-align: top;\n",
       "    }\n",
       "\n",
       "    .dataframe thead th {\n",
       "        text-align: right;\n",
       "    }\n",
       "</style>\n",
       "<table border=\"1\" class=\"dataframe\">\n",
       "  <thead>\n",
       "    <tr style=\"text-align: right;\">\n",
       "      <th>Survived</th>\n",
       "      <th>0</th>\n",
       "      <th>1</th>\n",
       "    </tr>\n",
       "    <tr>\n",
       "      <th>Cabin</th>\n",
       "      <th></th>\n",
       "      <th></th>\n",
       "    </tr>\n",
       "  </thead>\n",
       "  <tbody>\n",
       "    <tr>\n",
       "      <th>A</th>\n",
       "      <td>8</td>\n",
       "      <td>7</td>\n",
       "    </tr>\n",
       "    <tr>\n",
       "      <th>B</th>\n",
       "      <td>12</td>\n",
       "      <td>35</td>\n",
       "    </tr>\n",
       "    <tr>\n",
       "      <th>C</th>\n",
       "      <td>24</td>\n",
       "      <td>35</td>\n",
       "    </tr>\n",
       "    <tr>\n",
       "      <th>D</th>\n",
       "      <td>8</td>\n",
       "      <td>25</td>\n",
       "    </tr>\n",
       "    <tr>\n",
       "      <th>E</th>\n",
       "      <td>8</td>\n",
       "      <td>24</td>\n",
       "    </tr>\n",
       "    <tr>\n",
       "      <th>F</th>\n",
       "      <td>5</td>\n",
       "      <td>8</td>\n",
       "    </tr>\n",
       "    <tr>\n",
       "      <th>G</th>\n",
       "      <td>2</td>\n",
       "      <td>2</td>\n",
       "    </tr>\n",
       "    <tr>\n",
       "      <th>T</th>\n",
       "      <td>1</td>\n",
       "      <td>0</td>\n",
       "    </tr>\n",
       "  </tbody>\n",
       "</table>\n",
       "</div>"
      ],
      "text/plain": [
       "Survived   0   1\n",
       "Cabin           \n",
       "A          8   7\n",
       "B         12  35\n",
       "C         24  35\n",
       "D          8  25\n",
       "E          8  24\n",
       "F          5   8\n",
       "G          2   2\n",
       "T          1   0"
      ]
     },
     "execution_count": 16,
     "metadata": {},
     "output_type": "execute_result"
    }
   ],
   "source": [
    "train_test['Cabin'].fillna('U0', inplace=True)\n",
    "# print(train_test['Cabin'].str[0:1].value_counts())\n",
    "train_test['Cabin'] = train_test['Cabin'].str[0:1]\n",
    "train['Cabin'] = train['Cabin'].str[0:1]\n",
    "\n",
    "cross = pd.crosstab(train['Cabin'], train['Survived'])\n",
    "cross\n"
   ]
  },
  {
   "cell_type": "code",
   "execution_count": 17,
   "id": "536b0212-0c49-4e3f-83aa-620d24d50e25",
   "metadata": {},
   "outputs": [
    {
     "data": {
      "text/html": [
       "<div>\n",
       "<style scoped>\n",
       "    .dataframe tbody tr th:only-of-type {\n",
       "        vertical-align: middle;\n",
       "    }\n",
       "\n",
       "    .dataframe tbody tr th {\n",
       "        vertical-align: top;\n",
       "    }\n",
       "\n",
       "    .dataframe thead th {\n",
       "        text-align: right;\n",
       "    }\n",
       "</style>\n",
       "<table border=\"1\" class=\"dataframe\">\n",
       "  <thead>\n",
       "    <tr style=\"text-align: right;\">\n",
       "      <th>Pclass</th>\n",
       "      <th>1</th>\n",
       "      <th>2</th>\n",
       "      <th>3</th>\n",
       "    </tr>\n",
       "    <tr>\n",
       "      <th>Cabin</th>\n",
       "      <th></th>\n",
       "      <th></th>\n",
       "      <th></th>\n",
       "    </tr>\n",
       "  </thead>\n",
       "  <tbody>\n",
       "    <tr>\n",
       "      <th>A</th>\n",
       "      <td>15</td>\n",
       "      <td>0</td>\n",
       "      <td>0</td>\n",
       "    </tr>\n",
       "    <tr>\n",
       "      <th>B</th>\n",
       "      <td>47</td>\n",
       "      <td>0</td>\n",
       "      <td>0</td>\n",
       "    </tr>\n",
       "    <tr>\n",
       "      <th>C</th>\n",
       "      <td>59</td>\n",
       "      <td>0</td>\n",
       "      <td>0</td>\n",
       "    </tr>\n",
       "    <tr>\n",
       "      <th>D</th>\n",
       "      <td>29</td>\n",
       "      <td>4</td>\n",
       "      <td>0</td>\n",
       "    </tr>\n",
       "    <tr>\n",
       "      <th>E</th>\n",
       "      <td>25</td>\n",
       "      <td>4</td>\n",
       "      <td>3</td>\n",
       "    </tr>\n",
       "    <tr>\n",
       "      <th>F</th>\n",
       "      <td>0</td>\n",
       "      <td>8</td>\n",
       "      <td>5</td>\n",
       "    </tr>\n",
       "    <tr>\n",
       "      <th>G</th>\n",
       "      <td>0</td>\n",
       "      <td>0</td>\n",
       "      <td>4</td>\n",
       "    </tr>\n",
       "    <tr>\n",
       "      <th>T</th>\n",
       "      <td>1</td>\n",
       "      <td>0</td>\n",
       "      <td>0</td>\n",
       "    </tr>\n",
       "  </tbody>\n",
       "</table>\n",
       "</div>"
      ],
      "text/plain": [
       "Pclass   1  2  3\n",
       "Cabin           \n",
       "A       15  0  0\n",
       "B       47  0  0\n",
       "C       59  0  0\n",
       "D       29  4  0\n",
       "E       25  4  3\n",
       "F        0  8  5\n",
       "G        0  0  4\n",
       "T        1  0  0"
      ]
     },
     "execution_count": 17,
     "metadata": {},
     "output_type": "execute_result"
    }
   ],
   "source": [
    "cross = pd.crosstab(train['Cabin'], train['Pclass'])\n",
    "cross"
   ]
  },
  {
   "cell_type": "markdown",
   "id": "built-tension",
   "metadata": {},
   "source": [
    "* 4   Sex          891 non-null    object  ---> 1/0\n",
    "* 11  Embarked     889 non-null    object  ---> 0/1/2\n",
    "-----\n",
    "1. 인코딩\n",
    "2. 원핫인코딩\n",
    "3. (1+2)df.get_dummy()\n",
    "4. map(), apply(), lambda"
   ]
  },
  {
   "cell_type": "code",
   "execution_count": 18,
   "id": "political-fifth",
   "metadata": {},
   "outputs": [
    {
     "data": {
      "text/plain": [
       "(1309, 12)"
      ]
     },
     "execution_count": 18,
     "metadata": {},
     "output_type": "execute_result"
    }
   ],
   "source": [
    "train_test.shape"
   ]
  },
  {
   "cell_type": "code",
   "execution_count": 19,
   "id": "5458db4f-b375-4688-bb6a-552140aa2f5a",
   "metadata": {},
   "outputs": [
    {
     "data": {
      "text/html": [
       "<div>\n",
       "<style scoped>\n",
       "    .dataframe tbody tr th:only-of-type {\n",
       "        vertical-align: middle;\n",
       "    }\n",
       "\n",
       "    .dataframe tbody tr th {\n",
       "        vertical-align: top;\n",
       "    }\n",
       "\n",
       "    .dataframe thead th {\n",
       "        text-align: right;\n",
       "    }\n",
       "</style>\n",
       "<table border=\"1\" class=\"dataframe\">\n",
       "  <thead>\n",
       "    <tr style=\"text-align: right;\">\n",
       "      <th></th>\n",
       "      <th>Sex</th>\n",
       "      <th>Embarked</th>\n",
       "    </tr>\n",
       "  </thead>\n",
       "  <tbody>\n",
       "    <tr>\n",
       "      <th>0</th>\n",
       "      <td>1</td>\n",
       "      <td>S</td>\n",
       "    </tr>\n",
       "    <tr>\n",
       "      <th>1</th>\n",
       "      <td>0</td>\n",
       "      <td>C</td>\n",
       "    </tr>\n",
       "    <tr>\n",
       "      <th>2</th>\n",
       "      <td>0</td>\n",
       "      <td>S</td>\n",
       "    </tr>\n",
       "    <tr>\n",
       "      <th>3</th>\n",
       "      <td>0</td>\n",
       "      <td>S</td>\n",
       "    </tr>\n",
       "    <tr>\n",
       "      <th>4</th>\n",
       "      <td>1</td>\n",
       "      <td>S</td>\n",
       "    </tr>\n",
       "  </tbody>\n",
       "</table>\n",
       "</div>"
      ],
      "text/plain": [
       "   Sex Embarked\n",
       "0    1        S\n",
       "1    0        C\n",
       "2    0        S\n",
       "3    0        S\n",
       "4    1        S"
      ]
     },
     "execution_count": 19,
     "metadata": {},
     "output_type": "execute_result"
    }
   ],
   "source": [
    "cp1 = train_test[[\"Sex\",\"Embarked\"]].head()\n",
    "cp1 = cp1.replace(\"male\",1)\n",
    "cp1 = cp1.replace(\"female\",0)\n",
    "cp1.head()"
   ]
  },
  {
   "cell_type": "code",
   "execution_count": 20,
   "id": "98c7d787-9809-4cdb-b693-746314e97883",
   "metadata": {},
   "outputs": [
    {
     "data": {
      "text/html": [
       "<div>\n",
       "<style scoped>\n",
       "    .dataframe tbody tr th:only-of-type {\n",
       "        vertical-align: middle;\n",
       "    }\n",
       "\n",
       "    .dataframe tbody tr th {\n",
       "        vertical-align: top;\n",
       "    }\n",
       "\n",
       "    .dataframe thead th {\n",
       "        text-align: right;\n",
       "    }\n",
       "</style>\n",
       "<table border=\"1\" class=\"dataframe\">\n",
       "  <thead>\n",
       "    <tr style=\"text-align: right;\">\n",
       "      <th></th>\n",
       "      <th>Sex</th>\n",
       "      <th>Embarked</th>\n",
       "      <th>Sex22</th>\n",
       "    </tr>\n",
       "  </thead>\n",
       "  <tbody>\n",
       "    <tr>\n",
       "      <th>0</th>\n",
       "      <td>male</td>\n",
       "      <td>S</td>\n",
       "      <td>0</td>\n",
       "    </tr>\n",
       "    <tr>\n",
       "      <th>1</th>\n",
       "      <td>female</td>\n",
       "      <td>C</td>\n",
       "      <td>1</td>\n",
       "    </tr>\n",
       "    <tr>\n",
       "      <th>2</th>\n",
       "      <td>female</td>\n",
       "      <td>S</td>\n",
       "      <td>1</td>\n",
       "    </tr>\n",
       "    <tr>\n",
       "      <th>3</th>\n",
       "      <td>female</td>\n",
       "      <td>S</td>\n",
       "      <td>1</td>\n",
       "    </tr>\n",
       "    <tr>\n",
       "      <th>4</th>\n",
       "      <td>male</td>\n",
       "      <td>S</td>\n",
       "      <td>0</td>\n",
       "    </tr>\n",
       "  </tbody>\n",
       "</table>\n",
       "</div>"
      ],
      "text/plain": [
       "      Sex Embarked  Sex22\n",
       "0    male        S      0\n",
       "1  female        C      1\n",
       "2  female        S      1\n",
       "3  female        S      1\n",
       "4    male        S      0"
      ]
     },
     "execution_count": 20,
     "metadata": {},
     "output_type": "execute_result"
    }
   ],
   "source": [
    "cp2 = train_test[[\"Sex\",\"Embarked\"]].head()\n",
    "cp2.head()\n",
    "dict = {\"male\":0, \"female\":1}\n",
    "cp2[\"Sex22\"] = cp2[\"Sex\"].map(dict)\n",
    "cp2.head()"
   ]
  },
  {
   "cell_type": "code",
   "execution_count": 21,
   "id": "8e8a0977-e2dc-4826-b671-c848219199da",
   "metadata": {},
   "outputs": [
    {
     "data": {
      "text/html": [
       "<div>\n",
       "<style scoped>\n",
       "    .dataframe tbody tr th:only-of-type {\n",
       "        vertical-align: middle;\n",
       "    }\n",
       "\n",
       "    .dataframe tbody tr th {\n",
       "        vertical-align: top;\n",
       "    }\n",
       "\n",
       "    .dataframe thead th {\n",
       "        text-align: right;\n",
       "    }\n",
       "</style>\n",
       "<table border=\"1\" class=\"dataframe\">\n",
       "  <thead>\n",
       "    <tr style=\"text-align: right;\">\n",
       "      <th></th>\n",
       "      <th>Sex</th>\n",
       "      <th>Embarked</th>\n",
       "      <th>Sex22</th>\n",
       "    </tr>\n",
       "  </thead>\n",
       "  <tbody>\n",
       "    <tr>\n",
       "      <th>0</th>\n",
       "      <td>male</td>\n",
       "      <td>S</td>\n",
       "      <td>1</td>\n",
       "    </tr>\n",
       "    <tr>\n",
       "      <th>1</th>\n",
       "      <td>female</td>\n",
       "      <td>C</td>\n",
       "      <td>0</td>\n",
       "    </tr>\n",
       "    <tr>\n",
       "      <th>2</th>\n",
       "      <td>female</td>\n",
       "      <td>S</td>\n",
       "      <td>0</td>\n",
       "    </tr>\n",
       "    <tr>\n",
       "      <th>3</th>\n",
       "      <td>female</td>\n",
       "      <td>S</td>\n",
       "      <td>0</td>\n",
       "    </tr>\n",
       "    <tr>\n",
       "      <th>4</th>\n",
       "      <td>male</td>\n",
       "      <td>S</td>\n",
       "      <td>1</td>\n",
       "    </tr>\n",
       "  </tbody>\n",
       "</table>\n",
       "</div>"
      ],
      "text/plain": [
       "      Sex Embarked  Sex22\n",
       "0    male        S      1\n",
       "1  female        C      0\n",
       "2  female        S      0\n",
       "3  female        S      0\n",
       "4    male        S      1"
      ]
     },
     "execution_count": 21,
     "metadata": {},
     "output_type": "execute_result"
    }
   ],
   "source": [
    "cp3 = train_test[[\"Sex\",\"Embarked\"]].head()\n",
    "cp3[\"Sex22\"] = cp3[\"Sex\"].apply(lambda x : 1 if x=='male' else 0)\n",
    "cp3.head()"
   ]
  },
  {
   "cell_type": "code",
   "execution_count": 22,
   "id": "b3426095-9d11-4d78-badc-90506b680b94",
   "metadata": {},
   "outputs": [
    {
     "name": "stdout",
     "output_type": "stream",
     "text": [
      "['S' 'C' 'Q' nan]\n",
      "3\n",
      "S    914\n",
      "C    270\n",
      "Q    123\n",
      "Name: Embarked, dtype: int64\n",
      "0    S\n",
      "dtype: object\n"
     ]
    }
   ],
   "source": [
    "print(train_test[\"Embarked\"].unique())        \n",
    "print(train_test[\"Embarked\"].nunique())        \n",
    "print(train_test[\"Embarked\"].value_counts())  #S\n",
    "print(train_test[\"Embarked\"].mode())          #최빈값"
   ]
  },
  {
   "cell_type": "code",
   "execution_count": 23,
   "id": "9e52a14c-512a-4c23-950e-0b41620e605c",
   "metadata": {},
   "outputs": [
    {
     "data": {
      "text/plain": [
       "0"
      ]
     },
     "execution_count": 23,
     "metadata": {},
     "output_type": "execute_result"
    }
   ],
   "source": [
    "train_test[\"Embarked\"].fillna(\"S\", inplace=True)\n",
    "train_test[\"Embarked\"].isna().sum()"
   ]
  },
  {
   "cell_type": "code",
   "execution_count": 24,
   "id": "a2847dc5-358d-4706-b41a-e7477486c5c4",
   "metadata": {},
   "outputs": [],
   "source": [
    "#train_test[\"Embarked\"].fillna(train_test[\"Embarked\"].mode(), inplace=True)\n",
    "#train_test[\"Embarked\"].isna().sum()"
   ]
  },
  {
   "cell_type": "code",
   "execution_count": 25,
   "id": "b77f2bcd-4920-4c9d-8c18-51313b011fcb",
   "metadata": {},
   "outputs": [
    {
     "data": {
      "text/html": [
       "<div>\n",
       "<style scoped>\n",
       "    .dataframe tbody tr th:only-of-type {\n",
       "        vertical-align: middle;\n",
       "    }\n",
       "\n",
       "    .dataframe tbody tr th {\n",
       "        vertical-align: top;\n",
       "    }\n",
       "\n",
       "    .dataframe thead th {\n",
       "        text-align: right;\n",
       "    }\n",
       "</style>\n",
       "<table border=\"1\" class=\"dataframe\">\n",
       "  <thead>\n",
       "    <tr style=\"text-align: right;\">\n",
       "      <th></th>\n",
       "      <th>Sex</th>\n",
       "      <th>Embarked</th>\n",
       "      <th>Embarked22</th>\n",
       "    </tr>\n",
       "  </thead>\n",
       "  <tbody>\n",
       "    <tr>\n",
       "      <th>0</th>\n",
       "      <td>male</td>\n",
       "      <td>S</td>\n",
       "      <td>0</td>\n",
       "    </tr>\n",
       "    <tr>\n",
       "      <th>1</th>\n",
       "      <td>female</td>\n",
       "      <td>C</td>\n",
       "      <td>1</td>\n",
       "    </tr>\n",
       "    <tr>\n",
       "      <th>2</th>\n",
       "      <td>female</td>\n",
       "      <td>S</td>\n",
       "      <td>0</td>\n",
       "    </tr>\n",
       "    <tr>\n",
       "      <th>3</th>\n",
       "      <td>female</td>\n",
       "      <td>S</td>\n",
       "      <td>0</td>\n",
       "    </tr>\n",
       "    <tr>\n",
       "      <th>4</th>\n",
       "      <td>male</td>\n",
       "      <td>S</td>\n",
       "      <td>0</td>\n",
       "    </tr>\n",
       "  </tbody>\n",
       "</table>\n",
       "</div>"
      ],
      "text/plain": [
       "      Sex Embarked  Embarked22\n",
       "0    male        S           0\n",
       "1  female        C           1\n",
       "2  female        S           0\n",
       "3  female        S           0\n",
       "4    male        S           0"
      ]
     },
     "execution_count": 25,
     "metadata": {},
     "output_type": "execute_result"
    }
   ],
   "source": [
    "cp4 = train_test[[\"Sex\",\"Embarked\"]].head()\n",
    "#'S'0 'C'1 'Q'2 \n",
    "cp4[\"Embarked22\"] = cp3[\"Embarked\"].apply(lambda x : 0 if x=='S' else (1 if x=='C' else 2) )\n",
    "cp4.head()"
   ]
  },
  {
   "cell_type": "code",
   "execution_count": 26,
   "id": "a9757980-9e6d-4991-8b80-aa9e4dc30a13",
   "metadata": {},
   "outputs": [
    {
     "data": {
      "text/html": [
       "<div>\n",
       "<style scoped>\n",
       "    .dataframe tbody tr th:only-of-type {\n",
       "        vertical-align: middle;\n",
       "    }\n",
       "\n",
       "    .dataframe tbody tr th {\n",
       "        vertical-align: top;\n",
       "    }\n",
       "\n",
       "    .dataframe thead th {\n",
       "        text-align: right;\n",
       "    }\n",
       "</style>\n",
       "<table border=\"1\" class=\"dataframe\">\n",
       "  <thead>\n",
       "    <tr style=\"text-align: right;\">\n",
       "      <th></th>\n",
       "      <th>Sex</th>\n",
       "      <th>Embarked</th>\n",
       "    </tr>\n",
       "  </thead>\n",
       "  <tbody>\n",
       "    <tr>\n",
       "      <th>0</th>\n",
       "      <td>1</td>\n",
       "      <td>0</td>\n",
       "    </tr>\n",
       "    <tr>\n",
       "      <th>1</th>\n",
       "      <td>0</td>\n",
       "      <td>1</td>\n",
       "    </tr>\n",
       "    <tr>\n",
       "      <th>2</th>\n",
       "      <td>0</td>\n",
       "      <td>0</td>\n",
       "    </tr>\n",
       "    <tr>\n",
       "      <th>3</th>\n",
       "      <td>0</td>\n",
       "      <td>0</td>\n",
       "    </tr>\n",
       "    <tr>\n",
       "      <th>4</th>\n",
       "      <td>1</td>\n",
       "      <td>0</td>\n",
       "    </tr>\n",
       "  </tbody>\n",
       "</table>\n",
       "</div>"
      ],
      "text/plain": [
       "   Sex  Embarked\n",
       "0    1         0\n",
       "1    0         1\n",
       "2    0         0\n",
       "3    0         0\n",
       "4    1         0"
      ]
     },
     "execution_count": 26,
     "metadata": {},
     "output_type": "execute_result"
    }
   ],
   "source": [
    "train_test[\"Sex\"] = train_test[\"Sex\"].apply(lambda x : 1 if x=='male' else 0)\n",
    "dict = {'S':0, 'C':1, 'Q':2 }\n",
    "train_test[\"Embarked\"] = train_test[\"Embarked\"].map(dict)\n",
    "train_test[[\"Sex\",\"Embarked\"]].head()"
   ]
  },
  {
   "cell_type": "code",
   "execution_count": 27,
   "id": "64b4ec70-c2e0-4f9d-985d-78d4aea29b62",
   "metadata": {},
   "outputs": [
    {
     "name": "stdout",
     "output_type": "stream",
     "text": [
      "[0 1 2]\n"
     ]
    }
   ],
   "source": [
    "print(train_test[\"Embarked\"].unique())    "
   ]
  },
  {
   "cell_type": "code",
   "execution_count": 28,
   "id": "herbal-feedback",
   "metadata": {},
   "outputs": [],
   "source": [
    "# train_test = pd.get_dummies(train_test)\n",
    "# train_test.shape\n",
    "# train_test.head()"
   ]
  },
  {
   "cell_type": "markdown",
   "id": "ac37010a-d366-4e61-8e1d-d9149ae55879",
   "metadata": {},
   "source": [
    "### 2.. 결측값 채우기"
   ]
  },
  {
   "cell_type": "markdown",
   "id": "75dba44a-e2e7-4e53-844b-f3899c677547",
   "metadata": {},
   "source": [
    "* Age            177  --> 호칭별 그룹 평균값\n",
    "* Cabin          687  --> 너무도 많은(50%이상) 결측 버린다\n",
    "* Embarked         2  --> 최빈값(빈도가 가장 많은)\n",
    "* Fare             1  --> 유사한 [동행자수,등급] (평균값)\n",
    "----\n",
    "df.fillna()"
   ]
  },
  {
   "cell_type": "code",
   "execution_count": 29,
   "id": "0e1c8070-3413-478c-a4a0-ec8de6c54405",
   "metadata": {},
   "outputs": [
    {
     "data": {
      "text/plain": [
       "Mr          757\n",
       "Miss        260\n",
       "Mrs         197\n",
       "Master       61\n",
       "Rev           8\n",
       "Dr            8\n",
       "Col           4\n",
       "Mlle          2\n",
       "Major         2\n",
       "Ms            2\n",
       "Lady          1\n",
       "Sir           1\n",
       "Mme           1\n",
       "Don           1\n",
       "Capt          1\n",
       "Countess      1\n",
       "Jonkheer      1\n",
       "Dona          1\n",
       "Name: Name_title, dtype: int64"
      ]
     },
     "execution_count": 29,
     "metadata": {},
     "output_type": "execute_result"
    }
   ],
   "source": [
    "train_test[\"Name_title\"] = train_test[\"Name\"].str.extract('([A-Za-z]+)\\.')\n",
    "train_test[\"Name_title\"].value_counts()"
   ]
  },
  {
   "cell_type": "code",
   "execution_count": 30,
   "id": "67f4d9e5-6f4d-4e34-8024-11982f61bf37",
   "metadata": {},
   "outputs": [
    {
     "data": {
      "text/plain": [
       "array(['Mr', 'Mrs', 'Miss', 'Master', 'Dr', 'Ms'], dtype=object)"
      ]
     },
     "execution_count": 30,
     "metadata": {},
     "output_type": "execute_result"
    }
   ],
   "source": [
    " train_test[train_test[\"Age\"].isna()][\"Name_title\"].unique()"
   ]
  },
  {
   "cell_type": "code",
   "execution_count": 31,
   "id": "7b11a6ab-65cf-40d2-a9d8-2cbbb4655631",
   "metadata": {},
   "outputs": [
    {
     "data": {
      "text/html": [
       "<div>\n",
       "<style scoped>\n",
       "    .dataframe tbody tr th:only-of-type {\n",
       "        vertical-align: middle;\n",
       "    }\n",
       "\n",
       "    .dataframe tbody tr th {\n",
       "        vertical-align: top;\n",
       "    }\n",
       "\n",
       "    .dataframe thead th {\n",
       "        text-align: right;\n",
       "    }\n",
       "</style>\n",
       "<table border=\"1\" class=\"dataframe\">\n",
       "  <thead>\n",
       "    <tr style=\"text-align: right;\">\n",
       "      <th></th>\n",
       "      <th>Name</th>\n",
       "      <th>Name_title</th>\n",
       "    </tr>\n",
       "  </thead>\n",
       "  <tbody>\n",
       "    <tr>\n",
       "      <th>0</th>\n",
       "      <td>Braund, Mr. Owen Harris</td>\n",
       "      <td>0</td>\n",
       "    </tr>\n",
       "    <tr>\n",
       "      <th>1</th>\n",
       "      <td>Cumings, Mrs. John Bradley (Florence Briggs Th...</td>\n",
       "      <td>2</td>\n",
       "    </tr>\n",
       "    <tr>\n",
       "      <th>2</th>\n",
       "      <td>Heikkinen, Miss. Laina</td>\n",
       "      <td>1</td>\n",
       "    </tr>\n",
       "    <tr>\n",
       "      <th>3</th>\n",
       "      <td>Futrelle, Mrs. Jacques Heath (Lily May Peel)</td>\n",
       "      <td>2</td>\n",
       "    </tr>\n",
       "    <tr>\n",
       "      <th>4</th>\n",
       "      <td>Allen, Mr. William Henry</td>\n",
       "      <td>0</td>\n",
       "    </tr>\n",
       "  </tbody>\n",
       "</table>\n",
       "</div>"
      ],
      "text/plain": [
       "                                                Name  Name_title\n",
       "0                            Braund, Mr. Owen Harris           0\n",
       "1  Cumings, Mrs. John Bradley (Florence Briggs Th...           2\n",
       "2                             Heikkinen, Miss. Laina           1\n",
       "3       Futrelle, Mrs. Jacques Heath (Lily May Peel)           2\n",
       "4                           Allen, Mr. William Henry           0"
      ]
     },
     "execution_count": 31,
     "metadata": {},
     "output_type": "execute_result"
    }
   ],
   "source": [
    "title_map = {'Mr':0, \n",
    "       'Miss':1, 'Mlle':1, 'Ms':1, 'Lady':1,\n",
    "       'Mrs':2, 'Mme':2,\n",
    "       'Master':3, 'Dr':3, 'Sir':3,\n",
    "       'Rev':4, 'Col':4, 'Major':4, 'Don':4, 'Capt':4, 'Countess':4, 'Jonkheer':4, 'Dona':4}\n",
    "train_test[\"Name_title\"] = train_test[\"Name_title\"].map(title_map)\n",
    "train_test[[\"Name\",\"Name_title\"]].head()"
   ]
  },
  {
   "cell_type": "code",
   "execution_count": 32,
   "id": "03c70a7e-564a-4c86-82a2-775d540a398c",
   "metadata": {},
   "outputs": [
    {
     "name": "stdout",
     "output_type": "stream",
     "text": [
      "263\n",
      "0\n"
     ]
    }
   ],
   "source": [
    "# train_test.groupby(by=\"Name_title\")[\"Age\"].mean()\n",
    "print(train_test[\"Age\"].isna().sum())\n",
    "train_test[\"Age\"] = train_test[\"Age\"].fillna(  train_test.groupby(by=\"Name_title\")[\"Age\"].transform('mean')   )\n",
    "\n",
    "\n",
    "print(train_test[\"Age\"].isna().sum())"
   ]
  },
  {
   "cell_type": "markdown",
   "id": "ba6edf02-9232-40e0-98c6-bf133fc51ca5",
   "metadata": {},
   "source": [
    "#### 결측처리를 위한 파생변수 생성"
   ]
  },
  {
   "cell_type": "markdown",
   "id": "f178cfc4-cf23-48d2-bac4-123b0a14727b",
   "metadata": {},
   "source": [
    "* family = SibSp + Parch\n",
    "* SibSp, Parch --- 삭제"
   ]
  },
  {
   "cell_type": "code",
   "execution_count": 33,
   "id": "d318974c-60ac-4394-9337-a2dd7b522495",
   "metadata": {},
   "outputs": [
    {
     "data": {
      "text/html": [
       "<div>\n",
       "<style scoped>\n",
       "    .dataframe tbody tr th:only-of-type {\n",
       "        vertical-align: middle;\n",
       "    }\n",
       "\n",
       "    .dataframe tbody tr th {\n",
       "        vertical-align: top;\n",
       "    }\n",
       "\n",
       "    .dataframe thead th {\n",
       "        text-align: right;\n",
       "    }\n",
       "</style>\n",
       "<table border=\"1\" class=\"dataframe\">\n",
       "  <thead>\n",
       "    <tr style=\"text-align: right;\">\n",
       "      <th></th>\n",
       "      <th>family</th>\n",
       "      <th>SibSp</th>\n",
       "      <th>Parch</th>\n",
       "      <th>Pclass</th>\n",
       "      <th>Fare</th>\n",
       "    </tr>\n",
       "  </thead>\n",
       "  <tbody>\n",
       "    <tr>\n",
       "      <th>0</th>\n",
       "      <td>2</td>\n",
       "      <td>1</td>\n",
       "      <td>0</td>\n",
       "      <td>3</td>\n",
       "      <td>7.2500</td>\n",
       "    </tr>\n",
       "    <tr>\n",
       "      <th>1</th>\n",
       "      <td>2</td>\n",
       "      <td>1</td>\n",
       "      <td>0</td>\n",
       "      <td>1</td>\n",
       "      <td>71.2833</td>\n",
       "    </tr>\n",
       "    <tr>\n",
       "      <th>2</th>\n",
       "      <td>1</td>\n",
       "      <td>0</td>\n",
       "      <td>0</td>\n",
       "      <td>3</td>\n",
       "      <td>7.9250</td>\n",
       "    </tr>\n",
       "    <tr>\n",
       "      <th>3</th>\n",
       "      <td>2</td>\n",
       "      <td>1</td>\n",
       "      <td>0</td>\n",
       "      <td>1</td>\n",
       "      <td>53.1000</td>\n",
       "    </tr>\n",
       "    <tr>\n",
       "      <th>4</th>\n",
       "      <td>1</td>\n",
       "      <td>0</td>\n",
       "      <td>0</td>\n",
       "      <td>3</td>\n",
       "      <td>8.0500</td>\n",
       "    </tr>\n",
       "    <tr>\n",
       "      <th>5</th>\n",
       "      <td>1</td>\n",
       "      <td>0</td>\n",
       "      <td>0</td>\n",
       "      <td>3</td>\n",
       "      <td>8.4583</td>\n",
       "    </tr>\n",
       "    <tr>\n",
       "      <th>6</th>\n",
       "      <td>1</td>\n",
       "      <td>0</td>\n",
       "      <td>0</td>\n",
       "      <td>1</td>\n",
       "      <td>51.8625</td>\n",
       "    </tr>\n",
       "    <tr>\n",
       "      <th>7</th>\n",
       "      <td>5</td>\n",
       "      <td>3</td>\n",
       "      <td>1</td>\n",
       "      <td>3</td>\n",
       "      <td>21.0750</td>\n",
       "    </tr>\n",
       "    <tr>\n",
       "      <th>8</th>\n",
       "      <td>3</td>\n",
       "      <td>0</td>\n",
       "      <td>2</td>\n",
       "      <td>3</td>\n",
       "      <td>11.1333</td>\n",
       "    </tr>\n",
       "    <tr>\n",
       "      <th>9</th>\n",
       "      <td>2</td>\n",
       "      <td>1</td>\n",
       "      <td>0</td>\n",
       "      <td>2</td>\n",
       "      <td>30.0708</td>\n",
       "    </tr>\n",
       "    <tr>\n",
       "      <th>10</th>\n",
       "      <td>3</td>\n",
       "      <td>1</td>\n",
       "      <td>1</td>\n",
       "      <td>3</td>\n",
       "      <td>16.7000</td>\n",
       "    </tr>\n",
       "    <tr>\n",
       "      <th>11</th>\n",
       "      <td>1</td>\n",
       "      <td>0</td>\n",
       "      <td>0</td>\n",
       "      <td>1</td>\n",
       "      <td>26.5500</td>\n",
       "    </tr>\n",
       "    <tr>\n",
       "      <th>12</th>\n",
       "      <td>1</td>\n",
       "      <td>0</td>\n",
       "      <td>0</td>\n",
       "      <td>3</td>\n",
       "      <td>8.0500</td>\n",
       "    </tr>\n",
       "    <tr>\n",
       "      <th>13</th>\n",
       "      <td>7</td>\n",
       "      <td>1</td>\n",
       "      <td>5</td>\n",
       "      <td>3</td>\n",
       "      <td>31.2750</td>\n",
       "    </tr>\n",
       "    <tr>\n",
       "      <th>14</th>\n",
       "      <td>1</td>\n",
       "      <td>0</td>\n",
       "      <td>0</td>\n",
       "      <td>3</td>\n",
       "      <td>7.8542</td>\n",
       "    </tr>\n",
       "    <tr>\n",
       "      <th>15</th>\n",
       "      <td>1</td>\n",
       "      <td>0</td>\n",
       "      <td>0</td>\n",
       "      <td>2</td>\n",
       "      <td>16.0000</td>\n",
       "    </tr>\n",
       "    <tr>\n",
       "      <th>16</th>\n",
       "      <td>6</td>\n",
       "      <td>4</td>\n",
       "      <td>1</td>\n",
       "      <td>3</td>\n",
       "      <td>29.1250</td>\n",
       "    </tr>\n",
       "    <tr>\n",
       "      <th>17</th>\n",
       "      <td>1</td>\n",
       "      <td>0</td>\n",
       "      <td>0</td>\n",
       "      <td>2</td>\n",
       "      <td>13.0000</td>\n",
       "    </tr>\n",
       "    <tr>\n",
       "      <th>18</th>\n",
       "      <td>2</td>\n",
       "      <td>1</td>\n",
       "      <td>0</td>\n",
       "      <td>3</td>\n",
       "      <td>18.0000</td>\n",
       "    </tr>\n",
       "    <tr>\n",
       "      <th>19</th>\n",
       "      <td>1</td>\n",
       "      <td>0</td>\n",
       "      <td>0</td>\n",
       "      <td>3</td>\n",
       "      <td>7.2250</td>\n",
       "    </tr>\n",
       "  </tbody>\n",
       "</table>\n",
       "</div>"
      ],
      "text/plain": [
       "    family  SibSp  Parch  Pclass     Fare\n",
       "0        2      1      0       3   7.2500\n",
       "1        2      1      0       1  71.2833\n",
       "2        1      0      0       3   7.9250\n",
       "3        2      1      0       1  53.1000\n",
       "4        1      0      0       3   8.0500\n",
       "5        1      0      0       3   8.4583\n",
       "6        1      0      0       1  51.8625\n",
       "7        5      3      1       3  21.0750\n",
       "8        3      0      2       3  11.1333\n",
       "9        2      1      0       2  30.0708\n",
       "10       3      1      1       3  16.7000\n",
       "11       1      0      0       1  26.5500\n",
       "12       1      0      0       3   8.0500\n",
       "13       7      1      5       3  31.2750\n",
       "14       1      0      0       3   7.8542\n",
       "15       1      0      0       2  16.0000\n",
       "16       6      4      1       3  29.1250\n",
       "17       1      0      0       2  13.0000\n",
       "18       2      1      0       3  18.0000\n",
       "19       1      0      0       3   7.2250"
      ]
     },
     "execution_count": 33,
     "metadata": {},
     "output_type": "execute_result"
    }
   ],
   "source": [
    "train_test['family'] = train_test['SibSp'] + train_test['Parch'] + 1\n",
    "train_test[['family','SibSp','Parch','Pclass','Fare']].head(20)"
   ]
  },
  {
   "cell_type": "code",
   "execution_count": 34,
   "id": "69560f81-ccb9-436b-8e75-dde62a2fc741",
   "metadata": {},
   "outputs": [
    {
     "data": {
      "text/html": [
       "<div>\n",
       "<style scoped>\n",
       "    .dataframe tbody tr th:only-of-type {\n",
       "        vertical-align: middle;\n",
       "    }\n",
       "\n",
       "    .dataframe tbody tr th {\n",
       "        vertical-align: top;\n",
       "    }\n",
       "\n",
       "    .dataframe thead th {\n",
       "        text-align: right;\n",
       "    }\n",
       "</style>\n",
       "<table border=\"1\" class=\"dataframe\">\n",
       "  <thead>\n",
       "    <tr style=\"text-align: right;\">\n",
       "      <th></th>\n",
       "      <th>family</th>\n",
       "      <th>SibSp</th>\n",
       "      <th>Parch</th>\n",
       "      <th>Pclass</th>\n",
       "      <th>Fare</th>\n",
       "    </tr>\n",
       "  </thead>\n",
       "  <tbody>\n",
       "    <tr>\n",
       "      <th>152</th>\n",
       "      <td>1</td>\n",
       "      <td>0</td>\n",
       "      <td>0</td>\n",
       "      <td>3</td>\n",
       "      <td>NaN</td>\n",
       "    </tr>\n",
       "  </tbody>\n",
       "</table>\n",
       "</div>"
      ],
      "text/plain": [
       "     family  SibSp  Parch  Pclass  Fare\n",
       "152       1      0      0       3   NaN"
      ]
     },
     "execution_count": 34,
     "metadata": {},
     "output_type": "execute_result"
    }
   ],
   "source": [
    "#train_test[train_test['Fare'].isna()]\n",
    "train_test[train_test['Fare'].isna()][['family','SibSp','Parch','Pclass','Fare']]"
   ]
  },
  {
   "cell_type": "code",
   "execution_count": 35,
   "id": "4371df35-3273-4f53-bba2-1d041cccedc8",
   "metadata": {},
   "outputs": [
    {
     "name": "stdout",
     "output_type": "stream",
     "text": [
      "1\n",
      "9.0967\n",
      "0\n"
     ]
    }
   ],
   "source": [
    "print(train_test['Fare'].isna().sum())\n",
    "mean_fare = train_test[(train_test['family']==1) & (train_test['Pclass']==3)][\"Fare\"].mean()\n",
    "mean_fare = np.round(mean_fare,4)\n",
    "print(mean_fare)\n",
    "train_test['Fare'] = train_test['Fare'].fillna(mean_fare)\n",
    "print(train_test['Fare'].isna().sum())"
   ]
  },
  {
   "cell_type": "markdown",
   "id": "noticed-relief",
   "metadata": {},
   "source": [
    "### 3.. 정규분포(표준화)\n",
    "* 왜도(좌우 치우침)\n",
    "* 첨도(중앙값 부근으로 값이 치우침)"
   ]
  },
  {
   "cell_type": "markdown",
   "id": "stylish-place",
   "metadata": {},
   "source": [
    "### 4.. 스케일링(값의 지수화 == 수치 맞추기)\n",
    "* 값의 수치를 하나의 기준으로 맞추고 크고 작음을 비교"
   ]
  },
  {
   "cell_type": "markdown",
   "id": "agricultural-valentine",
   "metadata": {},
   "source": [
    "### 5.. 이상값(Outlier) 처리"
   ]
  },
  {
   "cell_type": "markdown",
   "id": "distributed-virgin",
   "metadata": {},
   "source": [
    "### 7. 구간화(바인딩)\n",
    "* Age : 0 ~10  : 1\n",
    "        11~20  : 2"
   ]
  },
  {
   "cell_type": "code",
   "execution_count": 36,
   "id": "verified-juice",
   "metadata": {},
   "outputs": [
    {
     "name": "stdout",
     "output_type": "stream",
     "text": [
      "<class 'pandas.core.frame.DataFrame'>\n",
      "Int64Index: 1309 entries, 0 to 417\n",
      "Data columns (total 14 columns):\n",
      " #   Column       Non-Null Count  Dtype  \n",
      "---  ------       --------------  -----  \n",
      " 0   PassengerId  1309 non-null   int64  \n",
      " 1   Survived     891 non-null    float64\n",
      " 2   Pclass       1309 non-null   int64  \n",
      " 3   Name         1309 non-null   object \n",
      " 4   Sex          1309 non-null   int64  \n",
      " 5   Age          1309 non-null   float64\n",
      " 6   SibSp        1309 non-null   int64  \n",
      " 7   Parch        1309 non-null   int64  \n",
      " 8   Ticket       1309 non-null   object \n",
      " 9   Fare         1309 non-null   float64\n",
      " 10  Cabin        1309 non-null   object \n",
      " 11  Embarked     1309 non-null   int64  \n",
      " 12  Name_title   1309 non-null   int64  \n",
      " 13  family       1309 non-null   int64  \n",
      "dtypes: float64(3), int64(8), object(3)\n",
      "memory usage: 153.4+ KB\n"
     ]
    }
   ],
   "source": [
    "train_test.isna().sum()\n",
    "train_test.info()"
   ]
  },
  {
   "cell_type": "markdown",
   "id": "ae12e852-35d9-4f21-bb3c-50320cfa0c2d",
   "metadata": {},
   "source": [
    "# <font color=red>TODO</font>"
   ]
  },
  {
   "cell_type": "code",
   "execution_count": 37,
   "id": "f4311e1a-f96b-412f-a98c-5668081182dc",
   "metadata": {},
   "outputs": [
    {
     "data": {
      "text/html": [
       "<div>\n",
       "<style scoped>\n",
       "    .dataframe tbody tr th:only-of-type {\n",
       "        vertical-align: middle;\n",
       "    }\n",
       "\n",
       "    .dataframe tbody tr th {\n",
       "        vertical-align: top;\n",
       "    }\n",
       "\n",
       "    .dataframe thead th {\n",
       "        text-align: right;\n",
       "    }\n",
       "</style>\n",
       "<table border=\"1\" class=\"dataframe\">\n",
       "  <thead>\n",
       "    <tr style=\"text-align: right;\">\n",
       "      <th></th>\n",
       "      <th>A</th>\n",
       "      <th>B</th>\n",
       "    </tr>\n",
       "  </thead>\n",
       "  <tbody>\n",
       "    <tr>\n",
       "      <th>0</th>\n",
       "      <td>1</td>\n",
       "      <td>10</td>\n",
       "    </tr>\n",
       "    <tr>\n",
       "      <th>1</th>\n",
       "      <td>2</td>\n",
       "      <td>20</td>\n",
       "    </tr>\n",
       "    <tr>\n",
       "      <th>2</th>\n",
       "      <td>3</td>\n",
       "      <td>30</td>\n",
       "    </tr>\n",
       "  </tbody>\n",
       "</table>\n",
       "</div>"
      ],
      "text/plain": [
       "   A   B\n",
       "0  1  10\n",
       "1  2  20\n",
       "2  3  30"
      ]
     },
     "execution_count": 37,
     "metadata": {},
     "output_type": "execute_result"
    }
   ],
   "source": [
    "sample_df = pd.DataFrame({'A': [1,2,3], 'B': [10,20,30] })\n",
    "sample_df.head()"
   ]
  },
  {
   "cell_type": "code",
   "execution_count": 38,
   "id": "1c6d8e6b-f2c6-4e97-802d-00e5241a5312",
   "metadata": {},
   "outputs": [
    {
     "data": {
      "text/html": [
       "<div>\n",
       "<style scoped>\n",
       "    .dataframe tbody tr th:only-of-type {\n",
       "        vertical-align: middle;\n",
       "    }\n",
       "\n",
       "    .dataframe tbody tr th {\n",
       "        vertical-align: top;\n",
       "    }\n",
       "\n",
       "    .dataframe thead th {\n",
       "        text-align: right;\n",
       "    }\n",
       "</style>\n",
       "<table border=\"1\" class=\"dataframe\">\n",
       "  <thead>\n",
       "    <tr style=\"text-align: right;\">\n",
       "      <th></th>\n",
       "      <th>A</th>\n",
       "      <th>B</th>\n",
       "    </tr>\n",
       "  </thead>\n",
       "  <tbody>\n",
       "    <tr>\n",
       "      <th>0</th>\n",
       "      <td>2.718282</td>\n",
       "      <td>2.202647e+04</td>\n",
       "    </tr>\n",
       "    <tr>\n",
       "      <th>1</th>\n",
       "      <td>7.389056</td>\n",
       "      <td>4.851652e+08</td>\n",
       "    </tr>\n",
       "    <tr>\n",
       "      <th>2</th>\n",
       "      <td>20.085537</td>\n",
       "      <td>1.068647e+13</td>\n",
       "    </tr>\n",
       "  </tbody>\n",
       "</table>\n",
       "</div>"
      ],
      "text/plain": [
       "           A             B\n",
       "0   2.718282  2.202647e+04\n",
       "1   7.389056  4.851652e+08\n",
       "2  20.085537  1.068647e+13"
      ]
     },
     "execution_count": 38,
     "metadata": {},
     "output_type": "execute_result"
    }
   ],
   "source": [
    "# https://pandas.pydata.org/docs/reference/api/pandas.DataFrame.transform.html\n",
    "# Returns DataFrame : A DataFrame that must have the same length as self.\n",
    "\n",
    "sample_df = pd.DataFrame({'A': [1,2,3], 'B': [10,20,30] })\n",
    "# sample_df.apply(lambda x:x.mean())        #agg[집계] \n",
    "# sample_df.apply(lambda x:np.exp(x))       #input==output rows\n",
    "\n",
    "# sample_df.transform(lambda x:x.mean())    #agg[집계] error\n",
    "# sample_df.transform('mean')\n",
    "\n",
    "# sample_df.transform(lambda x: np.exp(x))  #input==output rows\n",
    "# sample_df.transform(np.exp)\n",
    "sample_df.transform('exp')"
   ]
  },
  {
   "cell_type": "code",
   "execution_count": 39,
   "id": "d765158d-1c5c-4696-b89b-7ac7de5ecc12",
   "metadata": {},
   "outputs": [
    {
     "data": {
      "text/html": [
       "<div>\n",
       "<style scoped>\n",
       "    .dataframe tbody tr th:only-of-type {\n",
       "        vertical-align: middle;\n",
       "    }\n",
       "\n",
       "    .dataframe tbody tr th {\n",
       "        vertical-align: top;\n",
       "    }\n",
       "\n",
       "    .dataframe thead th {\n",
       "        text-align: right;\n",
       "    }\n",
       "</style>\n",
       "<table border=\"1\" class=\"dataframe\">\n",
       "  <thead>\n",
       "    <tr style=\"text-align: right;\">\n",
       "      <th></th>\n",
       "      <th>key</th>\n",
       "      <th>age</th>\n",
       "      <th>sex</th>\n",
       "    </tr>\n",
       "  </thead>\n",
       "  <tbody>\n",
       "    <tr>\n",
       "      <th>0</th>\n",
       "      <td>a</td>\n",
       "      <td>0</td>\n",
       "      <td>f</td>\n",
       "    </tr>\n",
       "    <tr>\n",
       "      <th>1</th>\n",
       "      <td>b</td>\n",
       "      <td>1</td>\n",
       "      <td>m</td>\n",
       "    </tr>\n",
       "    <tr>\n",
       "      <th>2</th>\n",
       "      <td>c</td>\n",
       "      <td>2</td>\n",
       "      <td>f</td>\n",
       "    </tr>\n",
       "    <tr>\n",
       "      <th>3</th>\n",
       "      <td>a</td>\n",
       "      <td>3</td>\n",
       "      <td>f</td>\n",
       "    </tr>\n",
       "    <tr>\n",
       "      <th>4</th>\n",
       "      <td>b</td>\n",
       "      <td>4</td>\n",
       "      <td>m</td>\n",
       "    </tr>\n",
       "    <tr>\n",
       "      <th>5</th>\n",
       "      <td>c</td>\n",
       "      <td>5</td>\n",
       "      <td>f</td>\n",
       "    </tr>\n",
       "  </tbody>\n",
       "</table>\n",
       "</div>"
      ],
      "text/plain": [
       "  key  age sex\n",
       "0   a    0   f\n",
       "1   b    1   m\n",
       "2   c    2   f\n",
       "3   a    3   f\n",
       "4   b    4   m\n",
       "5   c    5   f"
      ]
     },
     "execution_count": 39,
     "metadata": {},
     "output_type": "execute_result"
    }
   ],
   "source": [
    "sample_df = pd.DataFrame({\n",
    "    'key': ['a','b','c'] * 2,\n",
    "    'age': np.arange(6),\n",
    "    'sex': [\"f\",\"m\",\"f\"] * 2,\n",
    "})\n",
    "sample_df"
   ]
  },
  {
   "cell_type": "code",
   "execution_count": 40,
   "id": "dc55b8ad-4b42-4e01-b96e-3a08f210dd76",
   "metadata": {},
   "outputs": [
    {
     "name": "stdout",
     "output_type": "stream",
     "text": [
      "0    1.5\n",
      "1    2.5\n",
      "2    3.5\n",
      "3    1.5\n",
      "4    2.5\n",
      "5    3.5\n",
      "Name: age, dtype: float64 RangeIndex(start=0, stop=6, step=1)\n"
     ]
    }
   ],
   "source": [
    "# Aggregating the sum of the given Series\n",
    "def group_mean(x):\n",
    "    return x.mean()\n",
    "# grp_apply = sample_df.groupby('key')['age'].apply(group_mean)   #0+3, 1+4, 2+5\n",
    "# print(grp_apply, grp_apply.index)\n",
    "\n",
    "grp_trans = sample_df.groupby('key')['age'].transform('mean')\n",
    "print(grp_trans, grp_trans.index)"
   ]
  },
  {
   "cell_type": "code",
   "execution_count": 41,
   "id": "9c0bc3a8-9dc0-4603-9961-158f4d95e1e7",
   "metadata": {},
   "outputs": [
    {
     "name": "stdout",
     "output_type": "stream",
     "text": [
      "  key  age sex\n",
      "0   a    0   f\n",
      "1   b    1   m\n",
      "2   c    2   f\n",
      "3   a    3   f\n",
      "4   b    4   m\n",
      "5   c    5   f\n"
     ]
    }
   ],
   "source": [
    "def mydef(x):\n",
    "    return x+10\n",
    "print(sample_df)"
   ]
  },
  {
   "cell_type": "code",
   "execution_count": 42,
   "id": "ee1b385e-3331-49ff-b2b6-e093e633fb9b",
   "metadata": {},
   "outputs": [
    {
     "data": {
      "text/html": [
       "<div>\n",
       "<style scoped>\n",
       "    .dataframe tbody tr th:only-of-type {\n",
       "        vertical-align: middle;\n",
       "    }\n",
       "\n",
       "    .dataframe tbody tr th {\n",
       "        vertical-align: top;\n",
       "    }\n",
       "\n",
       "    .dataframe thead th {\n",
       "        text-align: right;\n",
       "    }\n",
       "</style>\n",
       "<table border=\"1\" class=\"dataframe\">\n",
       "  <thead>\n",
       "    <tr style=\"text-align: right;\">\n",
       "      <th></th>\n",
       "      <th>age</th>\n",
       "    </tr>\n",
       "  </thead>\n",
       "  <tbody>\n",
       "    <tr>\n",
       "      <th>0</th>\n",
       "      <td>1.5</td>\n",
       "    </tr>\n",
       "    <tr>\n",
       "      <th>1</th>\n",
       "      <td>2.5</td>\n",
       "    </tr>\n",
       "    <tr>\n",
       "      <th>2</th>\n",
       "      <td>3.5</td>\n",
       "    </tr>\n",
       "    <tr>\n",
       "      <th>3</th>\n",
       "      <td>1.5</td>\n",
       "    </tr>\n",
       "    <tr>\n",
       "      <th>4</th>\n",
       "      <td>2.5</td>\n",
       "    </tr>\n",
       "    <tr>\n",
       "      <th>5</th>\n",
       "      <td>3.5</td>\n",
       "    </tr>\n",
       "  </tbody>\n",
       "</table>\n",
       "</div>"
      ],
      "text/plain": [
       "   age\n",
       "0  1.5\n",
       "1  2.5\n",
       "2  3.5\n",
       "3  1.5\n",
       "4  2.5\n",
       "5  3.5"
      ]
     },
     "execution_count": 42,
     "metadata": {},
     "output_type": "execute_result"
    }
   ],
   "source": [
    "#------------- DataFrame.groupby().FUNCTION(mydef)\n",
    "# sample_df.groupby('key').apply(mydef)       #--- type error : sex+10\n",
    "sample_df.groupby('key').transform('mean')   #--- 연산가능피쳐 알아서 필터링\n",
    "\n",
    "#------------- DataFrame.groupby().['컬럼'].FUNCTION(mydef)\n",
    "# sample_df.groupby('key')['age'].apply(mydef) == sample_df.groupby('key')['age'].transform(mydef)\n",
    "\n",
    "#------------- DataFrame.groupby().FUNCTION(lambda x: mydef(x['컬럼']))\n",
    "# print(sample_df.groupby('key').apply(lambda x: mydef(x['age'])).index)\n",
    "# sample_df.groupby('key').apply(lambda x: mydef(x['age']))  #컬럼명을 메서드안에 명시 --> 그룹별 series리턴\n",
    "\n",
    "# # sample_df.groupby('key').transform(lambda x: mydef(x['age']))  #컬럼명을 메서드안에 명시 --> error\n",
    "# sample_df.groupby('key').transform(lambda x: x*10)               \n",
    "\n",
    "# sample_df.groupby('key')['age'].transform('mean')\n",
    "\n",
    "# sample_df.groupby(by=\"Name_title\")[\"Age\"].transform('mean')"
   ]
  },
  {
   "cell_type": "code",
   "execution_count": 43,
   "id": "398e0f11-f75d-4b59-bb58-71754933094b",
   "metadata": {},
   "outputs": [
    {
     "data": {
      "text/plain": [
       "9.096707203389837"
      ]
     },
     "execution_count": 43,
     "metadata": {},
     "output_type": "execute_result"
    }
   ],
   "source": [
    "train_test2 = train_test.copy()\n",
    "mean_fare=train_test2[(train_test2['family']==1)&(train_test2['Pclass']==3)][\"Fare\"].mean()\n",
    "mean_fare"
   ]
  },
  {
   "cell_type": "code",
   "execution_count": 44,
   "id": "0b799a7a-1248-4b68-bbd3-35ea4ed44aea",
   "metadata": {},
   "outputs": [],
   "source": [
    "# A=train_test2[\"Age\"] = train_test2[\"Age\"].fillna(train_test2.groupby(by=\"Name_title\")[\"Age\"].transform('mean'))\n",
    "# A   #--정상실행\n",
    "\n",
    "# train_test2.groupby(by=\"Name_title\")[\"Age\"].transform('mean')  #--정상실행\n",
    "# mean_fare = train_test[(train_test['family']==1) & (train_test['Pclass']==3)][\"Fare\"].mean() #--정상실행\n",
    "\n",
    "#--- groupby 없이 trainsform(집계함수) 사용\n",
    "#--- 입력 레코드와 결과레코드 수가 다르다 -- 에러!!!\n",
    "#--- # https://pandas.pydata.org/docs/reference/api/pandas.DataFrame.transform.html\n",
    "#--- Returns DataFrame : A DataFrame that must have the same length as self.  (!!!  must have the same length)\n",
    "# mean_fare = train_test[(train_test['family']==1) & (train_test['Pclass']==3)][\"Fare\"].transform('mean') \n",
    "\n",
    "\n",
    "\n"
   ]
  },
  {
   "cell_type": "markdown",
   "id": "southwest-tractor",
   "metadata": {},
   "source": [
    "## 삭제 컬럼"
   ]
  },
  {
   "cell_type": "code",
   "execution_count": 45,
   "id": "surprising-humidity",
   "metadata": {},
   "outputs": [],
   "source": [
    "drop_cols = ['PassengerId','Name','SibSp','Parch','Ticket','Cabin']  #점수보고 지우자 \n",
    "train_test.drop(drop_cols, axis=1, inplace=True)"
   ]
  },
  {
   "cell_type": "code",
   "execution_count": 46,
   "id": "c029819d-6809-49bb-8b50-d825f93ea919",
   "metadata": {},
   "outputs": [
    {
     "name": "stdout",
     "output_type": "stream",
     "text": [
      "<class 'pandas.core.frame.DataFrame'>\n",
      "Int64Index: 1309 entries, 0 to 417\n",
      "Data columns (total 8 columns):\n",
      " #   Column      Non-Null Count  Dtype  \n",
      "---  ------      --------------  -----  \n",
      " 0   Survived    891 non-null    float64\n",
      " 1   Pclass      1309 non-null   int64  \n",
      " 2   Sex         1309 non-null   int64  \n",
      " 3   Age         1309 non-null   float64\n",
      " 4   Fare        1309 non-null   float64\n",
      " 5   Embarked    1309 non-null   int64  \n",
      " 6   Name_title  1309 non-null   int64  \n",
      " 7   family      1309 non-null   int64  \n",
      "dtypes: float64(3), int64(5)\n",
      "memory usage: 92.0 KB\n"
     ]
    }
   ],
   "source": [
    "train_test.info()"
   ]
  },
  {
   "cell_type": "markdown",
   "id": "a9901b0d-c1e2-48ee-9828-42aa30400456",
   "metadata": {
    "tags": []
   },
   "source": [
    "-------------\n",
    "## 점수 높이기 시도"
   ]
  },
  {
   "cell_type": "markdown",
   "id": "84a8e8f2-3be0-4fdd-901c-888a193c055c",
   "metadata": {
    "tags": []
   },
   "source": [
    "## Age 구간화"
   ]
  },
  {
   "cell_type": "code",
   "execution_count": 47,
   "id": "ad3c24e2-8b82-4b4f-9c15-7ff764d7381c",
   "metadata": {},
   "outputs": [
    {
     "data": {
      "text/plain": [
       "<AxesSubplot:xlabel='Age', ylabel='Count'>"
      ]
     },
     "execution_count": 47,
     "metadata": {},
     "output_type": "execute_result"
    },
    {
     "data": {
      "image/png": "[encoded data removed]",
      "text/plain": [
       "<Figure size 432x288 with 1 Axes>"
      ]
     },
     "metadata": {},
     "output_type": "display_data"
    }
   ],
   "source": [
    "sns.set()\n",
    "sns.histplot(data=train, x=\"Age\", hue=\"Survived\")\n",
    "# plt.show()"
   ]
  },
  {
   "cell_type": "code",
   "execution_count": 48,
   "id": "72d1a51f-cabf-41df-bc54-5a9273880e78",
   "metadata": {
    "tags": []
   },
   "outputs": [],
   "source": [
    "train_test[\"Age\"] = np.round(train_test[\"Age\"],0).astype('int64')\n",
    "train_test[\"Age\"] = np.round(train_test[\"Age\"],0).astype('int64')"
   ]
  },
  {
   "cell_type": "code",
   "execution_count": 49,
   "id": "af49d961-6c98-4233-a8c0-3e036798abcc",
   "metadata": {},
   "outputs": [],
   "source": [
    "train_test.loc[train_test['Age']<=16, 'Age_band1'] = 1\n",
    "train_test.loc[(train_test['Age']>16) & (train_test['Age']<=34), 'Age_band1'] = 2\n",
    "train_test.loc[(train_test['Age']>34) & (train_test['Age']<=48), 'Age_band1'] = 3\n",
    "train_test.loc[(train_test['Age']>48) & (train_test['Age']<=67), 'Age_band1'] = 4\n",
    "train_test.loc[train_test['Age']>67, 'Age_band1'] = 5"
   ]
  },
  {
   "cell_type": "code",
   "execution_count": 50,
   "id": "2915f75b-c46e-497f-bc6a-8e1d6c272c00",
   "metadata": {},
   "outputs": [],
   "source": [
    "train_test['Age_band2'] = pd.cut(train_test['Age'], bins=[0, 16, 34, 48, 67, 90], labels=[1,2,3,4,5])"
   ]
  },
  {
   "cell_type": "code",
   "execution_count": 51,
   "id": "b7880359-23d0-4a4d-80ce-1d728890d9e6",
   "metadata": {},
   "outputs": [],
   "source": [
    "train_test['Age_band3']  = train_test['Age'] // 10 "
   ]
  },
  {
   "cell_type": "code",
   "execution_count": 52,
   "id": "e0365c28-082a-4502-bfa2-fa6fe816c8e9",
   "metadata": {},
   "outputs": [
    {
     "data": {
      "text/html": [
       "<div>\n",
       "<style scoped>\n",
       "    .dataframe tbody tr th:only-of-type {\n",
       "        vertical-align: middle;\n",
       "    }\n",
       "\n",
       "    .dataframe tbody tr th {\n",
       "        vertical-align: top;\n",
       "    }\n",
       "\n",
       "    .dataframe thead th {\n",
       "        text-align: right;\n",
       "    }\n",
       "</style>\n",
       "<table border=\"1\" class=\"dataframe\">\n",
       "  <thead>\n",
       "    <tr style=\"text-align: right;\">\n",
       "      <th></th>\n",
       "      <th>Age</th>\n",
       "      <th>Age_band1</th>\n",
       "      <th>Age_band2</th>\n",
       "      <th>Age_band3</th>\n",
       "    </tr>\n",
       "  </thead>\n",
       "  <tbody>\n",
       "    <tr>\n",
       "      <th>0</th>\n",
       "      <td>22</td>\n",
       "      <td>2</td>\n",
       "      <td>2</td>\n",
       "      <td>2</td>\n",
       "    </tr>\n",
       "    <tr>\n",
       "      <th>1</th>\n",
       "      <td>38</td>\n",
       "      <td>3</td>\n",
       "      <td>3</td>\n",
       "      <td>3</td>\n",
       "    </tr>\n",
       "    <tr>\n",
       "      <th>2</th>\n",
       "      <td>26</td>\n",
       "      <td>2</td>\n",
       "      <td>2</td>\n",
       "      <td>2</td>\n",
       "    </tr>\n",
       "    <tr>\n",
       "      <th>3</th>\n",
       "      <td>35</td>\n",
       "      <td>3</td>\n",
       "      <td>3</td>\n",
       "      <td>3</td>\n",
       "    </tr>\n",
       "    <tr>\n",
       "      <th>4</th>\n",
       "      <td>35</td>\n",
       "      <td>3</td>\n",
       "      <td>3</td>\n",
       "      <td>3</td>\n",
       "    </tr>\n",
       "  </tbody>\n",
       "</table>\n",
       "</div>"
      ],
      "text/plain": [
       "   Age  Age_band1 Age_band2  Age_band3\n",
       "0   22          2         2          2\n",
       "1   38          3         3          3\n",
       "2   26          2         2          2\n",
       "3   35          3         3          3\n",
       "4   35          3         3          3"
      ]
     },
     "execution_count": 52,
     "metadata": {},
     "output_type": "execute_result"
    }
   ],
   "source": [
    "train_test['Age_band1'] = train_test['Age_band1'].astype('int64')\n",
    "train_test['Age_band1'].unique() #.isna().sum()\n",
    "train_test[['Age','Age_band1','Age_band2','Age_band3']].head()"
   ]
  },
  {
   "cell_type": "code",
   "execution_count": 53,
   "id": "51bbbb8b-95cf-49d3-8a96-45caf8906431",
   "metadata": {},
   "outputs": [],
   "source": [
    "del_col = ['Age','Age_band2','Age_band3']  #'Age_band1' 남겨둘 경우\n",
    "train_test.drop(del_col, axis=1, inplace=True)"
   ]
  },
  {
   "cell_type": "code",
   "execution_count": null,
   "id": "40d1d0d2-71a1-42f4-8960-6028dfbf40e0",
   "metadata": {},
   "outputs": [],
   "source": []
  },
  {
   "cell_type": "code",
   "execution_count": null,
   "id": "5e0fc12f-1061-4e18-84af-90bdd6f211af",
   "metadata": {},
   "outputs": [],
   "source": []
  },
  {
   "cell_type": "code",
   "execution_count": null,
   "id": "a135e048-433f-4921-97da-541a4839fa14",
   "metadata": {},
   "outputs": [],
   "source": []
  },
  {
   "cell_type": "markdown",
   "id": "2a50824a-5a71-4044-9199-0f3448570428",
   "metadata": {},
   "source": [
    "# 학습"
   ]
  },
  {
   "cell_type": "markdown",
   "id": "0211f2d4-2b69-4ea3-a7a0-2a122d45f7e7",
   "metadata": {
    "tags": []
   },
   "source": [
    "#### train - test 분리"
   ]
  },
  {
   "cell_type": "code",
   "execution_count": 54,
   "id": "44bec4be-2e8b-4ea7-b140-37f12d8e6b49",
   "metadata": {},
   "outputs": [
    {
     "data": {
      "text/plain": [
       "(891, 418)"
      ]
     },
     "execution_count": 54,
     "metadata": {},
     "output_type": "execute_result"
    }
   ],
   "source": [
    "train.shape[0], test.shape[0]"
   ]
  },
  {
   "cell_type": "code",
   "execution_count": 55,
   "id": "017c87eb-331b-40c7-bfbc-1b293eede97a",
   "metadata": {},
   "outputs": [
    {
     "data": {
      "text/plain": [
       "418"
      ]
     },
     "execution_count": 55,
     "metadata": {},
     "output_type": "execute_result"
    }
   ],
   "source": [
    "train_test[\"Survived\"].isna().sum()"
   ]
  },
  {
   "cell_type": "code",
   "execution_count": 56,
   "id": "e13031fd-8234-4f88-841d-7a6457bc553e",
   "metadata": {},
   "outputs": [
    {
     "data": {
      "text/plain": [
       "((891, 8), (418, 8))"
      ]
     },
     "execution_count": 56,
     "metadata": {},
     "output_type": "execute_result"
    }
   ],
   "source": [
    "train = train_test[~train_test[\"Survived\"].isna()]\n",
    "test = train_test[train_test[\"Survived\"].isna()]\n",
    "train.shape, test.shape"
   ]
  },
  {
   "cell_type": "code",
   "execution_count": 57,
   "id": "437f0670-e953-4097-8f1e-83da4a970c7f",
   "metadata": {},
   "outputs": [
    {
     "data": {
      "text/plain": [
       "((891, 8), (418, 8))"
      ]
     },
     "execution_count": 57,
     "metadata": {},
     "output_type": "execute_result"
    }
   ],
   "source": [
    "train = train_test.iloc[:train.shape[0]]\n",
    "test = train_test.iloc[train.shape[0]:]\n",
    "train.shape, test.shape"
   ]
  },
  {
   "cell_type": "code",
   "execution_count": 58,
   "id": "fa0f37f3-81e7-4542-8cd8-96bde750ce6b",
   "metadata": {},
   "outputs": [
    {
     "name": "stdout",
     "output_type": "stream",
     "text": [
      "<class 'pandas.core.frame.DataFrame'>\n",
      "Int64Index: 418 entries, 0 to 417\n",
      "Data columns (total 7 columns):\n",
      " #   Column      Non-Null Count  Dtype  \n",
      "---  ------      --------------  -----  \n",
      " 0   Pclass      418 non-null    int64  \n",
      " 1   Sex         418 non-null    int64  \n",
      " 2   Fare        418 non-null    float64\n",
      " 3   Embarked    418 non-null    int64  \n",
      " 4   Name_title  418 non-null    int64  \n",
      " 5   family      418 non-null    int64  \n",
      " 6   Age_band1   418 non-null    int64  \n",
      "dtypes: float64(1), int64(6)\n",
      "memory usage: 26.1 KB\n"
     ]
    }
   ],
   "source": [
    "# test.drop('Survived', axis=1, inplace=True)\n",
    "test = test.drop('Survived', axis=1)\n",
    "test.info()"
   ]
  },
  {
   "cell_type": "code",
   "execution_count": 59,
   "id": "47598fdb-0709-4abb-ae5a-9b9dc2a83c33",
   "metadata": {},
   "outputs": [],
   "source": [
    "train[\"Survived\"] = train[\"Survived\"].astype('int64')"
   ]
  },
  {
   "cell_type": "code",
   "execution_count": 60,
   "id": "7825e317-2d22-4daa-b798-bc2066508139",
   "metadata": {},
   "outputs": [
    {
     "name": "stdout",
     "output_type": "stream",
     "text": [
      "<class 'pandas.core.frame.DataFrame'>\n",
      "Int64Index: 891 entries, 0 to 890\n",
      "Data columns (total 8 columns):\n",
      " #   Column      Non-Null Count  Dtype  \n",
      "---  ------      --------------  -----  \n",
      " 0   Survived    891 non-null    int64  \n",
      " 1   Pclass      891 non-null    int64  \n",
      " 2   Sex         891 non-null    int64  \n",
      " 3   Fare        891 non-null    float64\n",
      " 4   Embarked    891 non-null    int64  \n",
      " 5   Name_title  891 non-null    int64  \n",
      " 6   family      891 non-null    int64  \n",
      " 7   Age_band1   891 non-null    int64  \n",
      "dtypes: float64(1), int64(7)\n",
      "memory usage: 62.6 KB\n"
     ]
    }
   ],
   "source": [
    "train.info()"
   ]
  },
  {
   "cell_type": "code",
   "execution_count": 61,
   "id": "c047c889-3f72-4806-844f-5c47f3475075",
   "metadata": {},
   "outputs": [
    {
     "data": {
      "text/plain": [
       "((891, 8), (418, 7))"
      ]
     },
     "execution_count": 61,
     "metadata": {},
     "output_type": "execute_result"
    }
   ],
   "source": [
    "train.shape, test.shape"
   ]
  },
  {
   "cell_type": "markdown",
   "id": "878af344-dee2-4528-8367-21acc89e4447",
   "metadata": {},
   "source": [
    "### 학습모델 선정 : 우선 점수부터 보자\n",
    "* 숫자로만 이루어져있다\n",
    "* 결측이 다"
   ]
  },
  {
   "cell_type": "code",
   "execution_count": 62,
   "id": "1f28c886-1e5c-46f7-879a-fe17ece308c1",
   "metadata": {},
   "outputs": [],
   "source": [
    "from sklearn.tree import DecisionTreeClassifier       #class\n",
    "from sklearn.ensemble import RandomForestClassifier   #class\n",
    "from sklearn.metrics import accuracy_score            #def\n",
    "from sklearn.model_selection import train_test_split  #def"
   ]
  },
  {
   "cell_type": "code",
   "execution_count": 63,
   "id": "b0ab961b-02e4-4c5d-ab76-2e0c3735de4c",
   "metadata": {},
   "outputs": [],
   "source": [
    "# -----------------------------------------------\n",
    "# ***train_test_split()\n",
    "# 학습[****fit()]     train 8 ---\n",
    "# 예측[****predict()] train 2 --- validation\n",
    "# 평가[****score()]  (점수)  --- A\n",
    "# ----------------------------------model\n",
    "# 예측 test \n",
    "# 평가(점수)   --- B 오버피팅/언더피팅\n",
    "# -----------------------------------------------\n",
    "# 검증\n",
    "# -----------------------------------------------\n",
    "# 튜닝        --- 분석가 XGBoost 40~80\n",
    "# -----------------------------------------------"
   ]
  },
  {
   "cell_type": "code",
   "execution_count": 64,
   "id": "db33aa16-f505-446c-8d88-80c17c014f87",
   "metadata": {},
   "outputs": [],
   "source": [
    "# dt_model = DecisionTreeClassifier()\n",
    "dt_model = RandomForestClassifier()"
   ]
  },
  {
   "cell_type": "code",
   "execution_count": 65,
   "id": "5c65d701-6a79-41fe-b62c-2a0e86a2fbde",
   "metadata": {},
   "outputs": [
    {
     "name": "stdout",
     "output_type": "stream",
     "text": [
      "(891, 7) (891,)\n",
      "모델점수 0.7821229050279329\n"
     ]
    }
   ],
   "source": [
    "답안지 = train[\"Survived\"]\n",
    "문제지 = train.drop(\"Survived\", axis=1)\n",
    "print(문제지.shape, 답안지.shape)\n",
    "문제지.head()\n",
    "답안지.head()\n",
    "\n",
    "#X_train, X_val,   y_train, y_val \n",
    "문제지8, 문제지2, 답안지8, 답안지2 = train_test_split(문제지, 답안지, test_size=0.2)\n",
    "dt_model.fit(문제지8, 답안지8)  #기계학습\n",
    "\n",
    "# ---------------------검증 (train2) 셀프테스트 -----------------------\n",
    "컴퓨터가낸답안2 = dt_model.predict(문제지2)\n",
    "acc_score = accuracy_score(답안지2, 컴퓨터가낸답안2)\n",
    "print(\"모델점수\", acc_score)"
   ]
  },
  {
   "cell_type": "code",
   "execution_count": 66,
   "id": "5470cc96-b732-4ed9-949d-9d0cac1bf109",
   "metadata": {},
   "outputs": [],
   "source": [
    "def my_eval_chart(답안지2, proba): \n",
    "# --------------- 양성 평가를 위한 차트 : roc_auc_score(), roc_curve() -------------------\n",
    "    auc_score = roc_auc_score(답안지2, proba[:, 1])\n",
    "\n",
    "    fprs, tprs, ths = roc_curve(답안지2, proba[:, 1])\n",
    "    plt.title(\"roc curv %0.4f\" % auc_score)\n",
    "    # plt.title(f\"precision recall curv %0.4f\" % f1)\n",
    "    plt.xlabel(\"FPR(1-specificity)\")\n",
    "    plt.ylabel(\"TPR\")\n",
    "    plt.grid()\n",
    "    plt.plot(fprs, tprs, \"b\")\n",
    "    plt.plot([0, 1], [0, 1], '--', color='black')\n",
    "    plt.show()"
   ]
  },
  {
   "cell_type": "code",
   "execution_count": 67,
   "id": "8aa90bac-b682-4599-8564-1b96f09909b5",
   "metadata": {},
   "outputs": [
    {
     "name": "stdout",
     "output_type": "stream",
     "text": [
      "StandardScaler\n",
      "정확도0.7933 정밀도:0.7966 재현률:0.6528 f1:0.7176\n",
      "오차행렬\n",
      " [[95 12]\n",
      " [25 47]]\n"
     ]
    }
   ],
   "source": [
    "def my_eval(답안지2, pred, proba, chart=False):  #avg='binary'\n",
    "    accuracy = accuracy_score(답안지2, pred)\n",
    "    precision = precision_score(답안지2, pred)\n",
    "    recall = recall_score(답안지2, pred)\n",
    "    f1 = f1_score(답안지2, pred)\n",
    "    matrix = confusion_matrix(답안지2, pred)\n",
    "    print(f'정확도{accuracy:.4f} 정밀도:{precision:.4f} 재현률:{recall:.4f} f1:{f1:.4f}')\n",
    "    print(\"오차행렬\\n\", matrix)\n",
    "    # cls_report = classification_report(y_val, pred)    \n",
    "    if chart==True:\n",
    "        my_eval_chart(답안지2, proba)\n",
    "\n",
    "def fit_score(문제지8, 문제지2, 답안지8, 답안지2, model=None, test_size=0.2):\n",
    "    model.fit(문제지8, 답안지8)\n",
    "    pred = model.predict(문제지2)                                        #[0  1]              th:0.5\n",
    "    proba = model.predict_proba(문제지2)                                 #[[.7 >.3] [.4  <.6]]  --> [0  1]\n",
    "    my_eval(답안지2, pred, proba) \n",
    "    \n",
    "scalers = [StandardScaler()]  #, RobustScaler(), MinMaxScaler()]\n",
    "for mm in scalers:\n",
    "    mm.fit(문제지8)                       #비율계산\n",
    "    scaler_X_train = mm.transform(문제지8)  #계산반영해\n",
    "    scaler_X_test = mm.transform(문제지2)  #계산반영해\n",
    "    \n",
    "    print(mm.__class__.__name__)\n",
    "    fit_score(scaler_X_train, scaler_X_test, 답안지8, 답안지2, dt_model)"
   ]
  },
  {
   "cell_type": "code",
   "execution_count": 68,
   "id": "a74c589b-c564-48e3-9766-fe93fd144fa1",
   "metadata": {},
   "outputs": [],
   "source": [
    "import xgboost as xgb\n",
    "# import lightgbm"
   ]
  },
  {
   "cell_type": "code",
   "execution_count": 69,
   "id": "120fb919-986f-46bd-9eb3-3da6b28e2124",
   "metadata": {},
   "outputs": [
    {
     "name": "stdout",
     "output_type": "stream",
     "text": [
      "[11:12:43] WARNING: C:/Users/Administrator/workspace/xgboost-win64_release_1.4.0/src/learner.cc:1095: Starting in XGBoost 1.3.0, the default evaluation metric used with the objective 'binary:logistic' was changed from 'error' to 'logloss'. Explicitly set eval_metric if you'd like to restore the old behavior.\n",
      "정확도0.7877 정밀도:0.7833 재현률:0.6528 f1:0.7121\n",
      "오차행렬\n",
      " [[94 13]\n",
      " [25 47]]\n"
     ]
    }
   ],
   "source": [
    "xgmodel = xgb.XGBClassifier(n_estimators=300, objective=\"binary:logistic\")   #logloss \n",
    "fit_score(scaler_X_train, scaler_X_test, 답안지8, 답안지2, xgmodel) "
   ]
  },
  {
   "cell_type": "code",
   "execution_count": 70,
   "id": "e7bbb528-accf-4817-8604-bc4c4fe7eeef",
   "metadata": {},
   "outputs": [
    {
     "name": "stdout",
     "output_type": "stream",
     "text": [
      "(891, 7) (891,)\n"
     ]
    }
   ],
   "source": [
    "scaler_X = np.concatenate([scaler_X_train, scaler_X_test])\n",
    "y = pd.concat([답안지8, 답안지2], axis=0, ignore_index=True)\n",
    "print(scaler_X.shape, y.shape)"
   ]
  },
  {
   "cell_type": "code",
   "execution_count": 71,
   "id": "e9e13711-a059-4510-97e4-cf1ce9e95d72",
   "metadata": {},
   "outputs": [
    {
     "name": "stdout",
     "output_type": "stream",
     "text": [
      "평균 정확도 :  0.8147950536689474\n",
      "평균 F1 : 0.7551076890086177\n",
      "평균 AUC : 0.8514133723257589\n"
     ]
    }
   ],
   "source": [
    "accuracy_total_score = []\n",
    "f1_total_score = []\n",
    "auc_total_score = []\n",
    "\n",
    "skfold = StratifiedKFold(n_splits=5, random_state=1414, shuffle=True)\n",
    "for train_index, test_index in skfold.split(scaler_X, y):\n",
    "    문제지8, 문제지2 = scaler_X[train_index], scaler_X[test_index]\n",
    "    정답지8, 정답지2 = y[train_index], y[test_index]\n",
    "   #train_test_split(문제지,정답지, test_sizse=0.2, random_state=1414, shuffle=False) ----\n",
    "    dt_model.fit(문제지8, 정답지8)\n",
    "    pred = dt_model.predict(문제지2)\n",
    "    proba = dt_model.predict_proba(문제지2)\n",
    "    \n",
    "    accuracy = accuracy_score(정답지2, pred)\n",
    "    f1 = f1_score(정답지2, pred)\n",
    "    auc = roc_auc_score(정답지2, proba[:, 1])\n",
    "    \n",
    "    accuracy_total_score.append(accuracy)\n",
    "    f1_total_score.append(f1)\n",
    "    auc_total_score.append(auc)\n",
    "\n",
    "\n",
    "# print(\"평균\", sum(accuracy_total_score) / len(accuracy_total_score))\n",
    "print(\"평균 정확도 : \", np.array(accuracy_total_score).mean())\n",
    "print(\"평균 F1 :\", np.array(f1_total_score).mean())  \n",
    "print(\"평균 AUC :\", np.array(auc_total_score).mean())  "
   ]
  },
  {
   "cell_type": "code",
   "execution_count": null,
   "id": "e8e802d8-791f-4725-9986-74f2f96fbed5",
   "metadata": {},
   "outputs": [],
   "source": []
  },
  {
   "cell_type": "code",
   "execution_count": 72,
   "id": "1800fb21-e21f-498d-afcb-7b054bfd837d",
   "metadata": {},
   "outputs": [],
   "source": [
    "# 모델점수 \n",
    "# 0.770949720670391\n",
    "# 0.8156424581005587 --->  0.75358 (over fitting)\n",
    "# 0.8212290502793296\n",
    "# 0.8603351955307262"
   ]
  },
  {
   "cell_type": "code",
   "execution_count": 73,
   "id": "92e18bda-ea63-4924-890d-54d35c598d2a",
   "metadata": {},
   "outputs": [
    {
     "data": {
      "text/plain": [
       "(418, 7)"
      ]
     },
     "execution_count": 73,
     "metadata": {},
     "output_type": "execute_result"
    }
   ],
   "source": [
    "test.shape"
   ]
  },
  {
   "cell_type": "markdown",
   "id": "f63d72fd-2166-4224-a918-100f8594bfee",
   "metadata": {},
   "source": [
    "## 학습 주요 피쳐 "
   ]
  },
  {
   "cell_type": "code",
   "execution_count": 74,
   "id": "1c9be5a4-409a-4e98-b1b2-46f2513c21d2",
   "metadata": {},
   "outputs": [
    {
     "data": {
      "text/plain": [
       "array(['Pclass', 'Sex', 'Fare', 'Embarked', 'Name_title', 'family',\n",
       "       'Age_band1'], dtype=object)"
      ]
     },
     "execution_count": 74,
     "metadata": {},
     "output_type": "execute_result"
    }
   ],
   "source": [
    "문제지.columns.values"
   ]
  },
  {
   "cell_type": "code",
   "execution_count": 75,
   "id": "1c4a5c5d-aa7c-4a81-88ed-580d0971d677",
   "metadata": {
    "tags": []
   },
   "outputs": [
    {
     "data": {
      "text/plain": [
       "array([ 8.099, 16.723, 34.285,  3.714, 20.504, 10.413,  6.261])"
      ]
     },
     "execution_count": 75,
     "metadata": {},
     "output_type": "execute_result"
    }
   ],
   "source": [
    "np.round(dt_model.feature_importances_*100 , 3)"
   ]
  },
  {
   "cell_type": "code",
   "execution_count": 76,
   "id": "7a83801e-8537-4d89-b94f-486a0bb42071",
   "metadata": {},
   "outputs": [
    {
     "data": {
      "text/plain": [
       "((418, 2), (418, 7))"
      ]
     },
     "execution_count": 76,
     "metadata": {},
     "output_type": "execute_result"
    }
   ],
   "source": [
    "sub.shape, test.shape"
   ]
  },
  {
   "cell_type": "code",
   "execution_count": 77,
   "id": "68b176a1-76c7-4b4a-a64a-68beba670857",
   "metadata": {},
   "outputs": [
    {
     "name": "stdout",
     "output_type": "stream",
     "text": [
      "418\n"
     ]
    },
    {
     "data": {
      "text/plain": [
       "array([0, 0, 0, 0, 0, 0, 0, 0, 0, 0], dtype=int64)"
      ]
     },
     "execution_count": 77,
     "metadata": {},
     "output_type": "execute_result"
    }
   ],
   "source": [
    "# ---------------------리더보드 제출용 (test) 본테스트-----------------------\n",
    "컴퓨터가낸답안418 = dt_model.predict(test)\n",
    "print(len(컴퓨터가낸답안418))\n",
    "컴퓨터가낸답안418[:10]"
   ]
  },
  {
   "cell_type": "code",
   "execution_count": 78,
   "id": "7ad908cc-4e34-4fff-8044-221ae74ce228",
   "metadata": {
    "tags": []
   },
   "outputs": [
    {
     "data": {
      "text/html": [
       "<div>\n",
       "<style scoped>\n",
       "    .dataframe tbody tr th:only-of-type {\n",
       "        vertical-align: middle;\n",
       "    }\n",
       "\n",
       "    .dataframe tbody tr th {\n",
       "        vertical-align: top;\n",
       "    }\n",
       "\n",
       "    .dataframe thead th {\n",
       "        text-align: right;\n",
       "    }\n",
       "</style>\n",
       "<table border=\"1\" class=\"dataframe\">\n",
       "  <thead>\n",
       "    <tr style=\"text-align: right;\">\n",
       "      <th>featue</th>\n",
       "      <th>Fare</th>\n",
       "      <th>Name_title</th>\n",
       "      <th>Sex</th>\n",
       "      <th>family</th>\n",
       "      <th>Pclass</th>\n",
       "      <th>Age_band1</th>\n",
       "      <th>Embarked</th>\n",
       "    </tr>\n",
       "  </thead>\n",
       "  <tbody>\n",
       "    <tr>\n",
       "      <th>imp</th>\n",
       "      <td>34.285</td>\n",
       "      <td>20.504</td>\n",
       "      <td>16.723</td>\n",
       "      <td>10.413</td>\n",
       "      <td>8.099</td>\n",
       "      <td>6.261</td>\n",
       "      <td>3.714</td>\n",
       "    </tr>\n",
       "  </tbody>\n",
       "</table>\n",
       "</div>"
      ],
      "text/plain": [
       "featue    Fare  Name_title     Sex  family  Pclass  Age_band1  Embarked\n",
       "imp     34.285      20.504  16.723  10.413   8.099      6.261     3.714"
      ]
     },
     "execution_count": 78,
     "metadata": {},
     "output_type": "execute_result"
    }
   ],
   "source": [
    "dict = {\"featue\":문제지.columns.values, \"imp\":np.round(dt_model.feature_importances_*100 , 3)}\n",
    "impdf = pd.DataFrame(dict)\n",
    "impdf = impdf.set_index(\"featue\")\n",
    "# impdf.head()\n",
    "impdf.sort_values(\"imp\", ascending=False).T"
   ]
  },
  {
   "cell_type": "markdown",
   "id": "e829ab2c-38b5-4222-955c-1027aba9ccae",
   "metadata": {},
   "source": [
    "## 공모전용 답안지 제출"
   ]
  },
  {
   "cell_type": "code",
   "execution_count": 79,
   "id": "bc8621bb-de6e-4cbe-be1a-87c632f65e43",
   "metadata": {},
   "outputs": [
    {
     "data": {
      "text/html": [
       "<div>\n",
       "<style scoped>\n",
       "    .dataframe tbody tr th:only-of-type {\n",
       "        vertical-align: middle;\n",
       "    }\n",
       "\n",
       "    .dataframe tbody tr th {\n",
       "        vertical-align: top;\n",
       "    }\n",
       "\n",
       "    .dataframe thead th {\n",
       "        text-align: right;\n",
       "    }\n",
       "</style>\n",
       "<table border=\"1\" class=\"dataframe\">\n",
       "  <thead>\n",
       "    <tr style=\"text-align: right;\">\n",
       "      <th></th>\n",
       "      <th>PassengerId</th>\n",
       "      <th>Survived</th>\n",
       "    </tr>\n",
       "  </thead>\n",
       "  <tbody>\n",
       "    <tr>\n",
       "      <th>0</th>\n",
       "      <td>892</td>\n",
       "      <td>0</td>\n",
       "    </tr>\n",
       "    <tr>\n",
       "      <th>1</th>\n",
       "      <td>893</td>\n",
       "      <td>0</td>\n",
       "    </tr>\n",
       "    <tr>\n",
       "      <th>2</th>\n",
       "      <td>894</td>\n",
       "      <td>0</td>\n",
       "    </tr>\n",
       "    <tr>\n",
       "      <th>3</th>\n",
       "      <td>895</td>\n",
       "      <td>0</td>\n",
       "    </tr>\n",
       "    <tr>\n",
       "      <th>4</th>\n",
       "      <td>896</td>\n",
       "      <td>0</td>\n",
       "    </tr>\n",
       "  </tbody>\n",
       "</table>\n",
       "</div>"
      ],
      "text/plain": [
       "   PassengerId  Survived\n",
       "0          892         0\n",
       "1          893         0\n",
       "2          894         0\n",
       "3          895         0\n",
       "4          896         0"
      ]
     },
     "execution_count": 79,
     "metadata": {},
     "output_type": "execute_result"
    }
   ],
   "source": [
    "sub[\"Survived\"] = 컴퓨터가낸답안418.reshape(-1,1)\n",
    "sub.head()"
   ]
  },
  {
   "cell_type": "code",
   "execution_count": 80,
   "id": "603a540b-f1d6-40cd-a609-20559598e521",
   "metadata": {},
   "outputs": [],
   "source": [
    "sub.to_csv(\"./submission_AJC_v02.csv\", index=False)"
   ]
  },
  {
   "cell_type": "code",
   "execution_count": 81,
   "id": "a946bb35-e8f2-4e0b-9897-178ce6b260f1",
   "metadata": {},
   "outputs": [
    {
     "data": {
      "text/html": [
       "<div>\n",
       "<style scoped>\n",
       "    .dataframe tbody tr th:only-of-type {\n",
       "        vertical-align: middle;\n",
       "    }\n",
       "\n",
       "    .dataframe tbody tr th {\n",
       "        vertical-align: top;\n",
       "    }\n",
       "\n",
       "    .dataframe thead th {\n",
       "        text-align: right;\n",
       "    }\n",
       "</style>\n",
       "<table border=\"1\" class=\"dataframe\">\n",
       "  <thead>\n",
       "    <tr style=\"text-align: right;\">\n",
       "      <th></th>\n",
       "      <th>PassengerId</th>\n",
       "      <th>Survived</th>\n",
       "    </tr>\n",
       "  </thead>\n",
       "  <tbody>\n",
       "    <tr>\n",
       "      <th>0</th>\n",
       "      <td>892</td>\n",
       "      <td>0</td>\n",
       "    </tr>\n",
       "    <tr>\n",
       "      <th>1</th>\n",
       "      <td>893</td>\n",
       "      <td>0</td>\n",
       "    </tr>\n",
       "    <tr>\n",
       "      <th>2</th>\n",
       "      <td>894</td>\n",
       "      <td>0</td>\n",
       "    </tr>\n",
       "    <tr>\n",
       "      <th>3</th>\n",
       "      <td>895</td>\n",
       "      <td>0</td>\n",
       "    </tr>\n",
       "    <tr>\n",
       "      <th>4</th>\n",
       "      <td>896</td>\n",
       "      <td>0</td>\n",
       "    </tr>\n",
       "  </tbody>\n",
       "</table>\n",
       "</div>"
      ],
      "text/plain": [
       "   PassengerId  Survived\n",
       "0          892         0\n",
       "1          893         0\n",
       "2          894         0\n",
       "3          895         0\n",
       "4          896         0"
      ]
     },
     "execution_count": 81,
     "metadata": {},
     "output_type": "execute_result"
    }
   ],
   "source": [
    "df = pd.read_csv(\"./submission_AJC_v02.csv\")\n",
    "df.head()"
   ]
  }
 ],
 "metadata": {
  "interpreter": {
   "hash": "17164ff5f922defefa3fdd6afe0c064ec3948eda8922a4bbab17a59b9b0232dc"
  },
  "kernelspec": {
   "display_name": "Python 3.8.8 64-bit ('venv': venv)",
   "name": "python3"
  },
  "language_info": {
   "codemirror_mode": {
    "name": "ipython",
    "version": 3
   },
   "file_extension": ".py",
   "mimetype": "text/x-python",
   "name": "python",
   "nbconvert_exporter": "python",
   "pygments_lexer": "ipython3",
   "version": "3.8.8"
  }
 },
 "nbformat": 4,
 "nbformat_minor": 5
}
